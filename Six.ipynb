{
  "nbformat": 4,
  "nbformat_minor": 0,
  "metadata": {
    "colab": {
      "name": "Six.ipynb",
      "provenance": [],
      "collapsed_sections": [],
      "machine_shape": "hm",
      "mount_file_id": "1-QumaaRi40li4P0hmVoTJV-QSIVjlAKT",
      "authorship_tag": "ABX9TyNkxFtrySIeqTIinetuTu1o",
      "include_colab_link": true
    },
    "kernelspec": {
      "name": "python3",
      "display_name": "Python 3"
    },
    "language_info": {
      "name": "python"
    },
    "accelerator": "GPU"
  },
  "cells": [
    {
      "cell_type": "markdown",
      "metadata": {
        "id": "view-in-github",
        "colab_type": "text"
      },
      "source": [
        "<a href=\"https://colab.research.google.com/github/whyonce/testgit/blob/main/Six.ipynb\" target=\"_parent\"><img src=\"https://colab.research.google.com/assets/colab-badge.svg\" alt=\"Open In Colab\"/></a>"
      ]
    },
    {
      "cell_type": "code",
      "execution_count": null,
      "metadata": {
        "id": "WIo5BA0bgU4x",
        "colab": {
          "base_uri": "https://localhost:8080/"
        },
        "outputId": "98cb7fcd-4909-4941-e6e0-4ce5a5a266c6"
      },
      "outputs": [
        {
          "output_type": "stream",
          "name": "stdout",
          "text": [
            "processor\t: 0\n",
            "vendor_id\t: GenuineIntel\n",
            "cpu family\t: 6\n",
            "model\t\t: 85\n",
            "model name\t: Intel(R) Xeon(R) CPU @ 2.00GHz\n",
            "stepping\t: 3\n",
            "microcode\t: 0x1\n",
            "cpu MHz\t\t: 2000.134\n",
            "cache size\t: 39424 KB\n",
            "physical id\t: 0\n"
          ]
        }
      ],
      "source": [
        "!head /proc/cpuinfo"
      ]
    },
    {
      "cell_type": "code",
      "source": [
        "pwd"
      ],
      "metadata": {
        "colab": {
          "base_uri": "https://localhost:8080/",
          "height": 35
        },
        "id": "nUEVz7IIhW2c",
        "outputId": "ec690a21-5cc0-4d2c-81e1-c662366378fb"
      },
      "execution_count": null,
      "outputs": [
        {
          "output_type": "execute_result",
          "data": {
            "text/plain": [
              "'/content'"
            ],
            "application/vnd.google.colaboratory.intrinsic+json": {
              "type": "string"
            }
          },
          "metadata": {},
          "execution_count": 3
        }
      ]
    },
    {
      "cell_type": "code",
      "source": [
        "import os, re \n",
        "import numpy as np\n",
        "import tensorflow as tf\n",
        "\n",
        "# 파일을 읽기모드로 열고\n",
        "# 라인 단위로 끊어서 list 형태로 읽어옵니다.\n",
        "# 구글 코랩 기준\n",
        "file_path = '/content/drive/MyDrive/Colab Notebooks/lyricist/data/shakespeare.txt'\n",
        "# 깃헙 제출용 기준\n",
        "# file_path = 'lyricist/data/shakespeare.txt'\n",
        "with open(file_path, \"r\") as f:\n",
        "    raw_corpus = f.read().splitlines()\n",
        "\n",
        "# 앞에서부터 10라인만 화면에 출력해 볼까요?\n",
        "print(raw_corpus[:9])"
      ],
      "metadata": {
        "colab": {
          "base_uri": "https://localhost:8080/"
        },
        "id": "mqyshtEyhFjj",
        "outputId": "1c1739c9-bf08-4f65-e065-1335908e3c38"
      },
      "execution_count": null,
      "outputs": [
        {
          "output_type": "stream",
          "name": "stdout",
          "text": [
            "['First Citizen:', 'Before we proceed any further, hear me speak.', '', 'All:', 'Speak, speak.', '', 'First Citizen:', 'You are all resolved rather to die than to famish?', '']\n"
          ]
        }
      ]
    },
    {
      "cell_type": "code",
      "source": [
        "from google.colab import drive\n",
        "drive.mount('/content/drive')"
      ],
      "metadata": {
        "colab": {
          "base_uri": "https://localhost:8080/"
        },
        "id": "yr-1R8qgh9hx",
        "outputId": "1cd95fad-1bef-4a37-be88-29d0616e3cdf"
      },
      "execution_count": null,
      "outputs": [
        {
          "output_type": "stream",
          "name": "stdout",
          "text": [
            "Mounted at /content/drive\n"
          ]
        }
      ]
    },
    {
      "cell_type": "code",
      "source": [
        "for idx, sentence in enumerate(raw_corpus):\n",
        "    if len(sentence) == 0: continue   # 길이가 0인 문장은 건너뜁니다.\n",
        "    if sentence[-1] == \":\": continue  # 문장의 끝이 : 인 문장은 건너뜁니다.\n",
        "\n",
        "    if idx > 9: break   # 일단 문장 10개만 확인해 볼 겁니다.\n",
        "        \n",
        "    print(sentence)"
      ],
      "metadata": {
        "colab": {
          "base_uri": "https://localhost:8080/"
        },
        "id": "KeA5YV85k8ud",
        "outputId": "59cfa283-a13c-4440-abee-4d1a3cfeea1c"
      },
      "execution_count": null,
      "outputs": [
        {
          "output_type": "stream",
          "name": "stdout",
          "text": [
            "Before we proceed any further, hear me speak.\n",
            "Speak, speak.\n",
            "You are all resolved rather to die than to famish?\n"
          ]
        }
      ]
    },
    {
      "cell_type": "code",
      "source": [
        "# 입력된 문장을\n",
        "#     1. 소문자로 바꾸고, 양쪽 공백을 지웁니다\n",
        "#     2. 특수문자 양쪽에 공백을 넣고\n",
        "#     3. 여러개의 공백은 하나의 공백으로 바꿉니다\n",
        "#     4. a-zA-Z?.!,¿가 아닌 모든 문자를 하나의 공백으로 바꿉니다\n",
        "#     5. 다시 양쪽 공백을 지웁니다\n",
        "#     6. 문장 시작에는 <start>, 끝에는 <end>를 추가합니다\n",
        "# 이 순서로 처리해주면 문제가 되는 상황을 방지할 수 있겠네요!\n",
        "def preprocess_sentence(sentence):\n",
        "    sentence = sentence.lower().strip() # 1\n",
        "    sentence = re.sub(r\"([?.!,¿])\", r\" \\1 \", sentence) # 2\n",
        "    sentence = re.sub(r'[\" \"]+', \" \", sentence) # 3\n",
        "    sentence = re.sub(r\"[^a-zA-Z?.!,¿]+\", \" \", sentence) # 4\n",
        "    sentence = sentence.strip() # 5\n",
        "    sentence = '<start> ' + sentence + ' <end>' # 6\n",
        "    return sentence\n",
        "\n",
        "# 이 문장이 어떻게 필터링되는지 확인해 보세요.\n",
        "print(preprocess_sentence(\"This @_is ;;;sample        sentence.  \"))\n"
      ],
      "metadata": {
        "colab": {
          "base_uri": "https://localhost:8080/"
        },
        "id": "WcNgJgLjk-QB",
        "outputId": "b08549bc-a509-47e5-b2ad-6c4889d85171"
      },
      "execution_count": null,
      "outputs": [
        {
          "output_type": "stream",
          "name": "stdout",
          "text": [
            "<start> this is sample sentence . <end>\n"
          ]
        }
      ]
    },
    {
      "cell_type": "code",
      "source": [
        "# 여기에 정제된 문장을 모을겁니다\n",
        "corpus = []\n",
        "\n",
        "for sentence in raw_corpus:\n",
        "    # 우리가 원하지 않는 문장은 건너뜁니다\n",
        "    if len(sentence) == 0: continue\n",
        "    if sentence[-1] == \":\": continue\n",
        "    \n",
        "    # 정제를 하고 담아주세요\n",
        "    preprocessed_sentence = preprocess_sentence(sentence)\n",
        "    corpus.append(preprocessed_sentence)\n",
        "        \n",
        "# 정제된 결과를 10개만 확인해보죠\n",
        "corpus[:10]"
      ],
      "metadata": {
        "colab": {
          "base_uri": "https://localhost:8080/"
        },
        "id": "rdU04FY-k-Ef",
        "outputId": "b2784242-dda7-4afa-f59b-8a7c92b20e2a"
      },
      "execution_count": null,
      "outputs": [
        {
          "output_type": "execute_result",
          "data": {
            "text/plain": [
              "['<start> before we proceed any further , hear me speak . <end>',\n",
              " '<start> speak , speak . <end>',\n",
              " '<start> you are all resolved rather to die than to famish ? <end>',\n",
              " '<start> resolved . resolved . <end>',\n",
              " '<start> first , you know caius marcius is chief enemy to the people . <end>',\n",
              " '<start> we know t , we know t . <end>',\n",
              " '<start> let us kill him , and we ll have corn at our own price . <end>',\n",
              " '<start> is t a verdict ? <end>',\n",
              " '<start> no more talking on t let it be done away , away ! <end>',\n",
              " '<start> one word , good citizens . <end>']"
            ]
          },
          "metadata": {},
          "execution_count": 17
        }
      ]
    },
    {
      "cell_type": "code",
      "source": [
        "# 토큰화 할 때 텐서플로우의 Tokenizer와 pad_sequences를 사용합니다\n",
        "# 더 잘 알기 위해 아래 문서들을 참고하면 좋습니다\n",
        "# https://www.tensorflow.org/api_docs/python/tf/keras/preprocessing/text/Tokenizer\n",
        "# https://www.tensorflow.org/api_docs/python/tf/keras/preprocessing/sequence/pad_sequences\n",
        "def tokenize(corpus):\n",
        "    # 7000단어를 기억할 수 있는 tokenizer를 만들겁니다\n",
        "    # 우리는 이미 문장을 정제했으니 filters가 필요없어요\n",
        "    # 7000단어에 포함되지 못한 단어는 '<unk>'로 바꿀거에요\n",
        "    tokenizer = tf.keras.preprocessing.text.Tokenizer(\n",
        "        num_words=7000, \n",
        "        filters=' ',\n",
        "        oov_token=\"<unk>\"\n",
        "    )\n",
        "    # corpus를 이용해 tokenizer 내부의 단어장을 완성합니다\n",
        "    tokenizer.fit_on_texts(corpus)\n",
        "    # 준비한 tokenizer를 이용해 corpus를 Tensor로 변환합니다\n",
        "    tensor = tokenizer.texts_to_sequences(corpus)   \n",
        "    # 입력 데이터의 시퀀스 길이를 일정하게 맞춰줍니다\n",
        "    # 만약 시퀀스가 짧다면 문장 뒤에 패딩을 붙여 길이를 맞춰줍니다.\n",
        "    # 문장 앞에 패딩을 붙여 길이를 맞추고 싶다면 padding='pre'를 사용합니다\n",
        "    tensor = tf.keras.preprocessing.sequence.pad_sequences(tensor, padding='post')  \n",
        "    \n",
        "    print(tensor,tokenizer)\n",
        "    return tensor, tokenizer\n",
        "\n",
        "tensor, tokenizer = tokenize(corpus)"
      ],
      "metadata": {
        "colab": {
          "base_uri": "https://localhost:8080/"
        },
        "id": "5ieCIZLIk9Wc",
        "outputId": "fba8af43-a614-4991-aab9-8fd3e1b2c30e"
      },
      "execution_count": null,
      "outputs": [
        {
          "output_type": "stream",
          "name": "stdout",
          "text": [
            "[[   2  143   40 ...    0    0    0]\n",
            " [   2  110    4 ...    0    0    0]\n",
            " [   2   11   50 ...    0    0    0]\n",
            " ...\n",
            " [   2  149 4553 ...    0    0    0]\n",
            " [   2   34   71 ...    0    0    0]\n",
            " [   2  945   34 ...    0    0    0]] <keras_preprocessing.text.Tokenizer object at 0x7f61588aff50>\n"
          ]
        }
      ]
    },
    {
      "cell_type": "code",
      "source": [
        ""
      ],
      "metadata": {
        "id": "oK6uNs0OkiJG"
      },
      "execution_count": null,
      "outputs": []
    },
    {
      "cell_type": "code",
      "source": [
        "# tensor에서 마지막 토큰을 잘라내서 소스 문장을 생성합니다\n",
        "# 마지막 토큰은 <end>가 아니라 <pad>일 가능성이 높습니다.\n",
        "src_input = tensor[:, :-1]  \n",
        "# tensor에서 <start>를 잘라내서 타겟 문장을 생성합니다.\n",
        "tgt_input = tensor[:, 1:]    \n",
        "\n",
        "print(src_input[0])\n",
        "print(tgt_input[0])"
      ],
      "metadata": {
        "colab": {
          "base_uri": "https://localhost:8080/"
        },
        "id": "87qIZuChhLgz",
        "outputId": "7f749719-9e2d-4899-ba36-7f0b9bfc402f"
      },
      "execution_count": null,
      "outputs": [
        {
          "output_type": "stream",
          "name": "stdout",
          "text": [
            "[  2 143  40 933 140 591   4 124  24 110   5   3   0   0   0   0   0   0\n",
            "   0   0]\n",
            "[143  40 933 140 591   4 124  24 110   5   3   0   0   0   0   0   0   0\n",
            "   0   0]\n"
          ]
        }
      ]
    },
    {
      "cell_type": "code",
      "source": [
        "BUFFER_SIZE = len(src_input)\n",
        "BATCH_SIZE = 256\n",
        "steps_per_epoch = len(src_input) // BATCH_SIZE\n",
        "\n",
        " # tokenizer가 구축한 단어사전 내 7000개와, 여기 포함되지 않은 0:<pad>를 포함하여 7001개\n",
        "VOCAB_SIZE = tokenizer.num_words + 1   \n",
        "\n",
        "# 준비한 데이터 소스로부터 데이터셋을 만듭니다\n",
        "# 데이터셋에 대해서는 아래 문서를 참고하세요\n",
        "# 자세히 알아둘수록 도움이 많이 되는 중요한 문서입니다\n",
        "# https://www.tensorflow.org/api_docs/python/tf/data/Dataset\n",
        "dataset = tf.data.Dataset.from_tensor_slices((src_input, tgt_input))\n",
        "dataset = dataset.shuffle(BUFFER_SIZE)\n",
        "dataset = dataset.batch(BATCH_SIZE, drop_remainder=True)\n",
        "dataset"
      ],
      "metadata": {
        "colab": {
          "base_uri": "https://localhost:8080/"
        },
        "id": "Agsauua2mQJy",
        "outputId": "6f007514-cf17-4ab1-a55f-df8ce9fae7c6"
      },
      "execution_count": null,
      "outputs": [
        {
          "output_type": "execute_result",
          "data": {
            "text/plain": [
              "<BatchDataset element_spec=(TensorSpec(shape=(256, 20), dtype=tf.int32, name=None), TensorSpec(shape=(256, 20), dtype=tf.int32, name=None))>"
            ]
          },
          "metadata": {},
          "execution_count": 20
        }
      ]
    },
    {
      "cell_type": "code",
      "source": [
        "class TextGenerator(tf.keras.Model):\n",
        "    def __init__(self, vocab_size, embedding_size, hidden_size):\n",
        "        super().__init__()\n",
        "        \n",
        "        self.embedding = tf.keras.layers.Embedding(vocab_size, embedding_size)\n",
        "        self.rnn_1 = tf.keras.layers.LSTM(hidden_size, return_sequences=True)\n",
        "        self.rnn_2 = tf.keras.layers.LSTM(hidden_size, return_sequences=True)\n",
        "        self.linear = tf.keras.layers.Dense(vocab_size)\n",
        "        \n",
        "    def call(self, x):\n",
        "        out = self.embedding(x)\n",
        "        out = self.rnn_1(out)\n",
        "        out = self.rnn_2(out)\n",
        "        out = self.linear(out)\n",
        "        \n",
        "        return out\n",
        "    \n",
        "embedding_size = 256\n",
        "hidden_size = 1024\n",
        "model = TextGenerator(tokenizer.num_words + 1, embedding_size , hidden_size)"
      ],
      "metadata": {
        "id": "JpkKupRTmSv8"
      },
      "execution_count": null,
      "outputs": []
    },
    {
      "cell_type": "code",
      "source": [
        "# 데이터셋에서 데이터 한 배치만 불러오는 방법입니다.\n",
        "# 지금은 동작 원리에 너무 빠져들지 마세요~\n",
        "for src_sample, tgt_sample in dataset.take(1): break\n",
        "\n",
        "# 한 배치만 불러온 데이터를 모델에 넣어봅니다\n",
        "model(src_sample)"
      ],
      "metadata": {
        "colab": {
          "base_uri": "https://localhost:8080/"
        },
        "id": "SLCDJTHEmanT",
        "outputId": "a0c4b883-19ef-4e50-f9cb-10450e614e20"
      },
      "execution_count": null,
      "outputs": [
        {
          "output_type": "execute_result",
          "data": {
            "text/plain": [
              "<tf.Tensor: shape=(256, 20, 7001), dtype=float32, numpy=\n",
              "array([[[ 5.92987308e-05,  3.35658347e-04, -2.52945010e-05, ...,\n",
              "         -1.07262109e-04, -1.69968960e-04,  2.04169264e-04],\n",
              "        [ 2.14046435e-04,  7.26153376e-04, -1.24206999e-04, ...,\n",
              "          9.32197054e-06, -5.73392663e-06,  5.90032083e-04],\n",
              "        [ 2.50723213e-04,  1.10364787e-03, -1.37655312e-04, ...,\n",
              "          4.17442643e-04,  2.78050487e-04,  9.10501054e-04],\n",
              "        ...,\n",
              "        [ 2.22843955e-03, -1.69194260e-04,  3.01103810e-05, ...,\n",
              "          8.46385083e-04,  7.85199401e-04,  1.14758448e-04],\n",
              "        [ 2.81504076e-03, -6.23065862e-05,  2.18120113e-04, ...,\n",
              "          1.08408241e-03,  8.87150818e-04, -8.49695352e-05],\n",
              "        [ 3.36338859e-03,  9.05921552e-05,  3.52052419e-04, ...,\n",
              "          1.29221100e-03,  9.84928571e-04, -2.91521050e-04]],\n",
              "\n",
              "       [[ 5.92987308e-05,  3.35658347e-04, -2.52945010e-05, ...,\n",
              "         -1.07262109e-04, -1.69968960e-04,  2.04169264e-04],\n",
              "        [-4.46643526e-06,  5.73799538e-04,  7.86239834e-05, ...,\n",
              "         -3.80440470e-05, -2.52894359e-04,  3.90905101e-04],\n",
              "        [-9.68795575e-05,  5.56409184e-04,  2.70502962e-04, ...,\n",
              "         -3.26542882e-04, -3.38585087e-04,  3.02951637e-04],\n",
              "        ...,\n",
              "        [ 4.96368203e-03,  9.29822447e-04,  4.90255537e-04, ...,\n",
              "          1.85324939e-03,  1.00087305e-03, -5.80635446e-04],\n",
              "        [ 5.28746331e-03,  1.03588495e-03,  4.86107572e-04, ...,\n",
              "          1.97425601e-03,  1.10388221e-03, -8.01862683e-04],\n",
              "        [ 5.57505665e-03,  1.14291662e-03,  4.63281001e-04, ...,\n",
              "          2.08088779e-03,  1.21764757e-03, -9.94772883e-04]],\n",
              "\n",
              "       [[ 5.92987308e-05,  3.35658347e-04, -2.52945010e-05, ...,\n",
              "         -1.07262109e-04, -1.69968960e-04,  2.04169264e-04],\n",
              "        [ 1.96624169e-05,  1.76492831e-04, -2.94124820e-05, ...,\n",
              "          1.37952113e-04, -1.81067328e-04,  1.58172086e-04],\n",
              "        [ 8.54715254e-05, -7.34840214e-05,  2.11614402e-04, ...,\n",
              "          1.07464068e-04, -2.41990172e-04, -3.04988735e-05],\n",
              "        ...,\n",
              "        [ 4.13269643e-03, -1.02474551e-04,  4.84086428e-04, ...,\n",
              "          2.47787545e-03,  5.30180871e-04, -3.36131576e-04],\n",
              "        [ 4.56401752e-03,  1.33180059e-04,  5.43568283e-04, ...,\n",
              "          2.50327983e-03,  6.46587345e-04, -5.16780070e-04],\n",
              "        [ 4.94697411e-03,  3.60687583e-04,  5.68152696e-04, ...,\n",
              "          2.51615723e-03,  7.74131040e-04, -6.93645503e-04]],\n",
              "\n",
              "       ...,\n",
              "\n",
              "       [[ 5.92987308e-05,  3.35658347e-04, -2.52945010e-05, ...,\n",
              "         -1.07262109e-04, -1.69968960e-04,  2.04169264e-04],\n",
              "        [-2.23564144e-04,  6.83004269e-04, -4.39403113e-04, ...,\n",
              "         -6.58290301e-05, -4.96012159e-04,  4.41808195e-04],\n",
              "        [-4.76378336e-04,  5.98619285e-04, -6.43313222e-04, ...,\n",
              "          2.17493071e-04, -4.25089587e-04,  8.98524071e-04],\n",
              "        ...,\n",
              "        [ 2.34517502e-03,  1.42261983e-04, -3.36793077e-04, ...,\n",
              "          1.34438591e-03,  4.39920608e-04,  3.30085779e-04],\n",
              "        [ 3.00623057e-03,  3.71455681e-04, -1.27329564e-04, ...,\n",
              "          1.48221571e-03,  5.55971579e-04, -2.33914452e-05],\n",
              "        [ 3.60230496e-03,  5.99403749e-04,  4.30623804e-05, ...,\n",
              "          1.60878419e-03,  6.68531226e-04, -3.47306690e-04]],\n",
              "\n",
              "       [[ 5.92987308e-05,  3.35658347e-04, -2.52945010e-05, ...,\n",
              "         -1.07262109e-04, -1.69968960e-04,  2.04169264e-04],\n",
              "        [-1.13922528e-04,  4.86134551e-04, -1.33412686e-04, ...,\n",
              "         -4.40634583e-04, -1.16385985e-04,  9.56499935e-05],\n",
              "        [ 1.18456250e-04,  4.80816409e-04, -3.63750500e-04, ...,\n",
              "         -5.38271328e-04,  1.94233071e-04, -2.19410780e-04],\n",
              "        ...,\n",
              "        [ 4.72496264e-03,  7.26540748e-04,  5.70771343e-04, ...,\n",
              "          1.24371191e-03,  1.26936275e-03, -1.18771859e-03],\n",
              "        [ 5.13130380e-03,  8.74074351e-04,  5.48972574e-04, ...,\n",
              "          1.43570569e-03,  1.35969545e-03, -1.30036485e-03],\n",
              "        [ 5.48280310e-03,  1.01528759e-03,  5.14879182e-04, ...,\n",
              "          1.61155500e-03,  1.45540969e-03, -1.40414003e-03]],\n",
              "\n",
              "       [[ 5.92987308e-05,  3.35658347e-04, -2.52945010e-05, ...,\n",
              "         -1.07262109e-04, -1.69968960e-04,  2.04169264e-04],\n",
              "        [ 1.68580227e-04,  2.71943049e-04,  2.47830438e-04, ...,\n",
              "          6.24172899e-05, -2.93368910e-04,  1.61075339e-04],\n",
              "        [-2.39690035e-05,  1.95065528e-04,  2.79637694e-04, ...,\n",
              "         -1.14624141e-04, -2.23148672e-04, -9.80293771e-06],\n",
              "        ...,\n",
              "        [ 5.98422997e-03,  1.28011056e-03,  3.03299021e-04, ...,\n",
              "          1.94706372e-03,  1.33943127e-03, -1.13438256e-03],\n",
              "        [ 6.22147322e-03,  1.39083283e-03,  2.66390765e-04, ...,\n",
              "          2.06474261e-03,  1.49654970e-03, -1.25577976e-03],\n",
              "        [ 6.42420817e-03,  1.48457463e-03,  2.26479227e-04, ...,\n",
              "          2.17579934e-03,  1.64482661e-03, -1.36215077e-03]]],\n",
              "      dtype=float32)>"
            ]
          },
          "metadata": {},
          "execution_count": 22
        }
      ]
    },
    {
      "cell_type": "code",
      "source": [
        "model.summary()"
      ],
      "metadata": {
        "colab": {
          "base_uri": "https://localhost:8080/"
        },
        "id": "3mWKq4Lomcg3",
        "outputId": "fb1e0479-dc5b-4c68-f74a-2268a9df99cd"
      },
      "execution_count": null,
      "outputs": [
        {
          "output_type": "stream",
          "name": "stdout",
          "text": [
            "Model: \"text_generator\"\n",
            "_________________________________________________________________\n",
            " Layer (type)                Output Shape              Param #   \n",
            "=================================================================\n",
            " embedding (Embedding)       multiple                  1792256   \n",
            "                                                                 \n",
            " lstm (LSTM)                 multiple                  5246976   \n",
            "                                                                 \n",
            " lstm_1 (LSTM)               multiple                  8392704   \n",
            "                                                                 \n",
            " dense (Dense)               multiple                  7176025   \n",
            "                                                                 \n",
            "=================================================================\n",
            "Total params: 22,607,961\n",
            "Trainable params: 22,607,961\n",
            "Non-trainable params: 0\n",
            "_________________________________________________________________\n"
          ]
        }
      ]
    },
    {
      "cell_type": "code",
      "source": [
        "# optimizer와 loss등은 차차 배웁니다\n",
        "# 혹시 미리 알고 싶다면 아래 문서를 참고하세요\n",
        "# https://www.tensorflow.org/api_docs/python/tf/keras/optimizers\n",
        "# https://www.tensorflow.org/api_docs/python/tf/keras/losses\n",
        "# 양이 상당히 많은 편이니 지금 보는 것은 추천하지 않습니다\n",
        "optimizer = tf.keras.optimizers.Adam()\n",
        "loss = tf.keras.losses.SparseCategoricalCrossentropy(\n",
        "    from_logits=True,\n",
        "    reduction='none'\n",
        ")\n",
        "\n",
        "model.compile(loss=loss, optimizer=optimizer)\n",
        "model.fit(dataset, epochs=10)"
      ],
      "metadata": {
        "colab": {
          "base_uri": "https://localhost:8080/"
        },
        "id": "Cs8Wyog0mhQH",
        "outputId": "f45fbc4b-9727-4069-ed77-868ecc408786"
      },
      "execution_count": null,
      "outputs": [
        {
          "output_type": "stream",
          "name": "stdout",
          "text": [
            "Epoch 1/10\n",
            "93/93 [==============================] - 19s 168ms/step - loss: 3.4916\n",
            "Epoch 2/10\n",
            "93/93 [==============================] - 16s 171ms/step - loss: 2.8091\n",
            "Epoch 3/10\n",
            "93/93 [==============================] - 16s 172ms/step - loss: 2.7115\n",
            "Epoch 4/10\n",
            "93/93 [==============================] - 16s 174ms/step - loss: 2.6132\n",
            "Epoch 5/10\n",
            "93/93 [==============================] - 16s 176ms/step - loss: 2.5498\n",
            "Epoch 6/10\n",
            "93/93 [==============================] - 17s 177ms/step - loss: 2.5021\n",
            "Epoch 7/10\n",
            "93/93 [==============================] - 17s 179ms/step - loss: 2.4553\n",
            "Epoch 8/10\n",
            "93/93 [==============================] - 17s 182ms/step - loss: 2.4068\n",
            "Epoch 9/10\n",
            "93/93 [==============================] - 17s 183ms/step - loss: 2.3599\n",
            "Epoch 10/10\n",
            "93/93 [==============================] - 17s 183ms/step - loss: 2.3170\n"
          ]
        },
        {
          "output_type": "execute_result",
          "data": {
            "text/plain": [
              "<keras.callbacks.History at 0x7f61584862d0>"
            ]
          },
          "metadata": {},
          "execution_count": 24
        }
      ]
    },
    {
      "cell_type": "code",
      "source": [
        "def generate_text(model, tokenizer, init_sentence=\"<start>\", max_len=20):\n",
        "    # 테스트를 위해서 입력받은 init_sentence도 텐서로 변환합니다\n",
        "    test_input = tokenizer.texts_to_sequences([init_sentence])\n",
        "    test_tensor = tf.convert_to_tensor(test_input, dtype=tf.int64)\n",
        "    end_token = tokenizer.word_index[\"<end>\"]\n",
        "\n",
        "    # 단어 하나씩 예측해 문장을 만듭니다\n",
        "    #    1. 입력받은 문장의 텐서를 입력합니다\n",
        "    #    2. 예측된 값 중 가장 높은 확률인 word index를 뽑아냅니다\n",
        "    #    3. 2에서 예측된 word index를 문장 뒤에 붙입니다\n",
        "    #    4. 모델이 <end>를 예측했거나, max_len에 도달했다면 문장 생성을 마칩니다\n",
        "    while True:\n",
        "        # 1\n",
        "        predict = model(test_tensor) \n",
        "        # 2\n",
        "        predict_word = tf.argmax(tf.nn.softmax(predict, axis=-1), axis=-1)[:, -1] \n",
        "        # 3 \n",
        "        test_tensor = tf.concat([test_tensor, tf.expand_dims(predict_word, axis=0)], axis=-1)\n",
        "        # 4\n",
        "        if predict_word.numpy()[0] == end_token: break\n",
        "        if test_tensor.shape[1] >= max_len: break\n",
        "\n",
        "    generated = \"\"\n",
        "    # tokenizer를 이용해 word index를 단어로 하나씩 변환합니다 \n",
        "    for word_index in test_tensor[0].numpy():\n",
        "        generated += tokenizer.index_word[word_index] + \" \"\n",
        "\n",
        "    return generated"
      ],
      "metadata": {
        "id": "w0PnVHvgmlm4"
      },
      "execution_count": null,
      "outputs": []
    },
    {
      "cell_type": "code",
      "source": [
        "generate_text(model, tokenizer, init_sentence=\"<start> he\")"
      ],
      "metadata": {
        "colab": {
          "base_uri": "https://localhost:8080/",
          "height": 35
        },
        "id": "ywFk0BEYnUqJ",
        "outputId": "a4be27c2-3cbd-4d6b-c79c-3b7ddea88e8a"
      },
      "execution_count": null,
      "outputs": [
        {
          "output_type": "execute_result",
          "data": {
            "text/plain": [
              "'<start> he is a <unk> , and i have not been <end> '"
            ],
            "application/vnd.google.colaboratory.intrinsic+json": {
              "type": "string"
            }
          },
          "metadata": {},
          "execution_count": 29
        }
      ]
    },
    {
      "cell_type": "markdown",
      "source": [
        "# 이제 lyricist 파일의 자료를 사용해 모델을 학습시켜 보겠습니다."
      ],
      "metadata": {
        "id": "WbDtPHHPoRfM"
      }
    },
    {
      "cell_type": "code",
      "source": [
        "import os, re \n",
        "import numpy as np\n",
        "import tensorflow as tf\n",
        "import glob\n",
        "\n",
        "# 구글 코랩 기준\n",
        "txt_file_path =  '/content/drive/MyDrive/Colab Notebooks/lyricist/data/lyrics/*'\n",
        "# 깃헙 제출용 기준\n",
        "# txt_file_path =  'lyricist/data/lyrics/*.txt'\n",
        "txt_list = glob.glob(txt_file_path)\n",
        "\n",
        "raw_corpus1 = []\n",
        "\n",
        "# 여러개의 txt 파일을 모두 읽어서 raw_corpus 에 담습니다.\n",
        "for txt_file in txt_list:\n",
        "    # 구글 코랩은 인코딩 오류 없이 되어서 밑에 있는 코드로 되었다.\n",
        "    with open(txt_file, \"r\") as f:\n",
        "        raw = f.read().splitlines()\n",
        "        raw_corpus1.extend(raw)\n",
        "    # 만약 주피터 실행시 인코딩 오류가 뜨면 밑에 있는 코드를 쓰도록 하자\n",
        "    #f = open(txt_file, 'r', encoding=\"UTF-8\")\n",
        "    #raw = f.read().splitlines()\n",
        "    #raw_corpus1.extend(raw)\n",
        "\n",
        "print(\"데이터 크기:\", len(raw_corpus1))\n",
        "print(\"Examples:\\n\", raw_corpus1[:3])"
      ],
      "metadata": {
        "colab": {
          "base_uri": "https://localhost:8080/"
        },
        "id": "e4VenmjdnWqh",
        "outputId": "40919df6-659d-4f9c-d882-ec75f96bb9e4"
      },
      "execution_count": 1,
      "outputs": [
        {
          "output_type": "stream",
          "name": "stdout",
          "text": [
            "데이터 크기: 187088\n",
            "Examples:\n",
            " ['Looking for some education', 'Made my way into the night', 'All that bullshit conversation']\n"
          ]
        }
      ]
    },
    {
      "cell_type": "markdown",
      "source": [
        "# 데이터 정제"
      ],
      "metadata": {
        "id": "YvWSvEdxp14d"
      }
    },
    {
      "cell_type": "code",
      "source": [
        "# 입력된 문장을\n",
        "#     1. 소문자로 바꾸고, 양쪽 공백을 지웁니다\n",
        "#     2. 특수문자 양쪽에 공백을 넣고\n",
        "#     3. 여러개의 공백은 하나의 공백으로 바꿉니다\n",
        "#     4. a-zA-Z?.!,¿가 아닌 모든 문자를 하나의 공백으로 바꿉니다\n",
        "#     5. 다시 양쪽 공백을 지웁니다\n",
        "#     6. 문장 시작에는 <start>, 끝에는 <end>를 추가합니다\n",
        "# 이 순서로 처리해주면 문제가 되는 상황을 방지할 수 있겠네요!\n",
        "def preprocess_sentence(sentence):\n",
        "    sentence = sentence.lower().strip() # 1\n",
        "    sentence = re.sub(r\"([?.!,¿])\", r\" \\1 \", sentence) # 2\n",
        "    sentence = re.sub(r'[\" \"]+', \" \", sentence) # 3\n",
        "    sentence = re.sub(r\"[^a-zA-Z?.!,¿]+\", \" \", sentence) # 4\n",
        "    sentence = sentence.strip() # 5\n",
        "    sentence = '<start> ' + sentence + ' <end>' # 6\n",
        "    return sentence\n",
        "\n",
        "# 이 문장이 어떻게 필터링되는지 확인해 보세요.\n",
        "print(preprocess_sentence(\"This @_is ;;;sample        sentence.  \"))\n"
      ],
      "metadata": {
        "colab": {
          "base_uri": "https://localhost:8080/"
        },
        "id": "19AITJ4Bp-79",
        "outputId": "98573d8c-2e95-4893-eed2-965d81e71ab7"
      },
      "execution_count": 3,
      "outputs": [
        {
          "output_type": "stream",
          "name": "stdout",
          "text": [
            "<start> this is sample sentence . <end>\n"
          ]
        }
      ]
    },
    {
      "cell_type": "code",
      "source": [
        "# 여기에 정제된 문장을 모을겁니다\n",
        "corpus1 = []\n",
        "\n",
        "for sentence in raw_corpus1:\n",
        "    # 우리가 원하지 않는 문장은 건너뜁니다\n",
        "    if len(sentence) == 0: continue\n",
        "    if sentence[-1] == \":\": continue\n",
        "    \n",
        "    # 정제를 하고 담아주세요\n",
        "    preprocessed_sentence = preprocess_sentence(sentence)\n",
        "    corpus1.append(preprocessed_sentence)\n",
        "        \n",
        "# 정제된 결과를 10개만 확인해보죠\n",
        "corpus1[:10]"
      ],
      "metadata": {
        "colab": {
          "base_uri": "https://localhost:8080/"
        },
        "id": "y2fnAIS4p_EF",
        "outputId": "0531b876-69c8-4bca-ca99-8044db856be5"
      },
      "execution_count": 4,
      "outputs": [
        {
          "output_type": "execute_result",
          "data": {
            "text/plain": [
              "['<start> looking for some education <end>',\n",
              " '<start> made my way into the night <end>',\n",
              " '<start> all that bullshit conversation <end>',\n",
              " '<start> baby , can t you read the signs ? i won t bore you with the details , baby <end>',\n",
              " '<start> i don t even wanna waste your time <end>',\n",
              " '<start> let s just say that maybe <end>',\n",
              " '<start> you could help me ease my mind <end>',\n",
              " '<start> i ain t mr . right but if you re looking for fast love <end>',\n",
              " '<start> if that s love in your eyes <end>',\n",
              " '<start> it s more than enough <end>']"
            ]
          },
          "metadata": {},
          "execution_count": 4
        }
      ]
    },
    {
      "cell_type": "code",
      "source": [
        "temp = corpus1.copy()"
      ],
      "metadata": {
        "id": "ZBpWs3_uFKVo"
      },
      "execution_count": null,
      "outputs": []
    },
    {
      "cell_type": "code",
      "source": [
        "temp = np.array(temp)"
      ],
      "metadata": {
        "id": "2t0mVt-UFK0l"
      },
      "execution_count": null,
      "outputs": []
    },
    {
      "cell_type": "code",
      "source": [
        "temp.shape"
      ],
      "metadata": {
        "colab": {
          "base_uri": "https://localhost:8080/"
        },
        "id": "PG7KJN_YF53v",
        "outputId": "74ba003c-944d-4536-b68e-512a66059d72"
      },
      "execution_count": null,
      "outputs": [
        {
          "output_type": "execute_result",
          "data": {
            "text/plain": [
              "(175749,)"
            ]
          },
          "metadata": {},
          "execution_count": 9
        }
      ]
    },
    {
      "cell_type": "code",
      "source": [
        "len(corpus1)"
      ],
      "metadata": {
        "colab": {
          "base_uri": "https://localhost:8080/"
        },
        "id": "eHg6Shb_I1RV",
        "outputId": "be854c20-cba7-4fe3-db81-f090ac1be7d9"
      },
      "execution_count": null,
      "outputs": [
        {
          "output_type": "execute_result",
          "data": {
            "text/plain": [
              "175749"
            ]
          },
          "metadata": {},
          "execution_count": 10
        }
      ]
    },
    {
      "cell_type": "code",
      "source": [
        "len(corpus1[0])"
      ],
      "metadata": {
        "colab": {
          "base_uri": "https://localhost:8080/"
        },
        "id": "NzdU7KzYF6H9",
        "outputId": "b692a52e-fe94-4413-ba9e-29e7ffb11636"
      },
      "execution_count": null,
      "outputs": [
        {
          "output_type": "execute_result",
          "data": {
            "text/plain": [
              "40"
            ]
          },
          "metadata": {},
          "execution_count": 11
        }
      ]
    },
    {
      "cell_type": "code",
      "source": [
        "temp_len = np.array([])\n",
        "for i in range(len(corpus1)):\n",
        "  temp_len = np.append(temp_len, len(corpus1[i]))\n",
        "print(temp_len[:10])"
      ],
      "metadata": {
        "colab": {
          "base_uri": "https://localhost:8080/"
        },
        "id": "E279xJVGIlC6",
        "outputId": "9f0b6dde-5748-4571-915c-4a4917fae278"
      },
      "execution_count": null,
      "outputs": [
        {
          "output_type": "stream",
          "name": "stdout",
          "text": [
            "[40. 40. 44. 88. 48. 39. 44. 68. 41. 35.]\n"
          ]
        }
      ]
    },
    {
      "cell_type": "code",
      "source": [
        "import pandas as pd\n",
        "data_df = pd.DataFrame(temp_len)"
      ],
      "metadata": {
        "id": "JZqdF2YLJU88"
      },
      "execution_count": null,
      "outputs": []
    },
    {
      "cell_type": "code",
      "source": [
        "from IPython.display import display, Image\n",
        "import matplotlib.pyplot as plt\n",
        "print(data_df.mean())\n",
        "print(data_df.max())\n",
        "print(data_df.min())\n",
        "print(data_df.std())\n"
      ],
      "metadata": {
        "colab": {
          "base_uri": "https://localhost:8080/"
        },
        "id": "FmgirJG3F6nG",
        "outputId": "1a2fb614-6db1-49d8-a8ef-83480a77a000"
      },
      "execution_count": null,
      "outputs": [
        {
          "output_type": "stream",
          "name": "stdout",
          "text": [
            "0    51.26073\n",
            "dtype: float64\n",
            "0    1478.0\n",
            "dtype: float64\n",
            "0    14.0\n",
            "dtype: float64\n",
            "0    20.555508\n",
            "dtype: float64\n"
          ]
        }
      ]
    },
    {
      "cell_type": "code",
      "source": [
        "Q3, Q1 = np.percentile(data_df, [75 ,25])\n",
        "IQR = Q3 - Q1\n",
        "IQR"
      ],
      "metadata": {
        "colab": {
          "base_uri": "https://localhost:8080/"
        },
        "id": "VmbPHAOVF7Z8",
        "outputId": "ffeacd14-ac5a-4bdc-af64-c1610a42b150"
      },
      "execution_count": null,
      "outputs": [
        {
          "output_type": "execute_result",
          "data": {
            "text/plain": [
              "23.0"
            ]
          },
          "metadata": {},
          "execution_count": 17
        }
      ]
    },
    {
      "cell_type": "code",
      "source": [
        "# 토큰화 할 때 텐서플로우의 Tokenizer와 pad_sequences를 사용합니다\n",
        "# 더 잘 알기 위해 아래 문서들을 참고하면 좋습니다\n",
        "# https://www.tensorflow.org/api_docs/python/tf/keras/preprocessing/text/Tokenizer\n",
        "# https://www.tensorflow.org/api_docs/python/tf/keras/preprocessing/sequence/pad_sequences\n",
        "def tokenize(corpus):\n",
        "    # 7000단어를 기억할 수 있는 tokenizer를 만들겁니다\n",
        "    # 우리는 이미 문장을 정제했으니 filters가 필요없어요\n",
        "    # 7000단어에 포함되지 못한 단어는 '<unk>'로 바꿀거에요\n",
        "    tokenizer = tf.keras.preprocessing.text.Tokenizer(\n",
        "        num_words=7000, \n",
        "        filters=' ',\n",
        "        oov_token=\"<unk>\"\n",
        "    )\n",
        "    # corpus를 이용해 tokenizer 내부의 단어장을 완성합니다\n",
        "    tokenizer.fit_on_texts(corpus)\n",
        "    # 준비한 tokenizer를 이용해 corpus를 Tensor로 변환합니다\n",
        "    tensor = tokenizer.texts_to_sequences(corpus)   \n",
        "    # 입력 데이터의 시퀀스 길이를 일정하게 맞춰줍니다\n",
        "    # 만약 시퀀스가 짧다면 문장 뒤에 패딩을 붙여 길이를 맞춰줍니다.\n",
        "    # 문장 앞에 패딩을 붙여 길이를 맞추고 싶다면 padding='pre'를 사용합니다\n",
        "    tensor = tf.keras.preprocessing.sequence.pad_sequences(tensor, padding='post')  \n",
        "    \n",
        "    print(tensor,tokenizer)\n",
        "    return tensor, tokenizer\n",
        "\n",
        "tensor, tokenizer = tokenize(corpus1)"
      ],
      "metadata": {
        "colab": {
          "base_uri": "https://localhost:8080/"
        },
        "id": "1quiCAu1p_4I",
        "outputId": "5cebecd8-6202-4038-a304-f670f90c57a7"
      },
      "execution_count": 5,
      "outputs": [
        {
          "output_type": "stream",
          "name": "stdout",
          "text": [
            "[[  2 304  28 ...   0   0   0]\n",
            " [  2 221  13 ...   0   0   0]\n",
            " [  2  24  17 ...   0   0   0]\n",
            " ...\n",
            " [  2   5  33 ...   0   0   0]\n",
            " [  2   5  33 ...   0   0   0]\n",
            " [  2   5 371 ...   0   0   0]] <keras_preprocessing.text.Tokenizer object at 0x7f97d735d550>\n"
          ]
        }
      ]
    },
    {
      "cell_type": "code",
      "source": [
        "tensor.shape"
      ],
      "metadata": {
        "colab": {
          "base_uri": "https://localhost:8080/"
        },
        "id": "AgIaKPqdraIG",
        "outputId": "4da122ec-aef8-400d-ce66-620be080d72b"
      },
      "execution_count": null,
      "outputs": [
        {
          "output_type": "execute_result",
          "data": {
            "text/plain": [
              "(175749, 347)"
            ]
          },
          "metadata": {},
          "execution_count": 7
        }
      ]
    },
    {
      "cell_type": "code",
      "source": [
        "print(tokenizer.index_word)"
      ],
      "metadata": {
        "colab": {
          "base_uri": "https://localhost:8080/"
        },
        "id": "uJZDICzjrdmc",
        "outputId": "1cac5b54-d0b6-4a94-bfe1-b138c868b058"
      },
      "execution_count": null,
      "outputs": [
        {
          "output_type": "stream",
          "name": "stdout",
          "text": [
            "{1: '<unk>', 2: '<start>', 3: '<end>', 4: ',', 5: 'i', 6: 'the', 7: 'you', 8: 'and', 9: 'a', 10: 'to', 11: 'it', 12: 'me', 13: 'my', 14: 'in', 15: 't', 16: 's', 17: 'that', 18: 'on', 19: 'of', 20: '.', 21: 'your', 22: 'm', 23: 'we', 24: 'all', 25: 'like', 26: 'is', 27: 'be', 28: 'for', 29: 'up', 30: 'so', 31: 'with', 32: 'can', 33: 'love', 34: 'know', 35: 'just', 36: 'but', 37: 'don', 38: 'no', 39: 'oh', 40: 'what', 41: 'got', 42: 'this', 43: '?', 44: 'get', 45: 'they', 46: 'when', 47: 'do', 48: 'she', 49: 'yeah', 50: 'now', 51: 'baby', 52: 'if', 53: 'go', 54: 're', 55: 'he', 56: 'out', 57: 'was', 58: 'one', 59: '!', 60: 'down', 61: 'll', 62: 'want', 63: 'let', 64: 'see', 65: 'there', 66: 'come', 67: 'cause', 68: 'say', 69: 'her', 70: 'not', 71: 'at', 72: 'make', 73: 'time', 74: 'from', 75: 'back', 76: 'have', 77: 'are', 78: 'how', 79: 'never', 80: 'girl', 81: 'as', 82: 'man', 83: 'take', 84: 'right', 85: 'way', 86: 'wanna', 87: 'im', 88: 'will', 89: 'ain', 90: 'need', 91: 've', 92: 'tell', 93: 'here', 94: 'then', 95: 'u', 96: 'gonna', 97: 'who', 98: 'more', 99: 'some', 100: 'where', 101: 'feel', 102: 'life', 103: 'too', 104: 'could', 105: 'his', 106: 'been', 107: 'said', 108: 'good', 109: 'or', 110: 'them', 111: 'shit', 112: 'why', 113: 'about', 114: 'give', 115: 'night', 116: 'had', 117: 'little', 118: 'day', 119: 'off', 120: 'ya', 121: 'still', 122: 'by', 123: 'la', 124: 'only', 125: 'em', 126: 'think', 127: 'd', 128: 'fuck', 129: 'keep', 130: 'bitch', 131: 'us', 132: 'through', 133: 'every', 134: 'look', 135: 'hey', 136: 'well', 137: 'away', 138: 'would', 139: 'heart', 140: 'around', 141: 'these', 142: 'him', 143: 'world', 144: 'money', 145: 'gotta', 146: 'over', 147: 'its', 148: 'dont', 149: 'put', 150: 'new', 151: 'am', 152: 'better', 153: 'an', 154: 'call', 155: 'our', 156: 'ever', 157: 'boy', 158: 'bad', 159: 'won', 160: 'home', 161: 'long', 162: 'stop', 163: 'even', 164: 'really', 165: 'than', 166: 'did', 167: 'big', 168: 'nigga', 169: 'mind', 170: 'again', 171: 'always', 172: 'aint', 173: 'da', 174: 'ooh', 175: 'nothing', 176: 'were', 177: 'hold', 178: 'head', 179: 'things', 180: 'much', 181: 'people', 182: 'thing', 183: 'everything', 184: 'yo', 185: 'before', 186: 'niggas', 187: 'show', 188: 'hear', 189: 'name', 190: 'god', 191: 'everybody', 192: 'uh', 193: 'ass', 194: 'going', 195: 'na', 196: 'hard', 197: 'hit', 198: 'should', 199: 'something', 200: 'leave', 201: 'try', 202: 'gone', 203: 'eyes', 204: 'find', 205: 'live', 206: 'turn', 207: 'another', 208: 'talk', 209: 'real', 210: 'play', 211: 'face', 212: 'please', 213: 'old', 214: 'light', 215: 'two', 216: 'mine', 217: 'believe', 218: 'high', 219: 'body', 220: 'tonight', 221: 'made', 222: 'stay', 223: 'dance', 224: 'alone', 225: 'last', 226: 'into', 227: 'told', 228: 'best', 229: 'work', 230: 'hand', 231: 'ah', 232: 'nixga', 233: 'bout', 234: 'while', 235: 'other', 236: 'yes', 237: 'nobody', 238: 'hot', 239: 'die', 240: 'chorus', 241: 'first', 242: 'their', 243: 'mean', 244: 'left', 245: 'came', 246: 'thats', 247: 'run', 248: 'place', 249: 'wait', 250: 'stand', 251: 'cry', 252: 'gon', 253: 'round', 254: 'done', 255: 'same', 256: 'fly', 257: 'bitches', 258: 'without', 259: 'wish', 260: 'black', 261: 'girls', 262: 'friends', 263: 'whole', 264: 'enough', 265: 'somebody', 266: 'damn', 267: 'wrong', 268: 'thought', 269: 'hands', 270: 'free', 271: 'sky', 272: 'whoa', 273: 'alright', 274: 'fire', 275: 'crazy', 276: 'game', 277: 'has', 278: 'young', 279: 'cant', 280: 'must', 281: 'til', 282: 'care', 283: 'together', 284: 'maybe', 285: 'y', 286: 'coming', 287: 'goin', 288: 'move', 289: 'own', 290: 'end', 291: 'used', 292: 'fall', 293: 'went', 294: 'inside', 295: 'rock', 296: 'party', 297: 'heard', 298: 'ready', 299: 'music', 300: 'side', 301: 'myself', 302: 'many', 303: 'break', 304: 'looking', 305: 'help', 306: 'sun', 307: 'bring', 308: 'friend', 309: 'watch', 310: 'because', 311: 'guess', 312: 'remember', 313: 'till', 314: 'touch', 315: 'seen', 316: 'ride', 317: 'ask', 318: 'fuckin', 319: 'trying', 320: 'walk', 321: 'door', 322: 'might', 323: 'forever', 324: 'someone', 325: 'soul', 326: 'sing', 327: 'next', 328: 'knows', 329: 'though', 330: 'lord', 331: 'feeling', 332: 'lost', 333: 'house', 334: 'song', 335: 'lie', 336: 'mama', 337: 'start', 338: 'wit', 339: 'after', 340: 'dream', 341: 'woman', 342: 'hope', 343: 'didn', 344: 'took', 345: 'change', 346: 'ma', 347: 'white', 348: 'beat', 349: 'kiss', 350: 'cold', 351: 'pussy', 352: 'true', 353: 'far', 354: 'top', 355: 'goes', 356: 'waiting', 357: 'morning', 358: 'sweet', 359: 'matter', 360: 'until', 361: 'knew', 362: 'biggie', 363: 'rain', 364: 'getting', 365: 'floor', 366: 'happy', 367: 'sometimes', 368: 'may', 369: 'huh', 370: 'miss', 371: 'hate', 372: 'once', 373: 'room', 374: 'town', 375: 'o', 376: 'eh', 377: 'days', 378: 'shot', 379: 'since', 380: 'babe', 381: 'bed', 382: 'honey', 383: 'comes', 384: 'lose', 385: 'daddy', 386: 'smile', 387: 'lay', 388: 'road', 389: 'nixgas', 390: 'lights', 391: 'blue', 392: 'hair', 393: 'roll', 394: 'dead', 395: 'blow', 396: 'lot', 397: 'any', 398: 'three', 399: 'deep', 400: 'cut', 401: 'each', 402: 'hoes', 403: 'dreams', 404: 'boys', 405: 'times', 406: 'pain', 407: 'throw', 408: 'gettin', 409: 'drop', 410: 'shake', 411: 'under', 412: 'pretty', 413: 'easy', 414: 'full', 415: 'dick', 416: 'city', 417: 'gimme', 418: 'close', 419: 'hell', 420: 'yall', 421: 'late', 422: 'ha', 423: 'those', 424: 'beautiful', 425: 'sex', 426: 'words', 427: 'low', 428: 'fight', 429: 'yourself', 430: 'x', 431: 'line', 432: 'alive', 433: 'years', 434: 'talking', 435: 'dark', 436: 'nah', 437: 'living', 438: 'club', 439: 'behind', 440: 'car', 441: 'feet', 442: 'hurt', 443: 'pull', 444: 'fucking', 445: 'heaven', 446: 'sure', 447: 'forget', 448: 'straight', 449: 'understand', 450: 'slow', 451: 'lonely', 452: 'lover', 453: 'ill', 454: 'buy', 455: 'streets', 456: 'red', 457: 'check', 458: 'sleep', 459: 'feels', 460: 'gave', 461: 'makes', 462: 'very', 463: 'open', 464: 'pay', 465: 'arms', 466: 'today', 467: 'gold', 468: 'phone', 469: 'lookin', 470: 'listen', 471: 'drink', 472: 'saying', 473: 'talkin', 474: 'ho', 475: 'meet', 476: 'word', 477: 'saw', 478: 'else', 479: 'found', 480: 'anything', 481: 'c', 482: 'set', 483: 'boom', 484: 'tryin', 485: 'nothin', 486: 'nasty', 487: 'mother', 488: 'eat', 489: 'n', 490: 'doing', 491: 'air', 492: 'sorry', 493: 'wild', 494: 'million', 495: 'wonder', 496: 'both', 497: 'water', 498: 'loving', 499: 'tryna', 500: 'fast', 501: 'yet', 502: 'kill', 503: 'star', 504: 'act', 505: 'lady', 506: 'swear', 507: 'says', 508: 'such', 509: 'tried', 510: 'street', 511: 'pop', 512: 'feelin', 513: 'use', 514: 'wake', 515: 'met', 516: 'broken', 517: 'smoke', 518: 'lil', 519: 'hood', 520: 'wanted', 521: 'verse', 522: 'lets', 523: 'broke', 524: 'king', 525: 'comin', 526: 'gun', 527: 'drive', 528: 'kind', 529: 'cool', 530: 'sit', 531: 'fun', 532: 'mma', 533: 'g', 534: 'thinking', 535: 'chance', 536: 'mad', 537: 'save', 538: 'blood', 539: 'doin', 540: 'pass', 541: 'half', 542: 'past', 543: 'being', 544: 'soon', 545: 'pray', 546: 'rap', 547: 'tears', 548: 'kids', 549: 'started', 550: 'sick', 551: 'moon', 552: 'making', 553: 'between', 554: 'tight', 555: 'fine', 556: 'felt', 557: 'mouth', 558: 'youre', 559: 'dog', 560: 'upon', 561: 'shine', 562: 'hello', 563: 'fool', 564: 'sea', 565: 'truth', 566: 'child', 567: 'chick', 568: 'win', 569: 'reason', 570: 'wind', 571: 'strong', 572: 'e', 573: 'motherfucker', 574: 'control', 575: 'school', 576: 'eye', 577: 'flow', 578: 'women', 579: 'b', 580: 'brother', 581: 'mr', 582: 'standing', 583: 'pick', 584: 'summer', 585: 'number', 586: 'moment', 587: 'four', 588: 'front', 589: 'loved', 590: 'ay', 591: 'sound', 592: 'shall', 593: 'seems', 594: 'death', 595: 'york', 596: 'nixgaz', 597: 'step', 598: 'whatever', 599: 'wall', 600: 'ground', 601: 'couldn', 602: 'along', 603: 'motherfuckers', 604: 'clothes', 605: 'tomorrow', 606: 'taking', 607: 'year', 608: 'rest', 609: 'bag', 610: 'power', 611: 'burn', 612: 'darling', 613: 'son', 614: 'catch', 615: 'somethin', 616: 'green', 617: 'tired', 618: 'okay', 619: 'part', 620: 'river', 621: 'perfect', 622: 'bright', 623: 'men', 624: 'push', 625: 'thank', 626: 'send', 627: 'does', 628: 'born', 629: 'read', 630: 'land', 631: 'l', 632: 'children', 633: 'bought', 634: 'p', 635: 'caught', 636: 'stars', 637: 'different', 638: 'ring', 639: 'father', 640: 'window', 641: 'jesus', 642: 'five', 643: 'rich', 644: 'trust', 645: 'sayin', 646: 'r', 647: 'ladies', 648: 'fell', 649: 'war', 650: 'block', 651: 'ice', 652: 'called', 653: 'gets', 654: 'wants', 655: 'grab', 656: 'de', 657: 'loves', 658: 'funk', 659: 'most', 660: 'bet', 661: 'promise', 662: 'bit', 663: 'apart', 664: 'afraid', 665: 'lips', 666: 'nice', 667: 'cash', 668: 'running', 669: 'already', 670: 'minute', 671: 'earth', 672: 'spend', 673: 'missy', 674: 'stupid', 675: 'story', 676: 'doesn', 677: 'wouldn', 678: 'woo', 679: 'family', 680: 'wont', 681: 'speak', 682: 'train', 683: 'rise', 684: 'wear', 685: 'weed', 686: 'jack', 687: 'couple', 688: 'seem', 689: 'holy', 690: 'yea', 691: 'dirty', 692: 'cuz', 693: 'keys', 694: 'whats', 695: 'freak', 696: 'hundred', 697: 'yours', 698: 'spit', 699: 'takes', 700: 'wasn', 701: 'kick', 702: 'shut', 703: 'ok', 704: 'bum', 705: 'welcome', 706: 'follow', 707: 'fear', 708: 'livin', 709: 'lies', 710: 'above', 711: 'diamond', 712: 'calling', 713: 'six', 714: 'ball', 715: 'which', 716: 'bang', 717: 'scream', 718: 'worry', 719: 'style', 720: 'blame', 721: 'drunk', 722: 'small', 723: 'thousand', 724: 'everyone', 725: 'laugh', 726: 'bust', 727: 'bone', 728: 'momma', 729: 'shoot', 730: 'across', 731: 'dj', 732: 'taste', 733: 'died', 734: 'write', 735: 'space', 736: 'against', 737: 'future', 738: 'voice', 739: 'diamonds', 740: 'hide', 741: 'brain', 742: 'imma', 743: 'ten', 744: 'great', 745: 'somewhere', 746: 'sign', 747: 'worth', 748: 'goodbye', 749: 'learn', 750: 'looked', 751: 'favorite', 752: 'joy', 753: 'mon', 754: 'key', 755: 'tree', 756: 'higher', 757: 'scared', 758: 'cannot', 759: 'second', 760: 'crack', 761: 'guy', 762: 'track', 763: 'paper', 764: 'stick', 765: 'meant', 766: 'dear', 767: 'ones', 768: 'fill', 769: 'picture', 770: 'brand', 771: 'reach', 772: 'sexy', 773: 'lovin', 774: 'runnin', 775: 'walking', 776: 'shoes', 777: 'twenty', 778: 'breath', 779: 'outta', 780: 'makin', 781: 'fucked', 782: 'treat', 783: 'almost', 784: 'prayer', 785: 'business', 786: 'sad', 787: 'knees', 788: 'cars', 789: 'keeps', 790: 'falling', 791: 'brown', 792: 'turned', 793: 'lift', 794: 'peace', 795: 'breathe', 796: 'looks', 797: 'kinda', 798: 'skin', 799: 'naked', 800: 'paid', 801: 'supposed', 802: 'anybody', 803: 'ur', 804: 'piece', 805: 'fresh', 806: 'probably', 807: 'bobby', 808: 'outside', 809: 'everywhere', 810: 'spot', 811: 'mirror', 812: 'singing', 813: 'anymore', 814: 'funny', 815: 'takin', 816: 'hoe', 817: 'yah', 818: 'telling', 819: 'giving', 820: 'queen', 821: 'few', 822: 'ran', 823: 'callin', 824: 'quick', 825: 'homie', 826: 'hang', 827: 'thinkin', 828: 'stone', 829: 'playing', 830: 'mary', 831: 'grow', 832: 'dancing', 833: 'bridge', 834: 'jump', 835: 'cross', 836: 'least', 837: 'carry', 838: 'means', 839: 'magic', 840: 'yellow', 841: 'kid', 842: 'booty', 843: 'rather', 844: 'ye', 845: 'wings', 846: 'cup', 847: 'fat', 848: 'near', 849: 'devil', 850: 'everyday', 851: 'job', 852: 'needs', 853: 'human', 854: 'birthday', 855: 'nowhere', 856: 'fake', 857: 'glad', 858: 'asked', 859: 'nights', 860: 'wife', 861: 'tear', 862: 'reasons', 863: 'angel', 864: 'f', 865: 'bottom', 866: 'leaving', 867: 'shady', 868: 'michael', 869: 'fix', 870: 'shout', 871: 'wayne', 872: 'kanye', 873: 'yesterday', 874: 'played', 875: 'playin', 876: 'grind', 877: 'teeth', 878: 'crying', 879: 'benz', 880: 'wet', 881: 'finally', 882: 'miles', 883: 'middle', 884: 'west', 885: 'dress', 886: 'fame', 887: 'sister', 888: 'boss', 889: 'known', 890: 'none', 891: 'ways', 892: 'fingers', 893: 'monster', 894: 'empty', 895: 'unless', 896: 'knock', 897: 'mom', 898: 'workin', 899: 'less', 900: 'point', 901: 'strange', 902: 'aye', 903: 'clouds', 904: 'fact', 905: 'answer', 906: 'band', 907: 'stuck', 908: 'songs', 909: 'walked', 910: 'cat', 911: 'versace', 912: 'warm', 913: 'single', 914: 'hop', 915: 'bar', 916: 'faith', 917: 'john', 918: 'clean', 919: 'weak', 920: 'south', 921: 'burning', 922: 'type', 923: 'yeezy', 924: 'hour', 925: 'khaled', 926: 'icky', 927: 'movie', 928: 'bye', 929: 'doo', 930: 'team', 931: 'blues', 932: 'box', 933: 'clear', 934: 'watching', 935: 'ahead', 936: 'mommy', 937: 'seven', 938: 'chain', 939: 'cake', 940: 'quit', 941: 'loud', 942: 'sunshine', 943: 'park', 944: 'sell', 945: 'mess', 946: 'woah', 947: 'radio', 948: 'wine', 949: 'blind', 950: 'sir', 951: 'jeans', 952: 'motherfuckin', 953: 'cried', 954: 'holding', 955: 'sitting', 956: 'sight', 957: 'hearts', 958: 'hook', 959: 'fish', 960: 'dumb', 961: 'uhh', 962: 'lives', 963: 'soft', 964: 'lead', 965: 'rush', 966: 'news', 967: 'mo', 968: 'k', 969: 'rolling', 970: 'sorrow', 971: 'secret', 972: 'plus', 973: 'tongue', 974: 'christmas', 975: 'table', 976: 'mountain', 977: 'hee', 978: 'shots', 979: 'cali', 980: 'handle', 981: 'needed', 982: 'mi', 983: 'count', 984: 'wrote', 985: 'trouble', 986: 'later', 987: 'daughter', 988: 'dope', 989: 'changes', 990: 'bird', 991: 'marry', 992: 'spirit', 993: 'forgive', 994: 'suck', 995: 'lit', 996: 'deal', 997: 'dig', 998: 'wide', 999: 'changed', 1000: 'share', 1001: 'poor', 1002: 'chest', 1003: 'snow', 1004: 'hoo', 1005: 'heat', 1006: 'ta', 1007: 'dry', 1008: 'doubt', 1009: 'race', 1010: 'driving', 1011: 'return', 1012: 'longer', 1013: 'edge', 1014: 'grown', 1015: 'crowd', 1016: 'killed', 1017: 'beef', 1018: 'slim', 1019: 'pretend', 1020: 'sent', 1021: 'haters', 1022: 'waste', 1023: 'learned', 1024: 'short', 1025: 'brought', 1026: 'double', 1027: 'safe', 1028: 'happen', 1029: 'class', 1030: 'stuff', 1031: 'crib', 1032: 'having', 1033: 'harder', 1034: 'hours', 1035: 'winter', 1036: 'country', 1037: 'price', 1038: 'que', 1039: 'storm', 1040: 'squeeze', 1041: 'rings', 1042: 'week', 1043: 'fighting', 1044: 'blessed', 1045: 'tellin', 1046: 'repeat', 1047: 'sunday', 1048: 'glass', 1049: 'nine', 1050: 'store', 1051: 'chains', 1052: 'married', 1053: 'state', 1054: 'expect', 1055: 'places', 1056: 'question', 1057: 'pocket', 1058: 'id', 1059: 'grave', 1060: 'bounce', 1061: 'switch', 1062: 'hungry', 1063: 'v', 1064: 'twice', 1065: 'silver', 1066: 'crew', 1067: 'scene', 1068: 'prove', 1069: 'anyone', 1070: 'sense', 1071: 'shining', 1072: 'anyway', 1073: 'lucky', 1074: 'shame', 1075: 'loose', 1076: 'birds', 1077: 'locked', 1078: 'notorious', 1079: 'ends', 1080: 'feelings', 1081: 'realize', 1082: 'vibe', 1083: 'ti', 1084: 'weezy', 1085: 'thee', 1086: 'rapper', 1087: 'bullshit', 1088: 'instead', 1089: 'seat', 1090: 'lick', 1091: 'flowers', 1092: 'fit', 1093: 'poppa', 1094: 'rose', 1095: 'kept', 1096: 'choose', 1097: 'plan', 1098: 'j', 1099: 'church', 1100: 'sleeping', 1101: 'figure', 1102: 'begin', 1103: 'clock', 1104: 'guns', 1105: 'hanging', 1106: 'waitin', 1107: 'darlin', 1108: 'smell', 1109: 'nose', 1110: 'funky', 1111: 'tv', 1112: 'purple', 1113: 'ima', 1114: 'angels', 1115: 'amy', 1116: 'dem', 1117: 'zone', 1118: 'hallelujah', 1119: 'girlfriend', 1120: 'neck', 1121: 'isn', 1122: 'walkin', 1123: 'working', 1124: 'bite', 1125: 'er', 1126: 'cops', 1127: 'flip', 1128: 'dollar', 1129: 'letter', 1130: 'dying', 1131: 'glory', 1132: 'happened', 1133: 'moving', 1134: 'spent', 1135: 'cream', 1136: 'america', 1137: 'trip', 1138: 'ive', 1139: 'wave', 1140: 'pictures', 1141: 'pack', 1142: 'special', 1143: 'lean', 1144: 'smokin', 1145: 'rule', 1146: 'bom', 1147: 'whatcha', 1148: 'problem', 1149: 'prince', 1150: 'ship', 1151: 'heavy', 1152: 'greatest', 1153: 'rockin', 1154: 'throwing', 1155: 'tha', 1156: 'limit', 1157: 'killing', 1158: 'bells', 1159: 'eight', 1160: 'poppin', 1161: 'fo', 1162: 'tall', 1163: 'riding', 1164: 'rules', 1165: 'corner', 1166: 'extra', 1167: 'holdin', 1168: 'theres', 1169: 'belong', 1170: 'distance', 1171: 'ago', 1172: 'worst', 1173: 'respect', 1174: 'early', 1175: 'drugs', 1176: 'whip', 1177: 'hammer', 1178: 'cover', 1179: 'waist', 1180: 'saved', 1181: 'case', 1182: 'walls', 1183: 'mercy', 1184: 'trees', 1185: 'thoughts', 1186: 'bow', 1187: 'legs', 1188: 'shimmy', 1189: 'given', 1190: 'bottles', 1191: 'feed', 1192: 'hill', 1193: 'problems', 1194: 'ear', 1195: 'rollin', 1196: 'beyond', 1197: 'somehow', 1198: 'steady', 1199: 'plane', 1200: 'paradise', 1201: 'pulled', 1202: 'finger', 1203: 'self', 1204: 'thou', 1205: 'drama', 1206: 'faces', 1207: 'oo', 1208: 'attention', 1209: 'record', 1210: 'except', 1211: 'nicki', 1212: 'closer', 1213: 'sittin', 1214: 'sold', 1215: 'doctor', 1216: 'grass', 1217: 'jah', 1218: 'cock', 1219: 'dat', 1220: 'clique', 1221: 'turning', 1222: 'speed', 1223: 'proud', 1224: 'busy', 1225: 'beauty', 1226: 'sat', 1227: 'dirt', 1228: 'pink', 1229: 'pants', 1230: 'arm', 1231: 'louis', 1232: 'bread', 1233: 'hurts', 1234: 'groove', 1235: 'lying', 1236: 'fade', 1237: 'ohh', 1238: 'freedom', 1239: 'drinking', 1240: 'wo', 1241: 'jam', 1242: 'didnt', 1243: 'thunder', 1244: 'mark', 1245: 'simple', 1246: 'losing', 1247: 'leaves', 1248: 'flying', 1249: 'bottle', 1250: 'coke', 1251: 'american', 1252: 'st', 1253: 'actin', 1254: 'youll', 1255: 'memories', 1256: 'pour', 1257: 'oooh', 1258: 'turns', 1259: 'desire', 1260: 'hurry', 1261: 'aah', 1262: 'someday', 1263: 'romance', 1264: 'jay', 1265: 'ahh', 1266: 'food', 1267: 'plans', 1268: 'dude', 1269: 'shawty', 1270: 'spin', 1271: 'steal', 1272: 'kitchen', 1273: 'quiet', 1274: 'happiness', 1275: 'sha', 1276: 'raise', 1277: 'bank', 1278: 'couldnt', 1279: 'screamin', 1280: 'breaking', 1281: 'asking', 1282: 'voices', 1283: 'doors', 1284: 'beneath', 1285: 'gay', 1286: 'brooklyn', 1287: 'book', 1288: 'fancy', 1289: 'rat', 1290: 'runaway', 1291: 'major', 1292: 'highway', 1293: 'teach', 1294: 'hole', 1295: 'midnight', 1296: 'beats', 1297: 'within', 1298: 'wasnt', 1299: 'lovers', 1300: 'moved', 1301: 'ghost', 1302: 'darkness', 1303: 'pride', 1304: 'tough', 1305: 'underneath', 1306: 'heads', 1307: 'clip', 1308: 'passed', 1309: 'slip', 1310: 'nuts', 1311: 'es', 1312: 'uptown', 1313: 'folks', 1314: 'radar', 1315: 'witcha', 1316: 'dare', 1317: 'starts', 1318: 'grew', 1319: 'become', 1320: 'bomb', 1321: 'color', 1322: 'stress', 1323: 'dressed', 1324: 'johnny', 1325: 'gat', 1326: 'trippin', 1327: 'kissed', 1328: 'dust', 1329: 'ow', 1330: 'givin', 1331: 'rhyme', 1332: 'forgot', 1333: 'camera', 1334: 'trick', 1335: 'cmon', 1336: 'whenever', 1337: 'haven', 1338: 'chase', 1339: 'laughing', 1340: 'dawn', 1341: 'fair', 1342: 'others', 1343: 'sounds', 1344: 'luck', 1345: 'famous', 1346: 'hi', 1347: 'names', 1348: 'dah', 1349: 'muh', 1350: 'starting', 1351: 'missing', 1352: 'beside', 1353: 'tune', 1354: 'golden', 1355: 'sand', 1356: 'foot', 1357: 'messed', 1358: 'monkey', 1359: 'laid', 1360: 'drinks', 1361: 'mmm', 1362: 'freaky', 1363: 'hat', 1364: 'whose', 1365: 'likes', 1366: 'lived', 1367: 'jammin', 1368: 'hip', 1369: 'chill', 1370: 'vietnam', 1371: 'rappers', 1372: 'thick', 1373: 'survive', 1374: 'ocean', 1375: 'dropped', 1376: 'grace', 1377: 'pieces', 1378: 'piss', 1379: 'quite', 1380: 'fifty', 1381: 'li', 1382: 'roof', 1383: 'master', 1384: 'lock', 1385: 'dime', 1386: 'cell', 1387: 'gangsta', 1388: 'wrist', 1389: 'toes', 1390: 'liquor', 1391: 'ludacris', 1392: 'motherfucking', 1393: 'skies', 1394: 'sees', 1395: 'acting', 1396: 'excuse', 1397: 'whether', 1398: 'cryin', 1399: 'thang', 1400: 'clap', 1401: 'fate', 1402: 'message', 1403: 'falls', 1404: 'sweat', 1405: 'loneliness', 1406: 'action', 1407: 'jackson', 1408: 'position', 1409: 'drug', 1410: 'yup', 1411: 'loot', 1412: 'remind', 1413: 'heal', 1414: 'evening', 1415: 'walks', 1416: 'bones', 1417: 'weight', 1418: 'worried', 1419: 'police', 1420: 'mornin', 1421: 'filled', 1422: 'company', 1423: 'fantasy', 1424: 'held', 1425: 'ghetto', 1426: 'california', 1427: 'shoulder', 1428: 'nor', 1429: 'melody', 1430: 'admit', 1431: 'killin', 1432: 'judge', 1433: 'bam', 1434: 'guitar', 1435: 'th', 1436: 'boat', 1437: 'fallin', 1438: 'gas', 1439: 'test', 1440: 'glock', 1441: 'build', 1442: 'calls', 1443: 'date', 1444: 'older', 1445: 'mister', 1446: 'stopped', 1447: 'drove', 1448: 'noise', 1449: 'began', 1450: 'fashion', 1451: 'leader', 1452: 'split', 1453: 'sippin', 1454: 'coast', 1455: 'blunts', 1456: 'bound', 1457: 'willing', 1458: 'east', 1459: 'evil', 1460: 'deserve', 1461: 'breathing', 1462: 'toast', 1463: 'dough', 1464: 'ate', 1465: 'rum', 1466: 'jolene', 1467: 'pockets', 1468: 'pimp', 1469: 'silly', 1470: 'album', 1471: 'alert', 1472: 'pum', 1473: 'sip', 1474: 'imagine', 1475: 'explain', 1476: 'taught', 1477: 'dad', 1478: 'bedroom', 1479: 'champagne', 1480: 'building', 1481: 'lines', 1482: 'player', 1483: 'smalls', 1484: 'toy', 1485: 'soldier', 1486: 'cop', 1487: 'triple', 1488: 'mack', 1489: 'claim', 1490: 'threw', 1491: 'bless', 1492: 'taken', 1493: 'blew', 1494: 'stole', 1495: 'stood', 1496: 'private', 1497: 'climb', 1498: 'boots', 1499: 'bunch', 1500: 'murder', 1501: 'blunt', 1502: 'bleed', 1503: 'hmm', 1504: 'wherever', 1505: 'flower', 1506: 'hits', 1507: 'dangerous', 1508: 'fore', 1509: 'worse', 1510: 'dee', 1511: 'swallow', 1512: 'rough', 1513: 'barely', 1514: 'lifetime', 1515: 'nervous', 1516: 'platinum', 1517: 'breakin', 1518: 'memory', 1519: 'shouldn', 1520: 'battle', 1521: 'coat', 1522: 'knowing', 1523: 'stronger', 1524: 'insane', 1525: 'slowly', 1526: 'honest', 1527: 'flame', 1528: 'horse', 1529: 'awake', 1530: 'spread', 1531: 'bee', 1532: 'pon', 1533: 'sheets', 1534: 'amazing', 1535: 'est', 1536: 'sugar', 1537: 'havin', 1538: 'bottoms', 1539: 'shows', 1540: 'wishing', 1541: 'beginning', 1542: 'bass', 1543: 'course', 1544: 'bus', 1545: 'hills', 1546: 'serve', 1547: 'shakin', 1548: 'luda', 1549: 'candy', 1550: 'jingalin', 1551: 'mistakes', 1552: 'wondering', 1553: 'lesson', 1554: 'keeping', 1555: 'bags', 1556: 'downtown', 1557: 'singin', 1558: 'machine', 1559: 'rip', 1560: 'wee', 1561: 'steel', 1562: 'struggle', 1563: 'holla', 1564: 'named', 1565: 'super', 1566: 'truck', 1567: 'stack', 1568: 'pig', 1569: 'whos', 1570: 'ym', 1571: 'shy', 1572: 'beg', 1573: 'dreaming', 1574: 'stranger', 1575: 'history', 1576: 'rhythm', 1577: 'pressure', 1578: 'hollywood', 1579: 'aw', 1580: 'hotel', 1581: 'saturday', 1582: 'gucci', 1583: 'rocks', 1584: 'happens', 1585: 'nature', 1586: 'foreign', 1587: 'cats', 1588: 'billy', 1589: 'headed', 1590: 'vision', 1591: 'playa', 1592: 'rider', 1593: 'shorty', 1594: 'annie', 1595: 'slap', 1596: 'je', 1597: 'ballin', 1598: 'swalla', 1599: 'melt', 1600: 'decide', 1601: 'woke', 1602: 'asleep', 1603: 'paint', 1604: 'closed', 1605: 'shoulda', 1606: 'below', 1607: 'finished', 1608: 'titties', 1609: 'bump', 1610: 'pac', 1611: 'screaming', 1612: 'regret', 1613: 'often', 1614: 'age', 1615: 'bigger', 1616: 'either', 1617: 'pleasure', 1618: 'knife', 1619: 'searching', 1620: 'chair', 1621: 'cure', 1622: 'stare', 1623: 'perhaps', 1624: 'en', 1625: 'guys', 1626: 'brothers', 1627: 'strip', 1628: 'madly', 1629: 'butt', 1630: 'order', 1631: 'dum', 1632: 'tote', 1633: 'fed', 1634: 'raised', 1635: 'touched', 1636: 'exactly', 1637: 'satisfied', 1638: 'movin', 1639: 'jail', 1640: 'tan', 1641: 'swing', 1642: 'drinkin', 1643: 'sacrifice', 1644: 'escape', 1645: 'garden', 1646: 'bend', 1647: 'dancin', 1648: 'friday', 1649: 'buck', 1650: 'tu', 1651: 'cute', 1652: 'poker', 1653: 'wash', 1654: 'creep', 1655: 'tip', 1656: 'language', 1657: 'weekend', 1658: 'video', 1659: 'enemies', 1660: 'missed', 1661: 'anywhere', 1662: 'stands', 1663: 'text', 1664: 'brains', 1665: 'system', 1666: 'wheels', 1667: 'mountains', 1668: 'dogs', 1669: 'shinin', 1670: 'blowin', 1671: 'tennessee', 1672: 'wiggle', 1673: 'heres', 1674: 'finna', 1675: 'chi', 1676: 'games', 1677: 'blowing', 1678: 'lately', 1679: 'spinning', 1680: 'bricks', 1681: 'spark', 1682: 'advice', 1683: 'dread', 1684: 'weather', 1685: 'island', 1686: 'wow', 1687: 'force', 1688: 'hips', 1689: 'sticky', 1690: 'travelin', 1691: 'selfish', 1692: 'showed', 1693: 'shed', 1694: 'brings', 1695: 'promised', 1696: 'flat', 1697: 'surrender', 1698: 'hotter', 1699: 'lo', 1700: 'hangin', 1701: 'gats', 1702: 'drag', 1703: 'lee', 1704: 'parking', 1705: 'tape', 1706: 'dragon', 1707: 'slide', 1708: 'mouse', 1709: 'secured', 1710: 'ease', 1711: 'papers', 1712: 'whisper', 1713: 'belle', 1714: 'bars', 1715: 'plenty', 1716: 'surely', 1717: 'rolled', 1718: 'shirt', 1719: 'fools', 1720: 'plain', 1721: 'army', 1722: 'beast', 1723: 'hung', 1724: 'steps', 1725: 'tour', 1726: 'tie', 1727: 'dollars', 1728: 'trade', 1729: 'seein', 1730: 'wouldnt', 1731: 'seeing', 1732: 'joe', 1733: 'cost', 1734: 'writing', 1735: 'college', 1736: 'shooting', 1737: 'tale', 1738: 'ears', 1739: 'sang', 1740: 'beach', 1741: 'chicago', 1742: 'paris', 1743: 'windows', 1744: 'colors', 1745: 'slave', 1746: 'cares', 1747: 'moves', 1748: 'eating', 1749: 'mighty', 1750: 'notice', 1751: 'tied', 1752: 'cloud', 1753: 'players', 1754: 'screen', 1755: 'picked', 1756: 'bein', 1757: 'jane', 1758: 'built', 1759: 'questions', 1760: 'planet', 1761: 'watchin', 1762: 'trap', 1763: 'spoke', 1764: 'valley', 1765: 'match', 1766: 'north', 1767: 'wheel', 1768: 'stacks', 1769: 'fan', 1770: 'blows', 1771: 'cards', 1772: 'listening', 1773: 'smoking', 1774: 'travel', 1775: 'glow', 1776: 'raw', 1777: 'runs', 1778: 'gypsy', 1779: 'dinner', 1780: 'di', 1781: 'tracks', 1782: 'bathroom', 1783: 'mc', 1784: 'leather', 1785: 'bills', 1786: 'mall', 1787: 'stage', 1788: 'gang', 1789: 'papa', 1790: 'ego', 1791: 'fail', 1792: 'fault', 1793: 'drown', 1794: 'list', 1795: 'truly', 1796: 'wood', 1797: 'frank', 1798: 'worked', 1799: 'flex', 1800: 'attitude', 1801: 'deny', 1802: 'form', 1803: 'shore', 1804: 'closet', 1805: 'mike', 1806: 'shes', 1807: 'tunechi', 1808: 'lyin', 1809: 'robin', 1810: 'dungeon', 1811: 'homies', 1812: 'itll', 1813: 'raah', 1814: 'bare', 1815: 'rising', 1816: 'station', 1817: 'lied', 1818: 'throat', 1819: 'kisses', 1820: 'hustle', 1821: 'victory', 1822: 'drivin', 1823: 'remain', 1824: 'tricks', 1825: 'crush', 1826: 'strength', 1827: 'wearing', 1828: 'passion', 1829: 'himself', 1830: 'silence', 1831: 'scary', 1832: 'fortune', 1833: 'press', 1834: 'pie', 1835: 'size', 1836: 'cook', 1837: 'bands', 1838: 'ol', 1839: 'pen', 1840: 'pills', 1841: 'milk', 1842: 'grand', 1843: 'closing', 1844: 'whips', 1845: 'owe', 1846: 'guilty', 1847: 'thirty', 1848: 'view', 1849: 'shoulders', 1850: 'electric', 1851: 'flesh', 1852: 'crown', 1853: 'duck', 1854: 'missin', 1855: 'stir', 1856: 'enemy', 1857: 'ridin', 1858: 'numbers', 1859: 'mahna', 1860: 'drake', 1861: 'chicks', 1862: 'proof', 1863: 'mcghee', 1864: 'kim', 1865: 'babies', 1866: 'beating', 1867: 'winds', 1868: 'mm', 1869: 'joke', 1870: 'speechless', 1871: 'shower', 1872: 'fields', 1873: 'rhymes', 1874: 'spring', 1875: 'finish', 1876: 'wrapped', 1877: 'important', 1878: 'coffee', 1879: 'crime', 1880: 'shook', 1881: 'drank', 1882: 'spell', 1883: 'burns', 1884: 'kings', 1885: 'pot', 1886: 'rah', 1887: 'flows', 1888: 'whoo', 1889: 'pistol', 1890: 'georgia', 1891: 'tup', 1892: 'pregnant', 1893: 'jealous', 1894: 'guard', 1895: 'court', 1896: 'law', 1897: 'wack', 1898: 'simply', 1899: 'worlds', 1900: 'lemme', 1901: 'although', 1902: 'strings', 1903: 'secrets', 1904: 'heels', 1905: 'complain', 1906: 'killer', 1907: 'calm', 1908: 'weep', 1909: 'jungle', 1910: 'common', 1911: 'frontin', 1912: 'h', 1913: 'generation', 1914: 'stones', 1915: 'hes', 1916: 'merry', 1917: 'page', 1918: 'liar', 1919: 'cheese', 1920: 'thug', 1921: 'pimpin', 1922: 'dre', 1923: 'dawg', 1924: 'difference', 1925: 'brave', 1926: 'growing', 1927: 'onto', 1928: 'breeze', 1929: 'stomach', 1930: 'attack', 1931: 'wedding', 1932: 'protect', 1933: 'blinded', 1934: 'dreamed', 1935: 'estoy', 1936: 'hall', 1937: 'chicken', 1938: 'relax', 1939: 'hatin', 1940: 'balls', 1941: 'dna', 1942: 'bentley', 1943: 'gs', 1944: 'ale', 1945: 'survivor', 1946: 'forty', 1947: 'spending', 1948: 'vain', 1949: 'main', 1950: 'gray', 1951: 'knockin', 1952: 'refrain', 1953: 'puff', 1954: 'release', 1955: 'dies', 1956: 'bill', 1957: 'row', 1958: 'flight', 1959: 'chrome', 1960: 'miracle', 1961: 'rob', 1962: 'belly', 1963: 'blast', 1964: 'afternoon', 1965: 'superman', 1966: 'oops', 1967: 'ding', 1968: 'shoe', 1969: 'floatin', 1970: 'signed', 1971: 'dun', 1972: 'goddamn', 1973: 'hamilton', 1974: 'flies', 1975: 'forgotten', 1976: 'watched', 1977: 'mile', 1978: 'recognize', 1979: 'smiling', 1980: 'precious', 1981: 'sin', 1982: 'crossed', 1983: 'pair', 1984: 'certain', 1985: 'passing', 1986: 'wore', 1987: 'ugly', 1988: 'gift', 1989: 'post', 1990: 'flirt', 1991: 'dive', 1992: 'weave', 1993: 'selling', 1994: 'ev', 1995: 'letting', 1996: 'askin', 1997: 'santa', 1998: 'tom', 1999: 'field', 2000: 'range', 2001: 'tick', 2002: 'eyelids', 2003: 'freaks', 2004: 'clappers', 2005: 'broads', 2006: 'esrever', 2007: 'surprise', 2008: 'able', 2009: 'disappear', 2010: 'veins', 2011: 'opened', 2012: 'path', 2013: 'leavin', 2014: 'ecstasy', 2015: 'thinks', 2016: 'james', 2017: 'boyfriend', 2018: 'false', 2019: 'standin', 2020: 'boo', 2021: 'rub', 2022: 'twisted', 2023: 'lane', 2024: 'sunny', 2025: 'rude', 2026: 'soldiers', 2027: 'cheap', 2028: 'ceiling', 2029: 'ticket', 2030: 'plug', 2031: 'amazin', 2032: 'level', 2033: 'riches', 2034: 'popping', 2035: 'patek', 2036: 'dutch', 2037: 'pilf', 2038: 'nwod', 2039: 'gniht', 2040: 'souls', 2041: 'burnin', 2042: 'lovely', 2043: 'search', 2044: 'te', 2045: 'hero', 2046: 'ringing', 2047: 'holes', 2048: 'torn', 2049: 'echo', 2050: 'parents', 2051: 'afford', 2052: 'ella', 2053: 'card', 2054: 'ooo', 2055: 'iron', 2056: 'service', 2057: 'atlanta', 2058: 'shits', 2059: 'gaga', 2060: 'controversy', 2061: 'shadows', 2062: 'avenue', 2063: 'shades', 2064: 'tells', 2065: 'roses', 2066: 'sail', 2067: 'happening', 2068: 'shines', 2069: 'guest', 2070: 'horses', 2071: 'seemed', 2072: 'toe', 2073: 'hah', 2074: 'mac', 2075: 'pool', 2076: 'dancer', 2077: 'cum', 2078: 'mansion', 2079: 'peep', 2080: 'sparrow', 2081: 'phantom', 2082: 'thangs', 2083: 'hittin', 2084: 'lyrical', 2085: 'stayed', 2086: 'art', 2087: 'sober', 2088: 'staying', 2089: 'wanting', 2090: 'disco', 2091: 'sings', 2092: 'grows', 2093: 'mission', 2094: 'confess', 2095: 'person', 2096: 'cousin', 2097: 'reality', 2098: 'naughty', 2099: 'alarm', 2100: 'months', 2101: 'cadillac', 2102: 'bold', 2103: 'outrageous', 2104: 'parties', 2105: 'rocked', 2106: 'rep', 2107: 'pee', 2108: 'mcs', 2109: 'flames', 2110: 'further', 2111: 'note', 2112: 'mood', 2113: 'deeper', 2114: 'shadow', 2115: 'temptation', 2116: 'rent', 2117: 'thy', 2118: 'mercedes', 2119: 'cherry', 2120: 'pound', 2121: 'twist', 2122: 'third', 2123: 'march', 2124: 'waves', 2125: 'trigger', 2126: 'revolution', 2127: 'legacy', 2128: 'yard', 2129: 'simmer', 2130: 'fading', 2131: 'jet', 2132: 'choice', 2133: 'especially', 2134: 'month', 2135: 'circle', 2136: 'eatin', 2137: 'puttin', 2138: 'henry', 2139: 'jordan', 2140: 'jumpman', 2141: 'hater', 2142: 'hiding', 2143: 'goodnight', 2144: 'sigh', 2145: 'biggest', 2146: 'bother', 2147: 'shade', 2148: 'cast', 2149: 'mix', 2150: 'treasure', 2151: 'grip', 2152: 'plays', 2153: 'ayo', 2154: 'lame', 2155: 'trapped', 2156: 'palm', 2157: 'nick', 2158: 'usually', 2159: 'mothers', 2160: 'direction', 2161: 'guaranteed', 2162: 'moonlight', 2163: 'niggaz', 2164: 'magazine', 2165: 'putting', 2166: 'twelve', 2167: 'grateful', 2168: 'credit', 2169: 'motion', 2170: 'amen', 2171: 'jewelry', 2172: 'indeed', 2173: 'delirious', 2174: 'eggs', 2175: 'gentlemen', 2176: 'messing', 2177: 'unbelievable', 2178: 'nut', 2179: 'cindy', 2180: 'flo', 2181: 'applause', 2182: 'timbaland', 2183: 'chasing', 2184: 'bear', 2185: 'became', 2186: 'situation', 2187: 'candles', 2188: 'seasons', 2189: 'pillow', 2190: 'kissing', 2191: 'stroke', 2192: 'farewell', 2193: 'eternity', 2194: 'grey', 2195: 'stops', 2196: 'trunk', 2197: 'smooth', 2198: 'knee', 2199: 'bodies', 2200: 'talked', 2201: 'doe', 2202: 'moms', 2203: 'junior', 2204: 'socks', 2205: 'wop', 2206: 'rainbow', 2207: 'cow', 2208: 'sink', 2209: 'dudes', 2210: 'seats', 2211: 'zero', 2212: 'flag', 2213: 'jumpin', 2214: 'flash', 2215: 'yep', 2216: 'shell', 2217: 'among', 2218: 'nails', 2219: 'repent', 2220: 'naw', 2221: 'dom', 2222: 'rowley', 2223: 'uhhuh', 2224: 'rumor', 2225: 'ashamed', 2226: 'wipe', 2227: 'scratch', 2228: 'sho', 2229: 'dip', 2230: 'thugs', 2231: 'records', 2232: 'begging', 2233: 'waving', 2234: 'ray', 2235: 'addicted', 2236: 'wise', 2237: 'hurting', 2238: 'lullaby', 2239: 'wonderful', 2240: 'hopeless', 2241: 'glasses', 2242: 'aren', 2243: 'explode', 2244: 'inch', 2245: 'minds', 2246: 'kicking', 2247: 'tea', 2248: 'max', 2249: 'jerk', 2250: 'silk', 2251: 'texas', 2252: 'dame', 2253: 'tripping', 2254: 'legend', 2255: 'pill', 2256: 'france', 2257: 'startin', 2258: 'public', 2259: 'sam', 2260: 'driver', 2261: 'smack', 2262: 'clips', 2263: 'mafia', 2264: 'lexus', 2265: 'matters', 2266: 'fears', 2267: 'thrill', 2268: 'freeze', 2269: 'wasted', 2270: 'affection', 2271: 'comfort', 2272: 'noon', 2273: 'misery', 2274: 'kicked', 2275: 'join', 2276: 'wa', 2277: 'pure', 2278: 'ourselves', 2279: 'fifth', 2280: 'molly', 2281: 'rocky', 2282: 'yoy', 2283: 'nation', 2284: 'season', 2285: 'vegas', 2286: 'french', 2287: 'slam', 2288: 'backwards', 2289: 'float', 2290: 'everytime', 2291: 'belt', 2292: 'wishin', 2293: 'messin', 2294: 'grill', 2295: 'swerve', 2296: 'ghosts', 2297: 'burned', 2298: 'settle', 2299: 'kissin', 2300: 'ought', 2301: 'traffic', 2302: 'lotta', 2303: 'weeks', 2304: 'frame', 2305: 'drip', 2306: 'angry', 2307: 'husband', 2308: 'forth', 2309: 'flew', 2310: 'staring', 2311: 'rights', 2312: 'forest', 2313: 'hug', 2314: 'celebrate', 2315: 'youve', 2316: 'mistake', 2317: 'dreamin', 2318: 'rope', 2319: 'monday', 2320: 'thirsty', 2321: 'shelf', 2322: 'waited', 2323: 'kills', 2324: 'tank', 2325: 'hating', 2326: 'snap', 2327: 'pat', 2328: 'coupe', 2329: 'swag', 2330: 'ne', 2331: 'lace', 2332: 'breast', 2333: 'womanizer', 2334: 'countin', 2335: 'center', 2336: 'bees', 2337: 'lip', 2338: 'crawl', 2339: 'butterfly', 2340: 'genius', 2341: 'spanish', 2342: 'click', 2343: 'animals', 2344: 'tho', 2345: 'slugs', 2346: 'brrap', 2347: 'conversation', 2348: 'fever', 2349: 'leads', 2350: 'ending', 2351: 'buried', 2352: 'sweetest', 2353: 'drum', 2354: 'mend', 2355: 'shop', 2356: 'telephone', 2357: 'presence', 2358: 'impossible', 2359: 'load', 2360: 'itself', 2361: 'refuse', 2362: 'jacket', 2363: 'lyrics', 2364: 'leg', 2365: 'bell', 2366: 'innocent', 2367: 'va', 2368: 'pump', 2369: 'gives', 2370: 'rocking', 2371: 'thanks', 2372: 'rebel', 2373: 'latest', 2374: 'due', 2375: 'faster', 2376: 'oxygen', 2377: 'biting', 2378: 'beep', 2379: 'drippin', 2380: 'whoever', 2381: 'vuitton', 2382: 'swagger', 2383: 'cheek', 2384: 'meat', 2385: 'unto', 2386: 'bullets', 2387: 'broad', 2388: 'lower', 2389: 'fox', 2390: 'rappin', 2391: 'mic', 2392: 'gyal', 2393: 'alejandro', 2394: 'pom', 2395: 'gainst', 2396: 'signs', 2397: 'begins', 2398: 'mention', 2399: 'unknown', 2400: 'sins', 2401: 'risk', 2402: 'guide', 2403: 'praise', 2404: 'thin', 2405: 'valerie', 2406: 'jamaica', 2407: 'sweeter', 2408: 'sheep', 2409: 'tail', 2410: 'sons', 2411: 'suit', 2412: 'el', 2413: 'captain', 2414: 'tuesday', 2415: 'yay', 2416: 'aware', 2417: 'paul', 2418: 'score', 2419: 'charge', 2420: 'fans', 2421: 'underground', 2422: 'gates', 2423: 'freakin', 2424: 'shootin', 2425: 'remix', 2426: 'yell', 2427: 'orleans', 2428: 'ugh', 2429: 'asshole', 2430: 'aura', 2431: 'hoping', 2432: 'restless', 2433: 'flashing', 2434: 'shelter', 2435: 'fallen', 2436: 'changing', 2437: 'complete', 2438: 'weren', 2439: 'dwell', 2440: 'strangers', 2441: 'penny', 2442: 'seek', 2443: 'add', 2444: 'opportunity', 2445: 'confused', 2446: 'energy', 2447: 'reached', 2448: 'enjoy', 2449: 'patient', 2450: 'ooooh', 2451: 'solo', 2452: 'bullet', 2453: 'kickin', 2454: 'suddenly', 2455: 'kingston', 2456: 'dyin', 2457: 'model', 2458: 'victim', 2459: 'christ', 2460: 'winner', 2461: 'smoked', 2462: 'circus', 2463: 'butterflies', 2464: 'county', 2465: 'helped', 2466: 'pardon', 2467: 'maker', 2468: 'clicks', 2469: 'traveling', 2470: 'dolly', 2471: 'kelly', 2472: 'juda', 2473: 'pressin', 2474: 'reaching', 2475: 'desert', 2476: 'harm', 2477: 'swim', 2478: 'chose', 2479: 'choke', 2480: 'knives', 2481: 'agree', 2482: 'recall', 2483: 'fifteen', 2484: 'minutes', 2485: 'neither', 2486: 'president', 2487: 'divine', 2488: 'wicked', 2489: 'orange', 2490: 'pale', 2491: 'visit', 2492: 'separate', 2493: 'neighbors', 2494: 'wing', 2495: 'bay', 2496: 'ohhh', 2497: 'seed', 2498: 'hidden', 2499: 'plate', 2500: 'serious', 2501: 'og', 2502: 'experience', 2503: 'blown', 2504: 'present', 2505: 'para', 2506: 'seconds', 2507: 'thief', 2508: 'danced', 2509: 'washed', 2510: 'medicine', 2511: 'lots', 2512: 'roads', 2513: 'throne', 2514: 'competition', 2515: 'jumped', 2516: 'pulling', 2517: 'accept', 2518: 'demons', 2519: 'lonesome', 2520: 'los', 2521: 'whom', 2522: 'plastic', 2523: 'ribbon', 2524: 'hay', 2525: 'sleepin', 2526: 'lamborghini', 2527: 'fist', 2528: 'critics', 2529: 'slaves', 2530: 'badder', 2531: 'carter', 2532: 'mayne', 2533: 'completely', 2534: 'hearted', 2535: 'pushed', 2536: 'poison', 2537: 'frozen', 2538: 'universe', 2539: 'silent', 2540: 'stories', 2541: 'salvation', 2542: 'pity', 2543: 'gather', 2544: 'troubled', 2545: 'jones', 2546: 'works', 2547: 'draw', 2548: 'patience', 2549: 'miami', 2550: 'hated', 2551: 'cd', 2552: 'animal', 2553: 'downfall', 2554: 'london', 2555: 'herself', 2556: 'sudden', 2557: 'le', 2558: 'prayers', 2559: 'pouring', 2560: 'granted', 2561: 'roam', 2562: 'goo', 2563: 'teacher', 2564: 'religion', 2565: 'letters', 2566: 'holiday', 2567: 'issues', 2568: 'shaking', 2569: 'pines', 2570: 'dynamite', 2571: 'sue', 2572: 'ry', 2573: 'also', 2574: 'projects', 2575: 'fadin', 2576: 'pole', 2577: 'dada', 2578: 'represent', 2579: 'maybach', 2580: 'homey', 2581: 'woop', 2582: 'representin', 2583: 'denial', 2584: 'laying', 2585: 'drops', 2586: 'cigarette', 2587: 'confidence', 2588: 'wasting', 2589: 'troubles', 2590: 'hooked', 2591: 'violence', 2592: 'softly', 2593: 'tower', 2594: 'laughed', 2595: 'slick', 2596: 'cane', 2597: 'movies', 2598: 'winning', 2599: 'definitely', 2600: 'cha', 2601: 'conquer', 2602: 'voodoo', 2603: 'dome', 2604: 'paying', 2605: 'daily', 2606: 'farm', 2607: 'bob', 2608: 'woe', 2609: 'groovy', 2610: 'dis', 2611: 'trash', 2612: 'leaf', 2613: 'written', 2614: 'bent', 2615: 'skirt', 2616: 'lap', 2617: 'faded', 2618: 'answers', 2619: 'lake', 2620: 'piano', 2621: 'packed', 2622: 'reverse', 2623: 'jimmy', 2624: 'britney', 2625: 'hush', 2626: 'jeep', 2627: 'temple', 2628: 'figures', 2629: 'career', 2630: 'dr', 2631: 'throwin', 2632: 'goose', 2633: 'intro', 2634: 'stomp', 2635: 'whipped', 2636: 'stash', 2637: 'beez', 2638: 'strollin', 2639: 'cruel', 2640: 'lust', 2641: 'thrown', 2642: 'ignore', 2643: 'heading', 2644: 'emotions', 2645: 'apple', 2646: 'emotion', 2647: 'wished', 2648: 'drowning', 2649: 'rick', 2650: 'eighteen', 2651: 'liked', 2652: 'physical', 2653: 'purpose', 2654: 'danger', 2655: 'shape', 2656: 'habits', 2657: 'hardcore', 2658: 'gentle', 2659: 'beam', 2660: 'cab', 2661: 'promises', 2662: 'sellin', 2663: 'surprised', 2664: 'mrs', 2665: 'david', 2666: 'tiger', 2667: 'candle', 2668: 'wisdom', 2669: 'quarter', 2670: 'hearing', 2671: 'africa', 2672: 'illusion', 2673: 'losers', 2674: 'beer', 2675: 'impress', 2676: 'large', 2677: 'believed', 2678: 'se', 2679: 'perdiendo', 2680: 'turnin', 2681: 'brush', 2682: 'pimps', 2683: 'apologies', 2684: 'buzz', 2685: 'minaj', 2686: 'maria', 2687: 'w', 2688: 'christian', 2689: 'alley', 2690: 'toys', 2691: 'sucked', 2692: 'dealer', 2693: 'ross', 2694: 'pissed', 2695: 'alexander', 2696: 'proceed', 2697: 'sock', 2698: 'thatll', 2699: 'morris', 2700: 'gett', 2701: 'burst', 2702: 'outro', 2703: 'charm', 2704: 'woulda', 2705: 'begun', 2706: 'peak', 2707: 'stepped', 2708: 'laughter', 2709: 'destiny', 2710: 'mystery', 2711: 'superstar', 2712: 'um', 2713: 'lamb', 2714: 'millionaire', 2715: 'purse', 2716: 'jokes', 2717: 'wreck', 2718: 'smiles', 2719: 'spoken', 2720: 'code', 2721: 'careful', 2722: 'movement', 2723: 'replace', 2724: 'lighters', 2725: 'vest', 2726: 'fades', 2727: 'showin', 2728: 'disease', 2729: 'engine', 2730: 'sucker', 2731: 'juice', 2732: 'picking', 2733: 'basement', 2734: 'esta', 2735: 'flawless', 2736: 'strapped', 2737: 'eyed', 2738: 'criminal', 2739: 'ace', 2740: 'bro', 2741: 'robbed', 2742: 'rubber', 2743: 'rode', 2744: 'mud', 2745: 'et', 2746: 'speakin', 2747: 'blocks', 2748: 'boogie', 2749: 'foxy', 2750: 'cocked', 2751: 'rihanna', 2752: 'digger', 2753: 'vous', 2754: 'artpop', 2755: 'tap', 2756: 'jughead', 2757: 'bore', 2758: 'embrace', 2759: 'tone', 2760: 'adore', 2761: 'role', 2762: 'smash', 2763: 'success', 2764: 'nuff', 2765: 'anytime', 2766: 'bitter', 2767: 'debt', 2768: 'bathe', 2769: 'affair', 2770: 'breaks', 2771: 'focus', 2772: 'weeping', 2773: 'behavior', 2774: 'venus', 2775: 'distant', 2776: 'blessing', 2777: 'smiled', 2778: 'cruise', 2779: 'bath', 2780: 'raining', 2781: 'speaking', 2782: 'understood', 2783: 'ganja', 2784: 'san', 2785: 'preacher', 2786: 'trips', 2787: 'cap', 2788: 'corn', 2789: 'po', 2790: 'youths', 2791: 'sunset', 2792: 'awhile', 2793: 'makeup', 2794: 'fought', 2795: 'houses', 2796: 'sadness', 2797: 'punk', 2798: 'blade', 2799: 'rooms', 2800: 'talks', 2801: 'demon', 2802: 'eagle', 2803: 'skinny', 2804: 'jingle', 2805: 'whiskey', 2806: 'dif', 2807: 'cil', 2808: 'rocket', 2809: 'ohhhh', 2810: 'gown', 2811: 'gotcha', 2812: 'blank', 2813: 'limelight', 2814: 'suicide', 2815: 'figured', 2816: 'freehold', 2817: 'george', 2818: 'memphis', 2819: 'waltz', 2820: 'peter', 2821: 'floss', 2822: 'deck', 2823: 'swift', 2824: 'maid', 2825: 'colored', 2826: 'pounds', 2827: 'rapping', 2828: 'lemon', 2829: 'tony', 2830: 'plaques', 2831: 'bling', 2832: 'thriller', 2833: 'jeeps', 2834: 'bringing', 2835: 'scars', 2836: 'reckless', 2837: 'offer', 2838: 'government', 2839: 'sides', 2840: 'learning', 2841: 'waters', 2842: 'heavens', 2843: 'drift', 2844: 'roots', 2845: 'layin', 2846: 'praying', 2847: 'mixed', 2848: 'al', 2849: 'sets', 2850: 'chips', 2851: 'smart', 2852: 'emergency', 2853: 'dozen', 2854: 'books', 2855: 'raven', 2856: 'bi', 2857: 'millions', 2858: 'humble', 2859: 'hottest', 2860: 'prepared', 2861: 'sisters', 2862: 'dew', 2863: 'bloody', 2864: 'skip', 2865: 'pony', 2866: 'risin', 2867: 'choo', 2868: 'rammer', 2869: 'willin', 2870: 'heathen', 2871: 'woods', 2872: 'weapon', 2873: 'rabbit', 2874: 'tickets', 2875: 'struck', 2876: 'apartment', 2877: 'brag', 2878: 'droppin', 2879: 'models', 2880: 'giant', 2881: 'uhuh', 2882: 'rolls', 2883: 'excited', 2884: 'indian', 2885: 'thru', 2886: 'roc', 2887: 'killers', 2888: 'diss', 2889: 'killa', 2890: 'concert', 2891: 'abortion', 2892: 'chris', 2893: 'honeys', 2894: 'thai', 2895: 'housequake', 2896: 'stripes', 2897: 'easily', 2898: 'stays', 2899: 'moments', 2900: 'sleeve', 2901: 'tease', 2902: 'powers', 2903: 'knowin', 2904: 'aww', 2905: 'gain', 2906: 'horn', 2907: 'pipe', 2908: 'shopping', 2909: 'reunion', 2910: 'eighty', 2911: 'resist', 2912: 'office', 2913: 'sixty', 2914: 'tide', 2915: 'riddle', 2916: 'ours', 2917: 'miracles', 2918: 'unite', 2919: 'hunger', 2920: 'kingdom', 2921: 'noticed', 2922: 'brick', 2923: 'revenge', 2924: 'fairy', 2925: 'keepin', 2926: 'martin', 2927: 'curse', 2928: 'doc', 2929: 'vacation', 2930: 'climbed', 2931: 'background', 2932: 'tits', 2933: 'hollow', 2934: 'prison', 2935: 'toward', 2936: 'estamos', 2937: '¿', 2938: 'gangstas', 2939: 'princess', 2940: 'umbrella', 2941: 'porch', 2942: 'rims', 2943: 'cameras', 2944: 'breakfast', 2945: 'aim', 2946: 'cribs', 2947: 'applejack', 2948: 'rally', 2949: 'copped', 2950: 'didi', 2951: 'grillin', 2952: 'ferrari', 2953: 'jus', 2954: 'photo', 2955: 'diana', 2956: 'jiggle', 2957: 'marshall', 2958: 'glocks', 2959: 'memoria', 2960: 'heigho', 2961: 'kodachrome', 2962: 'badoom', 2963: 'clearly', 2964: 'setting', 2965: 'cuts', 2966: 'endless', 2967: 'bored', 2968: 'argue', 2969: 'using', 2970: 'sunrise', 2971: 'pushing', 2972: 'natural', 2973: 'moan', 2974: 'foolish', 2975: 'account', 2976: 'carpet', 2977: 'snatch', 2978: 'fur', 2979: 'worn', 2980: 'besides', 2981: 'rescue', 2982: 'stream', 2983: 'crash', 2984: 'bubble', 2985: 'wrap', 2986: 'suffering', 2987: 'pearls', 2988: 'sleepy', 2989: 'ad', 2990: 'todo', 2991: 'dial', 2992: 'slept', 2993: 'singer', 2994: 'command', 2995: 'gin', 2996: 'pa', 2997: 'confusion', 2998: 'parade', 2999: 'thieves', 3000: 'sticks', 3001: 'buying', 3002: 'nude', 3003: 'kitty', 3004: 'perfume', 3005: 'shiny', 3006: 'freeway', 3007: 'dice', 3008: 'pero', 3009: 'stretch', 3010: 'designer', 3011: 'haha', 3012: 'preach', 3013: 'bush', 3014: 'degrees', 3015: 'touching', 3016: 'suppose', 3017: 'si', 3018: 'journey', 3019: 'entertain', 3020: 'gate', 3021: 'drummer', 3022: 'dedicate', 3023: 'mourn', 3024: 'june', 3025: 'champion', 3026: 'guarantee', 3027: 'punch', 3028: 'toot', 3029: 'feather', 3030: 'kinds', 3031: 'ultimate', 3032: 'twin', 3033: 'joey', 3034: 'chocolate', 3035: 'crow', 3036: 'grinch', 3037: 'feds', 3038: 'skeet', 3039: 'flashy', 3040: 'mans', 3041: 'neva', 3042: 'mase', 3043: 'shitted', 3044: 'oreo', 3045: 'dm', 3046: 'bronx', 3047: 'cupid', 3048: 'crystal', 3049: 'realized', 3050: 'wandering', 3051: 'drowned', 3052: 'crumbles', 3053: 'umm', 3054: 'darkest', 3055: 'chances', 3056: 'parts', 3057: 'tender', 3058: 'choir', 3059: 'design', 3060: 'skull', 3061: 'degree', 3062: 'stares', 3063: 'swimming', 3064: 'balance', 3065: 'diggin', 3066: 'string', 3067: 'destroy', 3068: 'market', 3069: 'lightning', 3070: 'shift', 3071: 'mamma', 3072: 'screw', 3073: 'ak', 3074: 'hesitate', 3075: 'racing', 3076: 'nas', 3077: 'roller', 3078: 'tres', 3079: 'showing', 3080: 'banks', 3081: 'clubs', 3082: 'creation', 3083: 'redemption', 3084: 'laughin', 3085: 'cheer', 3086: 'retarded', 3087: 'mexico', 3088: 'puerto', 3089: 'claus', 3090: 'chillin', 3091: 'cocaine', 3092: 'covered', 3093: 'drums', 3094: 'label', 3095: 'cups', 3096: 'checkin', 3097: 'gal', 3098: 'wars', 3099: 'mill', 3100: 'tenth', 3101: 'paparazzi', 3102: 'classic', 3103: 'seas', 3104: 'virgin', 3105: 'bat', 3106: 'weary', 3107: 'hype', 3108: 'mask', 3109: 'aunt', 3110: 'buildin', 3111: 'moi', 3112: 'support', 3113: 'youngins', 3114: 'baddest', 3115: 'sauce', 3116: 'butter', 3117: 'cristal', 3118: 'matic', 3119: 'honies', 3120: 'pheromone', 3121: 'healing', 3122: 'tables', 3123: 'everlasting', 3124: 'pre', 3125: 'hid', 3126: 'mistaken', 3127: 'hadn', 3128: 'loaded', 3129: 'sake', 3130: 'exist', 3131: 'meaning', 3132: 'sometime', 3133: 'slipped', 3134: 'dove', 3135: 'rehab', 3136: 'gots', 3137: 'thighs', 3138: 'forward', 3139: 'relationship', 3140: 'snake', 3141: 'con', 3142: 'slit', 3143: 'palms', 3144: 'contagious', 3145: 'sneak', 3146: 'strawberry', 3147: 'volume', 3148: 'themselves', 3149: 'concrete', 3150: 'speaks', 3151: 'morn', 3152: 'wantin', 3153: 'sending', 3154: 'sack', 3155: 'lickin', 3156: 'trench', 3157: 'failed', 3158: 'drain', 3159: 'cage', 3160: 'tossed', 3161: 'nike', 3162: 'ladder', 3163: 'helpless', 3164: 'aight', 3165: 'fold', 3166: 'railroad', 3167: 'facts', 3168: 'bouncing', 3169: 'willie', 3170: 'partner', 3171: 'fantastic', 3172: 'automatic', 3173: 'disrespect', 3174: 'notes', 3175: 'undress', 3176: 'cease', 3177: 'tweedle', 3178: 'hidin', 3179: 'parton', 3180: 'dang', 3181: 'detroit', 3182: 'rover', 3183: 'steam', 3184: 'dade', 3185: 'tommy', 3186: 'raps', 3187: 'whine', 3188: 'area', 3189: 'slut', 3190: 'rubbers', 3191: 'penis', 3192: 'crews', 3193: 'pastor', 3194: 'cocking', 3195: 'gloria', 3196: 'worries', 3197: 'despair', 3198: 'circles', 3199: 'gently', 3200: 'heartbeat', 3201: 'heh', 3202: 'satisfy', 3203: 'aside', 3204: 'cheated', 3205: 'guts', 3206: 'familiar', 3207: 'upset', 3208: 'pressed', 3209: 'tries', 3210: 'sort', 3211: 'doves', 3212: 'coo', 3213: 'finest', 3214: 'suffer', 3215: 'drew', 3216: 'passes', 3217: 'involved', 3218: 'crooked', 3219: 'pit', 3220: 'daughters', 3221: 'nearly', 3222: 'button', 3223: 'farther', 3224: 'opposite', 3225: 'saint', 3226: 'sweater', 3227: 'chuck', 3228: 'warning', 3229: 'wears', 3230: 'believing', 3231: 'wink', 3232: 'tax', 3233: 'bowl', 3234: 'bucket', 3235: 'coffin', 3236: 'cok', 3237: 'similar', 3238: 'created', 3239: 'polo', 3240: 'bucks', 3241: 'stairs', 3242: 'ropes', 3243: 'fellas', 3244: 'ben', 3245: 'painted', 3246: 'reign', 3247: 'condo', 3248: 'couch', 3249: 'mississippi', 3250: 'checking', 3251: 'relate', 3252: 'cries', 3253: 'ripped', 3254: 'buddy', 3255: 'carried', 3256: 'media', 3257: 'blazin', 3258: 'alien', 3259: 'theyre', 3260: 'supreme', 3261: 'fam', 3262: 'village', 3263: 'toll', 3264: 'awesome', 3265: 'screams', 3266: 'hats', 3267: 'verses', 3268: 'envy', 3269: 'whistle', 3270: 'jewels', 3271: 'salt', 3272: 'gotten', 3273: 'nail', 3274: 'pas', 3275: 'aicha', 3276: 'hov', 3277: 'spendin', 3278: 'stunt', 3279: 'group', 3280: 'rolex', 3281: 'queens', 3282: 'papi', 3283: 'duh', 3284: 'swine', 3285: 'hun', 3286: 'eminem', 3287: 'nuttin', 3288: 'heigh', 3289: 'chitown', 3290: 'supa', 3291: 'hypnotize', 3292: 'compute', 3293: 'lasts', 3294: 'blessings', 3295: 'swore', 3296: 'jaw', 3297: 'clue', 3298: 'lipstick', 3299: 'ideas', 3300: 'rivers', 3301: 'flood', 3302: 'awful', 3303: 'upper', 3304: 'oil', 3305: 'studio', 3306: 'tub', 3307: 'height', 3308: 'handsome', 3309: 'hustler', 3310: 'tooth', 3311: 'borrow', 3312: 'rainy', 3313: 'possibly', 3314: 'grin', 3315: 'stopping', 3316: 'laws', 3317: 'receive', 3318: 'sharp', 3319: 'urge', 3320: 'boring', 3321: 'nest', 3322: 'compare', 3323: 'bombs', 3324: 'losin', 3325: 'tuck', 3326: 'jude', 3327: 'submarine', 3328: 'lucy', 3329: 'meanwhile', 3330: 'saving', 3331: 'rides', 3332: 'wolf', 3333: 'youth', 3334: 'inner', 3335: 'waking', 3336: 'prayed', 3337: 'dicks', 3338: 'whore', 3339: 'pace', 3340: 'flicker', 3341: 'backs', 3342: 'tattoo', 3343: 'stepping', 3344: 'sofa', 3345: 'straighten', 3346: 'baskets', 3347: 'patron', 3348: 'buyin', 3349: 'sean', 3350: 'honestly', 3351: 'conscience', 3352: 'jolly', 3353: 'fillin', 3354: 'cotton', 3355: 'chief', 3356: 'meal', 3357: 'changin', 3358: 'smilin', 3359: 'witness', 3360: 'needle', 3361: 'instant', 3362: 'bows', 3363: 'slidin', 3364: 'profit', 3365: 'swinging', 3366: 'practice', 3367: 'popped', 3368: 'beggin', 3369: 'filthy', 3370: 'sipping', 3371: 'stuntin', 3372: 'hella', 3373: 'strictly', 3374: 'illest', 3375: 'codes', 3376: 'grindin', 3377: 'grammy', 3378: 'den', 3379: 'female', 3380: 'inspired', 3381: 'lebron', 3382: 'styles', 3383: 'rape', 3384: 'lockdown', 3385: 'schei', 3386: 'benjamins', 3387: 'pep', 3388: 'dong', 3389: 'pressurin', 3390: 'version', 3391: 'shared', 3392: 'however', 3393: 'rumors', 3394: 'whispered', 3395: 'hometown', 3396: 'thumb', 3397: 'waits', 3398: 'planned', 3399: 'shock', 3400: 'fires', 3401: 'ups', 3402: 'ache', 3403: 'rainin', 3404: 'packin', 3405: 'cos', 3406: 'lawyer', 3407: 'yonder', 3408: 'upstairs', 3409: 'ex', 3410: 'behave', 3411: 'ships', 3412: 'condition', 3413: 'hardly', 3414: 'caused', 3415: 'jar', 3416: 'nurse', 3417: 'sailing', 3418: 'obvious', 3419: 'century', 3420: 'sunlight', 3421: 'shiver', 3422: 'thursday', 3423: 'survival', 3424: 'base', 3425: 'betta', 3426: 'chosen', 3427: 'digging', 3428: 'grade', 3429: 'carousel', 3430: 'spoon', 3431: 'vow', 3432: 'aiming', 3433: 'clown', 3434: 'babylon', 3435: 'holds', 3436: 'fights', 3437: 'complicated', 3438: 'robbery', 3439: 'independent', 3440: 'disguise', 3441: 'gasoline', 3442: 'strike', 3443: 'tomb', 3444: 'jumping', 3445: 'serving', 3446: 'bury', 3447: 'lejos', 3448: 'quiero', 3449: 'amor', 3450: 'touchin', 3451: 'skate', 3452: 'ey', 3453: 'smith', 3454: 'reputation', 3455: 'basically', 3456: 'faithful', 3457: 'hallway', 3458: 'vip', 3459: 'longing', 3460: 'satellite', 3461: 'bleedin', 3462: 'oak', 3463: 'senses', 3464: 'industry', 3465: 'happenin', 3466: 'cinderella', 3467: 'aha', 3468: 'cared', 3469: 'jealousy', 3470: 'fraud', 3471: 'funeral', 3472: 'expected', 3473: 'jason', 3474: 'broom', 3475: 'breathin', 3476: 'uncle', 3477: 'pullin', 3478: 'lion', 3479: 'fantasies', 3480: 'actually', 3481: 'richer', 3482: 'breed', 3483: 'strippers', 3484: 'total', 3485: 'birdman', 3486: 'payin', 3487: 'bangin', 3488: 'snakes', 3489: 'digits', 3490: 'henny', 3491: 'condom', 3492: 'lobby', 3493: 'cutie', 3494: 'melodrama', 3495: 'rb', 3496: 'peeps', 3497: 'bode', 3498: 'ggas', 3499: 'wannah', 3500: 'batman', 3501: 'security', 3502: 'final', 3503: 'neon', 3504: 'greed', 3505: 'lea', 3506: 'burnt', 3507: 'treated', 3508: 'huggin', 3509: 'heartaches', 3510: 'decided', 3511: 'flowing', 3512: 'brighter', 3513: 'clay', 3514: 'seize', 3515: 'understands', 3516: 'bra', 3517: 'blaze', 3518: 'sits', 3519: 'demand', 3520: 'pearl', 3521: 'enter', 3522: 'nana', 3523: 'spine', 3524: 'melting', 3525: 'eventually', 3526: 'deh', 3527: 'las', 3528: 'neighbor', 3529: 'russell', 3530: 'negative', 3531: 'laughs', 3532: 'grabbed', 3533: 'seventeen', 3534: 'sinner', 3535: 'marley', 3536: 'cracked', 3537: 'international', 3538: 'cluck', 3539: 'skanking', 3540: 'paved', 3541: 'suckin', 3542: 'microphone', 3543: 'cologne', 3544: 'trace', 3545: 'solve', 3546: 'un', 3547: 'ditch', 3548: 'feathers', 3549: 'taxi', 3550: 'mattress', 3551: 'tires', 3552: 'plot', 3553: 'counting', 3554: 'dim', 3555: 'rid', 3556: 'existence', 3557: 'denied', 3558: 'wallet', 3559: 'mars', 3560: 'steer', 3561: 'knocking', 3562: 'rewind', 3563: 'hopin', 3564: 'fightin', 3565: 'latin', 3566: 'visions', 3567: 'strap', 3568: 'slippin', 3569: 'pharaoh', 3570: 'tore', 3571: 'shotgun', 3572: 'legendary', 3573: 'peek', 3574: 'pro', 3575: 'gym', 3576: 'measure', 3577: 'curtains', 3578: 'nickel', 3579: 'wig', 3580: 'bringin', 3581: 'kin', 3582: 'favors', 3583: 'curl', 3584: 'doesnt', 3585: 'summertime', 3586: 'considered', 3587: 'rate', 3588: 'pablo', 3589: 'hummer', 3590: 'ching', 3591: 'spots', 3592: 'beams', 3593: 'coulda', 3594: 'hos', 3595: 'necklace', 3596: 'trailer', 3597: 'butcher', 3598: 'nikki', 3599: 'bah', 3600: 'legit', 3601: 'aaow', 3602: 'sheldon', 3603: 'oley', 3604: 'younger', 3605: 'honesty', 3606: 'photograph', 3607: 'appear', 3608: 'idea', 3609: 'skyfall', 3610: 'reflection', 3611: 'accident', 3612: 'advance', 3613: 'finding', 3614: 'colder', 3615: 'gathered', 3616: 'wonderin', 3617: 'cigarettes', 3618: 'peoples', 3619: 'prayin', 3620: 'tighter', 3621: 'goodness', 3622: 'meets', 3623: 'tiny', 3624: 'reading', 3625: 'covers', 3626: 'hurricane', 3627: 'spare', 3628: 'nineteen', 3629: 'glove', 3630: 'arrow', 3631: 'kicks', 3632: 'nerve', 3633: 'handed', 3634: 'squad', 3635: 'drawn', 3636: 'creature', 3637: 'hugs', 3638: 'necessary', 3639: 'reply', 3640: 'english', 3641: 'comb', 3642: 'nuh', 3643: 'dolla', 3644: 'como', 3645: 'afar', 3646: 'followed', 3647: 'eleven', 3648: 'eve', 3649: 'unbreakable', 3650: 'poet', 3651: 'becomes', 3652: 'rare', 3653: 'les', 3654: 'chop', 3655: 'cent', 3656: 'positive', 3657: 'board', 3658: 'bu', 3659: 'ninety', 3660: 'dishes', 3661: 'ashes', 3662: 'metal', 3663: 'twenties', 3664: 'instagram', 3665: 'tearing', 3666: 'mail', 3667: 'asks', 3668: 'allow', 3669: 'burr', 3670: 'fourth', 3671: 'april', 3672: 'holler', 3673: 'mistletoe', 3674: 'july', 3675: 'finer', 3676: 'trial', 3677: 'neath', 3678: 'deuce', 3679: 'jersey', 3680: 'spirits', 3681: 'nerves', 3682: 'skins', 3683: 'coal', 3684: 'rome', 3685: 'rage', 3686: 'dining', 3687: 'blouse', 3688: 'ly', 3689: 'sword', 3690: 'odd', 3691: 'zip', 3692: 'society', 3693: 'drawers', 3694: 'stiff', 3695: 'member', 3696: 'wrists', 3697: 'dealing', 3698: 'mobile', 3699: 'busted', 3700: 'southside', 3701: 'wah', 3702: 'bench', 3703: 'toi', 3704: 'lambo', 3705: 'iced', 3706: 'sunroof', 3707: 'chevy', 3708: 'tastes', 3709: 'controlla', 3710: 'choosey', 3711: 'aaliyah', 3712: 'damage', 3713: 'hustlers', 3714: 'jandro', 3715: 'clair', 3716: 'aus', 3717: 'bizness', 3718: 'boyz', 3719: 'broadcast', 3720: 'blah', 3721: 'playas', 3722: 'yum', 3723: 'fourfour', 3724: 'tamborine', 3725: 'forgiveness', 3726: 'hasn', 3727: 'madness', 3728: 'pacing', 3729: 'girlfriends', 3730: 'untrue', 3731: 'incomprehensible', 3732: 'charms', 3733: 'castle', 3734: 'grain', 3735: 'prize', 3736: 'lend', 3737: 'bridges', 3738: 'scheme', 3739: 'depends', 3740: 'pet', 3741: 'hum', 3742: 'ahhh', 3743: 'collar', 3744: 'prime', 3745: 'mouths', 3746: 'kittens', 3747: 'lazy', 3748: 'weird', 3749: 'appreciate', 3750: 'hail', 3751: 'harlem', 3752: 'divide', 3753: 'define', 3754: 'imagination', 3755: 'ting', 3756: 'dey', 3757: 'excuses', 3758: 'louder', 3759: 'supply', 3760: 'gifts', 3761: 'favor', 3762: 'ra', 3763: 'opera', 3764: 'insecure', 3765: 'neighborhood', 3766: 'awoke', 3767: 'perfectly', 3768: 'tube', 3769: 'frown', 3770: 'doom', 3771: 'mics', 3772: 'african', 3773: 'sheriff', 3774: 'palace', 3775: 'fathers', 3776: 'spiritual', 3777: 'mice', 3778: 'panic', 3779: 'listened', 3780: 'rats', 3781: 'square', 3782: 'ruby', 3783: 'hospital', 3784: 'dusty', 3785: 'rear', 3786: 'mirrors', 3787: 'gut', 3788: 'invited', 3789: 'prepare', 3790: 'toss', 3791: 'hopes', 3792: 'childish', 3793: 'incredible', 3794: 'joint', 3795: 'chanel', 3796: 'eenie', 3797: 'meenie', 3798: 'miney', 3799: 'reindeer', 3800: 'flyin', 3801: 'lifesaver', 3802: 'mist', 3803: 'pushin', 3804: 'parked', 3805: 'endlessly', 3806: 'wounded', 3807: 'southern', 3808: 'wrecking', 3809: 'flippin', 3810: 'ms', 3811: 'savage', 3812: 'bride', 3813: 'iv', 3814: 'narrow', 3815: 'several', 3816: 'writer', 3817: 'hopped', 3818: 'continue', 3819: 'doll', 3820: 'birth', 3821: 'honor', 3822: 'address', 3823: 'bruce', 3824: 'deliver', 3825: 'bulletproof', 3826: 'tag', 3827: 'slay', 3828: 'swell', 3829: 'rollie', 3830: 'bougie', 3831: 'nother', 3832: 'visa', 3833: 'bustin', 3834: 'hennessy', 3835: 'def', 3836: 'testing', 3837: 'cam', 3838: 'vodka', 3839: 'hooker', 3840: 'stripper', 3841: 'scrappy', 3842: 'piper', 3843: 'clits', 3844: 'susie', 3845: 'haze', 3846: 'reminds', 3847: 'haunted', 3848: 'swept', 3849: 'towards', 3850: 'hitting', 3851: 'lack', 3852: 'thankful', 3853: 'loser', 3854: 'heavenly', 3855: 'slips', 3856: 'mule', 3857: 'pumps', 3858: 'ballers', 3859: 'baller', 3860: 'tee', 3861: 'heartache', 3862: 'tips', 3863: 'pretending', 3864: 'wheres', 3865: 'ultra', 3866: 'watches', 3867: 'whale', 3868: 'habit', 3869: 'floating', 3870: 'blink', 3871: 'marching', 3872: 'satin', 3873: 'easier', 3874: 'burden', 3875: 'sirens', 3876: 'sorta', 3877: 'pages', 3878: 'apologize', 3879: 'upside', 3880: 'heroes', 3881: 'remains', 3882: 'steppin', 3883: 'inspiration', 3884: 'grant', 3885: 'dripping', 3886: 'pam', 3887: 'exodus', 3888: 'bop', 3889: 'bull', 3890: 'disgrace', 3891: 'replay', 3892: 'sally', 3893: 'fucker', 3894: 'report', 3895: 'whispers', 3896: 'restaurant', 3897: 'cursed', 3898: 'bike', 3899: 'abandon', 3900: 'possible', 3901: 'diego', 3902: 'clover', 3903: 'farmer', 3904: 'ancient', 3905: 'fatty', 3906: 'wire', 3907: 'central', 3908: 'helps', 3909: 'retire', 3910: 'wax', 3911: 'singers', 3912: 'distancia', 3913: 'matando', 3914: 'mtv', 3915: 'tops', 3916: 'zoom', 3917: 'checks', 3918: 'sprung', 3919: 'gator', 3920: 'velvet', 3921: 'whitney', 3922: 'ignition', 3923: 'rags', 3924: 'hire', 3925: 'crashed', 3926: 'wealth', 3927: 'searchin', 3928: 'cynthia', 3929: 'stab', 3930: 'rosie', 3931: 'bugatti', 3932: 'hollerin', 3933: 'slumber', 3934: 'skinned', 3935: 'certified', 3936: 'cuttin', 3937: 'blazing', 3938: 'foul', 3939: 'bid', 3940: 'skills', 3941: 'ordinary', 3942: 'ii', 3943: 'knowledge', 3944: 'fashioned', 3945: 'greedy', 3946: 'forehead', 3947: 'wishes', 3948: 'rugged', 3949: 'create', 3950: 'clocks', 3951: 'homemade', 3952: 'yuh', 3953: 'williams', 3954: 'repetition', 3955: 'mink', 3956: 'barbie', 3957: 'ham', 3958: 'uptight', 3959: 'powder', 3960: 'section', 3961: 'passenger', 3962: 'bastards', 3963: 'non', 3964: 'average', 3965: 'celine', 3966: 'porsche', 3967: 'racks', 3968: 'pad', 3969: 'pissy', 3970: 'busta', 3971: 'goons', 3972: 'z', 3973: 'jamaican', 3974: 'nightmares', 3975: 'cheddar', 3976: 'grams', 3977: 'mothafuckin', 3978: 'wifey', 3979: 'switching', 3980: 'ck', 3981: 'janet', 3982: 'paisley', 3983: 'balling', 3984: 'spouse', 3985: 'mah', 3986: 'cured', 3987: 'brung', 3988: 'stoppin', 3989: 'valium', 3990: 'youse', 3991: 'cris', 3992: 'biggity', 3993: 'juggle', 3994: 'queensbridge', 3995: 'core', 3996: 'keeper', 3997: 'stain', 3998: 'consider', 3999: 'pulls', 4000: 'deepest', 4001: 'filling', 4002: 'fiasco', 4003: 'notion', 4004: 'sixteen', 4005: 'plates', 4006: 'entire', 4007: 'muddy', 4008: 'tent', 4009: 'script', 4010: 'ginger', 4011: 'downstairs', 4012: 'content', 4013: 'airport', 4014: 'torture', 4015: 'curb', 4016: 'battered', 4017: 'appeal', 4018: 'phrase', 4019: 'defeat', 4020: 'royal', 4021: 'dro', 4022: 'jazz', 4023: 'shoppin', 4024: 'sands', 4025: 'map', 4026: 'fountain', 4027: 'dot', 4028: 'ee', 4029: 'cole', 4030: 'coach', 4031: 'arrive', 4032: 'crystalline', 4033: 'branches', 4034: 'layers', 4035: 'undo', 4036: 'flock', 4037: 'strife', 4038: 'protection', 4039: 'arrested', 4040: 'curves', 4041: 'scenes', 4042: 'danny', 4043: 'wid', 4044: 'loyalty', 4045: 'euphoria', 4046: 'anthem', 4047: 'cookin', 4048: 'weeds', 4049: 'football', 4050: 'coaster', 4051: 'van', 4052: 'climbing', 4053: 'frightened', 4054: 'sucks', 4055: 'checked', 4056: 'bible', 4057: 'fulfill', 4058: 'mount', 4059: 'stank', 4060: 'elvis', 4061: 'gap', 4062: 'satisfaction', 4063: 'christopher', 4064: 'mob', 4065: 'target', 4066: 'violent', 4067: 'closest', 4068: 'nightmare', 4069: 'catching', 4070: 'ed', 4071: 'ledge', 4072: 'dropping', 4073: 'blonde', 4074: 'numb', 4075: 'slapped', 4076: 'decisions', 4077: 'jobs', 4078: 'angeles', 4079: 'muscle', 4080: 'lunch', 4081: 'wondered', 4082: 'saints', 4083: 'cities', 4084: 'fruit', 4085: 'destination', 4086: 'suitcase', 4087: 'judgment', 4088: 'invite', 4089: 'nd', 4090: 'led', 4091: 'booth', 4092: 'mami', 4093: 'spinnin', 4094: 'shove', 4095: 'diddy', 4096: 'planes', 4097: 'personal', 4098: 'drizzy', 4099: 'telly', 4100: 'speakers', 4101: 'brat', 4102: 'philly', 4103: 'sacred', 4104: 'pumpin', 4105: 'growin', 4106: 'wearin', 4107: 'passin', 4108: 'graceland', 4109: 'janey', 4110: 'amount', 4111: 'choked', 4112: 'permission', 4113: 'spree', 4114: 'baba', 4115: 'righteous', 4116: 'flavor', 4117: 'louie', 4118: 'lifted', 4119: 'depending', 4120: 'ki', 4121: 'nous', 4122: 'rouge', 4123: 'hundreds', 4124: 'eden', 4125: 'stile', 4126: 'dine', 4127: 'november', 4128: 'fresher', 4129: 'meadow', 4130: 'mass', 4131: 'lawyers', 4132: 'maggie', 4133: 'stoned', 4134: 'judas', 4135: 'stuffed', 4136: 'stickin', 4137: 'bail', 4138: 'slash', 4139: 'specially', 4140: 'fin', 4141: 'ton', 4142: 'grandma', 4143: 'tim', 4144: 'knox', 4145: 'theyd', 4146: 'surrounded', 4147: 'tool', 4148: 'ira', 4149: 'awards', 4150: 'veux', 4151: 'dimension', 4152: 'spray', 4153: 'asses', 4154: 'fee', 4155: 'fronting', 4156: 'issue', 4157: 'global', 4158: 'fiends', 4159: 'spitting', 4160: 'phase', 4161: 'hennessey', 4162: 'syrup', 4163: 'motherf', 4164: 'cooked', 4165: 'lakota', 4166: 'ron', 4167: 'fangs', 4168: 'tweet', 4169: 'jean', 4170: 'pow', 4171: 'scarface', 4172: 'marijuana', 4173: 'lafayette', 4174: 'hailie', 4175: 'classes', 4176: 'jigga', 4177: 'fiddle', 4178: 'rim', 4179: 'regrets', 4180: 'storms', 4181: 'doubts', 4182: 'heel', 4183: 'stolen', 4184: 'oceans', 4185: 'undone', 4186: 'belongs', 4187: 'floors', 4188: 'intentions', 4189: 'chairs', 4190: 'hardest', 4191: 'haunt', 4192: 'halo', 4193: 'fella', 4194: 'solid', 4195: 'anger', 4196: 'rod', 4197: 'lessons', 4198: 'stella', 4199: 'ruler', 4200: 'ba', 4201: 'wives', 4202: 'sung', 4203: 'cheating', 4204: 'wan', 4205: 'spins', 4206: 'winnin', 4207: 'copy', 4208: 'surface', 4209: 'wooh', 4210: 'pipes', 4211: 'peel', 4212: 'sane', 4213: 'badoop', 4214: 'centuries', 4215: 'intruders', 4216: 'feast', 4217: 'empire', 4218: 'mode', 4219: 'leap', 4220: 'bake', 4221: 'compromise', 4222: 'majesty', 4223: 'returned', 4224: 'locks', 4225: 'triumph', 4226: 'disaster', 4227: 'battles', 4228: 'footsteps', 4229: 'pedal', 4230: 'cheatin', 4231: 'listenin', 4232: 'fuse', 4233: 'cola', 4234: 'sweeping', 4235: 'teachers', 4236: 'pepper', 4237: 'acts', 4238: 'ou', 4239: 'caribbean', 4240: 'teardrops', 4241: 'basic', 4242: 'confident', 4243: 'deputy', 4244: 'stock', 4245: 'natty', 4246: 'crucified', 4247: 'curtain', 4248: 'pickin', 4249: 'fi', 4250: 'abroad', 4251: 'liberty', 4252: 'haunting', 4253: 'useless', 4254: 'lawn', 4255: 'satan', 4256: 'thong', 4257: 'marilyn', 4258: 'tinted', 4259: 'arena', 4260: 'planets', 4261: 'cleaning', 4262: 'garbage', 4263: 'towel', 4264: 'treating', 4265: 'luxury', 4266: 'exclusive', 4267: 'aching', 4268: 'lotto', 4269: 'esto', 4270: 'nde', 4271: 'strut', 4272: 'pinky', 4273: 'autograph', 4274: 'faced', 4275: 'chin', 4276: 'quickly', 4277: 'starstruck', 4278: 'gentleman', 4279: 'highest', 4280: 'kobe', 4281: 'nonsense', 4282: 'ink', 4283: 'runner', 4284: 'phones', 4285: 'cookie', 4286: 'graduate', 4287: 'haul', 4288: 'beatin', 4289: 'cafe', 4290: 'league', 4291: 'laundry', 4292: 'bababa', 4293: 'gleam', 4294: 'fro', 4295: 'necessities', 4296: 'greatness', 4297: 'mickey', 4298: 'kite', 4299: 'twisting', 4300: 'ai', 4301: 'iii', 4302: 'lest', 4303: 'thine', 4304: 'brook', 4305: 'behold', 4306: 'veil', 4307: 'pencil', 4308: 'opens', 4309: 'option', 4310: 'horror', 4311: 'duty', 4312: 'reward', 4313: 'fishin', 4314: 'stove', 4315: 'constantly', 4316: 'rag', 4317: 'panties', 4318: 'nod', 4319: 'dressing', 4320: 'mistress', 4321: 'goddess', 4322: 'discuss', 4323: 'larry', 4324: 'licks', 4325: 'screwed', 4326: 'slappin', 4327: 'liberated', 4328: 'hmmm', 4329: 'soap', 4330: 'wound', 4331: 'fired', 4332: 'brew', 4333: 'official', 4334: 'tunnel', 4335: 'ayy', 4336: 'matching', 4337: 'summers', 4338: 'plead', 4339: 'bando', 4340: 'flyer', 4341: 'voom', 4342: 'betty', 4343: 'tracy', 4344: 'usher', 4345: 'bezel', 4346: 'biz', 4347: 'outfit', 4348: 'prada', 4349: 'chilling', 4350: 'positions', 4351: 'corny', 4352: 'rented', 4353: 'gosh', 4354: 'rican', 4355: 'splash', 4356: 'couches', 4357: 'twista', 4358: 'thigh', 4359: 'laced', 4360: 'bo', 4361: 'naire', 4362: 'sorrythe', 4363: 'mats', 4364: 'steak', 4365: 'shittin', 4366: 'spinach', 4367: 'bonin', 4368: 'coupes', 4369: 'misdemeanor', 4370: 'kack', 4371: 'yeek', 4372: 'dummies', 4373: 'efil', 4374: 'flah', 4375: 'icu', 4376: 'hoped', 4377: 'crawling', 4378: 'wilderness', 4379: 'wonders', 4380: 'forgiven', 4381: 'earn', 4382: 'defeated', 4383: 'remedy', 4384: 'border', 4385: 'devotion', 4386: 'crumble', 4387: 'link', 4388: 'drives', 4389: 'dimes', 4390: 'wander', 4391: 'fuss', 4392: 'fooling', 4393: 'believes', 4394: 'drunken', 4395: 'almighty', 4396: 'causin', 4397: 'mines', 4398: 'deceive', 4399: 'dizzy', 4400: 'sniff', 4401: 'nowadays', 4402: 'breasts', 4403: 'misses', 4404: 'image', 4405: 'greater', 4406: 'stephanie', 4407: 'parallel', 4408: 'sensitive', 4409: 'esteem', 4410: 'hm', 4411: 'judy', 4412: 'oohh', 4413: 'finds', 4414: 'blueprint', 4415: 'pause', 4416: 'vi', 4417: 'totally', 4418: 'islands', 4419: 'union', 4420: 'offered', 4421: 'caress', 4422: 'defend', 4423: 'elephants', 4424: 'answered', 4425: 'gaze', 4426: 'compared', 4427: 'tenderly', 4428: 'jerome', 4429: 'su', 4430: 'material', 4431: 'bond', 4432: 'approach', 4433: 'schemes', 4434: 'remembering', 4435: 'mem', 4436: 'pigs', 4437: 'bien', 4438: 'belonged', 4439: 'prudence', 4440: 'daisy', 4441: 'local', 4442: 'grief', 4443: 'beware', 4444: 'pimper', 4445: 'slippery', 4446: 'bastard', 4447: 'pyaka', 4448: 'ambition', 4449: 'speech', 4450: 'dish', 4451: 'longest', 4452: 'patiently', 4453: 'focused', 4454: 'victims', 4455: 'goal', 4456: 'underwear', 4457: 'sucking', 4458: 'assholes', 4459: 'alcohol', 4460: 'bouquet', 4461: 'heave', 4462: 'stormy', 4463: 'lounge', 4464: 'asian', 4465: 'soda', 4466: 'purr', 4467: 'talent', 4468: 'fooled', 4469: 'carrot', 4470: 'bind', 4471: 'lined', 4472: 'banging', 4473: 'finesse', 4474: 'fits', 4475: 'product', 4476: 'spill', 4477: 'ended', 4478: 'trains', 4479: 'wetter', 4480: 'uno', 4481: 'pin', 4482: 'tempt', 4483: 'soup', 4484: 'sails', 4485: 'michigan', 4486: 'lamp', 4487: 'reachin', 4488: 'runway', 4489: 'johnson', 4490: 'flashin', 4491: 'interrupt', 4492: 'duke', 4493: 'glam', 4494: 'fellow', 4495: 'stressed', 4496: 'constant', 4497: 'cooking', 4498: 'snowman', 4499: 'advantage', 4500: 'brake', 4501: 'xiii', 4502: 'leaning', 4503: 'delight', 4504: 'immortality', 4505: 'served', 4506: 'chamber', 4507: 'fence', 4508: 'doth', 4509: 'betrayed', 4510: 'sooner', 4511: 'barn', 4512: 'scoop', 4513: 'cases', 4514: 'usual', 4515: 'thirst', 4516: 'clutch', 4517: 'beds', 4518: 'experienced', 4519: 'arrogance', 4520: 'horns', 4521: 'formed', 4522: 'project', 4523: 'cough', 4524: 'leanin', 4525: 'raspberry', 4526: 'dealin', 4527: 'award', 4528: 'joseph', 4529: 'friendly', 4530: 'theyll', 4531: 'chile', 4532: 'caller', 4533: 'amour', 4534: 'ox', 4535: 'groupies', 4536: 'yellin', 4537: 'bigga', 4538: 'ds', 4539: 'puffin', 4540: 'prolly', 4541: 'pimping', 4542: 'ac', 4543: 'hustlin', 4544: 'buggin', 4545: 'aka', 4546: 'heartless', 4547: 'worldwide', 4548: 'based', 4549: 'colonies', 4550: 'twinkle', 4551: 'grabbing', 4552: 'gotham', 4553: 'nevermind', 4554: 'needin', 4555: 'dorothy', 4556: 'handstand', 4557: 'spaghetti', 4558: 'stevie', 4559: 'banana', 4560: 'kno', 4561: 'supercut', 4562: 'fack', 4563: 'lyrically', 4564: 'mothafuckas', 4565: 'mamas', 4566: 'sa', 4567: 'recess', 4568: 'q', 4569: 'moet', 4570: 'simon', 4571: 'amo', 4572: 'disturbia', 4573: 'positivity', 4574: 'breathless', 4575: 'sow', 4576: 'seal', 4577: 'worthy', 4578: 'united', 4579: 'knocked', 4580: 'savior', 4581: 'trembling', 4582: 'prefer', 4583: 'daylight', 4584: 'depend', 4585: 'believer', 4586: 'web', 4587: 'tumble', 4588: 'painting', 4589: 'impressed', 4590: 'misty', 4591: 'needing', 4592: 'strengthen', 4593: 'aid', 4594: 'yeh', 4595: 'eternal', 4596: 'planning', 4597: 'forsaken', 4598: 'kindness', 4599: 'spain', 4600: 'emotional', 4601: 'gods', 4602: 'angle', 4603: 'serves', 4604: 'feeds', 4605: 'aaah', 4606: 'pal', 4607: 'exchange', 4608: 'compass', 4609: 'manage', 4610: 'exciting', 4611: 'whirl', 4612: 'modern', 4613: 'hunter', 4614: 'goods', 4615: 'organize', 4616: 'lands', 4617: 'therefore', 4618: 'invisible', 4619: 'surprises', 4620: 'tribe', 4621: 'jennifer', 4622: 'host', 4623: 'curve', 4624: 'glowing', 4625: 'reaction', 4626: 'trail', 4627: 'stumbled', 4628: 'inspire', 4629: 'sleeps', 4630: 'pan', 4631: 'vows', 4632: 'possibilities', 4633: 'bloom', 4634: 'rejoice', 4635: 'supper', 4636: 'disagree', 4637: 'sharing', 4638: 'melodies', 4639: 'buffalo', 4640: 'gossip', 4641: 'quench', 4642: 'goat', 4643: 'jelly', 4644: 'galang', 4645: 'moses', 4646: 'devils', 4647: 'yow', 4648: 'du', 4649: 'ro', 4650: 'creeping', 4651: 'leaders', 4652: 'loss', 4653: 'discover', 4654: 'homesick', 4655: 'houston', 4656: 'naa', 4657: 'aftermath', 4658: 'pumping', 4659: 'crunch', 4660: 'dues', 4661: 'lanes', 4662: 'lifestyle', 4663: 'pepsi', 4664: 'motor', 4665: 'daria', 4666: 'grandfather', 4667: 'invented', 4668: 'denim', 4669: 'cancer', 4670: 'malibu', 4671: 'tools', 4672: 'beggars', 4673: 'mente', 4674: 'pops', 4675: 'karat', 4676: 'hustlas', 4677: 'morphine', 4678: 'mj', 4679: 'prisoner', 4680: 'licking', 4681: 'billion', 4682: 'greener', 4683: 'chasin', 4684: 'lisa', 4685: 'doctors', 4686: 'fitted', 4687: 'priest', 4688: 'wins', 4689: 'slipping', 4690: 'excite', 4691: 'oooo', 4692: 'chat', 4693: 'families', 4694: 'kidding', 4695: 'tongues', 4696: 'frankie', 4697: 'caviar', 4698: 'riders', 4699: 'corners', 4700: 'choices', 4701: 'airplanes', 4702: 'toxic', 4703: 'karma', 4704: 'danja', 4705: 'bizarre', 4706: 'smells', 4707: 'limits', 4708: 'flipped', 4709: 'general', 4710: 'complaint', 4711: 'immortal', 4712: 'lu', 4713: 'bliss', 4714: 'anguish', 4715: 'licked', 4716: 'childhood', 4717: 'amber', 4718: 'potential', 4719: 'dusk', 4720: 'stray', 4721: 'nearer', 4722: 'pile', 4723: 'tambourine', 4724: 'softer', 4725: 'custom', 4726: 'sum', 4727: 'maintain', 4728: 'threatened', 4729: 'hammers', 4730: 'alarms', 4731: 'states', 4732: 'apples', 4733: 'fare', 4734: 'phony', 4735: 'rything', 4736: 'moaning', 4737: 'stayin', 4738: 'contact', 4739: 'junk', 4740: 'jokerman', 4741: 'chew', 4742: 'vomit', 4743: 'whores', 4744: 'wildflowers', 4745: 'joshua', 4746: 'rained', 4747: 'doggin', 4748: 'rd', 4749: 'cleanest', 4750: 'ranger', 4751: 'tang', 4752: 'original', 4753: 'mug', 4754: 'chopper', 4755: 'flooded', 4756: 'gangster', 4757: 'cooler', 4758: 'psychic', 4759: 'gassed', 4760: 'deserves', 4761: 'cousins', 4762: 'trina', 4763: 'whatchu', 4764: 'wilding', 4765: 'chronic', 4766: 'plottin', 4767: 'blastin', 4768: 'packs', 4769: 'tech', 4770: 'skrrt', 4771: 'addiction', 4772: 'prenup', 4773: 'fries', 4774: 'santana', 4775: 'cartoon', 4776: 'dior', 4777: 'steve', 4778: 'ordered', 4779: 'rains', 4780: 'jacob', 4781: 'etes', 4782: 'creepin', 4783: 'verselil', 4784: 'fa', 4785: 'shouldve', 4786: 'priceless', 4787: 'shouldnt', 4788: 'jumpjump', 4789: 'hiphop', 4790: 'dogg', 4791: 'tec', 4792: 'bouncin', 4793: 'shhh', 4794: 'ummmmm', 4795: 'repeated', 4796: 'gichie', 4797: 'muthafuckas', 4798: 'quoth', 4799: 'powley', 4800: 'gammon', 4801: 'anthony', 4802: 'nigger', 4803: 'aahh', 4804: 'anaconda', 4805: 'parker', 4806: 'gonja', 4807: 'sensamelia', 4808: 'nias', 4809: 'corvette', 4810: 'letitgo', 4811: 'education', 4812: 'pitch', 4813: 'vicious', 4814: 'raging', 4815: 'teasing', 4816: 'concerned', 4817: 'cept', 4818: 'emptiness', 4819: 'heartbreak', 4820: 'astray', 4821: 'unkind', 4822: 'fills', 4823: 'fixed', 4824: 'magazines', 4825: 'criticize', 4826: 'shouting', 4827: 'greet', 4828: 'staff', 4829: 'sleeves', 4830: 'guilt', 4831: 'puts', 4832: 'effect', 4833: 'spite', 4834: 'brief', 4835: 'puddle', 4836: 'temperature', 4837: 'branch', 4838: 'poetry', 4839: 'vanished', 4840: 'co', 4841: 'hunting', 4842: 'violin', 4843: 'silently', 4844: 'during', 4845: 'harbor', 4846: 'wrongs', 4847: 'craving', 4848: 'shuffle', 4849: 'atlantic', 4850: 'confusing', 4851: 'tissue', 4852: 'mittens', 4853: 'favourite', 4854: 'boats', 4855: 'quietly', 4856: 'sweating', 4857: 'sour', 4858: 'dash', 4859: 'tremble', 4860: 'fr', 4861: 'proper', 4862: 'preachers', 4863: 'bluff', 4864: 'brakes', 4865: 'infinity', 4866: 'scar', 4867: 'wolves', 4868: 'weapons', 4869: 'homes', 4870: 'alicia', 4871: 'prom', 4872: 'shoutout', 4873: 'dedicating', 4874: 'counts', 4875: 'pools', 4876: 'perform', 4877: 'stared', 4878: 'film', 4879: 'rushes', 4880: 'hog', 4881: 'limousine', 4882: 'mustard', 4883: 'earned', 4884: 'pennies', 4885: 'mingle', 4886: 'zion', 4887: 'abandoned', 4888: 'struggling', 4889: 'sinners', 4890: 'builder', 4891: 'vampire', 4892: 'pirate', 4893: 'spilled', 4894: 'cheat', 4895: 'meanest', 4896: 'begged', 4897: 'porn', 4898: 'holly', 4899: 'normal', 4900: 'source', 4901: 'strikes', 4902: 'erase', 4903: 'potent', 4904: 'hurl', 4905: 'expensive', 4906: 'subway', 4907: 'wooden', 4908: 'italian', 4909: 'kansas', 4910: 'tengo', 4911: 'ver', 4912: 'loco', 4913: 'karats', 4914: 'billionaire', 4915: 'theme', 4916: 'loungin', 4917: 'chapel', 4918: 'clearer', 4919: 'berry', 4920: 'isnt', 4921: 'fiend', 4922: 'lotion', 4923: 'eres', 4924: 'bonnie', 4925: 'connect', 4926: 'backpack', 4927: 'stud', 4928: 'root', 4929: 'armed', 4930: 'chased', 4931: 'garage', 4932: 'crowded', 4933: 'monroe', 4934: 'cheers', 4935: 'kate', 4936: 'sidewalk', 4937: 'bolt', 4938: 'illusions', 4939: 'backseat', 4940: 'prerogative', 4941: 'tennis', 4942: 'videos', 4943: 'reaches', 4944: 'hon', 4945: 'oui', 4946: 'powerful', 4947: 'witch', 4948: 'mane', 4949: 'notre', 4950: 'wealthy', 4951: 'candlelight', 4952: 'mommies', 4953: 'donald', 4954: 'cutting', 4955: 'buddies', 4956: 'ages', 4957: 'frost', 4958: 'rang', 4959: 'interview', 4960: 'thread', 4961: 'spied', 4962: 'imperial', 4963: 'crumb', 4964: 'valleys', 4965: 'giddy', 4966: 'maids', 4967: 'features', 4968: 'spoil', 4969: 'intuition', 4970: 'richard', 4971: 'burner', 4972: 'froze', 4973: 'swingin', 4974: 'coin', 4975: 'health', 4976: 'roamin', 4977: 'rue', 4978: 'cowboy', 4979: 'shovel', 4980: 'gall', 4981: 'coward', 4982: 'sweetheart', 4983: 'lettin', 4984: 'rays', 4985: 'hen', 4986: 'net', 4987: 'franklin', 4988: 'collapse', 4989: 'oww', 4990: 'jerry', 4991: 'willy', 4992: 'batter', 4993: 'terror', 4994: 'wednesday', 4995: 'austin', 4996: 'sista', 4997: 'royce', 4998: 'overload', 4999: 'florida', 5000: 'bumper', 5001: 'mackin', 5002: 'billie', 5003: 'ce', 5004: 'acid', 5005: 'december', 5006: 'yayo', 5007: 'stealin', 5008: 'wildin', 5009: 'aggressive', 5010: 'fernando', 5011: 'aston', 5012: 'coup', 5013: 'kan', 5014: 'sample', 5015: 'bogus', 5016: 'bleach', 5017: 'dion', 5018: 'robinson', 5019: 'yeezys', 5020: 'elevator', 5021: 'medal', 5022: 'squirt', 5023: 'toaster', 5024: 'moneys', 5025: 'nicole', 5026: 'shave', 5027: 'robbin', 5028: 'bloodstains', 5029: 'stan', 5030: 'nate', 5031: 'oho', 5032: 'hugged', 5033: 'vroom', 5034: 'dupa', 5035: 'individual', 5036: 'liberian', 5037: 'tschada', 5038: 'daa', 5039: 'shameone', 5040: 'partyman', 5041: 'settled', 5042: 'bittersweet', 5043: 'poles', 5044: 'describe', 5045: 'lump', 5046: 'shallow', 5047: 'unfold', 5048: 'spotlight', 5049: 'tricked', 5050: 'filler', 5051: 'downs', 5052: 'oughta', 5053: 'evenin', 5054: 'pays', 5055: 'repeats', 5056: 'odds', 5057: 'accustomed', 5058: 'fourteen', 5059: 'rack', 5060: 'tempted', 5061: 'dresses', 5062: 'punched', 5063: 'cheats', 5064: 'swallowed', 5065: 'creative', 5066: 'dragging', 5067: 'wakes', 5068: 'headin', 5069: 'released', 5070: 'returning', 5071: 'offers', 5072: 'huge', 5073: 'hann', 5074: 'dearest', 5075: 'slamming', 5076: 'cuddle', 5077: 'internal', 5078: 'nimble', 5079: 'harmony', 5080: 'adrenaline', 5081: 'placed', 5082: 'dancers', 5083: 'halfway', 5084: 'longed', 5085: 'thrive', 5086: 'shocked', 5087: 'marriage', 5088: 'broadway', 5089: 'tummy', 5090: 'expecting', 5091: 'innocence', 5092: 'arrived', 5093: 'fighter', 5094: 'everythings', 5095: 'lames', 5096: 'manhattan', 5097: 'hahaha', 5098: 'information', 5099: 'drifting', 5100: 'jeweler', 5101: 'valentine', 5102: 'greetings', 5103: 'carrying', 5104: 'jukebox', 5105: 'winding', 5106: 'getter', 5107: 'stealing', 5108: 'mankind', 5109: 'ypocrites', 5110: 'explore', 5111: 'planted', 5112: 'cornerstone', 5113: 'dump', 5114: 'tumbling', 5115: 'safety', 5116: 'sweep', 5117: 'carefully', 5118: 'counted', 5119: 'cunt', 5120: 'wooo', 5121: 'unpredictable', 5122: 'grocery', 5123: 'routine', 5124: 'adrift', 5125: 'slack', 5126: 'engines', 5127: 'german', 5128: 'vanity', 5129: 'darker', 5130: 'healthy', 5131: 'psycho', 5132: 'autumn', 5133: 'crowds', 5134: 'ep', 5135: 'atrapados', 5136: 'casa', 5137: 'cabeza', 5138: 'tens', 5139: 'getaway', 5140: 'penthouse', 5141: 'delicious', 5142: 'mere', 5143: 'ruined', 5144: 'spades', 5145: 'seldom', 5146: 'preaching', 5147: 'hopscotch', 5148: 'coochie', 5149: 'crucify', 5150: 'masterpiece', 5151: 'justin', 5152: 'adam', 5153: 'galaxy', 5154: 'wassup', 5155: 'tickin', 5156: 'manager', 5157: 'sonny', 5158: 'commission', 5159: 'badlands', 5160: 'lone', 5161: 'gear', 5162: 'whispering', 5163: 'mayor', 5164: 'stride', 5165: 'wed', 5166: 'wagon', 5167: 'grooves', 5168: 'hazy', 5169: 'retreat', 5170: 'youngstown', 5171: 'packing', 5172: 'whipping', 5173: 'companion', 5174: 'spotted', 5175: 'paranoid', 5176: 'freakshow', 5177: 'rounds', 5178: 'rotten', 5179: 'hopping', 5180: 'semi', 5181: 'ape', 5182: 'spider', 5183: 'mysterious', 5184: 'fog', 5185: 'forced', 5186: 'au', 5187: 'vii', 5188: 'viii', 5189: 'ix', 5190: 'xi', 5191: 'xii', 5192: 'chariot', 5193: 'xiv', 5194: 'xv', 5195: 'xvi', 5196: 'sting', 5197: 'parting', 5198: 'caper', 5199: 'england', 5200: 'timid', 5201: 'suits', 5202: 'meek', 5203: 'dots', 5204: 'sailor', 5205: 'kindly', 5206: 'replied', 5207: 'conscious', 5208: 'following', 5209: 'creatures', 5210: 'curious', 5211: 'tramp', 5212: 'express', 5213: 'chubby', 5214: 'beetle', 5215: 'menace', 5216: 'unique', 5217: 'landlord', 5218: 'basis', 5219: 'egg', 5220: 'grape', 5221: 'dealt', 5222: 'bushes', 5223: 'stripped', 5224: 'facin', 5225: 'wired', 5226: 'vine', 5227: 'wakin', 5228: 'washington', 5229: 'chimney', 5230: 'alphabet', 5231: 'addict', 5232: 'cleaned', 5233: 'lincoln', 5234: 'shatter', 5235: 'cabin', 5236: 'piling', 5237: 'causes', 5238: 'tame', 5239: 'eli', 5240: 'barrel', 5241: 'coon', 5242: 'yearnin', 5243: 'limbs', 5244: 'sews', 5245: 'sacks', 5246: 'janis', 5247: 'doggone', 5248: 'alarmed', 5249: 'virgins', 5250: 'marine', 5251: 'caesar', 5252: 'era', 5253: 'avec', 5254: 'stackin', 5255: 'percent', 5256: 'oscar', 5257: 'matrix', 5258: 'boi', 5259: 'counter', 5260: 'secretary', 5261: 'commitment', 5262: 'suckers', 5263: 'cue', 5264: 'cuff', 5265: 'arrest', 5266: 'kidneys', 5267: 'indo', 5268: 'sluts', 5269: 'pajamas', 5270: 'muthafucka', 5271: 'views', 5272: 'motto', 5273: 'hookers', 5274: 'tipsy', 5275: 'assistance', 5276: 'jessica', 5277: 'producer', 5278: 'vegetable', 5279: 'handlin', 5280: 'gifted', 5281: 'wham', 5282: 'critical', 5283: 'puffed', 5284: 'hired', 5285: 'endin', 5286: 'claiming', 5287: 'reminisce', 5288: 'nori', 5289: 'bothered', 5290: 'dealers', 5291: 'hineni', 5292: 'treaty', 5293: 'magical', 5294: 'stunting', 5295: 'thinker', 5296: 'dykes', 5297: 'ashy', 5298: 'combination', 5299: 'unplugged', 5300: 'caddy', 5301: 'linda', 5302: 'wosh', 5303: 'thata', 5304: 'composure', 5305: 'semen', 5306: 'musik', 5307: 'crap', 5308: 'mariah', 5309: 'smacked', 5310: 'bumpin', 5311: 'crackin', 5312: 'demo', 5313: 'couldve', 5314: 'lightskinned', 5315: 'thatd', 5316: 'pi', 5317: 'bumblebee', 5318: 'polly', 5319: 'leak', 5320: 'yak', 5321: 'hormones', 5322: 'crisco', 5323: 'charley', 5324: 'factual', 5325: 'shoo', 5326: 'flexin', 5327: 'lib', 5328: 'siedah', 5329: 'demerol', 5330: 'frauds', 5331: 'bidi', 5332: 'citizen', 5333: 'scandalous', 5334: 'ner', 5335: 'beret', 5336: 'lovesexy', 5337: 'orion', 5338: 'dolphin', 5339: 'compares', 5340: 'overseas', 5341: 'imagined', 5342: 'desperate', 5343: 'stubborn', 5344: 'crashing', 5345: 'request', 5346: 'leading', 5347: 'hallways', 5348: 'spice', 5349: 'mammy', 5350: 'welfare', 5351: 'happily', 5352: 'eiffel', 5353: 'strangest', 5354: 'moore', 5355: 'taller', 5356: 'tow', 5357: 'attempt', 5358: 'weakness', 5359: 'hangs', 5360: 'poured', 5361: 'confuse', 5362: 'allowed', 5363: 'blanket', 5364: 'lily', 5365: 'needy', 5366: 'shooters', 5367: 'romantic', 5368: 'crave', 5369: 'mutual', 5370: 'effort', 5371: 'passionate', 5372: 'lighter', 5373: 'ponies', 5374: 'immature', 5375: 'thorn', 5376: 'sl', 5377: 'curfew', 5378: 'superficial', 5379: 'needles', 5380: 'qui', 5381: 'tragedy', 5382: 'teenage', 5383: 'juicy', 5384: 'sexuality', 5385: 'warrior', 5386: 'relief', 5387: 'tuned', 5388: 'hates', 5389: 'equal', 5390: 'groovin', 5391: 'coca', 5392: 'cable', 5393: 'choking', 5394: 'juba', 5395: 'barber', 5396: 'photographs', 5397: 'marmalade', 5398: 'introduce', 5399: 'windy', 5400: 'cave', 5401: 'avoid', 5402: 'complaining', 5403: 'woy', 5404: 'driven', 5405: 'vibration', 5406: 'plant', 5407: 'likely', 5408: 'slogans', 5409: 'trumpet', 5410: 'pleadin', 5411: 'tit', 5412: 'grooving', 5413: 'fluorescent', 5414: 'treason', 5415: 'blur', 5416: 'stagger', 5417: 'sexual', 5418: 'boxes', 5419: 'blinds', 5420: 'gutter', 5421: 'unlock', 5422: 'worthless', 5423: 'fuel', 5424: 'smoky', 5425: 'bending', 5426: 'cans', 5427: 'edition', 5428: 'shaped', 5429: 'shakes', 5430: 'cape', 5431: 'motel', 5432: 'determined', 5433: 'steaming', 5434: 'sports', 5435: 'brandy', 5436: 'mostly', 5437: 'sway', 5438: 'estar', 5439: 'conmigo', 5440: 'clappin', 5441: 'warmin', 5442: 'whoop', 5443: 'celebration', 5444: 'halle', 5445: 'drawing', 5446: 'getcha', 5447: 'spike', 5448: 'perfection', 5449: 'tempo', 5450: 'tailor', 5451: 'bae', 5452: 'hesitation', 5453: 'buns', 5454: 'possession', 5455: 'heartbreaker', 5456: 'symphony', 5457: 'regular', 5458: 'icy', 5459: 'successful', 5460: 'flyest', 5461: 'scott', 5462: 'tasted', 5463: 'tucked', 5464: 'guitars', 5465: 'bruises', 5466: 'display', 5467: 'maple', 5468: 'package', 5469: 'gospel', 5470: 'gained', 5471: 'canal', 5472: 'rybody', 5473: 'salute', 5474: 'sinkin', 5475: 'stores', 5476: 'connected', 5477: 'bikini', 5478: 'lime', 5479: 'unusual', 5480: 'bends', 5481: 'flipping', 5482: 'marie', 5483: 'ali', 5484: 'brass', 5485: 'snail', 5486: 'possessed', 5487: 'idle', 5488: 'cinderelly', 5489: 'granny', 5490: 'maui', 5491: 'armor', 5492: 'task', 5493: 'pudding', 5494: 'stroll', 5495: 'phenomenon', 5496: 'drill', 5497: 'halls', 5498: 'hakuna', 5499: 'wildest', 5500: 'playboy', 5501: 'bark', 5502: 'xvii', 5503: 'xviii', 5504: 'infinite', 5505: 'reeling', 5506: 'wardrobe', 5507: 'seeds', 5508: 'bald', 5509: 'lightly', 5510: 'follows', 5511: 'mortal', 5512: 'poems', 5513: 'todd', 5514: 'frog', 5515: 'secure', 5516: 'earl', 5517: 'duel', 5518: 'wrecked', 5519: 'guests', 5520: 'transport', 5521: 'sentence', 5522: 'buckle', 5523: 'stoop', 5524: 'rubies', 5525: 'pours', 5526: 'sounded', 5527: 'seeking', 5528: 'vast', 5529: 'larger', 5530: 'mournful', 5531: 'ribbons', 5532: 'cycle', 5533: 'tangled', 5534: 'cigar', 5535: 'handing', 5536: 'inches', 5537: 'leopard', 5538: 'desolation', 5539: 'razor', 5540: 'chokin', 5541: 'barkin', 5542: 'mare', 5543: 'coyote', 5544: 'refused', 5545: 'idol', 5546: 'blueberry', 5547: 'codeine', 5548: 'murdered', 5549: 'throwed', 5550: 'folk', 5551: 'tweetle', 5552: 'hash', 5553: 'jim', 5554: 'gump', 5555: 'foolin', 5556: 'caterpillar', 5557: 'easter', 5558: 'starfish', 5559: 'cus', 5560: 'giggle', 5561: 'casey', 5562: 'miller', 5563: 'straw', 5564: 'limp', 5565: 'hayes', 5566: 'eric', 5567: 'conversate', 5568: 'grammys', 5569: 'shrink', 5570: 'forfeit', 5571: 'lex', 5572: 'diet', 5573: 'shh', 5574: 'cookies', 5575: 'braids', 5576: 'jag', 5577: 'dc', 5578: 'textin', 5579: 'sweets', 5580: 'bg', 5581: 'graduated', 5582: 'rookie', 5583: 'forrest', 5584: 'status', 5585: 'nickname', 5586: 'sleepless', 5587: 'session', 5588: 'owner', 5589: 'seater', 5590: 'flick', 5591: 'menage', 5592: 'hampton', 5593: 'iphone', 5594: 'popular', 5595: 'license', 5596: 'anna', 5597: 'prob', 5598: 'salon', 5599: 'gnashing', 5600: 'quake', 5601: 'poupon', 5602: 'jr', 5603: 'liking', 5604: 'crackhead', 5605: 'nines', 5606: 'devoted', 5607: 'bartender', 5608: 'invincible', 5609: 'drinker', 5610: 'usa', 5611: 'soir', 5612: 'tails', 5613: 'sexxx', 5614: 'continental', 5615: 'totin', 5616: 'clarence', 5617: 'waddle', 5618: 'classy', 5619: 'magnum', 5620: 'melon', 5621: 'diddle', 5622: 'malt', 5623: 'ivy', 5624: 'mee', 5625: 'taffy', 5626: 'thugged', 5627: 'clockin', 5628: 'superfunkycalifragisexy', 5629: 'details', 5630: 'pavements', 5631: 'cracks', 5632: 'pavement', 5633: 'shorts', 5634: 'collide', 5635: 'gravity', 5636: 'subject', 5637: 'explosion', 5638: 'seam', 5639: 'opening', 5640: 'tripped', 5641: 'glue', 5642: 'cherish', 5643: 'helping', 5644: 'nighttime', 5645: 'pane', 5646: 'endure', 5647: 'points', 5648: 'lasting', 5649: 'stacked', 5650: 'sale', 5651: 'attached', 5652: 'dunno', 5653: 'depression', 5654: 'philosophy', 5655: 'stages', 5656: 'turtle', 5657: 'willow', 5658: 'instrumental', 5659: 'resting', 5660: 'morel', 5661: 'masculine', 5662: 'fantasize', 5663: 'fetch', 5664: 'surround', 5665: 'uncertain', 5666: 'directions', 5667: 'puzzle', 5668: 'solitude', 5669: 'threads', 5670: 'cigars', 5671: 'multiply', 5672: 'absolutely', 5673: 'slightly', 5674: 'hides', 5675: 'err', 5676: 'kneel', 5677: 'privacy', 5678: 'guided', 5679: 'mushroom', 5680: 'starving', 5681: 'lungs', 5682: 'atmosphere', 5683: 'baker', 5684: 'stance', 5685: 'ja', 5686: 'desires', 5687: 'discovered', 5688: 'rice', 5689: 'opinion', 5690: 'tus', 5691: 'pies', 5692: 'connection', 5693: 'earthquake', 5694: 'fully', 5695: 'juiciest', 5696: 'obscene', 5697: 'jacks', 5698: 'plague', 5699: 'ave', 5700: 'dissin', 5701: 'guru', 5702: 'blackbird', 5703: 'cracker', 5704: 'sailed', 5705: 'weeps', 5706: 'michelle', 5707: 'ties', 5708: 'gum', 5709: 'hela', 5710: 'sermon', 5711: 'roar', 5712: 'chicka', 5713: 'maxwell', 5714: 'clowns', 5715: 'ere', 5716: 'mental', 5717: 'rows', 5718: 'rasta', 5719: 'temper', 5720: 'capital', 5721: 'crows', 5722: 'frighten', 5723: 'mystic', 5724: 'tat', 5725: 'shores', 5726: 'brokenhearted', 5727: 'screamed', 5728: 'oblivion', 5729: 'tidal', 5730: 'morrow', 5731: 'funds', 5732: 'terrible', 5733: 'sharpened', 5734: 'chills', 5735: 'groups', 5736: 'coldest', 5737: 'dwelling', 5738: 'flags', 5739: 'plotting', 5740: 'remorse', 5741: 'squirrels', 5742: 'clever', 5743: 'feat', 5744: 'goats', 5745: 'stamps', 5746: 'jets', 5747: 'collection', 5748: 'saddle', 5749: 'ash', 5750: 'tattoos', 5751: 'airplane', 5752: 'democracy', 5753: 'absurd', 5754: 'betray', 5755: 'kitten', 5756: 'hatred', 5757: 'federal', 5758: 'draws', 5759: 'comanche', 5760: 'mastodon', 5761: 'glance', 5762: 'cents', 5763: 'jaws', 5764: 'todos', 5765: 'pronto', 5766: 'rico', 5767: 'hehe', 5768: 'basketball', 5769: 'fragile', 5770: 'gorilla', 5771: 'gorillas', 5772: 'sendin', 5773: 'comfortable', 5774: 'cherries', 5775: 'wandered', 5776: 'term', 5777: 'despacito', 5778: 'deja', 5779: 'sube', 5780: 'response', 5781: 'mula', 5782: 'rendezvous', 5783: 'luke', 5784: 'shield', 5785: 'outlaw', 5786: 'twerk', 5787: 'friendship', 5788: 'romeo', 5789: 'wraith', 5790: 'possibility', 5791: 'commit', 5792: 'knot', 5793: 'penitentiary', 5794: 'tougher', 5795: 'pounding', 5796: 'wrath', 5797: 'tenderness', 5798: 'ohio', 5799: 'howl', 5800: 'ruin', 5801: 'shone', 5802: 'ford', 5803: 'sal', 5804: 'erie', 5805: 'greasy', 5806: 'bargain', 5807: 'jenny', 5808: 'scrap', 5809: 'banner', 5810: 'mixing', 5811: 'fakin', 5812: 'charming', 5813: 'lollipop', 5814: 'closin', 5815: 'sicker', 5816: 'felony', 5817: 'despise', 5818: 'landed', 5819: 'overdosin', 5820: 'rainbows', 5821: 'tales', 5822: 'treasures', 5823: 'galore', 5824: 'orders', 5825: 'bonjour', 5826: 'camp', 5827: 'unfortunate', 5828: 'hoist', 5829: 'hercules', 5830: 'provide', 5831: 'earties', 5832: 'cruella', 5833: 'prick', 5834: 'marvelous', 5835: 'matata', 5836: 'ke', 5837: 'zee', 5838: 'faire', 5839: 'forbidden', 5840: 'interested', 5841: 'xix', 5842: 'xx', 5843: 'xxi', 5844: 'xxii', 5845: 'length', 5846: 'august', 5847: 'arc', 5848: 'moss', 5849: 'artist', 5850: 'plush', 5851: 'buds', 5852: 'communion', 5853: 'northern', 5854: 'beggar', 5855: 'evidence', 5856: 'september', 5857: 'received', 5858: 'quicker', 5859: 'deadly', 5860: 'serpent', 5861: 'contract', 5862: 'suspect', 5863: 'print', 5864: 'period', 5865: 'stem', 5866: 'acres', 5867: 'fork', 5868: 'violate', 5869: 'cradle', 5870: 'pilot', 5871: 'followin', 5872: 'ragged', 5873: 'casket', 5874: 'beginnin', 5875: 'handcuffs', 5876: 'drownin', 5877: 'writers', 5878: 'orphan', 5879: 'riot', 5880: 'cain', 5881: 'deaf', 5882: 'beans', 5883: 'marchin', 5884: 'heated', 5885: 'owl', 5886: 'pinned', 5887: 'stink', 5888: 'math', 5889: 'layer', 5890: 'karl', 5891: 'jefferson', 5892: 'slaughter', 5893: 'banjo', 5894: 'amends', 5895: 'puppy', 5896: 'shattered', 5897: 'tags', 5898: 'windshield', 5899: 'horny', 5900: 'arguing', 5901: 'nat', 5902: 'district', 5903: 'hollered', 5904: 'headaches', 5905: 'chickens', 5906: 'marked', 5907: 'saginaw', 5908: 'realest', 5909: 'signing', 5910: 'mommas', 5911: 'racist', 5912: 'lucifer', 5913: 'disrespectful', 5914: 'benjamin', 5915: 'phillipe', 5916: 'gotti', 5917: 'turnt', 5918: 'thuggin', 5919: 'kong', 5920: 'brrr', 5921: 'clone', 5922: 'speeding', 5923: 'fab', 5924: 'swizz', 5925: 'yelling', 5926: 'mothafucka', 5927: 'drowsy', 5928: 'medusa', 5929: 'eastside', 5930: 'flights', 5931: 'nobu', 5932: 'dopeman', 5933: 'erica', 5934: 'scale', 5935: 'tryina', 5936: 'suite', 5937: 'hurtin', 5938: 'offended', 5939: 'gram', 5940: 'exposed', 5941: 'glitter', 5942: 'toilet', 5943: 'ounce', 5944: 'channel', 5945: 'carey', 5946: 'chelsea', 5947: 'navy', 5948: 'morgantown', 5949: 'cannibals', 5950: 'aria', 5951: 'lopez', 5952: 'geico', 5953: 'affiliated', 5954: 'yeezus', 5955: 'suicides', 5956: 'couture', 5957: 'switched', 5958: 'backstroke', 5959: 'jordans', 5960: 'method', 5961: 'gunshots', 5962: 'meter', 5963: 'pose', 5964: 'bernadette', 5965: 'alexandra', 5966: 'interest', 5967: 'racin', 5968: 'ich', 5969: 'schleiban', 5970: 'austa', 5971: 'kumpent', 5972: 'ske', 5973: 'monst', 5974: 'flaugen', 5975: 'ulein', 5976: 'uske', 5977: 'dating', 5978: 'donatella', 5979: 'lab', 5980: 'yummy', 5981: 'tigger', 5982: 'overall', 5983: 'nina', 5984: 'cupboard', 5985: 'trivia', 5986: 'maine', 5987: 'uzi', 5988: 'plaque', 5989: 'juss', 5990: 'blaow', 5991: 'sparking', 5992: 'terrified', 5993: 'starter', 5994: 'aaron', 5995: 'kettle', 5996: 'doodle', 5997: 'manning', 5998: 'cocky', 5999: 'ronnie', 6000: 'offend', 6001: 'muthafuckin', 6002: 'bygones', 6003: 'salsa', 6004: 'roman', 6005: 'stereo', 6006: 'wang', 6007: 'youd', 6008: 'affect', 6009: 'embarrass', 6010: 'os', 6011: 'lifes', 6012: 'videotape', 6013: 'nia', 6014: 'spaceship', 6015: 'insanity', 6016: 'stainless', 6017: 'dos', 6018: 'dumpty', 6019: 'libido', 6020: 'sunbeams', 6021: 'haw', 6022: 'steelo', 6023: 'rak', 6024: 'rippin', 6025: 'ooooo', 6026: 'ooooooh', 6027: 'nay', 6028: 'wren', 6029: 'sixpence', 6030: 'telegram', 6031: 'burners', 6032: 'chika', 6033: 'aaaaaaaaah', 6034: 'oooooooooh', 6035: 'rarest', 6036: 'sling', 6037: 'slammin', 6038: 'isabella', 6039: 'nonstop', 6040: 'alot', 6041: 'bedstuy', 6042: 'dreamt', 6043: 'seams', 6044: 'doorstep', 6045: 'ticking', 6046: 'excitement', 6047: 'disappeared', 6048: 'squeezin', 6049: 'daytime', 6050: 'rushing', 6051: 'raindrops', 6052: 'agony', 6053: 'slavery', 6054: 'sighs', 6055: 'soak', 6056: 'jew', 6057: 'nightingale', 6058: 'vacant', 6059: 'longs', 6060: 'files', 6061: 'disturb', 6062: 'delivery', 6063: 'worthwhile', 6064: 'reveal', 6065: 'divorce', 6066: 'housewife', 6067: 'denying', 6068: 'logic', 6069: 'designed', 6070: 'diesel', 6071: 'abused', 6072: 'ricky', 6073: 'throws', 6074: 'tanned', 6075: 'overtime', 6076: 'newborn', 6077: 'quarrel', 6078: 'exhausted', 6079: 'humor', 6080: 'lottery', 6081: 'noises', 6082: 'happier', 6083: 'gorgeous', 6084: 'impatient', 6085: 'ouch', 6086: 'plants', 6087: 'pinch', 6088: 'gibberish', 6089: 'crawled', 6090: 'chord', 6091: 'threat', 6092: 'blossom', 6093: 'fireworks', 6094: 'bites', 6095: 'uphill', 6096: 'bleeding', 6097: 'divorced', 6098: 'baked', 6099: 'var', 6100: 'mey', 6101: 'loyal', 6102: 'value', 6103: 'community', 6104: 'sacrificed', 6105: 'alas', 6106: 'meeting', 6107: 'wounds', 6108: 'midst', 6109: 'wastin', 6110: 'ike', 6111: 'mornings', 6112: 'treats', 6113: 'rely', 6114: 'sincerely', 6115: 'production', 6116: 'destruction', 6117: 'anyhow', 6118: 'loner', 6119: 'arizona', 6120: 'heba', 6121: 'helloa', 6122: 'flown', 6123: 'audience', 6124: 'dreamer', 6125: 'octopus', 6126: 'sweaty', 6127: 'nancy', 6128: 'joan', 6129: 'pleasing', 6130: 'carriage', 6131: 'bundle', 6132: 'stumble', 6133: 'destroyed', 6134: 'shakedown', 6135: 'praises', 6136: 'cia', 6137: 'revelation', 6138: 'ment', 6139: 'metro', 6140: 'suburbia', 6141: 'fart', 6142: 'twat', 6143: 'loudest', 6144: 'survived', 6145: 'hint', 6146: 'goodbyes', 6147: 'collect', 6148: 'unlike', 6149: 'cocksucker', 6150: 'backyard', 6151: 'blond', 6152: 'manic', 6153: 'woken', 6154: 'smashed', 6155: 'starry', 6156: 'ferris', 6157: 'marble', 6158: 'blinding', 6159: 'trading', 6160: 'rank', 6161: 'trophy', 6162: 'wrangle', 6163: 'somber', 6164: 'carbon', 6165: 'sealed', 6166: 'workers', 6167: 'castles', 6168: 'fishing', 6169: 'underrated', 6170: 'intent', 6171: 'proudly', 6172: 'trucks', 6173: 'pleased', 6174: 'qu', 6175: 'por', 6176: 'brad', 6177: 'smoother', 6178: 'pursue', 6179: 'twitter', 6180: 'hunnies', 6181: 'natalie', 6182: 'dared', 6183: 'mis', 6184: 'intimidate', 6185: 'angles', 6186: 'essence', 6187: 'snooze', 6188: 'legal', 6189: 'decision', 6190: 'cruising', 6191: 'bieber', 6192: 'jagged', 6193: 'sinking', 6194: 'borderline', 6195: 'literally', 6196: 'badge', 6197: 'driveway', 6198: 'sends', 6199: 'crosses', 6200: 'frames', 6201: 'complainin', 6202: 'sights', 6203: 'pilgrim', 6204: 'cosmic', 6205: 'catfish', 6206: 'franky', 6207: 'meals', 6208: 'differently', 6209: 'lizard', 6210: 'suede', 6211: 'sales', 6212: 'blindness', 6213: 'sore', 6214: 'barefoot', 6215: 'dodge', 6216: 'hunted', 6217: 'reins', 6218: 'sloppy', 6219: 'noose', 6220: 'rougher', 6221: 'governor', 6222: 'resort', 6223: 'current', 6224: 'commotion', 6225: 'bubbles', 6226: 'ignite', 6227: 'mold', 6228: 'nada', 6229: 'untold', 6230: 'trails', 6231: 'dreamers', 6232: 'moana', 6233: 'payment', 6234: 'heed', 6235: 'fishes', 6236: 'spunk', 6237: 'dinners', 6238: 'mini', 6239: 'vie', 6240: 'scare', 6241: 'pear', 6242: 'overcome', 6243: 'glorious', 6244: 'ca', 6245: 'russian', 6246: 'wilt', 6247: 'privilege', 6248: 'majority', 6249: 'handled', 6250: 'ample', 6251: 'nations', 6252: 'xxiii', 6253: 'xxiv', 6254: 'xxv', 6255: 'xxvi', 6256: 'scarlet', 6257: 'maiden', 6258: 'calvary', 6259: 'tunes', 6260: 'vehicle', 6261: 'humming', 6262: 'solemn', 6263: 'daisies', 6264: 'furthest', 6265: 'mentioned', 6266: 'shorter', 6267: 'flee', 6268: 'tint', 6269: 'tug', 6270: 'crumbs', 6271: 'captive', 6272: 'estate', 6273: 'squirrel', 6274: 'title', 6275: 'emerald', 6276: 'fists', 6277: 'sailors', 6278: 'minor', 6279: 'addressed', 6280: 'jury', 6281: 'petals', 6282: 'struggled', 6283: 'fearing', 6284: 'stun', 6285: 'stakes', 6286: 'thanksgiving', 6287: 'drought', 6288: 'forsake', 6289: 'earrings', 6290: 'chime', 6291: 'balloon', 6292: 'liquid', 6293: 'gracious', 6294: 'howard', 6295: 'national', 6296: 'jangle', 6297: 'stall', 6298: 'savin', 6299: 'jade', 6300: 'graveyard', 6301: 'swords', 6302: 'irons', 6303: 'capture', 6304: 'slaughtered', 6305: 'william', 6306: 'entwined', 6307: 'persian', 6308: 'tombstone', 6309: 'graves', 6310: 'cheeks', 6311: 'gratitude', 6312: 'berserk', 6313: 'backwoods', 6314: 'embarrassed', 6315: 'automobile', 6316: 'fragrance', 6317: 'bitty', 6318: 'kentucky', 6319: 'charlie', 6320: 'hippies', 6321: 'catchin', 6322: 'stains', 6323: 'pete', 6324: 'flamin', 6325: 'eyebrows', 6326: 'luther', 6327: 'knight', 6328: 'pledge', 6329: 'francis', 6330: 'robert', 6331: 'ann', 6332: 'virginia', 6333: 'honored', 6334: 'tout', 6335: 'mes', 6336: 'sp', 6337: 'process', 6338: 'albums', 6339: 'speedin', 6340: 'beverly', 6341: 'gloves', 6342: 'motivation', 6343: 'arenas', 6344: 'losses', 6345: 'piggy', 6346: 'budget', 6347: 'tecs', 6348: 'chainz', 6349: 'troops', 6350: 'wen', 6351: 'hearin', 6352: 'mobbin', 6353: 'cocks', 6354: 'reppin', 6355: 'computer', 6356: 'fucks', 6357: 'thots', 6358: 'sympathy', 6359: 'mil', 6360: 'vu', 6361: 'bosses', 6362: 'tvs', 6363: 'dealership', 6364: 'murk', 6365: 'lotus', 6366: 'monica', 6367: 'teams', 6368: 'poke', 6369: 'bros', 6370: 'duckin', 6371: 'tigers', 6372: 'dilla', 6373: 'schemin', 6374: 'serena', 6375: 'snoop', 6376: 'sticking', 6377: 'polos', 6378: 'benzes', 6379: 'shaq', 6380: 'roach', 6381: 'missile', 6382: 'bumping', 6383: 'pastel', 6384: 'paths', 6385: 'arguin', 6386: 'montana', 6387: 'akon', 6388: 'showers', 6389: 'spazzin', 6390: 'rodeo', 6391: 'dropout', 6392: 'blacks', 6393: 'vanilla', 6394: 'auntie', 6395: 'episode', 6396: 'rubbing', 6397: 'lewinsky', 6398: 'zoning', 6399: 'student', 6400: 'oj', 6401: 'louvre', 6402: 'witnesses', 6403: 'bub', 6404: 'hypnotic', 6405: 'ga', 6406: 'squealer', 6407: 'americano', 6408: 'techs', 6409: 'brian', 6410: 'feeding', 6411: 'dolce', 6412: 'manicured', 6413: 'everybodys', 6414: 'ridiculous', 6415: 'shorties', 6416: 'creole', 6417: 'crook', 6418: 'january', 6419: 'discussin', 6420: 'currency', 6421: 'pint', 6422: 'das', 6423: 'beaming', 6424: 'posse', 6425: 'homo', 6426: 'graceless', 6427: 'royals', 6428: 'blades', 6429: 'alex', 6430: 'committed', 6431: 'intercourse', 6432: 'mathers', 6433: 'celebrating', 6434: 'fuckers', 6435: 'spittin', 6436: 'jackin', 6437: 'cleanin', 6438: 'props', 6439: 'chumps', 6440: 'argh', 6441: 'reefer', 6442: 'addictive', 6443: 'kani', 6444: 'cabbage', 6445: 'benzino', 6446: 'elevated', 6447: 'sprayed', 6448: 'sips', 6449: 'punchin', 6450: 'condoms', 6451: 'rash', 6452: 'mos', 6453: 'nba', 6454: 'stacy', 6455: 'snapchat', 6456: 'humpty', 6457: 'albino', 6458: 'sunbeam', 6459: 'orlando', 6460: 'blap', 6461: 'reload', 6462: 'voulez', 6463: 'gators', 6464: 'afro', 6465: 'sliding', 6466: 'lol', 6467: 'crusher', 6468: 'disturbin', 6469: 'vicki', 6470: 'cee', 6471: 'propa', 6472: 'graffiti', 6473: 'derulo', 6474: 'domino', 6475: 'bladder', 6476: 'jm', 6477: 'crimes', 6478: 'muah', 6479: 'tonite', 6480: 'minneapolis', 6481: 'reminded', 6482: 'petrified', 6483: 'eternally', 6484: 'platter', 6485: 'crazier', 6486: 'apology', 6487: 'biding', 6488: 'despite', 6489: 'dried', 6490: 'shoots', 6491: 'cautious', 6492: 'exception', 6493: 'forests', 6494: 'tomorrows', 6495: 'firm', 6496: 'shown', 6497: 'moans', 6498: 'linger', 6499: 'soothe', 6500: 'overnight', 6501: 'convince', 6502: 'rearrange', 6503: 'sweetly', 6504: 'spilling', 6505: 'initial', 6506: 'carries', 6507: 'pacify', 6508: 'warmth', 6509: 'smokes', 6510: 'attraction', 6511: 'disturbed', 6512: 'distraction', 6513: 'slight', 6514: 'alibi', 6515: 'moschino', 6516: 'revealing', 6517: 'tcha', 6518: 'nicky', 6519: 'gladly', 6520: 'concentrate', 6521: 'token', 6522: 'touches', 6523: 'hypnotized', 6524: 'beard', 6525: 'lin', 6526: 'mig', 6527: 'afte', 6528: 'gloomy', 6529: 'accidentally', 6530: 'wanderlust', 6531: 'aboard', 6532: 'courage', 6533: 'fanta', 6534: 'huulia', 6535: 'hillallaa', 6536: 'slender', 6537: 'generous', 6538: 'soil', 6539: 'cowards', 6540: 'birthed', 6541: 'amaze', 6542: 'wade', 6543: 'ripe', 6544: 'obey', 6545: 'delayed', 6546: 'fridge', 6547: 'catastrophe', 6548: 'richie', 6549: 'mikey', 6550: 'dedicated', 6551: 'separated', 6552: 'alguien', 6553: 'cuando', 6554: 'boundaries', 6555: 'goliath', 6556: 'prosper', 6557: 'snitchin', 6558: 'replaced', 6559: 'legends', 6560: 'tina', 6561: 'oprah', 6562: 'jacksons', 6563: 'naive', 6564: 'caged', 6565: 'facing', 6566: 'wreckless', 6567: 'jai', 6568: 'deva', 6569: 'arise', 6570: 'homeward', 6571: 'handy', 6572: 'assured', 6573: 'joker', 6574: 'meadows', 6575: 'solution', 6576: 'joob', 6577: 'yi', 6578: 'sgt', 6579: 'bompa', 6580: 'ussr', 6581: 'studied', 6582: 'science', 6583: 'taxman', 6584: 'vocal', 6585: 'steadily', 6586: 'remained', 6587: 'arrival', 6588: 'whop', 6589: 'judging', 6590: 'recipe', 6591: 'guava', 6592: 'unhappy', 6593: 'ism', 6594: 'spliff', 6595: 'herb', 6596: 'pleasant', 6597: 'murderers', 6598: 'teaching', 6599: 'nough', 6600: 'ankle', 6601: 'turd', 6602: 'hurried', 6603: 'chaser', 6604: 'tequila', 6605: 'sank', 6606: 'purchase', 6607: 'balcony', 6608: 'spoiled', 6609: 'static', 6610: 'naaaa', 6611: 'locker', 6612: 'departed', 6613: 'secretly', 6614: 'striving', 6615: 'bloated', 6616: 'budgets', 6617: 'torsos', 6618: 'spires', 6619: 'understanding', 6620: 'chinese', 6621: 'tense', 6622: 'throughout', 6623: 'aging', 6624: 'convert', 6625: 'boot', 6626: 'soothed', 6627: 'lettuce', 6628: 'headlines', 6629: 'arco', 6630: 'scent', 6631: 'masses', 6632: 'nests', 6633: 'foundation', 6634: 'fumes', 6635: 'waltzes', 6636: 'kush', 6637: 'puedo', 6638: 'gustar', 6639: 'manera', 6640: 'siente', 6641: 'atrapado', 6642: 'julio', 6643: 'milli', 6644: 'cuban', 6645: 'chunky', 6646: 'spy', 6647: 'unfair', 6648: 'starin', 6649: 'neighbour', 6650: 'moonshine', 6651: 'jewel', 6652: 'actions', 6653: 'strobe', 6654: 'jumps', 6655: 'achieve', 6656: 'pasito', 6657: 'nos', 6658: 'poquito', 6659: 'imitators', 6660: 'uuh', 6661: 'blizzard', 6662: 'females', 6663: 'romancing', 6664: 'bunny', 6665: 'bothers', 6666: 'goals', 6667: 'ish', 6668: 'headlights', 6669: 'dedication', 6670: 'recognition', 6671: 'breezy', 6672: 'crooks', 6673: 'aisle', 6674: 'bathing', 6675: 'musta', 6676: 'curly', 6677: 'landing', 6678: 'costume', 6679: 'fiery', 6680: 'wheat', 6681: 'limb', 6682: 'yappin', 6683: 'sherry', 6684: 'delta', 6685: 'scratched', 6686: 'whoaaa', 6687: 'doorway', 6688: 'route', 6689: 'beaten', 6690: 'peaceful', 6691: 'creek', 6692: 'senorita', 6693: 'stranded', 6694: 'groceries', 6695: 'pic', 6696: 'weve', 6697: 'ignorant', 6698: 'bacon', 6699: 'aa', 6700: 'fiddler', 6701: 'mea', 6702: 'culpa', 6703: 'deeds', 6704: 'nicest', 6705: 'heights', 6706: 'armies', 6707: 'plea', 6708: 'gathering', 6709: 'presents', 6710: 'kidnap', 6711: 'disney', 6712: 'bella', 6713: 'translation', 6714: 'royalty', 6715: 'transformation', 6716: 'comme', 6717: 'poverty', 6718: 'glee', 6719: 'library', 6720: 'slides', 6721: 'recollect', 6722: 'guessed', 6723: 'accent', 6724: 'hath', 6725: 'overflow', 6726: 'symbol', 6727: 'reject', 6728: 'concern', 6729: 'orchard', 6730: 'resume', 6731: 'robins', 6732: 'western', 6733: 'xxvii', 6734: 'xxviii', 6735: 'xxix', 6736: 'ceased', 6737: 'beads', 6738: 'strung', 6739: 'dreary', 6740: 'smallest', 6741: 'emily', 6742: 'dickinson', 6743: 'earlier', 6744: 'frequently', 6745: 'particular', 6746: 'ourself', 6747: 'vivid', 6748: 'spectre', 6749: 'native', 6750: 'fond', 6751: 'boast', 6752: 'port', 6753: 'principle', 6754: 'enterprise', 6755: 'axe', 6756: 'swung', 6757: 'shaft', 6758: 'sewed', 6759: 'wool', 6760: 'circumstance', 6761: 'gowns', 6762: 'difficult', 6763: 'invest', 6764: 'annihilate', 6765: 'sped', 6766: 'noble', 6767: 'streams', 6768: 'swamp', 6769: 'actual', 6770: 'pronounce', 6771: 'bums', 6772: 'gambler', 6773: 'pourin', 6774: 'attacks', 6775: 'ruins', 6776: 'masters', 6777: 'ringin', 6778: 'warn', 6779: 'strangled', 6780: 'charles', 6781: 'teddy', 6782: 'pistols', 6783: 'egyptian', 6784: 'davis', 6785: 'nailed', 6786: 'dagger', 6787: 'bumpety', 6788: 'courts', 6789: 'quote', 6790: 'wages', 6791: 'compete', 6792: 'handful', 6793: 'honors', 6794: 'pretendin', 6795: 'casting', 6796: 'stalking', 6797: 'peach', 6798: 'ribs', 6799: 'grease', 6800: 'swarm', 6801: 'cloth', 6802: 'buddha', 6803: 'wilder', 6804: 'shack', 6805: 'accepted', 6806: 'squeezed', 6807: 'melted', 6808: 'gravy', 6809: 'tragic', 6810: 'beetles', 6811: 'bottled', 6812: 'whoville', 6813: 'popcorn', 6814: 'pup', 6815: 'bumped', 6816: 'swish', 6817: 'bandanna', 6818: 'toronto', 6819: 'internet', 6820: 'lordy', 6821: 'whew', 6822: 'whoaa', 6823: 'ni', 6824: 'assume', 6825: 'waterfall', 6826: 'drool', 6827: 'ducks', 6828: 'climate', 6829: 'claims', 6830: 'rockets', 6831: 'glare', 6832: 'booze', 6833: 'gravel', 6834: 'whirlwind', 6835: 'nebraska', 6836: 'klondike', 6837: 'grunt', 6838: 'notch', 6839: 'wu', 6840: 'petty', 6841: 'kane', 6842: 'swerving', 6843: 'jacobs', 6844: 'hazine', 6845: 'ouah', 6846: 'shyne', 6847: 'beyonc', 6848: 'suckas', 6849: 'bon', 6850: 'gripping', 6851: 'ovo', 6852: 'sport', 6853: 'discussion', 6854: 'madison', 6855: 'trump', 6856: 'mutha', 6857: 'snitches', 6858: 'pitbull', 6859: 'goyard', 6860: 'mannie', 6861: 'psychotic', 6862: 'camouflaged', 6863: 'mayhem', 6864: 'singles', 6865: 'congress', 6866: 'sh', 6867: 'passive', 6868: 'hotline', 6869: 'writin', 6870: 'baka', 6871: 'stardom', 6872: 'texting', 6873: 'gloss', 6874: 'canada', 6875: 'representing', 6876: 'strugglin', 6877: 'beretta', 6878: 'manners', 6879: 'locations', 6880: 'surgery', 6881: 'woes', 6882: 'rental', 6883: 'mentally', 6884: 'sounding', 6885: 'waitress', 6886: 'reel', 6887: 'pins', 6888: 'spooky', 6889: 'charts', 6890: 'actor', 6891: 'diving', 6892: 'chip', 6893: 'wires', 6894: 'poppy', 6895: 'wronger', 6896: 'yous', 6897: 'dyke', 6898: 'ndale', 6899: 'obama', 6900: 'scanners', 6901: 'supernatural', 6902: 'douche', 6903: 'mardi', 6904: 'gras', 6905: 'adidas', 6906: 'flashed', 6907: 'deserved', 6908: 'farrakhan', 6909: 'jamaicans', 6910: 'estelle', 6911: 'hangover', 6912: 'usin', 6913: 'porno', 6914: 'agent', 6915: 'christians', 6916: 'ceilin', 6917: 'yankee', 6918: 'berlin', 6919: 'sage', 6920: 'manual', 6921: 'blunted', 6922: 'roberto', 6923: 'soar', 6924: 'rewrite', 6925: 'nein', 6926: 'zedd', 6927: 'former', 6928: 'unemotional', 6929: 'digg', 6930: 'tippin', 6931: 'smoker', 6932: 'birdies', 6933: 'jazze', 6934: 'republican', 6935: 'plannin', 6936: 'relaxin', 6937: 'teens', 6938: 'fullest', 6939: 'jacked', 6940: 'cummin', 6941: 'tpain', 6942: 'yawnin', 6943: 'gudda', 6944: 'letsletslets', 6945: 'faggots', 6946: 'fck', 6947: 'scripture', 6948: 'mega', 6949: 'persistence', 6950: 'budge', 6951: 'amongst', 6952: 'braggin', 6953: 'jock', 6954: 'liability', 6955: 'hologram', 6956: 'basket', 6957: 'systems', 6958: 'shadys', 6959: 'imitating', 6960: 'shitty', 6961: 'whack', 6962: 'fackin', 6963: 'cranium', 6964: 'chemical', 6965: 'inhale', 6966: 'swayze', 6967: 'berzerk', 6968: 'jake', 6969: 'poster', 6970: 'doja', 6971: 'killings', 6972: 'aids', 6973: 'hova', 6974: 'highness', 6975: 'selfconscious', 6976: 'blocka', 6977: 'jayz', 6978: 'sadie', 6979: 'wouldve', 6980: 'ny', 6981: 'yacht', 6982: 'actors', 6983: 'bash', 6984: 'dunn', 6985: 'sistas', 6986: 'knapsack', 6987: 'beyonce', 6988: 'gstring', 6989: 'male', 6990: 'ralph', 6991: 'shawn', 6992: 'cnotes', 6993: 'lounging', 6994: 'elliott', 6995: 'krunk', 6996: 'coucher', 6997: 'jaguars', 6998: 'rrr', 6999: 'hyped', 7000: 'tlc', 7001: 'knicks', 7002: 'craig', 7003: 'ficky', 7004: 'quack', 7005: 'fol', 7006: 'doot', 7007: 'sera', 7008: 'jacuzzi', 7009: 'assign', 7010: 'westside', 7011: 'uuuuuuuuuuh', 7012: 'grievin', 7013: 'ove', 7014: 'trendsetter', 7015: 'bodi', 7016: 'twistelettes', 7017: 'transcend', 7018: 'algiers', 7019: 'ninefo', 7020: 'benzs', 7021: 'manila', 7022: 'pathfinder', 7023: 'thirteens', 7024: 'boricua', 7025: 'tae', 7026: 'kwon', 7027: 'fofo', 7028: 'bolivia', 7029: 'olivia', 7030: 'bankroll', 7031: 'htown', 7032: 'bushwick', 7033: 'bodysuit', 7034: 'spandex', 7035: 'buster', 7036: 'caressin', 7037: 'undressin', 7038: 'milks', 7039: 'eightyeight', 7040: 'spliffs', 7041: 'sidekicks', 7042: 'goodiegoodies', 7043: 'dinin', 7044: 'babys', 7045: 'bk', 7046: 'beotch', 7047: 'believable', 7048: 'wantcha', 7049: 'endorphinmachine', 7050: 'skirts', 7051: 'delicate', 7052: 'crumbling', 7053: 'adjust', 7054: 'cleared', 7055: 'dignity', 7056: 'scope', 7057: 'oy', 7058: 'conservative', 7059: 'stake', 7060: 'nickels', 7061: 'temporary', 7062: 'eager', 7063: 'stable', 7064: 'punks', 7065: 'reggae', 7066: 'thus', 7067: 'justify', 7068: 'unimportant', 7069: 'including', 7070: 'signal', 7071: 'grapevine', 7072: 'probation', 7073: 'trials', 7074: 'shepherd', 7075: 'guides', 7076: 'trauma', 7077: 'forevermore', 7078: 'stardust', 7079: 'seventy', 7080: 'depressed', 7081: 'tanqueray', 7082: 'perspective', 7083: 'pushes', 7084: 'futile', 7085: 'marlboro', 7086: 'observe', 7087: 'frustration', 7088: 'attracted', 7089: 'pawn', 7090: 'blush', 7091: 'desk', 7092: 'infinitely', 7093: 'forgetting', 7094: 'swings', 7095: 'recently', 7096: 'nikes', 7097: 'delivered', 7098: 'added', 7099: 'aches', 7100: 'terribly', 7101: 'remembrance', 7102: 'yarn', 7103: 'spiders', 7104: 'neo', 7105: 'urban', 7106: 'moth', 7107: 'twigs', 7108: 'grinding', 7109: 'eruption', 7110: 'muscles', 7111: 'china', 7112: 'scatter', 7113: 'surrendered', 7114: 'dan', 7115: 'thad', 7116: 'stari', 7117: 'ei', 7118: 'marquees', 7119: 'backing', 7120: 'superwoman', 7121: 'weh', 7122: 'inna', 7123: 'loan', 7124: 'capone', 7125: 'politics', 7126: 'ova', 7127: 'canto', 7128: 'extreme', 7129: 'overturned', 7130: 'pappa', 7131: 'speculate', 7132: 'schooled', 7133: 'trend', 7134: 'prettiest', 7135: 'pillows', 7136: 'relations', 7137: 'adventure', 7138: 'parted', 7139: 'desmond', 7140: 'expert', 7141: 'villain', 7142: 'fireman', 7143: 'chewing', 7144: 'hoop', 7145: 'bulldog', 7146: 'moscow', 7147: 'hears', 7148: 'appears', 7149: 'declare', 7150: 'bong', 7151: 'yoe', 7152: 'chu', 7153: 'exists', 7154: 'saxophone', 7155: 'puppet', 7156: 'superior', 7157: 'pursued', 7158: 'invitation', 7159: 'defense', 7160: 'lingers', 7161: 'fruits', 7162: 'fe', 7163: 'clothing', 7164: 'caution', 7165: 'damp', 7166: 'borders', 7167: 'hypocrites', 7168: 'drumbeat', 7169: 'potion', 7170: 'poem', 7171: 'rastaman', 7172: 'beliefs', 7173: 'retired', 7174: 'dready', 7175: 'trodding', 7176: 'winepress', 7177: 'university', 7178: 'chuckin', 7179: 'matt', 7180: 'unsuspecting', 7181: 'windmill', 7182: 'timing', 7183: 'echoes', 7184: 'awkward', 7185: 'bruise', 7186: 'typically', 7187: 'outer', 7188: 'threats', 7189: 'disillusioned', 7190: 'undressed', 7191: 'expectations', 7192: 'online', 7193: 'crippled', 7194: 'hobby', 7195: 'clears', 7196: 'television', 7197: 'mulholland', 7198: 'skipping', 7199: 'hooks', 7200: 'tar', 7201: 'curls', 7202: 'proves', 7203: 'rebellion', 7204: 'teenagers', 7205: 'limited', 7206: 'poodle', 7207: 'events', 7208: 'apron', 7209: 'parlor', 7210: 'japan', 7211: 'crumpled', 7212: 'complex', 7213: 'access', 7214: 'falter', 7215: 'yas', 7216: 'swatches', 7217: 'tiempo', 7218: 'contigo', 7219: 'aqu', 7220: 'ser', 7221: 'porque', 7222: 'celestial', 7223: 'lobster', 7224: 'fairest', 7225: 'grenade', 7226: 'silky', 7227: 'dukes', 7228: 'circling', 7229: 'imagining', 7230: 'suave', 7231: 'playground', 7232: 'crescent', 7233: 'homeless', 7234: 'pun', 7235: 'intended', 7236: 'ski', 7237: 'denominator', 7238: 'badly', 7239: 'thirteen', 7240: 'mate', 7241: 'appetite', 7242: 'violins', 7243: 'accomplished', 7244: 'overboard', 7245: 'yeahh', 7246: 'occasion', 7247: 'cray', 7248: 'carnival', 7249: 'acknowledge', 7250: 'error', 7251: 'study', 7252: 'worrying', 7253: 'wendy', 7254: 'someplace', 7255: 'patrol', 7256: 'anti', 7257: 'baseball', 7258: 'gamblin', 7259: 'baltimore', 7260: 'raising', 7261: 'blackness', 7262: 'bug', 7263: 'crushed', 7264: 'bruised', 7265: 'twister', 7266: 'alligator', 7267: 'reverend', 7268: 'searched', 7269: 'dug', 7270: 'nameless', 7271: 'yards', 7272: 'tanks', 7273: 'lieutenant', 7274: 'maryland', 7275: 'maserati', 7276: 'tattooed', 7277: 'pissin', 7278: 'practical', 7279: 'knots', 7280: 'territory', 7281: 'sparks', 7282: 'fader', 7283: 'ahhhh', 7284: 'boxer', 7285: 'apply', 7286: 'verge', 7287: 'kamikaze', 7288: 'steamin', 7289: 'unexpectedly', 7290: 'neat', 7291: 'diff', 7292: 'newt', 7293: 'miserable', 7294: 'virtue', 7295: 'deed', 7296: 'kyrie', 7297: 'eleison', 7298: 'sewing', 7299: 'vice', 7300: 'spilt', 7301: 'appearance', 7302: 'servant', 7303: 'thumbs', 7304: 'minnie', 7305: 'harpoon', 7306: 'horizon', 7307: 'blinking', 7308: 'canaan', 7309: 'mmmmmm', 7310: 'docile', 7311: 'expressed', 7312: 'sweetness', 7313: 'daffodils', 7314: 'opinions', 7315: 'brazil', 7316: 'stair', 7317: 'hymn', 7318: 'toil', 7319: 'resurrection', 7320: 'safer', 7321: 'awe', 7322: 'breezes', 7323: 'contented', 7324: 'victorious', 7325: 'quiver', 7326: 'deserts', 7327: 'assassin', 7328: 'scarf', 7329: 'xxx', 7330: 'instinct', 7331: 'xxxi', 7332: 'brethren', 7333: 'consequence', 7334: 'decay', 7335: 'acre', 7336: 'sanity', 7337: 'shutting', 7338: 'series', 7339: 'pointed', 7340: 'brews', 7341: 'hast', 7342: 'expectation', 7343: 'beloved', 7344: 'saviour', 7345: 'loaf', 7346: 'admitted', 7347: 'fled', 7348: 'counterfeit', 7349: 'hound', 7350: 'realm', 7351: 'sleet', 7352: 'fleece', 7353: 'worm', 7354: 'boldly', 7355: 'rotation', 7356: 'brooms', 7357: 'applaud', 7358: 'character', 7359: 'robe', 7360: 'rosemary', 7361: 'stocks', 7362: 'whiter', 7363: 'campaign', 7364: 'breathed', 7365: 'vale', 7366: 'bridget', 7367: 'emptied', 7368: 'paints', 7369: 'conclusion', 7370: 'extinct', 7371: 'skill', 7372: 'joyful', 7373: 'owned', 7374: 'joints', 7375: 'stocking', 7376: 'kiddin', 7377: 'vacuum', 7378: 'charity', 7379: 'haired', 7380: 'barking', 7381: 'vault', 7382: 'pairs', 7383: 'cuckoo', 7384: 'preachin', 7385: 'twas', 7386: 'rapidly', 7387: 'neptune', 7388: 'gamble', 7389: 'turk', 7390: 'thorns', 7391: 'undertaker', 7392: 'lethal', 7393: 'trembles', 7394: 'doomed', 7395: 'crickets', 7396: 'foes', 7397: 'traveled', 7398: 'blooming', 7399: 'calf', 7400: 'louise', 7401: 'sneeze', 7402: 'shells', 7403: 'uniform', 7404: 'sentimental', 7405: 'furry', 7406: 'strive', 7407: 'plum', 7408: 'disgusted', 7409: 'hose', 7410: 'parkin', 7411: 'shirts', 7412: 'footprints', 7413: 'heroin', 7414: 'torch', 7415: 'yodel', 7416: 'misunderstood', 7417: 'wreath', 7418: 'object', 7419: 'seeker', 7420: 'sheet', 7421: 'lama', 7422: 'hops', 7423: 'lakes', 7424: 'stockings', 7425: 'roast', 7426: 'baton', 7427: 'porsches', 7428: 'francisco', 7429: 'jetplane', 7430: 'site', 7431: 'loading', 7432: 'toni', 7433: 'fevers', 7434: 'worryin', 7435: 'timeless', 7436: 'squeal', 7437: 'dallas', 7438: 'milky', 7439: 'butts', 7440: 'embarrassing', 7441: 'rugs', 7442: 'throttle', 7443: 'pricks', 7444: 'charges', 7445: 'toting', 7446: 'jesse', 7447: 'eagles', 7448: 'vinegar', 7449: 'clack', 7450: 'moral', 7451: 'snatched', 7452: 'reminiscing', 7453: 'accounts', 7454: 'marc', 7455: 'des', 7456: 'groupie', 7457: 'sushi', 7458: 'styrofoam', 7459: 'contest', 7460: 'deposit', 7461: 'servin', 7462: 'ratchet', 7463: 'puffy', 7464: 'mannequin', 7465: 'leash', 7466: 'leech', 7467: 'zoo', 7468: 'grades', 7469: 'benzo', 7470: 'dresser', 7471: 'artists', 7472: 'taxes', 7473: 'disgust', 7474: 'slurp', 7475: 'compton', 7476: 'escalade', 7477: 'realer', 7478: 'swap', 7479: 'boxers', 7480: 'stabbed', 7481: 'haiti', 7482: 'billboard', 7483: 'killas', 7484: 'hoppin', 7485: 'hermes', 7486: 'tasting', 7487: 'retard', 7488: 'basics', 7489: 'nasir', 7490: 'discriminate', 7491: 'boost', 7492: 'sis', 7493: 'trill', 7494: 'gi', 7495: 'smellin', 7496: 'vans', 7497: 'baggage', 7498: 'chef', 7499: 'malcolm', 7500: 'jodeci', 7501: 'draped', 7502: 'whippin', 7503: 'fest', 7504: 'topic', 7505: 'hotels', 7506: 'trynna', 7507: 'buncha', 7508: 'tab', 7509: 'jig', 7510: 'skeletons', 7511: 'flop', 7512: 'challenge', 7513: 'ahhhhh', 7514: 'donate', 7515: 'juelz', 7516: 'marathon', 7517: 'holmes', 7518: 'bobbin', 7519: 'il', 7520: 'katy', 7521: 'perry', 7522: 'entertainment', 7523: 'flowin', 7524: 'linen', 7525: 'ands', 7526: 'amelia', 7527: 'betsy', 7528: 'headphones', 7529: 'massive', 7530: 'buttons', 7531: 'snoring', 7532: 'lemonade', 7533: 'eddie', 7534: 'coats', 7535: 'worship', 7536: 'contemplate', 7537: 'presidents', 7538: 'weekends', 7539: 'blurry', 7540: 'waffle', 7541: 'payed', 7542: 'superhero', 7543: 'mayonnaise', 7544: 'timbuck', 7545: 'sleazy', 7546: 'persona', 7547: 'pancakes', 7548: 'disgusting', 7549: 'exact', 7550: 'lauryn', 7551: 'flagrant', 7552: 'emcees', 7553: 'impregnate', 7554: 'safely', 7555: 'obsolete', 7556: 'attic', 7557: 'polka', 7558: 'casino', 7559: 'fathom', 7560: 'muffin', 7561: 'prostitute', 7562: 'educated', 7563: 'breakdown', 7564: 'aimin', 7565: 'serial', 7566: 'titty', 7567: 'stanky', 7568: 'anne', 7569: 'flossin', 7570: 'shotty', 7571: 'lung', 7572: 'jeezy', 7573: 'sandwich', 7574: 'robbers', 7575: 'twerkin', 7576: 'bouncer', 7577: 'sprinklers', 7578: 'shark', 7579: 'dippin', 7580: 'tickle', 7581: 'disgustin', 7582: 'scholarship', 7583: 'kardashian', 7584: 'tyson', 7585: 'potato', 7586: 'pe', 7587: 'murderer', 7588: 'mcdonalds', 7589: 'lala', 7590: 'homage', 7591: 'victor', 7592: 'jill', 7593: 'faking', 7594: 'steering', 7595: 'descendants', 7596: 'blacker', 7597: 'revolutionary', 7598: 'casualties', 7599: 'eliza', 7600: 'ignored', 7601: 'mekhi', 7602: 'donna', 7603: 'milking', 7604: 'obie', 7605: 'chopped', 7606: 'stomped', 7607: 'locket', 7608: 'faggot', 7609: 'chunks', 7610: 'ellen', 7611: 'monte', 7612: 'freestyle', 7613: 'solar', 7614: 'freaking', 7615: 'stomachs', 7616: 'unfollow', 7617: 'droptop', 7618: 'hollin', 7619: 'flirtin', 7620: 'caps', 7621: 'frees', 7622: 'eva', 7623: 'mayn', 7624: 'weeded', 7625: 'moulin', 7626: 'fendi', 7627: 'cuter', 7628: 'indebted', 7629: 'scandal', 7630: 'hydro', 7631: 'nighter', 7632: 'adios', 7633: 'gushy', 7634: 'repercussion', 7635: 'haaa', 7636: 'paging', 7637: 'praising', 7638: 'aiy', 7639: 'nuthin', 7640: 'milked', 7641: 'carrion', 7642: 'choppin', 7643: 'heyy', 7644: 'virgo', 7645: 'snacks', 7646: 'damned', 7647: 'valentino', 7648: 'lance', 7649: 'ls', 7650: 'raekwon', 7651: 'bagged', 7652: 'docta', 7653: 'watusi', 7654: 'insatiable', 7655: 'reap', 7656: 'tingle', 7657: 'erased', 7658: 'overdue', 7659: 'illuminates', 7660: 'bursting', 7661: 'disguised', 7662: 'fingertips', 7663: 'strain', 7664: 'lighting', 7665: 'testify', 7666: 'glamour', 7667: 'yield', 7668: 'screens', 7669: 'discouraged', 7670: 'brighten', 7671: 'appeared', 7672: 'measured', 7673: 'chauffeur', 7674: 'naturally', 7675: 'possess', 7676: 'squeezing', 7677: 'unspoken', 7678: 'removed', 7679: 'comparison', 7680: 'gambling', 7681: 'disappears', 7682: 'soaked', 7683: 'moody', 7684: 'fuckery', 7685: 'otherwise', 7686: 'unprepared', 7687: 'acted', 7688: 'unholy', 7689: 'justice', 7690: 'birdland', 7691: 'boxing', 7692: 'sworn', 7693: 'victoria', 7694: 'russians', 7695: 'reborn', 7696: 'sanctuary', 7697: 'mending', 7698: 'hunt', 7699: 'carved', 7700: 'pattern', 7701: 'simplicity', 7702: 'worms', 7703: 'dinosaurs', 7704: 'destined', 7705: 'joining', 7706: 'noone', 7707: 'rapture', 7708: 'insides', 7709: 'organ', 7710: 'drone', 7711: 'sparkle', 7712: 'relentlessly', 7713: 'relentless', 7714: 'isobel', 7715: 'sparrows', 7716: 'salty', 7717: 'trenches', 7718: 'resistance', 7719: 'undoes', 7720: 'curling', 7721: 'humans', 7722: 'suns', 7723: 'geese', 7724: 'winters', 7725: 'springs', 7726: 'vera', 7727: 'svo', 7728: 'delay', 7729: 'ekki', 7730: 'pocketful', 7731: 'becoming', 7732: 'suspended', 7733: 'foam', 7734: 'doh', 7735: 'resolution', 7736: 'desirin', 7737: 'daze', 7738: 'recording', 7739: 'turbulence', 7740: 'apocalypse', 7741: 'witnessed', 7742: 'borrowed', 7743: 'mmh', 7744: 'fraction', 7745: 'cloudy', 7746: 'images', 7747: 'invitations', 7748: 'ries', 7749: 'ob', 7750: 'cottage', 7751: 'independence', 7752: 'vanish', 7753: 'walrus', 7754: 'mojo', 7755: 'filter', 7756: 'sergeant', 7757: 'mots', 7758: 'ensemble', 7759: 'suburban', 7760: 'tray', 7761: 'await', 7762: 'picks', 7763: 'imitate', 7764: 'learns', 7765: 'gee', 7766: 'protected', 7767: 'matches', 7768: 'prophets', 7769: 'entered', 7770: 'heck', 7771: 'juan', 7772: 'fittest', 7773: 'permanently', 7774: 'africans', 7775: 'concentration', 7776: 'tourist', 7777: 'upsetting', 7778: 'masquerade', 7779: 'sprat', 7780: 'thicker', 7781: 'earthly', 7782: 'igh', 7783: 'fowl', 7784: 'tis', 7785: 'awaits', 7786: 'creator', 7787: 'herbsman', 7788: 'scorn', 7789: 'marco', 7790: 'throught', 7791: 'cabaret', 7792: 'laces', 7793: 'morgue', 7794: 'halloween', 7795: 'webs', 7796: 'freshman', 7797: 'conquered', 7798: 'capable', 7799: 'pathetic', 7800: 'rot', 7801: 'stairwell', 7802: 'daring', 7803: 'explanation', 7804: 'starved', 7805: 'bears', 7806: 'dandelion', 7807: 'messenger', 7808: 'clumsy', 7809: 'motions', 7810: 'giver', 7811: 'spiral', 7812: 'gauge', 7813: 'faint', 7814: 'fireflies', 7815: 'cardboard', 7816: 'skyline', 7817: 'thorough', 7818: 'uses', 7819: 'reluctantly', 7820: 'mcnuggets', 7821: 'monoxide', 7822: 'sakes', 7823: 'steep', 7824: 'concerts', 7825: 'liver', 7826: 'youthful', 7827: 'thrills', 7828: 'pendant', 7829: 'weaving', 7830: 'polished', 7831: 'bedspread', 7832: 'icing', 7833: 'beaches', 7834: 'dances', 7835: 'author', 7836: 'tootsie', 7837: 'ignoring', 7838: 'performance', 7839: 'economy', 7840: 'construction', 7841: 'gloom', 7842: 'funding', 7843: 'alpha', 7844: 'oranges', 7845: 'testicles', 7846: 'flap', 7847: 'peer', 7848: 'screws', 7849: 'cabs', 7850: 'hacer', 7851: 'donde', 7852: 'prefiero', 7853: 'estuvieras', 7854: 'sabes', 7855: 'puedes', 7856: 'rme', 7857: 'llorar', 7858: 'una', 7859: 'mismo', 7860: 'vez', 7861: 'tiene', 7862: 'perder', 7863: 'creo', 7864: 'estas', 7865: 'nope', 7866: 'minus', 7867: 'katrina', 7868: 'bens', 7869: 'laurent', 7870: 'flaunt', 7871: 'looky', 7872: 'blessin', 7873: 'loosen', 7874: 'perm', 7875: 'stingy', 7876: 'sheen', 7877: 'springtime', 7878: 'payback', 7879: 'nooo', 7880: 'cancel', 7881: 'conceal', 7882: 'indecisive', 7883: 'viable', 7884: 'favorito', 7885: 'clyde', 7886: 'zombie', 7887: 'flexing', 7888: 'globe', 7889: 'moe', 7890: 'equation', 7891: 'dates', 7892: 'mona', 7893: 'confessions', 7894: 'starve', 7895: 'juliet', 7896: 'permanent', 7897: 'serenity', 7898: 'relevant', 7899: 'visionary', 7900: 'disappoint', 7901: 'hopefully', 7902: 'recovery', 7903: 'snapback', 7904: 'roy', 7905: 'busting', 7906: 'graduation', 7907: 'choppers', 7908: 'lifts', 7909: 'snappin', 7910: 'silicone', 7911: 'mozart', 7912: 'remove', 7913: 'winners', 7914: 'responsibilities', 7915: 'binds', 7916: 'legged', 7917: 'honda', 7918: 'prices', 7919: 'philadelphia', 7920: 'twilight', 7921: 'draggin', 7922: 'ghostly', 7923: 'holier', 7924: 'ambulance', 7925: 'shuts', 7926: 'poets', 7927: 'rosalita', 7928: 'rushed', 7929: 'tension', 7930: 'races', 7931: 'rapid', 7932: 'martinis', 7933: 'profession', 7934: 'actress', 7935: 'lifestyles', 7936: 'shameless', 7937: 'strippin', 7938: 'spears', 7939: 'iggy', 7940: 'brit', 7941: 'betcha', 7942: 'overprotected', 7943: 'random', 7944: 'edges', 7945: 'midas', 7946: 'program', 7947: 'inhibitions', 7948: 'causing', 7949: 'decked', 7950: 'flirting', 7951: 'purring', 7952: 'fera', 7953: 'grapes', 7954: 'ammunition', 7955: 'aladdin', 7956: 'genie', 7957: 'flute', 7958: 'slug', 7959: 'wail', 7960: 'preferred', 7961: 'fright', 7962: 'minister', 7963: 'idiot', 7964: 'mopping', 7965: 'fisherman', 7966: 'docks', 7967: 'gypsies', 7968: 'illa', 7969: 'dazzling', 7970: 'bluebird', 7971: 'undefeated', 7972: 'lark', 7973: 'entertaining', 7974: 'dessert', 7975: 'obsessed', 7976: 'claw', 7977: 'flapping', 7978: 'huns', 7979: 'sew', 7980: 'notte', 7981: 'mai', 7982: 'pressing', 7983: 'smarter', 7984: 'ri', 7985: 'succeed', 7986: 'steeples', 7987: 'teller', 7988: 'deer', 7989: 'passage', 7990: 'mat', 7991: 'stately', 7992: 'bashful', 7993: 'snows', 7994: 'puzzled', 7995: 'scarce', 7996: 'crowned', 7997: 'abide', 7998: 'returns', 7999: 'bonnet', 8000: 'lowly', 8001: 'sovereign', 8002: 'subtle', 8003: 'unexpected', 8004: 'whither', 8005: 'assault', 8006: 'chant', 8007: 'nought', 8008: 'altered', 8009: 'travelling', 8010: 'affliction', 8011: 'perished', 8012: 'burial', 8013: 'questioned', 8014: 'refuge', 8015: 'vengeance', 8016: 'suffered', 8017: 'scarcely', 8018: 'superfluous', 8019: 'xxxii', 8020: 'xxxiii', 8021: 'xxxiv', 8022: 'xxxv', 8023: 'rend', 8024: 'thyself', 8025: 'xxxvi', 8026: 'xxxvii', 8027: 'xxxviii', 8028: 'xxxix', 8029: 'xl', 8030: 'approaching', 8031: 'conventional', 8032: 'trusted', 8033: 'summon', 8034: 'qualified', 8035: 'deem', 8036: 'prisons', 8037: 'tattered', 8038: 'discreet', 8039: 'aimed', 8040: 'venture', 8041: 'knocks', 8042: 'flavors', 8043: 'duller', 8044: 'lv', 8045: 'drifted', 8046: 'pitiful', 8047: 'mild', 8048: 'scholar', 8049: 'crept', 8050: 'mapped', 8051: 'wrinkled', 8052: 'steeple', 8053: 'glows', 8054: 'performed', 8055: 'pond', 8056: 'rail', 8057: 'ankles', 8058: 'syllable', 8059: 'mute', 8060: 'lambs', 8061: 'holidays', 8062: 'charged', 8063: 'vital', 8064: 'kingdoms', 8065: 'strict', 8066: 'swollen', 8067: 'utmost', 8068: 'clearing', 8069: 'swiss', 8070: 'cellar', 8071: 'moons', 8072: 'thomas', 8073: 'deals', 8074: 'polite', 8075: 'tints', 8076: 'tipped', 8077: 'dimmer', 8078: 'engaged', 8079: 'introduced', 8080: 'unclear', 8081: 'authority', 8082: 'turner', 8083: 'twins', 8084: 'huntin', 8085: 'agents', 8086: 'warnin', 8087: 'forlorn', 8088: 'hilltop', 8089: 'myth', 8090: 'custody', 8091: 'howling', 8092: 'lag', 8093: 'terms', 8094: 'renewed', 8095: 'cracking', 8096: 'rusted', 8097: 'motorcycle', 8098: 'loft', 8099: 'johanna', 8100: 'flour', 8101: 'forgives', 8102: 'confession', 8103: 'medals', 8104: 'ripper', 8105: 'rehearse', 8106: 'sells', 8107: 'snort', 8108: 'gangsters', 8109: 'costs', 8110: 'illinois', 8111: 'handles', 8112: 'dangling', 8113: 'speculation', 8114: 'pail', 8115: 'lenny', 8116: 'explained', 8117: 'bully', 8118: 'grandmother', 8119: 'ahold', 8120: 'cove', 8121: 'freed', 8122: 'civil', 8123: 'raped', 8124: 'wither', 8125: 'stitch', 8126: 'moods', 8127: 'teardrop', 8128: 'defenses', 8129: 'smokey', 8130: 'teary', 8131: 'dalai', 8132: 'andy', 8133: 'gingerbread', 8134: 'scheming', 8135: 'tock', 8136: 'sues', 8137: 'paddle', 8138: 'skates', 8139: 'hump', 8140: 'thumbed', 8141: 'wipers', 8142: 'salinas', 8143: 'revved', 8144: 'agreed', 8145: 'concept', 8146: 'arthur', 8147: 'sincere', 8148: 'whaa', 8149: 'gutra', 8150: 'harry', 8151: 'jimi', 8152: 'trumpets', 8153: 'minded', 8154: 'washing', 8155: 'atlantis', 8156: 'crosstown', 8157: 'lilac', 8158: 'carryin', 8159: 'folsom', 8160: 'echoed', 8161: 'tribute', 8162: 'cadillacs', 8163: 'gears', 8164: 'kit', 8165: 'cheaper', 8166: 'bids', 8167: 'slowed', 8168: 'salvador', 8169: 'crater', 8170: 'meditate', 8171: 'driftwood', 8172: 'billi', 8173: 'minimal', 8174: 'bruh', 8175: 'andre', 8176: 'dans', 8177: 'sticker', 8178: 'european', 8179: 'sprite', 8180: 'fiction', 8181: 'selection', 8182: 'khakis', 8183: 'donkey', 8184: 'impala', 8185: 'mogul', 8186: 'kendrick', 8187: 'mclaren', 8188: 'posted', 8189: 'purp', 8190: 'ymcmb', 8191: 'rari', 8192: 'exotic', 8193: 'regardless', 8194: 'crabs', 8195: 'options', 8196: 'fessions', 8197: 'levels', 8198: 'splurgin', 8199: 'caprices', 8200: 'haitians', 8201: 'rida', 8202: 'huffin', 8203: 'accolades', 8204: 'bm', 8205: 'filet', 8206: 'stallin', 8207: 'maggots', 8208: 'stacking', 8209: 'squat', 8210: 'genuine', 8211: 'woozy', 8212: 'ruthless', 8213: 'stunna', 8214: 'norieaga', 8215: 'beefin', 8216: 'homeboy', 8217: 'givenchy', 8218: 'claimin', 8219: 'haffi', 8220: 'caring', 8221: 'ungrateful', 8222: 'picket', 8223: 'outcome', 8224: 'hows', 8225: 'financial', 8226: 'exquisite', 8227: 'cheesecake', 8228: 'wi', 8229: 'dwayne', 8230: 'shifts', 8231: 'bluffing', 8232: 'findin', 8233: 'anxious', 8234: 'trey', 8235: 'rated', 8236: 'approval', 8237: 'interviews', 8238: 'scrimmage', 8239: 'karate', 8240: 'goofy', 8241: 'lens', 8242: 'dawgs', 8243: 'exaggeration', 8244: 'waitresses', 8245: 'patch', 8246: 'pookie', 8247: 'familia', 8248: 'dire', 8249: 'judged', 8250: 'minimum', 8251: 'rowdy', 8252: 'snare', 8253: 'lamar', 8254: 'react', 8255: 'wells', 8256: 'pork', 8257: 'jars', 8258: 'shivering', 8259: 'warriors', 8260: 'slouching', 8261: 'bethlehem', 8262: 'restitution', 8263: 'envious', 8264: 'depot', 8265: 'peg', 8266: 'russia', 8267: 'apollonia', 8268: 'isotoners', 8269: 'mediatakeout', 8270: 'smoothie', 8271: 'giuseppe', 8272: 'dutty', 8273: 'chucky', 8274: 'cide', 8275: 'micheal', 8276: 'schizoid', 8277: 'furs', 8278: 'entertainers', 8279: 'panda', 8280: 'photos', 8281: 'massage', 8282: 'laptop', 8283: 'allstate', 8284: 'ebay', 8285: 'romey', 8286: 'gladys', 8287: 'students', 8288: 'ignorance', 8289: 'ballas', 8290: 'ensure', 8291: 'dynasty', 8292: 'marvin', 8293: 'vandross', 8294: 'lexapro', 8295: 'harvesting', 8296: 'pedestrians', 8297: 'backed', 8298: 'turbo', 8299: 'omen', 8300: 'romans', 8301: 'trojans', 8302: 'blacked', 8303: 'spaz', 8304: 'kanyes', 8305: 'highlights', 8306: 'equinox', 8307: 'possum', 8308: 'lawsuit', 8309: 'suzanne', 8310: 'chocolates', 8311: 'marianne', 8312: 'manger', 8313: 'sanctified', 8314: 'guards', 8315: 'unwind', 8316: 'bitchin', 8317: 'smaller', 8318: 'gradually', 8319: 'boudoir', 8320: 'gunnin', 8321: 'cling', 8322: 'plause', 8323: 'hairspray', 8324: 'lavender', 8325: 'pussies', 8326: 'squeaky', 8327: 'matta', 8328: 'ss', 8329: 'waynes', 8330: 'flops', 8331: 'simmons', 8332: 'taboo', 8333: 'carterpeople', 8334: 'kodak', 8335: 'shrimp', 8336: 'lynch', 8337: 'ninas', 8338: 'imaginary', 8339: 'gunfight', 8340: 'hollygrove', 8341: 'bakin', 8342: 'jewish', 8343: 'bonus', 8344: 'phelps', 8345: 'espn', 8346: 'pitchin', 8347: 'chump', 8348: 'shitting', 8349: 'smelling', 8350: 'pssy', 8351: 'whites', 8352: 'dane', 8353: 'borin', 8354: 'diapers', 8355: 'tooly', 8356: 'olympics', 8357: 'sizziling', 8358: 'clutchin', 8359: 'coldplay', 8360: 'bitchass', 8361: 'testament', 8362: 'lux', 8363: 'partying', 8364: 'ridden', 8365: 'readin', 8366: 'immigrant', 8367: 'commandments', 8368: 'negotiate', 8369: 'henchmen', 8370: 'onarchy', 8371: 'rooftops', 8372: 'zat', 8373: 'ironic', 8374: 'nuisance', 8375: 'ren', 8376: 'ripping', 8377: 'jokin', 8378: 'formulate', 8379: 'lois', 8380: 'hairy', 8381: 'operating', 8382: 'restroom', 8383: 'christina', 8384: 'phil', 8385: 'downers', 8386: 'counseling', 8387: 'unfurl', 8388: 'conquest', 8389: 'kris', 8390: 'chong', 8391: 'cumming', 8392: 'chuba', 8393: 'carlo', 8394: 'stadium', 8395: 'intellect', 8396: 'asylum', 8397: 'dumbass', 8398: 'symptoms', 8399: 'smiley', 8400: 'buffet', 8401: 'digital', 8402: 'jasmine', 8403: 'asthma', 8404: 'treatin', 8405: 'dickll', 8406: 'naww', 8407: 'ello', 8408: 'prior', 8409: 'unswallow', 8410: 'traumatized', 8411: 'kweli', 8412: 'jews', 8413: 'hed', 8414: 'gabbana', 8415: 'reeboks', 8416: 'itd', 8417: 'uhuhuh', 8418: 'onnn', 8419: 'plural', 8420: 'primetime', 8421: 'tro', 8422: 'flickin', 8423: 'bacardi', 8424: 'modelin', 8425: 'mali', 8426: 'bulls', 8427: 'mocha', 8428: 'cassius', 8429: 'pimped', 8430: 'messages', 8431: 'scrutinize', 8432: 'wests', 8433: 'pelle', 8434: 'cursing', 8435: 'pippen', 8436: 'wary', 8437: 'meth', 8438: 'armani', 8439: 'results', 8440: 'peeune', 8441: 'eheheh', 8442: 'sto', 8443: 'fiftyseven', 8444: 'masked', 8445: 'hoodie', 8446: 'patra', 8447: 'agenda', 8448: 'restrain', 8449: 'uhmm', 8450: 'homegirls', 8451: 'loop', 8452: 'aaand', 8453: 'complacency', 8454: 'ferryman', 8455: 'trickster', 8456: 'contestant', 8457: 'limping', 8458: 'mulatto', 8459: 'mosquito', 8460: 'roamed', 8461: 'blasphemy', 8462: 'poom', 8463: 'grippin', 8464: 'timothy', 8465: 'greens', 8466: 'slang', 8467: 'kizza', 8468: 'coz', 8469: 'whooooooooooooo', 8470: 'sockin', 8471: 'ree', 8472: 'timb', 8473: 'phat', 8474: 'jab', 8475: 'dummy', 8476: 'brrah', 8477: 'knuckles', 8478: 'daddie', 8479: 'bade', 8480: 'dickery', 8481: 'diddley', 8482: 'bonny', 8483: 'winkle', 8484: 'hoogh', 8485: 'lumpety', 8486: 'comet', 8487: 'toomba', 8488: 'handlebars', 8489: 'sutra', 8490: 'dtp', 8491: 'spectacular', 8492: 'dubs', 8493: 'waistline', 8494: 'youowhooo', 8495: 'miguel', 8496: 'crucial', 8497: 'melodie', 8498: 'naku', 8499: 'piya', 8500: 'injustice', 8501: 'uuuuuuh', 8502: 'apiece', 8503: 'pussier', 8504: 'starships', 8505: 'potions', 8506: 'ninja', 8507: 'shaman', 8508: 'rimbaud', 8509: 'tayi', 8510: 'taya', 8511: 'weirdo', 8512: 'myxomatosis', 8513: 'topsy', 8514: 'turvy', 8515: 'skunk', 8516: 'interests', 8517: 'socalled', 8518: 'duce', 8519: 'ps', 8520: 'goodfellas', 8521: 'extortion', 8522: 'hawkin', 8523: 'intermission', 8524: 'buckin', 8525: 'dissapearin', 8526: 'winin', 8527: 'cds', 8528: 'witchu', 8529: 'slingin', 8530: 'brainless', 8531: 'biggies', 8532: 'girlies', 8533: 'cigarsin', 8534: 'rockaway', 8535: 'bomp', 8536: 'seesaw', 8537: 'bambi', 8538: 'reproduction', 8539: 'taxicabs', 8540: 'savoir', 8541: 'depths', 8542: 'bitterness', 8543: 'inevitable', 8544: 'swam', 8545: 'hitch', 8546: 'louisiana', 8547: 'whisky', 8548: 'backbone', 8549: 'smeared', 8550: 'spaceships', 8551: 'itch', 8552: 'cleanse', 8553: 'october', 8554: 'companions', 8555: 'millionaires', 8556: 'medication', 8557: 'responsibility', 8558: 'overflowing', 8559: 'bulb', 8560: 'tread', 8561: 'shrug', 8562: 'floats', 8563: 'sammy', 8564: 'slowing', 8565: 'lent', 8566: 'badu', 8567: 'destructive', 8568: 'smelled', 8569: 'cleaners', 8570: 'humbled', 8571: 'floods', 8572: 'standard', 8573: 'ava', 8574: 'sarah', 8575: 'pains', 8576: 'sundown', 8577: 'rug', 8578: 'satisfying', 8579: 'receiving', 8580: 'accidents', 8581: 'handshake', 8582: 'orbit', 8583: 'gracefully', 8584: 'gene', 8585: 'generosity', 8586: 'sonic', 8587: 'anxiety', 8588: 'cord', 8589: 'movements', 8590: 'keen', 8591: 'joined', 8592: 'delivers', 8593: 'scolanscolan', 8594: 'owah', 8595: 'vaik', 8596: 'kaitaluinen', 8597: 'prints', 8598: 'sublime', 8599: 'continents', 8600: 'carnage', 8601: 'thumping', 8602: 'rambling', 8603: 'twig', 8604: 'universal', 8605: 'ridge', 8606: 'drifts', 8607: 'stagnation', 8608: 'cocoon', 8609: 'gunpowder', 8610: 'tightly', 8611: 'volcano', 8612: 'circumstances', 8613: 'noodles', 8614: 'snowflakes', 8615: 'stings', 8616: 'cobwebs', 8617: 'expression', 8618: 'sparkles', 8619: 'unthinkable', 8620: 'scaring', 8621: 'bowed', 8622: 'demands', 8623: 'vil', 8624: 'thn', 8625: 'mitt', 8626: 'tic', 8627: 'toc', 8628: 'sst', 8629: 'lows', 8630: 'fairly', 8631: 'heap', 8632: 'crossroads', 8633: 'anticipate', 8634: 'jw', 8635: 'occasions', 8636: 'mundo', 8637: 'vida', 8638: 'diary', 8639: 'importance', 8640: 'staircase', 8641: 'shedding', 8642: 'fortunes', 8643: 'wraps', 8644: 'kool', 8645: 'baptized', 8646: 'divided', 8647: 'unafraid', 8648: 'posture', 8649: 'exposure', 8650: 'saddam', 8651: 'settin', 8652: 'stressin', 8653: 'bud', 8654: 'narrative', 8655: 'precisely', 8656: 'shoeshine', 8657: 'portrait', 8658: 'jojo', 8659: 'tucson', 8660: 'wiping', 8661: 'certainly', 8662: 'leisure', 8663: 'radiate', 8664: 'disconnect', 8665: 'department', 8666: 'raccoon', 8667: 'equipped', 8668: 'ene', 8669: 'creeps', 8670: 'fadeout', 8671: 'remarks', 8672: 'armageddon', 8673: 'thinner', 8674: 'pleading', 8675: 'watcha', 8676: 'mista', 8677: 'lyte', 8678: 'allah', 8679: 'dreadlock', 8680: 'judgement', 8681: 'yin', 8682: 'fleeting', 8683: 'bondage', 8684: 'ram', 8685: 'remote', 8686: 'rages', 8687: 'scaba', 8688: 'maniac', 8689: 'ew', 8690: 'proved', 8691: 'political', 8692: 'bats', 8693: 'eliminate', 8694: 'teachings', 8695: 'trod', 8696: 'equality', 8697: 'sensation', 8698: 'dub', 8699: 'soulful', 8700: 'riff', 8701: 'benefit', 8702: 'deceiving', 8703: 'columbus', 8704: 'sickness', 8705: 'cloths', 8706: 'suprise', 8707: 'amused', 8708: 'failing', 8709: 'preview', 8710: 'fiercely', 8711: 'guidance', 8712: 'frightening', 8713: 'beige', 8714: 'reluctant', 8715: 'dated', 8716: 'raises', 8717: 'kneeling', 8718: 'reminder', 8719: 'blankets', 8720: 'slayer', 8721: 'slammed', 8722: 'attacked', 8723: 'social', 8724: 'sixth', 8725: 'skiba', 8726: 'hoppus', 8727: 'tack', 8728: 'flashes', 8729: 'hugging', 8730: 'rattle', 8731: 'carpenter', 8732: 'rimmed', 8733: 'politician', 8734: 'practicing', 8735: 'rhyming', 8736: 'japanese', 8737: 'bracket', 8738: 'dearly', 8739: 'chaos', 8740: 'accepting', 8741: 'handling', 8742: 'belts', 8743: 'loads', 8744: 'earnest', 8745: 'junkies', 8746: 'scratching', 8747: 'latch', 8748: 'europe', 8749: 'freshly', 8750: 'rumble', 8751: 'chess', 8752: 'wines', 8753: 'fashions', 8754: 'stained', 8755: 'freezing', 8756: 'presentation', 8757: 'subtract', 8758: 'gaping', 8759: 'commode', 8760: 'seaweed', 8761: 'sinks', 8762: 'nodding', 8763: 'slice', 8764: 'canciones', 8765: 'sabe', 8766: 'mano', 8767: 'hasta', 8768: 'pitt', 8769: 'compliment', 8770: 'boulevard', 8771: 'tossin', 8772: 'links', 8773: 'instructions', 8774: 'activate', 8775: 'recruit', 8776: 'tappin', 8777: 'lovelies', 8778: 'stilettos', 8779: 'ohhhhh', 8780: 'meantime', 8781: 'redeem', 8782: 'cot', 8783: 'nothings', 8784: 'wept', 8785: 'february', 8786: 'headache', 8787: 'ether', 8788: 'coolest', 8789: 'mhm', 8790: 'bumps', 8791: 'reflect', 8792: 'livid', 8793: 'mets', 8794: 'opponent', 8795: 'lac', 8796: 'reservoir', 8797: 'skeleton', 8798: 'carving', 8799: 'rips', 8800: 'tramps', 8801: 'rises', 8802: 'chart', 8803: 'avatar', 8804: 'uninspired', 8805: 'collision', 8806: 'brilliant', 8807: 'crushin', 8808: 'file', 8809: 'fallout', 8810: 'pleasures', 8811: 'canadian', 8812: 'spokes', 8813: 'utah', 8814: 'mirage', 8815: 'catholic', 8816: 'camel', 8817: 'boarded', 8818: 'furnace', 8819: 'beacon', 8820: 'howlin', 8821: 'indifference', 8822: 'linin', 8823: 'cannon', 8824: 'hustling', 8825: 'liberate', 8826: 'stretched', 8827: 'factory', 8828: 'giants', 8829: 'victories', 8830: 'necks', 8831: 'foreman', 8832: 'tenement', 8833: 'neglected', 8834: 'rational', 8835: 'snitch', 8836: 'unstoppable', 8837: 'logical', 8838: 'predictable', 8839: 'sapphire', 8840: 'mash', 8841: 'encore', 8842: 'fortress', 8843: 'exit', 8844: 'sleigh', 8845: 'curiosity', 8846: 'bombastic', 8847: 'sweetie', 8848: 'bumpy', 8849: 'palest', 8850: 'owh', 8851: 'fins', 8852: 'grinned', 8853: 'sycamore', 8854: 'paw', 8855: 'peculiar', 8856: 'inventor', 8857: 'mais', 8858: 'jot', 8859: 'tribulations', 8860: 'scorch', 8861: 'siren', 8862: 'event', 8863: 'scissors', 8864: 'slid', 8865: 'clutches', 8866: 'sideways', 8867: 'herc', 8868: 'vase', 8869: 'nouveau', 8870: 'bonkers', 8871: 'argument', 8872: 'scrub', 8873: 'sec', 8874: 'drumming', 8875: 'delightful', 8876: 'nectar', 8877: 'exercise', 8878: 'bibbidi', 8879: 'bobbidi', 8880: 'botherin', 8881: 'britches', 8882: 'typhoon', 8883: 'anew', 8884: 'craze', 8885: 'someway', 8886: 'outdoors', 8887: 'hau', 8888: 'nets', 8889: 'hitched', 8890: 'eart', 8891: 'bert', 8892: 'smashing', 8893: 'crop', 8894: 'hectic', 8895: 'antique', 8896: 'quaint', 8897: 'barred', 8898: 'ajar', 8899: 'regards', 8900: 'fagot', 8901: 'contain', 8902: 'enlightened', 8903: 'scooped', 8904: 'gales', 8905: 'consciousness', 8906: 'daffodil', 8907: 'nearest', 8908: 'dost', 8909: 'arctic', 8910: 'outlet', 8911: 'pleases', 8912: 'excellence', 8913: 'renunciation', 8914: 'sacrament', 8915: 'eclipse', 8916: 'sod', 8917: 'hock', 8918: 'duchess', 8919: 'orchards', 8920: 'depth', 8921: 'caravan', 8922: 'democrat', 8923: 'blooms', 8924: 'labor', 8925: 'separation', 8926: 'cricket', 8927: 'flake', 8928: 'landscape', 8929: 'sweeps', 8930: 'lain', 8931: 'skipped', 8932: 'visited', 8933: 'absolute', 8934: 'gazing', 8935: 'dissolve', 8936: 'sympathetic', 8937: 'surviving', 8938: 'somewhat', 8939: 'advanced', 8940: 'recent', 8941: 'chalk', 8942: 'compensation', 8943: 'suspicious', 8944: 'sandals', 8945: 'spun', 8946: 'oath', 8947: 'britain', 8948: 'dipping', 8949: 'xli', 8950: 'xlii', 8951: 'ballad', 8952: 'liv', 8953: 'gross', 8954: 'disappointed', 8955: 'reporter', 8956: 'assembly', 8957: 'spills', 8958: 'stupendous', 8959: 'ethereal', 8960: 'crimson', 8961: 'oriole', 8962: 'cloak', 8963: 'closes', 8964: 'hut', 8965: 'shroud', 8966: 'outgrown', 8967: 'tapped', 8968: 'flung', 8969: 'unhooked', 8970: 'wagons', 8971: 'blackbirds', 8972: 'weaves', 8973: 'knelt', 8974: 'ponder', 8975: 'stitches', 8976: 'convicted', 8977: 'encounter', 8978: 'bolts', 8979: 'overcame', 8980: 'remembered', 8981: 'frantic', 8982: 'guinea', 8983: 'contrast', 8984: 'weighs', 8985: 'piled', 8986: 'thousands', 8987: 'perjury', 8988: 'estates', 8989: 'neglect', 8990: 'rusty', 8991: 'refined', 8992: 'abyss', 8993: 'latitude', 8994: 'brushed', 8995: 'forefathers', 8996: 'british', 8997: 'describing', 8998: 'astute', 8999: 'balloons', 9000: 'baffled', 9001: 'sequel', 9002: 'generations', 9003: 'summoned', 9004: 'fundamental', 9005: 'spade', 9006: 'creak', 9007: 'immediately', 9008: 'cells', 9009: 'servants', 9010: 'growl', 9011: 'abraham', 9012: 'wond', 9013: 'rin', 9014: 'rooster', 9015: 'platform', 9016: 'judges', 9017: 'coffins', 9018: 'require', 9019: 'studying', 9020: 'religious', 9021: 'bearing', 9022: 'surrounding', 9023: 'upright', 9024: 'trustin', 9025: 'olive', 9026: 'multi', 9027: 'walker', 9028: 'patients', 9029: 'titanic', 9030: 'barbershop', 9031: 'ideals', 9032: 'failure', 9033: 'nieces', 9034: 'stead', 9035: 'healed', 9036: 'sailin', 9037: 'zanzinger', 9038: 'courtroom', 9039: 'penalty', 9040: 'idols', 9041: 'switches', 9042: 'rails', 9043: 'maps', 9044: 'abstract', 9045: 'negativity', 9046: 'blackmailed', 9047: 'mctell', 9048: 'bootlegged', 9049: 'binoculars', 9050: 'writes', 9051: 'owed', 9052: 'disintegrate', 9053: 'criminals', 9054: 'numbered', 9055: 'levee', 9056: 'brace', 9057: 'hysterical', 9058: 'decorated', 9059: 'swiftly', 9060: 'ills', 9061: 'schools', 9062: 'relive', 9063: 'oldest', 9064: 'research', 9065: 'pumpkin', 9066: 'bootleggers', 9067: 'nook', 9068: 'khan', 9069: 'tranquility', 9070: 'lions', 9071: 'grove', 9072: 'peril', 9073: 'forgiving', 9074: 'influenced', 9075: 'womb', 9076: 'rivals', 9077: 'amateurs', 9078: 'tremblin', 9079: 'glowin', 9080: 'ole', 9081: 'taylor', 9082: 'vowed', 9083: 'strait', 9084: 'weaker', 9085: 'vessel', 9086: 'grounds', 9087: 'roaming', 9088: 'thump', 9089: 'bim', 9090: 'bims', 9091: 'noodle', 9092: 'practically', 9093: 'fireplace', 9094: 'snack', 9095: 'alaska', 9096: 'shorten', 9097: 'swinger', 9098: 'jupiter', 9099: 'wheelchair', 9100: 'mercury', 9101: 'armour', 9102: 'trophies', 9103: 'hendrix', 9104: 'streaming', 9105: 'parachute', 9106: 'truthful', 9107: 'etc', 9108: 'goode', 9109: 'trashman', 9110: 'frying', 9111: 'biter', 9112: 'lightnin', 9113: 'transmission', 9114: 'snuck', 9115: 'tin', 9116: 'mid', 9117: 'cuss', 9118: 'engineer', 9119: 'tinker', 9120: 'bendin', 9121: 'hairs', 9122: 'compliments', 9123: 'turf', 9124: 'breatherd', 9125: 'panama', 9126: 'boston', 9127: 'seep', 9128: 'kinfolk', 9129: 'rio', 9130: 'grande', 9131: 'substitute', 9132: 'jose', 9133: 'baking', 9134: 'aquafina', 9135: 'tricking', 9136: 'schedule', 9137: 'versus', 9138: 'weighing', 9139: 'yac', 9140: 'swivel', 9141: 'hoopty', 9142: 'swishas', 9143: 'tes', 9144: 'balmain', 9145: 'dunk', 9146: 'harden', 9147: 'brida', 9148: 'rlek', 9149: 'carolina', 9150: 'calvin', 9151: 'upgrade', 9152: 'xans', 9153: 'icon', 9154: 'cube', 9155: 'oyster', 9156: 'lumps', 9157: 'llama', 9158: 'hulk', 9159: 'sprinter', 9160: 'coogi', 9161: 'redbone', 9162: 'scales', 9163: 'fiending', 9164: 'motherfuck', 9165: 'rookies', 9166: 'gemini', 9167: 'baggin', 9168: 'sissy', 9169: 'kissy', 9170: 'fulfillin', 9171: 'choppas', 9172: 'choppa', 9173: 'iconic', 9174: 'apprentice', 9175: 'margarita', 9176: 'eater', 9177: 'culture', 9178: 'convinced', 9179: 'monaco', 9180: 'beginner', 9181: 'stamina', 9182: 'wage', 9183: 'grabbin', 9184: 'admire', 9185: 'allergic', 9186: 'splitting', 9187: 'pg', 9188: 'lyricist', 9189: 'juvie', 9190: 'duffel', 9191: 'duplex', 9192: 'goon', 9193: 'sucka', 9194: 'abuse', 9195: 'accuse', 9196: 'valet', 9197: 'nintendo', 9198: 'donuts', 9199: 'tubes', 9200: 'duffle', 9201: 'cushion', 9202: 'boosie', 9203: 'ar', 9204: 'statement', 9205: 'passport', 9206: 'thanking', 9207: 'ripple', 9208: 'nino', 9209: 'balled', 9210: 'labels', 9211: 'bueller', 9212: 'fanny', 9213: 'hannibal', 9214: 'unruly', 9215: 'adopted', 9216: 'example', 9217: 'pissing', 9218: 'intelligent', 9219: 'tammy', 9220: 'bodied', 9221: 'marl', 9222: 'wassap', 9223: 'realization', 9224: 'accountant', 9225: 'tweaking', 9226: 'drooling', 9227: 'undercover', 9228: 'oakland', 9229: 'ovation', 9230: 'probly', 9231: 'sued', 9232: 'visualize', 9233: 'commercial', 9234: 'clapping', 9235: 'tahoe', 9236: 'reggie', 9237: 'pedestal', 9238: 'penetration', 9239: 'boostin', 9240: 'cakes', 9241: 'sensei', 9242: 'cashin', 9243: 'urine', 9244: 'wobble', 9245: 'posters', 9246: 'blackberry', 9247: 'bloods', 9248: 'museum', 9249: 'ranch', 9250: 'vogue', 9251: 'scramblin', 9252: 'truce', 9253: 'buts', 9254: 'cactus', 9255: 'cowgirl', 9256: 'offs', 9257: 'dismal', 9258: 'canyon', 9259: 'admission', 9260: 'underdog', 9261: 'ethiopian', 9262: 'impression', 9263: 'lampshade', 9264: 'anarchy', 9265: 'magdalene', 9266: 'groom', 9267: 'lawns', 9268: 'solomon', 9269: 'ravens', 9270: 'guesses', 9271: 'crusoe', 9272: 'cruelty', 9273: 'refill', 9274: 'edged', 9275: 'factories', 9276: 'damages', 9277: 'popeye', 9278: 'doubletree', 9279: 'massacre', 9280: 'milan', 9281: 'underarm', 9282: 'hyundai', 9283: 'tyco', 9284: 'insured', 9285: 'creativity', 9286: 'purity', 9287: 'desiigner', 9288: 'gina', 9289: 'tested', 9290: 'aliens', 9291: 'refreshments', 9292: 'speedboat', 9293: 'brazilian', 9294: 'apollo', 9295: 'nostra', 9296: 'gums', 9297: 'stripe', 9298: 'trending', 9299: 'appraised', 9300: 'sade', 9301: 'jackie', 9302: 'grandparents', 9303: 'exhibits', 9304: 'murcielago', 9305: 'hablo', 9306: 'truest', 9307: 'rollies', 9308: 'degrade', 9309: 'shortys', 9310: 'ballerific', 9311: 'terrific', 9312: 'specific', 9313: 'anita', 9314: 'ruth', 9315: 'roaches', 9316: 'racism', 9317: 'believers', 9318: 'dismiss', 9319: 'bans', 9320: 'repertoire', 9321: 'erection', 9322: 'lesbians', 9323: 'managers', 9324: 'nerd', 9325: 'perez', 9326: 'eighth', 9327: 'delorean', 9328: 'paradigm', 9329: 'roley', 9330: 'bloggers', 9331: 'brawlin', 9332: 'emails', 9333: 'leaking', 9334: 'offering', 9335: 'untie', 9336: 'physique', 9337: 'threshold', 9338: 'plywood', 9339: 'lilly', 9340: 'clinton', 9341: 'fois', 9342: 'homme', 9343: 'chevrolet', 9344: 'bras', 9345: 'restored', 9346: 'prescription', 9347: 'ling', 9348: 'fables', 9349: 'unsigned', 9350: 'lashes', 9351: 'dean', 9352: 'vein', 9353: 'sneakers', 9354: 'swig', 9355: 'cristo', 9356: 'jameson', 9357: 'brink', 9358: 'bachelor', 9359: 'hustla', 9360: 'salad', 9361: 'towed', 9362: 'cardiac', 9363: 'fixin', 9364: 'fukin', 9365: 'paddy', 9366: 'viagra', 9367: 'yearbook', 9368: 'equivalent', 9369: 'haystack', 9370: 'flask', 9371: 'kevin', 9372: 'fours', 9373: 'procedure', 9374: 'nipples', 9375: 'sideburns', 9376: 'sizzle', 9377: 'exhale', 9378: 'muhammad', 9379: 'brady', 9380: 'iran', 9381: 'reagan', 9382: 'cougar', 9383: 'instruments', 9384: 'beatles', 9385: 'lennon', 9386: 'werent', 9387: 'shootouts', 9388: 'wavy', 9389: 'hunnid', 9390: 'leprechauns', 9391: 'blat', 9392: 'boastin', 9393: 'obsession', 9394: 'outdoor', 9395: 'reckoning', 9396: 'knuckleheads', 9397: 'socially', 9398: 'geniuses', 9399: 'lancelot', 9400: 'hatch', 9401: 'oppose', 9402: 'parent', 9403: 'restraint', 9404: 'angelica', 9405: 'draft', 9406: 'reigns', 9407: 'fags', 9408: 'dale', 9409: 'scribble', 9410: 'jj', 9411: 'discrimination', 9412: 'booed', 9413: 'relapse', 9414: 'windpipe', 9415: 'venom', 9416: 'eyeball', 9417: 'crock', 9418: 'rib', 9419: 'kwame', 9420: 'description', 9421: 'nathan', 9422: 'cranbrook', 9423: 'zipped', 9424: 'gerbil', 9425: 'clerk', 9426: 'biscuit', 9427: 'snobby', 9428: 'deaded', 9429: 'anus', 9430: 'verbal', 9431: 'flopped', 9432: 'humongous', 9433: 'vials', 9434: 'sprinkle', 9435: 'wiped', 9436: 'homicide', 9437: 'faucet', 9438: 'chainsaw', 9439: 'rabies', 9440: 'splits', 9441: 'milf', 9442: 'nitro', 9443: 'naps', 9444: 'cr', 9445: 'entourage', 9446: 'rivalry', 9447: 'dissed', 9448: 'whereabouts', 9449: 'deacon', 9450: 'levi', 9451: 'squash', 9452: 'ouh', 9453: 'arrogant', 9454: 'respond', 9455: 'offa', 9456: 'rocka', 9457: 'gasps', 9458: 'slums', 9459: 'anemic', 9460: 'harsh', 9461: 'glisten', 9462: 'euro', 9463: 'leo', 9464: 'coco', 9465: 'loans', 9466: 'seizure', 9467: 'cuffed', 9468: 'phd', 9469: 'moonwalk', 9470: 'unfaithful', 9471: 'scissorhands', 9472: 'signin', 9473: 'sauna', 9474: 'bummy', 9475: 'ceo', 9476: 'mag', 9477: 'blocking', 9478: 'amnesia', 9479: 'clinic', 9480: 'flava', 9481: 'emcee', 9482: 'quiz', 9483: 'coughin', 9484: 'atl', 9485: 'fahrenheit', 9486: 'unplug', 9487: 'jello', 9488: 'trough', 9489: 'pennyroyal', 9490: 'burlap', 9491: 'protector', 9492: 'nirvana', 9493: 'dank', 9494: 'dealio', 9495: 'rotate', 9496: 'pues', 9497: 'prowl', 9498: 'diva', 9499: 'flossing', 9500: 'ginuwine', 9501: 'guerillas', 9502: 'medina', 9503: 'com', 9504: 'merrily', 9505: 'trot', 9506: 'strawberries', 9507: 'pap', 9508: 'dawson', 9509: 'tammie', 9510: 'blowsey', 9511: 'buble', 9512: 'buddah', 9513: 'befriended', 9514: 'quarters', 9515: 'thelma', 9516: 'thyme', 9517: 'kama', 9518: 'sawed', 9519: 'remy', 9520: 'dracula', 9521: 'threaten', 9522: 'nutsack', 9523: 'flips', 9524: 'luv', 9525: 'silencers', 9526: 'faculty', 9527: 'damien', 9528: 'valle', 9529: 'northside', 9530: 'yeuh', 9531: 'cruiser', 9532: 'patti', 9533: 'crescendo', 9534: 'cheater', 9535: 'galliano', 9536: 'copping', 9537: 'whee', 9538: 'cs', 9539: 'protocol', 9540: 'willis', 9541: 'hoodies', 9542: 'chaka', 9543: 'wanne', 9544: 'opals', 9545: 'taped', 9546: 'decreed', 9547: 'bunker', 9548: 'leakin', 9549: 'splurge', 9550: 'deranged', 9551: 'simone', 9552: 'uncut', 9553: 'mmmmm', 9554: 'tourists', 9555: 'npg', 9556: 'controllin', 9557: 'nig', 9558: 'oohhh', 9559: 'affirmative', 9560: 'absence', 9561: 'uninvited', 9562: 'underestimate', 9563: 'skyscrapers', 9564: 'drags', 9565: 'taint', 9566: 'clarity', 9567: 'lighten', 9568: 'reeds', 9569: 'parole', 9570: 'tidy', 9571: 'coy', 9572: 'awaken', 9573: 'mentioning', 9574: 'properly', 9575: 'meaner', 9576: 'gether', 9577: 'shun', 9578: 'burdens', 9579: 'helpin', 9580: 'yourselves', 9581: 'inclined', 9582: 'mocking', 9583: 'somethings', 9584: 'righteousness', 9585: 'dodging', 9586: 'roger', 9587: 'capacity', 9588: 'withdrawal', 9589: 'resigned', 9590: 'catches', 9591: 'gig', 9592: 'clinging', 9593: 'vexed', 9594: 'dumped', 9595: 'priority', 9596: 'beasties', 9597: 'consequences', 9598: 'thrust', 9599: 'rejection', 9600: 'brutal', 9601: 'kinks', 9602: 'alongside', 9603: 'fails', 9604: 'pretended', 9605: 'alcoholic', 9606: 'misbehaved', 9607: 'sinatra', 9608: 'beautifully', 9609: 'communicate', 9610: 'paulette', 9611: 'attracts', 9612: 'standards', 9613: 'jd', 9614: 'contempt', 9615: 'oooooh', 9616: 'necessity', 9617: 'starlight', 9618: 'beastie', 9619: 'irresistible', 9620: 'sympathize', 9621: 'sources', 9622: 'landscapes', 9623: 'solved', 9624: 'lava', 9625: 'currents', 9626: 'pagan', 9627: 'signals', 9628: 'scratches', 9629: 'existed', 9630: 'kahi', 9631: 'engin', 9632: 'inn', 9633: 'aeroplane', 9634: 'souvenir', 9635: 'practised', 9636: 'embraces', 9637: 'nebula', 9638: 'claustrophobia', 9639: 'murmuring', 9640: 'anchor', 9641: 'paws', 9642: 'intimate', 9643: 'hej', 9644: 'sen', 9645: 'hei', 9646: 'ashore', 9647: 'faults', 9648: 'morbid', 9649: 'intimacy', 9650: 'stern', 9651: 'thunderstorm', 9652: 'magnetic', 9653: 'withheld', 9654: 'forming', 9655: 'wishful', 9656: 'tortures', 9657: 'assist', 9658: 'luminous', 9659: 'virus', 9660: 'mourning', 9661: 'saliva', 9662: 'threatening', 9663: 'niagara', 9664: 'elements', 9665: 'ecstatic', 9666: 'unfolds', 9667: 'nicely', 9668: 'recurrent', 9669: 'trapeze', 9670: 'gardener', 9671: 'arrows', 9672: 'craft', 9673: 'mn', 9674: 'eins', 9675: 'mninn', 9676: 'lina', 9677: 'sweethearts', 9678: 'highs', 9679: 'tun', 9680: 'mek', 9681: 'greatly', 9682: 'personally', 9683: 'buscando', 9684: 'ese', 9685: 'momento', 9686: 'musician', 9687: 'learnt', 9688: 'difficulties', 9689: 'jada', 9690: 'element', 9691: 'ryone', 9692: 'blended', 9693: 'underwater', 9694: 'inviting', 9695: 'celebrations', 9696: 'buys', 9697: 'knit', 9698: 'dave', 9699: 'postcard', 9700: 'stating', 9701: 'indicate', 9702: 'joo', 9703: 'eyeballs', 9704: 'eggman', 9705: 'eggmen', 9706: 'elementary', 9707: 'lords', 9708: 'dragged', 9709: 'albert', 9710: 'sont', 9711: 'vont', 9712: 'banker', 9713: 'hourglass', 9714: 'customer', 9715: 'jo', 9716: 'tangerine', 9717: 'kaleidoscope', 9718: 'mckenzie', 9719: 'log', 9720: 'owww', 9721: 'possessions', 9722: 'childlike', 9723: 'woof', 9724: 'unpack', 9725: 'hu', 9726: 'shouts', 9727: 'dose', 9728: 'diller', 9729: 'dakota', 9730: 'rival', 9731: 'proceeded', 9732: 'fussing', 9733: 'per', 9734: 'wits', 9735: 'trenchtown', 9736: 'realizing', 9737: 'troddin', 9738: 'mainland', 9739: 'capturer', 9740: 'adventurer', 9741: 'nanny', 9742: 'hawk', 9743: 'guessin', 9744: 'brotherman', 9745: 'rockers', 9746: 'adlib', 9747: 'sub', 9748: 'offense', 9749: 'rama', 9750: 'gravalicious', 9751: 'accumulate', 9752: 'binghi', 9753: 'grimepit', 9754: 'pulpit', 9755: 'parasites', 9756: 'fighters', 9757: 'tribulation', 9758: 'emperor', 9759: 'irie', 9760: 'grinds', 9761: 'transplanted', 9762: 'sufferers', 9763: 'trampled', 9764: 'windo', 9765: 'raygun', 9766: 'traces', 9767: 'femmes', 9768: 'hitchcock', 9769: 'indecision', 9770: 'prank', 9771: 'antisocial', 9772: 'mexican', 9773: 'lacking', 9774: 'coop', 9775: 'explodes', 9776: 'politicians', 9777: 'vote', 9778: 'chores', 9779: 'intoxicate', 9780: 'suggest', 9781: 'vertigo', 9782: 'pizza', 9783: 'void', 9784: 'lecture', 9785: 'diarrhea', 9786: 'tights', 9787: 'folded', 9788: 'hungover', 9789: 'blamed', 9790: 'downward', 9791: 'paranoia', 9792: 'disappointment', 9793: 'exhaustion', 9794: 'jammed', 9795: 'dover', 9796: 'cynical', 9797: 'fingerprints', 9798: 'hints', 9799: 'property', 9800: 'touring', 9801: 'facilities', 9802: 'fingernails', 9803: 'armrest', 9804: 'chrysler', 9805: 'heeeey', 9806: 'haunts', 9807: 'constellations', 9808: 'glimmering', 9809: 'flaming', 9810: 'contemplating', 9811: 'paralyzed', 9812: 'jerking', 9813: 'income', 9814: 'chunk', 9815: 'rebuild', 9816: 'callers', 9817: 'fluffy', 9818: 'cypress', 9819: 'kidney', 9820: 'novel', 9821: 'chanting', 9822: 'shag', 9823: 'plated', 9824: 'freezer', 9825: 'smothered', 9826: 'hefty', 9827: 'microscope', 9828: 'fuzzy', 9829: 'tighten', 9830: 'quittin', 9831: 'shtick', 9832: 'gong', 9833: 'pineapple', 9834: 'tantas', 9835: 'cantar', 9836: 'pasar', 9837: 'cosas', 9838: 'foto', 9839: 'muy', 9840: 'cerca', 9841: 'cara', 9842: 'sienten', 9843: 'horas', 9844: 'vuelvo', 9845: 'tratando', 9846: 'pod', 9847: 'saber', 9848: 'sprees', 9849: 'angelina', 9850: 'fema', 9851: 'stylin', 9852: 'unzip', 9853: 'minks', 9854: 'jocking', 9855: 'sacrifices', 9856: 'correct', 9857: 'hoops', 9858: 'required', 9859: 'voicemail', 9860: 'suga', 9861: 'proposition', 9862: 'frankly', 9863: 'skating', 9864: 'noo', 9865: 'gunshot', 9866: 'youuu', 9867: 'victrola', 9868: 'freely', 9869: 'savor', 9870: 'nibble', 9871: 'boca', 9872: 'suavecito', 9873: 'vamos', 9874: 'pegando', 9875: 'starbucks', 9876: 'prr', 9877: 'exes', 9878: 'climbin', 9879: 'slope', 9880: 'perception', 9881: 'woa', 9882: 'obligations', 9883: 'doubters', 9884: 'reservation', 9885: 'passports', 9886: 'explosive', 9887: 'prized', 9888: 'significant', 9889: 'itching', 9890: 'remnant', 9891: 'whoah', 9892: 'yeahhh', 9893: 'golf', 9894: 'motha', 9895: 'pilates', 9896: 'courthouse', 9897: 'johnstown', 9898: 'mansions', 9899: 'campfire', 9900: 'southwest', 9901: 'boulder', 9902: 'baritone', 9903: 'pearly', 9904: 'dull', 9905: 'freight', 9906: 'blondes', 9907: 'fairytale', 9908: 'alter', 9909: 'combed', 9910: 'crutch', 9911: 'bombed', 9912: 'subaru', 9913: 'stumblin', 9914: 'trance', 9915: 'beale', 9916: 'learnin', 9917: 'snapping', 9918: 'pact', 9919: 'tumblin', 9920: 'tradin', 9921: 'ros', 9922: 'rushin', 9923: 'nam', 9924: 'soot', 9925: 'korea', 9926: 'tons', 9927: 'homecoming', 9928: 'churches', 9929: 'turnpike', 9930: 'ballet', 9931: 'contacts', 9932: 'wrestle', 9933: 'cheaters', 9934: 'lowered', 9935: 'glories', 9936: 'scattered', 9937: 'treble', 9938: 'types', 9939: 'erupt', 9940: 'australia', 9941: 'buzzing', 9942: 'dart', 9943: 'conceited', 9944: 'warming', 9945: 'relationships', 9946: 'sensational', 9947: 'eazy', 9948: 'announcement', 9949: 'froggy', 9950: 'faction', 9951: 'eff', 9952: 'peepshow', 9953: 'patterns', 9954: 'soaring', 9955: 'locking', 9956: 'completley', 9957: 'flu', 9958: 'fasten', 9959: 'sweatin', 9960: 'punish', 9961: 'occupy', 9962: 'sentimentos', 9963: 'bela', 9964: 'uma', 9965: 'gadgets', 9966: 'gizmos', 9967: 'strolling', 9968: 'swoon', 9969: 'provincial', 9970: 'spells', 9971: 'chapter', 9972: 'facade', 9973: 'mademoiselle', 9974: 'clam', 9975: 'mended', 9976: 'rake', 9977: 'babble', 9978: 'withdrawn', 9979: 'scroll', 9980: 'archangel', 9981: 'escaped', 9982: 'cathedral', 9983: 'beasts', 9984: 'monarchy', 9985: 'irae', 9986: 'horizons', 9987: 'wondrous', 9988: 'breakneck', 9989: 'waterfalls', 9990: 'sturdy', 9991: 'spoonful', 9992: 'chere', 9993: 'jour', 9994: 'banquet', 9995: 'buzzin', 9996: 'bod', 9997: 'tides', 9998: 'leagues', 9999: 'lads', 10000: 'tatoo', 10001: 'mermaid', 10002: 'tranquil', 10003: 'shifted', 10004: 'bikes', 10005: 'enchantment', 10006: 'enchanted', 10007: 'tradition', 10008: 'fibers', 10009: 'trunks', 10010: 'farthest', 10011: 'oliday', 10012: 'creed', 10013: 'phoebe', 10014: 'vivian', 10015: 'veronica', 10016: 'sorts', 10017: 'fret', 10018: 'published', 10019: 'comprehend', 10020: 'definition', 10021: 'strains', 10022: 'waked', 10023: 'redder', 10024: 'scholars', 10025: 'unmoved', 10026: 'orderly', 10027: 'procession', 10028: 'dimples', 10029: 'martyrs', 10030: 'renown', 10031: 'perceive', 10032: 'gallant', 10033: 'election', 10034: 'charter', 10035: 'housewives', 10036: 'goblin', 10037: 'alway', 10038: 'polar', 10039: 'brooks', 10040: 'newer', 10041: 'entirely', 10042: 'revelations', 10043: 'permitted', 10044: 'unconscious', 10045: 'erect', 10046: 'beheld', 10047: 'pensive', 10048: 'covert', 10049: 'knoll', 10050: 'sabbath', 10051: 'madder', 10052: 'wherefore', 10053: 'flakes', 10054: 'dews', 10055: 'spices', 10056: 'whatsoever', 10057: 'countenance', 10058: 'providence', 10059: 'progress', 10060: 'bravest', 10061: 'onyx', 10062: 'idleness', 10063: 'stooping', 10064: 'doubtless', 10065: 'noons', 10066: 'buttercups', 10067: 'belief', 10068: 'hemlock', 10069: 'wrestlers', 10070: 'departing', 10071: 'members', 10072: 'syllables', 10073: 'cipher', 10074: 'bred', 10075: 'tombs', 10076: 'mates', 10077: 'overlooked', 10078: 'arose', 10079: 'decree', 10080: 'hue', 10081: 'borne', 10082: 'dialogue', 10083: 'testified', 10084: 'bolder', 10085: 'occurred', 10086: 'aurora', 10087: 'descending', 10088: 'qualities', 10089: 'piercing', 10090: 'shortly', 10091: 'breadth', 10092: 'fellows', 10093: 'sunsets', 10094: 'haply', 10095: 'invites', 10096: 'shapes', 10097: 'gem', 10098: 'brow', 10099: 'ratio', 10100: 'modest', 10101: 'withdrew', 10102: 'stirs', 10103: 'culprit', 10104: 'viewed', 10105: 'decades', 10106: 'flowed', 10107: 'constellation', 10108: 'circumference', 10109: 'brig', 10110: 'garner', 10111: 'experiment', 10112: 'depart', 10113: 'preached', 10114: 'audible', 10115: 'xliii', 10116: 'xliv', 10117: 'xlv', 10118: 'xlvi', 10119: 'careless', 10120: 'bugle', 10121: 'xlvii', 10122: 'xlviii', 10123: 'bland', 10124: 'xlix', 10125: 'merit', 10126: 'trained', 10127: 'unheard', 10128: 'gems', 10129: 'india', 10130: 'estimate', 10131: 'bodice', 10132: 'peers', 10133: 'alps', 10134: 'firmament', 10135: 'traveller', 10136: 'shrill', 10137: 'annual', 10138: 'inquire', 10139: 'lids', 10140: 'venice', 10141: 'blissful', 10142: 'tumbled', 10143: 'waltzed', 10144: 'extended', 10145: 'mashed', 10146: 'halves', 10147: 'lash', 10148: 'elf', 10149: 'fences', 10150: 'fulfilling', 10151: 'foe', 10152: 'axis', 10153: 'cattle', 10154: 'shreds', 10155: 'fringes', 10156: 'blossoms', 10157: 'frosts', 10158: 'flocks', 10159: 'sharper', 10160: 'manner', 10161: 'sportsman', 10162: 'acquitted', 10163: 'pall', 10164: 'beckons', 10165: 'choosing', 10166: 'sharpest', 10167: 'plump', 10168: 'drawer', 10169: 'trades', 10170: 'developed', 10171: 'interior', 10172: 'gallop', 10173: 'shaven', 10174: 'weigh', 10175: 'motionless', 10176: 'pea', 10177: 'abode', 10178: 'fitting', 10179: 'hateful', 10180: 'hame', 10181: 'frowns', 10182: 'gallows', 10183: 'slumbering', 10184: 'repay', 10185: 'disclose', 10186: 'inherited', 10187: 'chaff', 10188: 'italy', 10189: 'intervene', 10190: 'mason', 10191: 'marrow', 10192: 'dissect', 10193: 'repair', 10194: 'auburn', 10195: 'destitute', 10196: 'wilted', 10197: 'gabriel', 10198: 'recognized', 10199: 'affecting', 10200: 'petal', 10201: 'apparent', 10202: 'abducted', 10203: 'glimmer', 10204: 'tire', 10205: 'fatigue', 10206: 'bait', 10207: 'artificial', 10208: 'partly', 10209: 'cunning', 10210: 'lid', 10211: 'napoleon', 10212: 'abe', 10213: 'promoter', 10214: 'topless', 10215: 'branded', 10216: 'escapin', 10217: 'silhouetted', 10218: 'circled', 10219: 'wheelbarrow', 10220: 'mouthpiece', 10221: 'fates', 10222: 'insult', 10223: 'honky', 10224: 'lewis', 10225: 'arcade', 10226: 'silvio', 10227: 'gamblers', 10228: 'painter', 10229: 'keyhole', 10230: 'noses', 10231: 'escort', 10232: 'lowdown', 10233: 'einstein', 10234: 'sniffing', 10235: 'filth', 10236: 'outa', 10237: 'escaping', 10238: 'talkers', 10239: 'sadder', 10240: 'timmy', 10241: 'bracelets', 10242: 'forces', 10243: 'stations', 10244: 'grudge', 10245: 'swirling', 10246: 'evidently', 10247: 'philosophize', 10248: 'rumbling', 10249: 'joking', 10250: 'workingman', 10251: 'traps', 10252: 'airs', 10253: 'housing', 10254: 'reasonable', 10255: 'forgetful', 10256: 'detail', 10257: 'barren', 10258: 'claws', 10259: 'monks', 10260: 'madonna', 10261: 'studded', 10262: 'glimpse', 10263: 'flashlight', 10264: 'parasite', 10265: 'saviors', 10266: 'fury', 10267: 'nun', 10268: 'pied', 10269: 'pointless', 10270: 'wintertime', 10271: 'futures', 10272: 'nettie', 10273: 'scriptures', 10274: 'grips', 10275: 'alabama', 10276: 'amsterdam', 10277: 'elevators', 10278: 'fleet', 10279: 'weepin', 10280: 'sole', 10281: 'niece', 10282: 'rhapsody', 10283: 'pierced', 10284: 'shivers', 10285: 'stashed', 10286: 'turpentine', 10287: 'painful', 10288: 'crossing', 10289: 'mysteries', 10290: 'sewin', 10291: 'patches', 10292: 'altar', 10293: 'barbies', 10294: 'nursery', 10295: 'merchandise', 10296: 'skinner', 10297: 'marks', 10298: 'grassy', 10299: 'wayfaring', 10300: 'kites', 10301: 'fleas', 10302: 'paddles', 10303: 'poodles', 10304: 'ned', 10305: 'wump', 10306: 'awfully', 10307: 'recorded', 10308: 'lasted', 10309: 'expressions', 10310: 'notches', 10311: 'misused', 10312: 'scrabble', 10313: 'reelin', 10314: 'oklahoma', 10315: 'mum', 10316: 'gardens', 10317: 'canyons', 10318: 'sill', 10319: 'peacefully', 10320: 'misplaced', 10321: 'ezy', 10322: 'ryder', 10323: 'juma', 10324: 'congos', 10325: 'mitchell', 10326: 'gathers', 10327: 'poundin', 10328: 'drivers', 10329: 'dipped', 10330: 'rubbish', 10331: 'egotistic', 10332: 'rambler', 10333: 'sprout', 10334: 'hack', 10335: 'fairer', 10336: 'minnesota', 10337: 'miner', 10338: 'lunchbox', 10339: 'headlight', 10340: 'ov', 10341: 'pots', 10342: 'polish', 10343: 'surf', 10344: 'partners', 10345: 'receiver', 10346: 'newly', 10347: 'tollgate', 10348: 'jewelery', 10349: 'phoenix', 10350: 'fatal', 10351: 'wretched', 10352: 'nakey', 10353: 'touche', 10354: 'boucher', 10355: 'jfk', 10356: 'achilles', 10357: 'yuugh', 10358: 'conjure', 10359: 'accountants', 10360: 'boiled', 10361: 'hardaway', 10362: 'allegations', 10363: 'sans', 10364: 'coute', 10365: 'bron', 10366: 'facetime', 10367: 'kawasaki', 10368: 'ducked', 10369: 'yonc', 10370: 'slowin', 10371: 'ruger', 10372: 'uber', 10373: 'manederlek', 10374: 'konvict', 10375: 'tallahassee', 10376: 'bennett', 10377: 'erry', 10378: 'mania', 10379: 'ts', 10380: 'medulla', 10381: 'vvs', 10382: 'dolphins', 10383: 'bingo', 10384: 'dishonor', 10385: 'produced', 10386: 'andr', 10387: 'tek', 10388: 'thankin', 10389: 'wheelie', 10390: 'audemars', 10391: 'hol', 10392: 'celebratin', 10393: 'impressive', 10394: 'grasp', 10395: 'doubted', 10396: 'dopest', 10397: 'yolo', 10398: 'xo', 10399: 'ducking', 10400: 'pyrex', 10401: 'helicopter', 10402: 'continues', 10403: 'fessi', 10404: 'purses', 10405: 'cobain', 10406: 'witnessing', 10407: 'yoyo', 10408: 'fucka', 10409: 'homegirl', 10410: 'locka', 10411: 'der', 10412: 'ebony', 10413: 'lease', 10414: 'signature', 10415: 'cmb', 10416: 'audio', 10417: 'turds', 10418: 'restart', 10419: 'nage', 10420: 'lawsuits', 10421: 'liter', 10422: 'coppin', 10423: 'jockin', 10424: 'businesses', 10425: 'runners', 10426: 'fender', 10427: 'fritos', 10428: 'motivated', 10429: 'bubbly', 10430: 'strongest', 10431: 'gimmicks', 10432: 'trays', 10433: 'phantoms', 10434: 'unchanging', 10435: 'motivate', 10436: 'sewn', 10437: 'gimmie', 10438: 'demise', 10439: 'resurrected', 10440: 'swole', 10441: 'retaliation', 10442: 'swisher', 10443: 'luggage', 10444: 'damaging', 10445: 'cvs', 10446: 'pree', 10447: 'rev', 10448: 'beacouse', 10449: 'switchin', 10450: 'colossal', 10451: 'precautions', 10452: 'knob', 10453: 'foil', 10454: 'smoothly', 10455: 'curry', 10456: 'lavish', 10457: 'reps', 10458: 'audi', 10459: 'preparing', 10460: 'declinin', 10461: 'beamer', 10462: 'wesley', 10463: 'becky', 10464: 'kennedy', 10465: 'traded', 10466: 'sponsor', 10467: 'xan', 10468: 'advil', 10469: 'visual', 10470: 'payments', 10471: 'whoops', 10472: 'tiffany', 10473: 'bunk', 10474: 'youngest', 10475: 'ont', 10476: 'settling', 10477: 'phife', 10478: 'tuition', 10479: 'courtside', 10480: 'reporters', 10481: 'blacking', 10482: 'scam', 10483: 'mixin', 10484: 'epiphany', 10485: 'nasa', 10486: 'empathy', 10487: 'keith', 10488: 'retro', 10489: 'masturbate', 10490: 'jokers', 10491: 'jes', 10492: 'choosy', 10493: 'complacent', 10494: 'wri', 10495: 'poland', 10496: 'regis', 10497: 'stompin', 10498: 'gully', 10499: 'herringbone', 10500: 'suicidal', 10501: 'tracking', 10502: 'cruisin', 10503: 'fearful', 10504: 'hitcher', 10505: 'conditioned', 10506: 'machinery', 10507: 'jive', 10508: 'butterscotch', 10509: 'bleak', 10510: 'leaks', 10511: 'barney', 10512: 'cafes', 10513: 'darn', 10514: 'prophet', 10515: 'skateboard', 10516: 'manly', 10517: 'chords', 10518: 'plains', 10519: 'clicking', 10520: 'falcon', 10521: 'sprays', 10522: 'gliding', 10523: 'molded', 10524: 'beers', 10525: 'hissing', 10526: 'boho', 10527: 'scuffle', 10528: 'cleaner', 10529: 'goner', 10530: 'sneaking', 10531: 'perfumed', 10532: 'seagulls', 10533: 'governing', 10534: 'lateness', 10535: 'apeshit', 10536: 'bape', 10537: 'renovations', 10538: 'assessin', 10539: 'veggies', 10540: 'pictured', 10541: 'expedition', 10542: 'bauer', 10543: 'omelet', 10544: 'sarcophagus', 10545: 'esophagus', 10546: 'avenues', 10547: 'homei', 10548: 'digs', 10549: 'superbowl', 10550: 'lipo', 10551: 'eighteenth', 10552: 'entrusted', 10553: 'goddammit', 10554: 'del', 10555: 'rey', 10556: 'coastin', 10557: 'youbeautiful', 10558: 'unwanted', 10559: 'instigated', 10560: 'bleached', 10561: 'tribeca', 10562: 'randy', 10563: 'panty', 10564: 'scrutiny', 10565: 'cosby', 10566: 'emphasis', 10567: 'collagen', 10568: 'futuristic', 10569: 'extraterrestrial', 10570: 'bracelet', 10571: 'ig', 10572: 'pigment', 10573: 'tc', 10574: 'vacay', 10575: 'caw', 10576: 'rhymin', 10577: 'herzog', 10578: 'beckham', 10579: 'employees', 10580: 'infrastructure', 10581: 'yoga', 10582: 'campus', 10583: 'tux', 10584: 'blamin', 10585: 'baggy', 10586: 'sneaker', 10587: 'uk', 10588: 'peeped', 10589: 'blasted', 10590: 'diablo', 10591: 'bravado', 10592: 'refresh', 10593: 'lowest', 10594: 'simpson', 10595: 'maze', 10596: 'podium', 10597: 'kathie', 10598: 'stroking', 10599: 'unanimous', 10600: 'buddhist', 10601: 'cereal', 10602: 'units', 10603: 'speeds', 10604: 'stubs', 10605: 'intents', 10606: 'catholics', 10607: 'baptists', 10608: 'chiraq', 10609: 'itso', 10610: 'slo', 10611: 'ty', 10612: 'ign', 10613: 'gossiping', 10614: 'wil', 10615: 'lang', 10616: 'anal', 10617: 'lining', 10618: 'compassion', 10619: 'declaring', 10620: 'towns', 10621: 'cohen', 10622: 'channels', 10623: 'bel', 10624: 'trois', 10625: 'heroine', 10626: 'plunge', 10627: 'vulture', 10628: 'according', 10629: 'telephonin', 10630: 'flaw', 10631: 'twirling', 10632: 'electronic', 10633: 'crashes', 10634: 'geeks', 10635: 'trashy', 10636: 'ashtray', 10637: 'dramatic', 10638: 'sweden', 10639: 'vamp', 10640: 'aphrodite', 10641: 'sens', 10642: 'dashiki', 10643: 'dotted', 10644: 'balla', 10645: 'hahahaha', 10646: 'cameo', 10647: 'cope', 10648: 'withstand', 10649: 'fabulous', 10650: 'fakers', 10651: 'yearning', 10652: 'voo', 10653: 'falalalalalalala', 10654: 'inand', 10655: 'colombian', 10656: 'mens', 10657: 'mmhmm', 10658: 'recorder', 10659: 'beehive', 10660: 'asians', 10661: 'cig', 10662: 'machiavelli', 10663: 'meds', 10664: 'cameraman', 10665: 'tshirts', 10666: 'banger', 10667: 'zulu', 10668: 'warren', 10669: 'cussin', 10670: 'rashed', 10671: 'theyve', 10672: 'barack', 10673: 'parkers', 10674: 'publishing', 10675: 'mulligan', 10676: 'manfred', 10677: 'manns', 10678: 'lever', 10679: 'crude', 10680: 'gunplay', 10681: 'dungarees', 10682: 'aks', 10683: 'coupon', 10684: 'specialize', 10685: 'juve', 10686: 'cooks', 10687: 'nfl', 10688: 'shepard', 10689: 'polices', 10690: 'tolerance', 10691: 'preparation', 10692: 'pl', 10693: 'moma', 10694: 'weezyf', 10695: 'sundays', 10696: 'bled', 10697: 'brainstorm', 10698: 'mario', 10699: 'slurping', 10700: 'cosign', 10701: 'turban', 10702: 'cursive', 10703: 'scottie', 10704: 'flea', 10705: 'fatter', 10706: 'minage', 10707: 'buyers', 10708: 'madden', 10709: 'daddys', 10710: 'piranha', 10711: 'vacate', 10712: 'quitting', 10713: 'chaperon', 10714: 'hoein', 10715: 'muzzle', 10716: 'oven', 10717: 'bing', 10718: 'pusha', 10719: 'thered', 10720: 'concussions', 10721: 'collins', 10722: 'scrunch', 10723: 'herpes', 10724: 'ghettos', 10725: 'favours', 10726: 'foods', 10727: 'rothstein', 10728: 'cas', 10729: 'hatas', 10730: 'everythang', 10731: 'otha', 10732: 'damnit', 10733: 'mighta', 10734: 'ladys', 10735: 'psc', 10736: 'illy', 10737: 'flossed', 10738: 'weez', 10739: 'rosewood', 10740: 'bangers', 10741: 'arent', 10742: 'tshirt', 10743: 'orgies', 10744: 'bgizzle', 10745: 'ortiz', 10746: 'yves', 10747: 'goodwill', 10748: 'anotha', 10749: 'megaphone', 10750: 'ome', 10751: 'timepiece', 10752: 'comatose', 10753: 'gore', 10754: 'scalp', 10755: 'explosions', 10756: 'hyper', 10757: 'methods', 10758: 'teen', 10759: 'jamie', 10760: 'squalor', 10761: 'reigned', 10762: 'redcoats', 10763: 'dag', 10764: 'mentions', 10765: 'stallion', 10766: 'defendants', 10767: 'princeton', 10768: 'lauren', 10769: 'theodosia', 10770: 'goddamnit', 10771: 'peggy', 10772: 'sentences', 10773: 'senseless', 10774: 'debate', 10775: 'incidents', 10776: 'hypocrisy', 10777: 'indecent', 10778: 'nascar', 10779: 'asgard', 10780: 'punchlines', 10781: 'lamaa', 10782: 'innovative', 10783: 'chewed', 10784: 'salem', 10785: 'jeff', 10786: 'salary', 10787: 'hourly', 10788: 'capped', 10789: 'snapped', 10790: 'bruno', 10791: 'outtie', 10792: 'yells', 10793: 'insults', 10794: 'vent', 10795: 'laney', 10796: 'producers', 10797: 'pantyhose', 10798: 'addresses', 10799: 'anyways', 10800: 'matthew', 10801: 'cassette', 10802: 'eats', 10803: 'expose', 10804: 'grit', 10805: 'puss', 10806: 'arsenal', 10807: 'pamela', 10808: 'kross', 10809: 'eraser', 10810: 'deprived', 10811: 'keed', 10812: 'seized', 10813: 'faack', 10814: 'boobs', 10815: 'pigeon', 10816: 'muthafuckers', 10817: 'gobble', 10818: 'hobble', 10819: 'ward', 10820: 'wigs', 10821: 'grady', 10822: 'pajama', 10823: 'kiddies', 10824: 'glide', 10825: 'num', 10826: 'dissing', 10827: 'trio', 10828: 'shrooms', 10829: 'foster', 10830: 'saucer', 10831: 'unicorn', 10832: 'stutter', 10833: 'meanin', 10834: 'uppers', 10835: 'macho', 10836: 'hindi', 10837: 'refrigerator', 10838: 'crank', 10839: 'evacuate', 10840: 'grimy', 10841: 'cashis', 10842: 'instantly', 10843: 'sponsors', 10844: 'training', 10845: 'itty', 10846: 'slob', 10847: 'abort', 10848: 'violet', 10849: 'launcher', 10850: 'vocals', 10851: 'goatee', 10852: 'contrary', 10853: 'drips', 10854: 'axel', 10855: 'swallowin', 10856: 'panickin', 10857: 'thanksgivin', 10858: 'dea', 10859: 'impregnated', 10860: 'matrimony', 10861: 'yearold', 10862: 'bitin', 10863: 'pussys', 10864: 'coma', 10865: 'corolla', 10866: 'anja', 10867: 'rubik', 10868: 'parakeet', 10869: 'detest', 10870: 'ark', 10871: 'djs', 10872: 'pj', 10873: 'strokin', 10874: 'chloe', 10875: 'fishstick', 10876: 'apparel', 10877: 'allure', 10878: 'phillip', 10879: 'reads', 10880: 'selfesteem', 10881: 'pastdue', 10882: 'trainer', 10883: 'approachin', 10884: 'timbs', 10885: 'cranberry', 10886: 'bodyguards', 10887: 'manolo', 10888: 'logos', 10889: 'astoundin', 10890: 'fakeass', 10891: 'electra', 10892: 'smokescreens', 10893: 'comments', 10894: 'yer', 10895: 'befo', 10896: 'breakdowns', 10897: 'kayne', 10898: 'bulimic', 10899: 'ars', 10900: 'coupons', 10901: 'iceberg', 10902: 'cpr', 10903: 'cremate', 10904: 'gangbang', 10905: 'bridesmaids', 10906: 'romney', 10907: 'ving', 10908: 'rhames', 10909: 'donda', 10910: 'licorice', 10911: 'stripping', 10912: 'upped', 10913: 'lorraine', 10914: 'fussin', 10915: 'peaches', 10916: 'herbs', 10917: 'stylist', 10918: 'layaway', 10919: 'monie', 10920: 'chauncey', 10921: 'numpsay', 10922: 'babysitters', 10923: 'aunts', 10924: 'lifeline', 10925: 'wallets', 10926: 'sosa', 10927: 'adult', 10928: 'colleges', 10929: 'treys', 10930: 'scratchin', 10931: 'cashflow', 10932: 'sprewells', 10933: 'ferraris', 10934: 'barneys', 10935: 'immaculate', 10936: 'corona', 10937: 'barkley', 10938: 'tuxedo', 10939: 'leathers', 10940: 'howd', 10941: 'memo', 10942: 'muhfuckers', 10943: 'visiting', 10944: 'shirley', 10945: 'aunties', 10946: 'amerie', 10947: 'tippy', 10948: 'cheerleader', 10949: 'darkskinned', 10950: 'panthers', 10951: 'mexicans', 10952: 'popo', 10953: 'lexuses', 10954: 'clot', 10955: 'bullshittin', 10956: 'therell', 10957: 'acquire', 10958: 'boobies', 10959: 'crappy', 10960: 'spaced', 10961: 'bangles', 10962: 'cucumber', 10963: 'percentage', 10964: 'improvise', 10965: 'neyo', 10966: 'aligned', 10967: 'fk', 10968: 'edward', 10969: 'kia', 10970: 'truthfully', 10971: 'oc', 10972: 'runny', 10973: 'illuminati', 10974: 'stats', 10975: 'magnums', 10976: 'emporium', 10977: 'omari', 10978: 'decibels', 10979: 'scurred', 10980: 'ans', 10981: 'outlets', 10982: 'suzie', 10983: 'glc', 10984: 'georgetown', 10985: 'oscars', 10986: 'mobsters', 10987: 'cl', 10988: 'ummmm', 10989: 'bentlino', 10990: 'repod', 10991: 'versatile', 10992: 'bawlin', 10993: 'lazer', 10994: 'squeak', 10995: 'andor', 10996: 'commandment', 10997: 'volvos', 10998: 'aieeah', 10999: 'lakers', 11000: 'nokia', 11001: 'tarantino', 11002: 'benjies', 11003: 'slippers', 11004: 'werewolf', 11005: 'recital', 11006: 'flaws', 11007: 'trillion', 11008: 'pilgrims', 11009: 'naaaaananaaaaa', 11010: 'carefree', 11011: 'wisely', 11012: 'dictionary', 11013: 'suggestion', 11014: 'profanity', 11015: 'fortunate', 11016: 'belvedere', 11017: 'devious', 11018: 'fluids', 11019: 'stored', 11020: 'whooped', 11021: 'mowing', 11022: 'socket', 11023: 'atleast', 11024: 'defect', 11025: 'mayday', 11026: 'sided', 11027: 'hooking', 11028: 'chocha', 11029: 'pedicure', 11030: 'kunta', 11031: 'cinnabun', 11032: 'sw', 11033: 'misdemeanors', 11034: 'awakened', 11035: 'kinky', 11036: 'overflowin', 11037: 'mya', 11038: 'chocalata', 11039: 'twos', 11040: 'pous', 11041: 'hardball', 11042: 'flushed', 11043: 'cognac', 11044: 'zah', 11045: 'timba', 11046: 'yippe', 11047: 'timberland', 11048: 'heee', 11049: 'faker', 11050: 'blaaah', 11051: 'vibrate', 11052: 'diggy', 11053: 'croak', 11054: 'polishes', 11055: 'bootie', 11056: 'format', 11057: 'duplicate', 11058: 'juvenile', 11059: 'stinkin', 11060: 'peanut', 11061: 'tarts', 11062: 'petticoat', 11063: 'awry', 11064: 'dumpling', 11065: 'mousey', 11066: 'chirruped', 11067: 'hark', 11068: 'bessy', 11069: 'baa', 11070: 'hector', 11071: 'marries', 11072: 'barley', 11073: 'mew', 11074: 'goosey', 11075: 'gander', 11076: 'division', 11077: 'courting', 11078: 'shalt', 11079: 'hedge', 11080: 'dickory', 11081: 'peck', 11082: 'pickled', 11083: 'handies', 11084: 'cliffs', 11085: 'bodyguard', 11086: 'nikon', 11087: 'cecilia', 11088: 'twitchin', 11089: 'conversations', 11090: 'absentee', 11091: 'bamboo', 11092: 'shawnna', 11093: 'reese', 11094: 'oink', 11095: 'bucked', 11096: 'brome', 11097: 'pursuin', 11098: 'nt', 11099: 'willies', 11100: 'drah', 11101: 'furious', 11102: 'grills', 11103: 'craps', 11104: 'fruity', 11105: 'youoowhooo', 11106: 'whooo', 11107: 'sexting', 11108: 'swearin', 11109: 'dumpin', 11110: 'bouta', 11111: 'shalalala', 11112: 'choosin', 11113: 'squealin', 11114: 'leadway', 11115: 'streetwalking', 11116: 'slander', 11117: 'risen', 11118: 'quien', 11119: 'gsxrs', 11120: 'rrrr', 11121: 'inhalin', 11122: 'itchin', 11123: 'ghostwriter', 11124: 'scrapped', 11125: 'yuck', 11126: 'sheneneh', 11127: 'committin', 11128: 'riddles', 11129: 'dinosaur', 11130: 'biker', 11131: 'leaguer', 11132: 'headliner', 11133: 'dominican', 11134: 'fatigues', 11135: 'bey', 11136: 'bool', 11137: 'glover', 11138: 'midgets', 11139: 'trini', 11140: 'amazed', 11141: 'shrouds', 11142: 'ballooning', 11143: 'immerse', 11144: 'flan', 11145: 'ransom', 11146: 'interstellar', 11147: 'duhha', 11148: 'funkmaster', 11149: 'leach', 11150: 'douches', 11151: 'sweety', 11152: 'attractin', 11153: 'tbone', 11154: 'welchs', 11155: 'tremendous', 11156: 'infrared', 11157: 'lye', 11158: 'optimos', 11159: 'bms', 11160: 'obe', 11161: 'toby', 11162: 'unloaded', 11163: 'ej', 11164: 'roarke', 11165: 'teflon', 11166: 'acclaimed', 11167: 'lees', 11168: 'mondays', 11169: 'wednesdays', 11170: 'alligators', 11171: 'buttercrunch', 11172: 'oshkosh', 11173: 'depicted', 11174: 'boxcutter', 11175: 'dabbled', 11176: 'seniors', 11177: 'felon', 11178: 'realizin', 11179: 'enterprisin', 11180: 'counterparts', 11181: 'injections', 11182: 'syringe', 11183: 'seperately', 11184: 'wesson', 11185: 'skys', 11186: 'bubblegoose', 11187: 'dumbing', 11188: 'roughnecks', 11189: 'overdoser', 11190: 'heineken', 11191: 'williest', 11192: 'tims', 11193: 'beatstreet', 11194: 'chic', 11195: 'mandolins', 11196: 'contender', 11197: 'goldie', 11198: 'tyiest', 11199: 'quita', 11200: 'kenya', 11201: 'shana', 11202: 'whiteskinned', 11203: 'hons', 11204: 'rourke', 11205: 'phillies', 11206: 'ninetyfour', 11207: 'tokes', 11208: 'hclass', 11209: 'columbian', 11210: 'enrique', 11211: 'karan', 11212: 'stashin', 11213: 'vcrs', 11214: 'elevates', 11215: 'flicks', 11216: 'cmere', 11217: 'wallows', 11218: 'riffin', 11219: 'cherokee', 11220: 'buttnaked', 11221: 'combs', 11222: 'notorous', 11223: 'shiverin', 11224: 'deliverin', 11225: 'sparked', 11226: 'mariott', 11227: 'meridian', 11228: 'windface', 11229: 'ceas', 11230: 'sixpacks', 11231: 'consignment', 11232: 'fishscale', 11233: 'inf', 11234: 'twistin', 11235: 'timbos', 11236: 'pagin', 11237: 'calico', 11238: 'whyall', 11239: 'pillowcase', 11240: 'twotecs', 11241: 'reup', 11242: 'persistent', 11243: 'todays', 11244: 'sentra', 11245: 'blanco', 11246: 'exchanges', 11247: 'ranges', 11248: 'capiche', 11249: 'renegades', 11250: 'decidin', 11251: 'americas', 11252: 'calicos', 11253: 'atchya', 11254: 'brolic', 11255: 'becks', 11256: 'labelle', 11257: 'regina', 11258: 'careys', 11259: 'fittin', 11260: 'swv', 11261: 'telepathy', 11262: 'chante', 11263: 'rupaul', 11264: 'xscape', 11265: 'zhane', 11266: 'houson', 11267: 'scarry', 11268: 'backshots', 11269: 'flashbacks', 11270: 'braxton', 11271: 'resistant', 11272: 'itchy', 11273: 'sadat', 11274: 'beatdown', 11275: 'mamis', 11276: 'bigs', 11277: 'remarkable', 11278: 'methtical', 11279: 'snatchin', 11280: 'infrareds', 11281: 'ninetythree', 11282: 'leer', 11283: 'tamika', 11284: 'livest', 11285: 'paneling', 11286: 'crutches', 11287: 'dutches', 11288: 'appetit', 11289: 'forte', 11290: 'demented', 11291: 'scented', 11292: 'civilized', 11293: 'pelvis', 11294: 'suplex', 11295: 'repetitive', 11296: 'friction', 11297: 'pagers', 11298: 'scrolls', 11299: 'collaboration', 11300: 'suhen', 11301: 'bidness', 11302: 'sexin', 11303: 'cintamelia', 11304: 'nixgah', 11305: 'broklin', 11306: 'ceasealee', 11307: 'dontcha', 11308: 'funkdafied', 11309: 'rog', 11310: 'hibby', 11311: 'boogedy', 11312: 'yeaah', 11313: 'loses', 11314: 'guh', 11315: 'fourfiveseconds', 11316: 'unaffected', 11317: 'desperado', 11318: 'celibate', 11319: 'putcha', 11320: 'rollers', 11321: 'halilujah', 11322: 'imparts', 11323: 'synonymous', 11324: 'martha', 11325: 'partyup', 11326: 'yang', 11327: 'pimprag', 11328: 'aahhh', 11329: 'accessed', 11330: 'explicit', 11331: 'typical', 11332: 'fickle', 11333: 'heaviness', 11334: 'guessing', 11335: 'whichever', 11336: 'braver', 11337: 'mustn', 11338: 'brushing', 11339: 'vague', 11340: 'soaking', 11341: 'dropper', 11342: 'sensible', 11343: 'strips', 11344: 'blindin', 11345: 'punching', 11346: 'repeating', 11347: 'coquette', 11348: 'daydreaming', 11349: 'dawning', 11350: 'scares', 11351: 'grabs', 11352: 'proven', 11353: 'awh', 11354: 'onward', 11355: 'passions', 11356: 'thoughtful', 11357: 'sashes', 11358: 'consuming', 11359: 'foolishly', 11360: 'condemn', 11361: 'pastures', 11362: 'rustlin', 11363: 'throes', 11364: 'buzzer', 11365: 'pitter', 11366: 'ablaze', 11367: 'profound', 11368: 'assure', 11369: 'longin', 11370: 'homegrown', 11371: 'pickup', 11372: 'hers', 11373: 'nightlife', 11374: 'outsiders', 11375: 'bribed', 11376: 'bloodshot', 11377: 'shoved', 11378: 'reciting', 11379: 'weepy', 11380: 'jackpot', 11381: 'swallows', 11382: 'quizzical', 11383: 'conceive', 11384: 'distract', 11385: 'unused', 11386: 'resonate', 11387: 'debts', 11388: 'finance', 11389: 'drained', 11390: 'ruling', 11391: 'rekindle', 11392: 'suggests', 11393: 'exploring', 11394: 'arousal', 11395: 'accurate', 11396: 'intruder', 11397: 'coincidence', 11398: 'teases', 11399: 'matched', 11400: 'collects', 11401: 'leans', 11402: 'travels', 11403: 'receives', 11404: 'freckles', 11405: 'bathtub', 11406: 'puzzling', 11407: 'caressing', 11408: 'peaking', 11409: 'seduced', 11410: 'definitive', 11411: 'galaxies', 11412: 'solace', 11413: 'origin', 11414: 'suffocates', 11415: 'surrounds', 11416: 'sensuality', 11417: 'glowed', 11418: 'unexplained', 11419: 'eeeeeeeeeeeeeeeeeeee', 11420: 'eeee', 11421: 'mina', 11422: 'trickling', 11423: 'volunteer', 11424: 'embraced', 11425: 'hugest', 11426: 'turmoil', 11427: 'metallic', 11428: 'timber', 11429: 'stirring', 11430: 'wanders', 11431: 'hungers', 11432: 'embracing', 11433: 'scrape', 11434: 'sparkling', 11435: 'revive', 11436: 'counteract', 11437: 'hopeful', 11438: 'henh', 11439: 'distortion', 11440: 'heals', 11441: 'adapt', 11442: 'seeks', 11443: 'adversary', 11444: 'peru', 11445: 'copper', 11446: 'coloured', 11447: 'crisp', 11448: 'eyelashes', 11449: 'sleepyhead', 11450: 'forcing', 11451: 'steeped', 11452: 'throats', 11453: 'unison', 11454: 'renounced', 11455: 'poisoned', 11456: 'koma', 11457: 'kr', 11458: 'vid', 11459: 'gling', 11460: 'gl', 11461: 'klukkan', 11462: 'chimed', 11463: 'ofar', 11464: 'skyum', 11465: 'hl', 11466: 'lna', 11467: 'gaily', 11468: 'lsi', 11469: 'lasi', 11470: 'breeches', 11471: 'thvi', 11472: 'sagdi', 11473: 'hn', 11474: 'nei', 11475: 'deceit', 11476: 'islenskt', 11477: 'spelled', 11478: 'cone', 11479: 'cau', 11480: 'tru', 11481: 'ringer', 11482: 'tricky', 11483: 'coraz', 11484: 'voz', 11485: 'camino', 11486: 'explaining', 11487: 'clearest', 11488: 'burbs', 11489: 'metropolitan', 11490: 'technical', 11491: 'guarded', 11492: 'infiltrated', 11493: 'adored', 11494: 'spreading', 11495: 'tend', 11496: 'erasing', 11497: 'stressing', 11498: 'om', 11499: 'slumbers', 11500: 'misunderstanding', 11501: 'marketplace', 11502: 'trolley', 11503: 'carat', 11504: 'fireside', 11505: 'isle', 11506: 'ono', 11507: 'fragrant', 11508: 'constitution', 11509: 'endear', 11510: 'corporation', 11511: 'hare', 11512: 'poppies', 11513: 'trim', 11514: 'towering', 11515: 'poop', 11516: 'canary', 11517: 'norwegian', 11518: 'countries', 11519: 'penetrate', 11520: 'dreadful', 11521: 'listens', 11522: 'investigation', 11523: 'quando', 11524: 'amore', 11525: 'parasol', 11526: 'polythene', 11527: 'lagoon', 11528: 'lifting', 11529: 'stretches', 11530: 'gideon', 11531: 'grinning', 11532: 'stinking', 11533: 'edison', 11534: 'unpleasant', 11535: 'gallery', 11536: 'pleas', 11537: 'hehehe', 11538: 'porridge', 11539: 'merchant', 11540: 'atomic', 11541: 'analyze', 11542: 'hillside', 11543: 'midday', 11544: 'tasty', 11545: 'citizens', 11546: 'significance', 11547: 'regard', 11548: 'continent', 11549: 'glitters', 11550: 'git', 11551: 'teasin', 11552: 'shiftin', 11553: 'bado', 11554: 'mandeville', 11555: 'sligoville', 11556: 'prudent', 11557: 'iration', 11558: 'justified', 11559: 'housetop', 11560: 'motherfunky', 11561: 'lawful', 11562: 'hooligan', 11563: 'segregation', 11564: 'demonstration', 11565: 'unjust', 11566: 'sweepstake', 11567: 'riddim', 11568: 'starvation', 11569: 'captives', 11570: 'recite', 11571: 'pu', 11572: 'iyaman', 11573: 'uniting', 11574: 'creators', 11575: 'deceived', 11576: 'morgan', 11577: 'tings', 11578: 'braces', 11579: 'structure', 11580: 'flailing', 11581: 'plugged', 11582: 'bauhaus', 11583: 'bulge', 11584: 'hostile', 11585: 'mobs', 11586: 'unhealthy', 11587: 'dateless', 11588: 'cows', 11589: 'atom', 11590: 'clues', 11591: 'slightest', 11592: 'manson', 11593: 'avert', 11594: 'avoided', 11595: 'valuable', 11596: 'pendulum', 11597: 'ticks', 11598: 'unreal', 11599: 'tonic', 11600: 'machete', 11601: 'dividends', 11602: 'lebaron', 11603: 'prowess', 11604: 'hoooo', 11605: 'pedestrian', 11606: 'ornaments', 11607: 'forceps', 11608: 'haircut', 11609: 'radiation', 11610: 'dismembered', 11611: 'faintly', 11612: 'lamps', 11613: 'saves', 11614: 'cinco', 11615: 'adjectives', 11616: 'typewriter', 11617: 'frenzied', 11618: 'icepick', 11619: 'mustache', 11620: 'tweeters', 11621: 'curled', 11622: 'patriotic', 11623: 'waiter', 11624: 'dozens', 11625: 'excess', 11626: 'wobblin', 11627: 'disc', 11628: 'jockeys', 11629: 'corridors', 11630: 'location', 11631: 'tents', 11632: 'smoothed', 11633: 'serene', 11634: 'empowered', 11635: 'scattering', 11636: 'ascending', 11637: 'fawn', 11638: 'toothed', 11639: 'closets', 11640: 'contractions', 11641: 'rehearsals', 11642: 'rite', 11643: 'turquoise', 11644: 'weaken', 11645: 'trousers', 11646: 'hiss', 11647: 'underpass', 11648: 'tobacco', 11649: 'colleagues', 11650: 'rearranging', 11651: 'generals', 11652: 'witches', 11653: 'spreads', 11654: 'parks', 11655: 'malls', 11656: 'beta', 11657: 'reds', 11658: 'idling', 11659: 'doubting', 11660: 'squinting', 11661: 'sockets', 11662: 'exchanging', 11663: 'pores', 11664: 'sentir', 11665: 'nadie', 11666: 'dado', 11667: 'mamacita', 11668: 'recession', 11669: 'chandelier', 11670: 'bunnies', 11671: 'detector', 11672: 'contemplatin', 11673: 'seatbelt', 11674: 'wonderland', 11675: 'replacement', 11676: 'rubs', 11677: 'reservations', 11678: 'noooo', 11679: 'nonchalant', 11680: 'overprotective', 11681: 'ning', 11682: 'ense', 11683: 'lugares', 11684: 'favoritos', 11685: 'provocar', 11686: 'gritos', 11687: 'olvides', 11688: 'apellido', 11689: 'ven', 11690: 'ndolo', 11691: 'esa', 11692: 'item', 11693: 'commas', 11694: 'bronze', 11695: 'falsetto', 11696: 'twirl', 11697: 'treadmill', 11698: 'hazard', 11699: 'avalanche', 11700: 'complications', 11701: 'spreadin', 11702: 'roastin', 11703: 'nationality', 11704: 'bicycle', 11705: 'icicles', 11706: 'convenience', 11707: 'deceased', 11708: 'delusional', 11709: 'texts', 11710: 'cher', 11711: 'reminiscin', 11712: 'convention', 11713: 'apparently', 11714: 'unconditional', 11715: 'foldin', 11716: 'esco', 11717: 'mothafucking', 11718: 'ken', 11719: 'mmmm', 11720: 'condone', 11721: 'attractive', 11722: 'cages', 11723: 'stark', 11724: 'stretching', 11725: 'joad', 11726: 'madman', 11727: 'indians', 11728: 'diplomat', 11729: 'adolescent', 11730: 'mascot', 11731: 'brimstone', 11732: 'cart', 11733: 'racket', 11734: 'rifle', 11735: 'hiring', 11736: 'prevails', 11737: 'bedtime', 11738: 'boppin', 11739: 'commanded', 11740: 'strolled', 11741: 'untouched', 11742: 'piracy', 11743: 'tempting', 11744: 'strayin', 11745: 'spar', 11746: 'relatives', 11747: 'bough', 11748: 'cassidy', 11749: 'buzzard', 11750: 'rears', 11751: 'hovered', 11752: 'theses', 11753: 'noah', 11754: 'rustling', 11755: 'chained', 11756: 'graces', 11757: 'worker', 11758: 'albany', 11759: 'navigated', 11760: 'davy', 11761: 'drawin', 11762: 'survives', 11763: 'delilah', 11764: 'ore', 11765: 'sleek', 11766: 'flamingo', 11767: 'jails', 11768: 'jungleland', 11769: 'switchblades', 11770: 'confiscate', 11771: 'champions', 11772: 'parish', 11773: 'textile', 11774: 'coastline', 11775: 'smasher', 11776: 'derriere', 11777: 'uncontrollably', 11778: 'feelins', 11779: 'closely', 11780: 'corrected', 11781: 'cockiness', 11782: 'interesting', 11783: 'damaged', 11784: 'confetti', 11785: 'ight', 11786: 'courtesy', 11787: 'arch', 11788: 'woooo', 11789: 'matchin', 11790: 'monogamy', 11791: 'dusting', 11792: 'par', 11793: 'pine', 11794: 'heron', 11795: 'monsieur', 11796: 'baguettes', 11797: 'dazed', 11798: 'insist', 11799: 'dreamy', 11800: 'column', 11801: 'poof', 11802: 'fry', 11803: 'soundin', 11804: 'trout', 11805: 'smelt', 11806: 'cauldron', 11807: 'caspian', 11808: 'ahahahahah', 11809: 'watery', 11810: 'sinned', 11811: 'frollo', 11812: 'dilly', 11813: 'psalm', 11814: 'corruption', 11815: 'rywhere', 11816: 'thrilling', 11817: 'actch', 11818: 'satisfactch', 11819: 'greek', 11820: 'fees', 11821: 'royalties', 11822: 'hunk', 11823: 'theater', 11824: 'crab', 11825: 'beginners', 11826: 'brightest', 11827: 'achin', 11828: 'ami', 11829: 'gulls', 11830: 'extend', 11831: 'napkin', 11832: 'hors', 11833: 'menu', 11834: 'napkins', 11835: 'bubbling', 11836: 'digest', 11837: 'pillage', 11838: 'salagadoola', 11839: 'mechicka', 11840: 'swingers', 11841: 'mancub', 11842: 'coconuts', 11843: 'tapestry', 11844: 'coursing', 11845: 'mata', 11846: 'matagi', 11847: 'manatu', 11848: 'atu', 11849: 'taku', 11850: 'daydream', 11851: 'sowed', 11852: 'dependin', 11853: 'aroma', 11854: 'wanderer', 11855: 'vagabonds', 11856: 'pate', 11857: 'coconut', 11858: 'provided', 11859: 'lawrence', 11860: 'poppins', 11861: 'ci', 11862: 'requires', 11863: 'scant', 11864: 'shipwreck', 11865: 'violets', 11866: 'leaps', 11867: 'certainty', 11868: 'valves', 11869: 'winked', 11870: 'earring', 11871: 'chanticleer', 11872: 'sneer', 11873: 'aloud', 11874: 'bosom', 11875: 'cavalry', 11876: 'strove', 11877: 'realms', 11878: 'periods', 11879: 'hinder', 11880: 'toddled', 11881: 'beckoned', 11882: 'errand', 11883: 'splinter', 11884: 'spurn', 11885: 'blushing', 11886: 'draught', 11887: 'hurrying', 11888: 'hem', 11889: 'latitudes', 11890: 'sexton', 11891: 'discarded', 11892: 'sought', 11893: 'condemned', 11894: 'needless', 11895: 'decks', 11896: 'crucifix', 11897: 'diadem', 11898: 'adequate', 11899: 'unborn', 11900: 'hums', 11901: 'elm', 11902: 'betrays', 11903: 'punctual', 11904: 'murmur', 11905: 'aristocracy', 11906: 'bobolink', 11907: 'tolling', 11908: 'mists', 11909: 'peacock', 11910: 'bog', 11911: 'commander', 11912: 'countless', 11913: 'multitudes', 11914: 'brood', 11915: 'enabled', 11916: 'eaves', 11917: 'transporting', 11918: 'wizard', 11919: 'travelled', 11920: 'imported', 11921: 'insect', 11922: 'cancelled', 11923: 'chivalry', 11924: 'helmet', 11925: 'startled', 11926: 'plucking', 11927: 'sighing', 11928: 'parched', 11929: 'auto', 11930: 'amethyst', 11931: 'descend', 11932: 'boughs', 11933: 'outcast', 11934: 'partake', 11935: 'morns', 11936: 'complains', 11937: 'satisfies', 11938: 'slake', 11939: 'throng', 11940: 'surpassing', 11941: 'disperse', 11942: 'diadems', 11943: 'soundless', 11944: 'disk', 11945: 'heedless', 11946: 'quivered', 11947: 'staggered', 11948: 'simulate', 11949: 'throe', 11950: 'bustle', 11951: 'moor', 11952: 'heather', 11953: 'playmates', 11954: 'shivered', 11955: 'porter', 11956: 'deity', 11957: 'haste', 11958: 'civility', 11959: 'paused', 11960: 'visible', 11961: 'unnoticed', 11962: 'excellent', 11963: 'decline', 11964: 'emancipation', 11965: 'frugal', 11966: 'edited', 11967: 'mabel', 11968: 'loomis', 11969: 'extent', 11970: 'addition', 11971: 'phrases', 11972: 'copies', 11973: 'editors', 11974: 'punctuation', 11975: 'roughness', 11976: 'intentionally', 11977: 'intrinsic', 11978: 'appealing', 11979: 'trivial', 11980: 'exhibit', 11981: 'jubilee', 11982: 'banish', 11983: 'steadfast', 11984: 'tactics', 11985: 'conditions', 11986: 'quivering', 11987: 'substance', 11988: 'din', 11989: 'triumphant', 11990: 'pebble', 11991: 'discipline', 11992: 'harmless', 11993: 'jehovah', 11994: 'scan', 11995: 'surgeons', 11996: 'railway', 11997: 'omnipotent', 11998: 'compensate', 11999: 'circuit', 12000: 'rescued', 12001: 'fluent', 12002: 'reefs', 12003: 'invention', 12004: 'frigid', 12005: 'centre', 12006: 'brittle', 12007: 'finite', 12008: 'dungeons', 12009: 'wick', 12010: 'extinguished', 12011: 'lighthouse', 12012: 'rowing', 12013: 'companies', 12014: 'convenient', 12015: 'stimulate', 12016: 'lii', 12017: 'carol', 12018: 'liii', 12019: 'fumbled', 12020: 'gasping', 12021: 'dames', 12022: 'onset', 12023: 'conviction', 12024: 'persuaded', 12025: 'drunkard', 12026: 'impose', 12027: 'folding', 12028: 'henceforth', 12029: 'restraining', 12030: 'aisles', 12031: 'wooing', 12032: 'wheeling', 12033: 'spangled', 12034: 'overflows', 12035: 'miscellaneous', 12036: 'nicodemus', 12037: 'bumble', 12038: 'belted', 12039: 'distinguished', 12040: 'rural', 12041: 'dreaded', 12042: 'pierce', 12043: 'bereaved', 12044: 'revolving', 12045: 'overheard', 12046: 'trusting', 12047: 'mermaids', 12048: 'bowing', 12049: 'tempest', 12050: 'juggler', 12051: 'panting', 12052: 'orient', 12053: 'residence', 12054: 'affords', 12055: 'nods', 12056: 'plies', 12057: 'astonished', 12058: 'repose', 12059: 'gentian', 12060: 'insulted', 12061: 'pompous', 12062: 'nazareth', 12063: 'deathless', 12064: 'nearing', 12065: 'clause', 12066: 'acquainted', 12067: 'shops', 12068: 'gait', 12069: 'crayon', 12070: 'weighed', 12071: 'duties', 12072: 'values', 12073: 'confronting', 12074: 'involves', 12075: 'advances', 12076: 'regions', 12077: 'sepulchre', 12078: 'abbey', 12079: 'revolver', 12080: 'powdered', 12081: 'robes', 12082: 'amid', 12083: 'cheerful', 12084: 'diverse', 12085: 'banners', 12086: 'laurel', 12087: 'inspected', 12088: 'amounts', 12089: 'termed', 12090: 'aspiration', 12091: 'warp', 12092: 'dismay', 12093: 'furniture', 12094: 'traitor', 12095: 'repentance', 12096: 'consolation', 12097: 'blithe', 12098: 'rumbles', 12099: 'electricity', 12100: 'flint', 12101: 'impaled', 12102: 'griefs', 12103: 'correctly', 12104: 'indifferent', 12105: 'sly', 12106: 'include', 12107: 'buckets', 12108: 'obtain', 12109: 'maddest', 12110: 'humility', 12111: 'obscured', 12112: 'joys', 12113: 'reserved', 12114: 'barbed', 12115: 'revere', 12116: 'archer', 12117: 'prepares', 12118: 'hallowed', 12119: 'solitary', 12120: 'occupied', 12121: 'employed', 12122: 'related', 12123: 'prairie', 12124: 'departure', 12125: 'guile', 12126: 'gilded', 12127: 'tinsel', 12128: 'crawls', 12129: 'guido', 12130: 'powerless', 12131: 'genesis', 12132: 'supports', 12133: 'certificate', 12134: 'pyramids', 12135: 'menacing', 12136: 'customs', 12137: 'prospect', 12138: 'mourners', 12139: 'treading', 12140: 'chafe', 12141: 'troubling', 12142: 'stumbling', 12143: 'tassels', 12144: 'decimals', 12145: 'toad', 12146: 'farms', 12147: 'altitude', 12148: 'falsely', 12149: 'wildcat', 12150: 'banned', 12151: 'deaths', 12152: 'geek', 12153: 'professors', 12154: 'disappearin', 12155: 'masks', 12156: 'triggers', 12157: 'deathbed', 12158: 'hogs', 12159: 'businessman', 12160: 'jogging', 12161: 'eclipses', 12162: 'principles', 12163: 'idolize', 12164: 'morals', 12165: 'obscenity', 12166: 'shakespeare', 12167: 'grandpa', 12168: 'stapled', 12169: 'mustang', 12170: 'warbles', 12171: 'swimmin', 12172: 'stalled', 12173: 'boards', 12174: 'warned', 12175: 'harvest', 12176: 'relieve', 12177: 'brawl', 12178: 'sneakin', 12179: 'rung', 12180: 'peeking', 12181: 'pecan', 12182: 'tile', 12183: 'abel', 12184: 'casanova', 12185: 'superhuman', 12186: 'kerosene', 12187: 'whisperin', 12188: 'mockingbird', 12189: 'bended', 12190: 'ambassador', 12191: 'heavyweight', 12192: 'sized', 12193: 'crocodile', 12194: 'bargained', 12195: 'grieves', 12196: 'situations', 12197: 'conclusions', 12198: 'statues', 12199: 'winks', 12200: 'howls', 12201: 'reacted', 12202: 'outskirts', 12203: 'vile', 12204: 'uprooted', 12205: 'pulse', 12206: 'jiving', 12207: 'outnumbered', 12208: 'peasants', 12209: 'burgundy', 12210: 'starr', 12211: 'maidens', 12212: 'magnolia', 12213: 'rebels', 12214: 'harmonize', 12215: 'flannel', 12216: 'prey', 12217: 'defy', 12218: 'tuggin', 12219: 'faithfully', 12220: 'psalms', 12221: 'exploding', 12222: 'dixie', 12223: 'spared', 12224: 'indulgence', 12225: 'cannonball', 12226: 'jezebel', 12227: 'baptist', 12228: 'pipers', 12229: 'influence', 12230: 'rainey', 12231: 'samantha', 12232: 'michelangelo', 12233: 'turbulent', 12234: 'cannons', 12235: 'seduce', 12236: 'approved', 12237: 'horner', 12238: 'realistic', 12239: 'inflated', 12240: 'decency', 12241: 'flatter', 12242: 'profile', 12243: 'denver', 12244: 'notify', 12245: 'users', 12246: 'vines', 12247: 'contemplation', 12248: 'approve', 12249: 'nursing', 12250: 'mules', 12251: 'shined', 12252: 'battlefield', 12253: 'select', 12254: 'songbird', 12255: 'melodious', 12256: 'melts', 12257: 'countryside', 12258: 'oaks', 12259: 'groan', 12260: 'brussels', 12261: 'respected', 12262: 'prisoners', 12263: 'conspiracy', 12264: 'clubhouse', 12265: 'register', 12266: 'coated', 12267: 'paintin', 12268: 'baptize', 12269: 'establish', 12270: 'bandanas', 12271: 'splinters', 12272: 'dreamless', 12273: 'warfare', 12274: 'ivory', 12275: 'growth', 12276: 'yawn', 12277: 'promotion', 12278: 'proving', 12279: 'multicolored', 12280: 'flutters', 12281: 'floyd', 12282: 'bugs', 12283: 'addicts', 12284: 'smog', 12285: 'catalog', 12286: 'withered', 12287: 'gladness', 12288: 'sparklin', 12289: 'anticipation', 12290: 'postman', 12291: 'grits', 12292: 'rhinestone', 12293: 'weavin', 12294: 'sharin', 12295: 'sandy', 12296: 'intoxicating', 12297: 'tocks', 12298: 'gooey', 12299: 'bangs', 12300: 'lukes', 12301: 'freezy', 12302: 'grinchy', 12303: 'santy', 12304: 'whod', 12305: 'zans', 12306: 'gox', 12307: 'ying', 12308: 'pets', 12309: 'clark', 12310: 'dialing', 12311: 'drowns', 12312: 'levis', 12313: 'honny', 12314: 'wann', 12315: 'hawaii', 12316: 'denyin', 12317: 'touchy', 12318: 'willows', 12319: 'mussel', 12320: 'phew', 12321: 'wrestling', 12322: 'nono', 12323: 'mature', 12324: 'lp', 12325: 'bourbon', 12326: 'gallon', 12327: 'brownsville', 12328: 'abominable', 12329: 'swaying', 12330: 'lays', 12331: 'ise', 12332: 'releasing', 12333: 'nin', 12334: 'mellow', 12335: 'vibrations', 12336: 'shucks', 12337: 'coins', 12338: 'existing', 12339: 'foams', 12340: 'aqua', 12341: 'nashville', 12342: 'slung', 12343: 'previous', 12344: 'seaside', 12345: 'severed', 12346: 'gleaming', 12347: 'jivin', 12348: 'grandmas', 12349: 'toothbrush', 12350: 'saturn', 12351: 'egos', 12352: 'reno', 12353: 'galilee', 12354: 'streak', 12355: 'warrant', 12356: 'verdict', 12357: 'glen', 12358: 'sandoval', 12359: 'webb', 12360: 'onlyness', 12361: 'taps', 12362: 'conflict', 12363: 'sup', 12364: 'potter', 12365: 'darkened', 12366: 'canvas', 12367: 'louisville', 12368: 'jacksonville', 12369: 'costa', 12370: 'idaho', 12371: 'pittsburgh', 12372: 'eldorado', 12373: 'rosy', 12374: 'redeemed', 12375: 'colt', 12376: 'warden', 12377: 'info', 12378: 'fried', 12379: 'pigiron', 12380: 'conductor', 12381: 'tapping', 12382: 'pappy', 12383: 'paulie', 12384: 'ditches', 12385: 'crops', 12386: 'agua', 12387: 'oats', 12388: 'usse', 12389: 'usain', 12390: 'posting', 12391: 'bossed', 12392: 'sinus', 12393: 'individuals', 12394: 'residuals', 12395: 'trafficking', 12396: 'snoopy', 12397: 'bossin', 12398: 'dit', 12399: 'souffle', 12400: 'yeux', 12401: 'ana', 12402: 'snitched', 12403: 'socialize', 12404: 'hoover', 12405: 'manebki', 12406: 'untamed', 12407: 'pumas', 12408: 'kahuna', 12409: 'erotic', 12410: 'scooby', 12411: 'upstage', 12412: 'woodgrain', 12413: 'rerun', 12414: 'posed', 12415: 'doze', 12416: 'speaker', 12417: 'pleaser', 12418: 'kosher', 12419: 'renta', 12420: 'reparations', 12421: 'od', 12422: 'muhfucker', 12423: 'wiz', 12424: 'flapjacks', 12425: 'fund', 12426: 'feminine', 12427: 'hublot', 12428: 'upstream', 12429: 'beater', 12430: 'mille', 12431: 'supported', 12432: 'minimize', 12433: 'repping', 12434: 'dap', 12435: 'logo', 12436: 'cockpit', 12437: 'cabinet', 12438: 'chune', 12439: 'nic', 12440: 'stew', 12441: 'assists', 12442: 'aniston', 12443: 'kurt', 12444: 'effected', 12445: 'drilly', 12446: 'commin', 12447: 'numba', 12448: 'opa', 12449: 'impalas', 12450: 'nappy', 12451: 'creel', 12452: 'cubans', 12453: 'clippin', 12454: 'rosary', 12455: 'escobar', 12456: 'underestimated', 12457: 'hackers', 12458: 'persuasion', 12459: 'unaware', 12460: 'sposed', 12461: 'youtube', 12462: 'pluto', 12463: 'comment', 12464: 'mignon', 12465: 'ing', 12466: 'trapping', 12467: 'reid', 12468: 'pics', 12469: 'secondary', 12470: 'fifties', 12471: 'talented', 12472: 'caskets', 12473: 'decade', 12474: 'phased', 12475: 'richest', 12476: 'appetizer', 12477: 'fabolous', 12478: 'thugging', 12479: 'comfortably', 12480: 'peeping', 12481: 'fetty', 12482: 'sayonara', 12483: 'sierra', 12484: 'phonics', 12485: 'bueno', 12486: 'carats', 12487: 'audemar', 12488: 'snowing', 12489: 'unmarked', 12490: 'pesos', 12491: 'lynched', 12492: 'trickin', 12493: 'investments', 12494: 'dubai', 12495: 'bentleys', 12496: 'jermaine', 12497: 'circulate', 12498: 'minimized', 12499: 'lingo', 12500: 'traumatic', 12501: 'dozing', 12502: 'testin', 12503: 'mavado', 12504: 'riri', 12505: 'sexiness', 12506: 'giv', 12507: 'fossil', 12508: 'louboutin', 12509: 'trappin', 12510: 'inherit', 12511: 'kyla', 12512: 'sororities', 12513: 'slot', 12514: 'mixtape', 12515: 'statutory', 12516: 'mclovin', 12517: 'stadiums', 12518: 'spits', 12519: 'runneth', 12520: 'overdosed', 12521: 'spillin', 12522: 'officially', 12523: 'buzzed', 12524: 'niko', 12525: 'mart', 12526: 'refs', 12527: 'cheetah', 12528: 'fumble', 12529: 'dressin', 12530: 'preventing', 12531: 'accomplishments', 12532: 'rackin', 12533: 'voila', 12534: 'demeanor', 12535: 'umpire', 12536: 'timeline', 12537: 'estranged', 12538: 'mixture', 12539: 'babygirl', 12540: 'weeknd', 12541: 'robitussin', 12542: 'spurs', 12543: 'tnt', 12544: 'envelopes', 12545: 'bib', 12546: 'soulmate', 12547: 'forgave', 12548: 'curved', 12549: 'swishers', 12550: 'centerfolds', 12551: 'backtrack', 12552: 'kors', 12553: 'macy', 12554: 'kourtney', 12555: 'ritz', 12556: 'scarborough', 12557: 'presidential', 12558: 'jaded', 12559: 'undressing', 12560: 'overreacting', 12561: 'derrick', 12562: 'encourage', 12563: 'ammo', 12564: 'murked', 12565: 'hippy', 12566: 'gps', 12567: 'addressing', 12568: 'vs', 12569: 'mu', 12570: 'bun', 12571: 'fort', 12572: 'tj', 12573: 'breezin', 12574: 'jetson', 12575: 'authentic', 12576: 'clearance', 12577: 'gran', 12578: 'lyor', 12579: 'cheesed', 12580: 'deleted', 12581: 'dodie', 12582: 'backstage', 12583: 'discussing', 12584: 'anthems', 12585: 'rooftop', 12586: 'cellular', 12587: 'cartwheels', 12588: 'privately', 12589: 'scrambled', 12590: 'rogue', 12591: 'shampoo', 12592: 'renew', 12593: 'unraveling', 12594: 'ballroom', 12595: 'straighter', 12596: 'analyst', 12597: 'ifs', 12598: 'pigeons', 12599: 'owls', 12600: 'icarus', 12601: 'lacy', 12602: 'sharon', 12603: 'ceremony', 12604: 'rink', 12605: 'astronauts', 12606: 'mythical', 12607: 'towers', 12608: 'rallies', 12609: 'hockey', 12610: 'secondhand', 12611: 'coloring', 12612: 'lester', 12613: 'perceptions', 12614: 'anima', 12615: 'vapors', 12616: 'paperback', 12617: 'bullied', 12618: 'talons', 12619: 'serpents', 12620: 'fig', 12621: 'merchants', 12622: 'fixing', 12623: 'assed', 12624: 'slaved', 12625: 'prophecy', 12626: 'laundries', 12627: 'begotten', 12628: 'prostitutes', 12629: 'sentenced', 12630: 'trickle', 12631: 'wristwatch', 12632: 'barbecues', 12633: 'hoods', 12634: 'taming', 12635: 'throbbing', 12636: 'whistling', 12637: 'aims', 12638: 'cobblestone', 12639: 'scarlett', 12640: 'barangrill', 12641: 'rousseau', 12642: 'bitchy', 12643: 'refugee', 12644: 'ghoul', 12645: 'sri', 12646: 'lanka', 12647: 'trifling', 12648: 'menow', 12649: 'headcutie', 12650: 'hernow', 12651: 'headeighteen', 12652: 'spose', 12653: 'hisnow', 12654: 'headnow', 12655: 'datson', 12656: 'girlget', 12657: 'rowlands', 12658: 'specifically', 12659: 'mongolian', 12660: 'embody', 12661: 'characteristic', 12662: 'encrusted', 12663: 'abomination', 12664: 'marina', 12665: 'replacing', 12666: 'visitation', 12667: 'supportive', 12668: 'ohwhoa', 12669: 'mocho', 12670: 'sia', 12671: 'stupidly', 12672: 'suing', 12673: 'hillman', 12674: 'irreverent', 12675: 'astronaut', 12676: 'infect', 12677: 'poisontake', 12678: 'abductionboy', 12679: 'supersonic', 12680: 'lasers', 12681: 'shrek', 12682: 'disrobe', 12683: 'probe', 12684: 'toastlet', 12685: 'scumbags', 12686: 'email', 12687: 'loafers', 12688: 'spa', 12689: 'bossy', 12690: 'totem', 12691: 'tenet', 12692: 'ceilings', 12693: 'figment', 12694: 'beverage', 12695: 'pompeii', 12696: 'israelian', 12697: 'refaeli', 12698: 'gisele', 12699: 'skyi', 12700: 'seasoned', 12701: 'splurging', 12702: 'activated', 12703: 'virgil', 12704: 'ibn', 12705: 'monop', 12706: 'pacman', 12707: 'preference', 12708: 'irrelevant', 12709: 'loiterin', 12710: 'horsepower', 12711: 'fallon', 12712: 'odell', 12713: 'designers', 12714: 'haaan', 12715: 'kimoji', 12716: 'app', 12717: 'harvey', 12718: 'swaggy', 12719: 'twilite', 12720: 'dikembe', 12721: 'denzel', 12722: 'niggai', 12723: 'sus', 12724: 'chan', 12725: 'mjs', 12726: 'truei', 12727: 'musical', 12728: 'nightclub', 12729: 'wining', 12730: 'jeromey', 12731: 'wishlist', 12732: 'ribena', 12733: 'blinger', 12734: 'americana', 12735: 'bloke', 12736: 'bespoke', 12737: 'wags', 12738: 'pips', 12739: 'fantasized', 12740: 'bravery', 12741: 'serato', 12742: 'philo', 12743: 'respark', 12744: 'urkels', 12745: 'heroines', 12746: 'majored', 12747: 'sophomore', 12748: 'retail', 12749: 'ugliest', 12750: 'hollering', 12751: 'sizzurp', 12752: 'console', 12753: 'emmett', 12754: 'lifelines', 12755: 'clots', 12756: 'televised', 12757: 'gaye', 12758: 'ripperton', 12759: 'rhinestones', 12760: 'isley', 12761: 'shiela', 12762: 'performin', 12763: 'seeit', 12764: 'sodium', 12765: 'midwest', 12766: 'detectives', 12767: 'harass', 12768: 'avis', 12769: 'facial', 12770: 'atheists', 12771: 'jeopardize', 12772: 'consoling', 12773: 'provoking', 12774: 'noticeable', 12775: 'disguising', 12776: 'equates', 12777: 'upholstered', 12778: 'grime', 12779: 'uhm', 12780: 'erykah', 12781: 'wrestler', 12782: 'swarming', 12783: 'yam', 12784: 'equate', 12785: 'malpractice', 12786: 'myoho', 12787: 'renge', 12788: 'kyo', 12789: 'herded', 12790: 'consumer', 12791: 'gratuity', 12792: 'promote', 12793: 'secretaries', 12794: 'regularly', 12795: 'scheduled', 12796: 'programmin', 12797: 'barricades', 12798: 'psychiatrist', 12799: 'matted', 12800: 'assistant', 12801: 'robocop', 12802: 'dissertation', 12803: 'morninggood', 12804: 'valedictorian', 12805: 'streetness', 12806: 'grammies', 12807: 'islam', 12808: 'blac', 12809: 'chyna', 12810: 'overate', 12811: 'rottweiler', 12812: 'peta', 12813: 'fabric', 12814: 'autopsy', 12815: 'ramadan', 12816: 'trues', 12817: 'montell', 12818: 'drano', 12819: 'thot', 12820: 'photoshop', 12821: 'inbox', 12822: 'artifact', 12823: 'lawless', 12824: 'distances', 12825: 'stalin', 12826: 'lousy', 12827: 'leonard', 12828: 'healer', 12829: 'vienna', 12830: 'goest', 12831: 'blouses', 12832: 'budged', 12833: 'neighbours', 12834: 'amis', 12835: 'hank', 12836: 'bedrooms', 12837: 'dock', 12838: 'savais', 12839: 'ennuie', 12840: 'crirais', 12841: 'souvent', 12842: 'manicouagan', 12843: 'fait', 12844: 'penitential', 12845: 'arteries', 12846: 'almond', 12847: 'wilson', 12848: 'tortured', 12849: 'tarnish', 12850: 'unsaid', 12851: 'palaces', 12852: 'hastened', 12853: 'crust', 12854: 'clothed', 12855: 'superstars', 12856: 'lesbian', 12857: 'fantastical', 12858: 'rockstar', 12859: 'stunning', 12860: 'hosed', 12861: 'carve', 12862: 'festival', 12863: 'drawls', 12864: 'dilated', 12865: 'uranus', 12866: 'eights', 12867: 'tearin', 12868: 'mandingo', 12869: 'fanatic', 12870: 'overdose', 12871: 'hummers', 12872: 'swagga', 12873: 'pusher', 12874: 'burqa', 12875: 'peroxide', 12876: 'scored', 12877: 'adieu', 12878: 'brushes', 12879: 'sexes', 12880: 'detox', 12881: 'dancefloor', 12882: 'manicure', 12883: 'slipknot', 12884: 'unemployed', 12885: 'unverified', 12886: 'creases', 12887: 'stunned', 12888: 'lawd', 12889: 'yaself', 12890: 'thumpin', 12891: 'peelin', 12892: 'whales', 12893: 'harness', 12894: 'carson', 12895: 'hoverin', 12896: 'shipment', 12897: 'dipset', 12898: 'equals', 12899: 'camo', 12900: 'rocker', 12901: 'ginobli', 12902: 'data', 12903: 'vagina', 12904: 'eliminates', 12905: 'posin', 12906: 'camouflage', 12907: 'whoevers', 12908: 'slangin', 12909: 'yola', 12910: 'ricochet', 12911: 'jerseys', 12912: 'shiner', 12913: 'squirting', 12914: 'squirm', 12915: 'canes', 12916: 'doggy', 12917: 'sperm', 12918: 'abc', 12919: 'mildew', 12920: 'gracias', 12921: 'atheist', 12922: 'skillet', 12923: 'fronts', 12924: 'leapin', 12925: 'automatics', 12926: 'hamburgers', 12927: 'chimps', 12928: 'rejoiced', 12929: 'fitty', 12930: 'sandra', 12931: 'responsible', 12932: 'leadin', 12933: 'chea', 12934: 'fu', 12935: 'bin', 12936: 'laden', 12937: 'benches', 12938: 'meagan', 12939: 'motormouth', 12940: 'notebook', 12941: 'belch', 12942: 'picky', 12943: 'brazy', 12944: 'cuffin', 12945: 'renaissance', 12946: 'evisu', 12947: 'stunnin', 12948: 'pension', 12949: 'trait', 12950: 'wasters', 12951: 'announced', 12952: 'hounds', 12953: 'woodwork', 12954: 'pumped', 12955: 'gladiators', 12956: 'rager', 12957: 'caressed', 12958: 'hairpins', 12959: 'dashboard', 12960: 'heating', 12961: 'newfound', 12962: 'laps', 12963: 'scotsman', 12964: 'impoverished', 12965: 'founding', 12966: 'carted', 12967: 'barter', 12968: 'devastation', 12969: 'whence', 12970: 'fend', 12971: 'retreatin', 12972: 'treatise', 12973: 'clerkin', 12974: 'scammin', 12975: 'rewrote', 12976: 'ruinous', 12977: 'resilience', 12978: 'astonish', 12979: 'unimpeachable', 12980: 'disadvantage', 12981: 'brandish', 12982: 'famished', 12983: 'colony', 12984: 'independently', 12985: 'essentially', 12986: 'parentheses', 12987: 'hist', 12988: 'ascendancy', 12989: 'unrest', 12990: 'panicky', 12991: 'parentis', 12992: 'battalion', 12993: 'fraught', 12994: 'laurens', 12995: 'manumission', 12996: 'abolitionists', 12997: 'hungriest', 12998: 'excitin', 12999: 'passionatelymashin', 13000: 'adams', 13001: 'elizabeth', 13002: 'troop', 13003: 'credits', 13004: 'buckwild', 13005: 'reynolds', 13006: 'headline', 13007: 'provoke', 13008: 'paragraph', 13009: 'mistresses', 13010: 'bananas', 13011: 'robot', 13012: 'genes', 13013: 'planking', 13014: 'ramen', 13015: 'pupil', 13016: 'columbine', 13017: 'rapunzel', 13018: 'fag', 13019: 'levitating', 13020: 'mainstream', 13021: 'junky', 13022: 'consideration', 13023: 'forgettin', 13024: 'mortem', 13025: 'globetrotter', 13026: 'schmo', 13027: 'partna', 13028: 'stepwritin', 13029: 'amplified', 13030: 'phifer', 13031: 'prima', 13032: 'failures', 13033: 'newsweek', 13034: 'bowels', 13035: 'controls', 13036: 'sincerity', 13037: 'trice', 13038: 'debbie', 13039: 'wallow', 13040: 'blend', 13041: 'unfortunately', 13042: 'stiffen', 13043: 'risked', 13044: 'crackers', 13045: 'mammals', 13046: 'antidote', 13047: 'fred', 13048: 'mp', 13049: 'nurses', 13050: 'burger', 13051: 'pager', 13052: 'rawkus', 13053: 'explodin', 13054: 'smartest', 13055: 'syndrome', 13056: 'peephole', 13057: 'cocksuckers', 13058: 'monopoly', 13059: 'quitter', 13060: 'subliminal', 13061: 'tupac', 13062: 'anthrax', 13063: 'popsicle', 13064: 'flunk', 13065: 'officer', 13066: 'ashley', 13067: 'zipper', 13068: 'computers', 13069: 'threesome', 13070: 'sync', 13071: 'index', 13072: 'caucasians', 13073: 'dentist', 13074: 'oral', 13075: 'peas', 13076: 'sprinkled', 13077: 'zebra', 13078: 'tastin', 13079: 'beaver', 13080: 'rave', 13081: 'flaring', 13082: 'myspace', 13083: 'pretends', 13084: 'lindsay', 13085: 'cutest', 13086: 'excedrin', 13087: 'wowzers', 13088: 'sweats', 13089: 'greyhound', 13090: 'cringe', 13091: 'quest', 13092: 'sausage', 13093: 'autobahn', 13094: 'niggers', 13095: 'morons', 13096: 'enterin', 13097: 'denaun', 13098: 'trojan', 13099: 'enormous', 13100: 'inferno', 13101: 'oldies', 13102: 'nazi', 13103: 'kat', 13104: 'loc', 13105: 'tac', 13106: 'zig', 13107: 'novice', 13108: 'vinci', 13109: 'passengers', 13110: 'isuzu', 13111: 'magnet', 13112: 'pivot', 13113: 'slate', 13114: 'extremes', 13115: 'masochist', 13116: 'psychopaths', 13117: 'molehills', 13118: 'predict', 13119: 'tipper', 13120: 'dangle', 13121: 'tooths', 13122: 'stat', 13123: 'ping', 13124: 'pong', 13125: 'burp', 13126: 'snot', 13127: 'chocolatey', 13128: 'kryptonite', 13129: 'tatted', 13130: 'tantrum', 13131: 'nup', 13132: 'verbally', 13133: 'harley', 13134: 'motorbike', 13135: 'candidate', 13136: 'salivate', 13137: 'vcr', 13138: 'differentiate', 13139: 'jagger', 13140: 'superb', 13141: 'andrew', 13142: 'kuniva', 13143: 'tucks', 13144: 'sibling', 13145: 'decimal', 13146: 'musics', 13147: 'situps', 13148: 'buff', 13149: 'underpants', 13150: 'mistook', 13151: 'stabbing', 13152: 'snaking', 13153: 'policy', 13154: 'disturbing', 13155: 'fergie', 13156: 'klan', 13157: 'smother', 13158: 'helium', 13159: 'plasma', 13160: 'ipod', 13161: 'tripod', 13162: 'raggedy', 13163: 'eyelash', 13164: 'clash', 13165: 'cords', 13166: 'nuns', 13167: 'dal', 13168: 'surroundin', 13169: 'yeahyeah', 13170: 'bathwater', 13171: 'ibiza', 13172: 'overdo', 13173: 'assassinate', 13174: 'conference', 13175: 'hoodrats', 13176: 'insisted', 13177: 'crip', 13178: 'genocide', 13179: 'iraq', 13180: 'rudolph', 13181: 'decipher', 13182: 'payroll', 13183: 'buryin', 13184: 'debris', 13185: 'settles', 13186: 'pssh', 13187: 'scrubbed', 13188: 'aventador', 13189: 'highly', 13190: 'algebra', 13191: 'orderin', 13192: 'institute', 13193: 'belittle', 13194: 'doobie', 13195: 'aroused', 13196: 'hydraulics', 13197: 'nyu', 13198: 'saver', 13199: 'tapes', 13200: 'tention', 13201: 'mythology', 13202: 'logically', 13203: 'garter', 13204: 'procedures', 13205: 'getters', 13206: 'caved', 13207: 'invested', 13208: 'toothpick', 13209: 'fastest', 13210: 'leeway', 13211: 'sphinx', 13212: 'realtor', 13213: 'herbal', 13214: 'hottie', 13215: 'lindsey', 13216: 'frosted', 13217: 'ming', 13218: 'workout', 13219: 'infected', 13220: 'peepin', 13221: 'sinning', 13222: 'protest', 13223: 'missionary', 13224: 'skype', 13225: 'throwback', 13226: 'messiah', 13227: 'abbreviate', 13228: 'crazed', 13229: 'animosity', 13230: 'victorias', 13231: 'laser', 13232: 'propane', 13233: 'gnarly', 13234: 'kimono', 13235: 'sumthin', 13236: 'professional', 13237: 'rudy', 13238: 'imposters', 13239: 'entrepreneur', 13240: 'stockholm', 13241: 'saks', 13242: 'established', 13243: 'pos', 13244: 'glacier', 13245: 'kylie', 13246: 'jedi', 13247: 'cassie', 13248: 'angie', 13249: 'evian', 13250: 'irish', 13251: 'badass', 13252: 'tyrone', 13253: 'handkerchief', 13254: 'alloy', 13255: 'iller', 13256: 'vitals', 13257: 'stylish', 13258: 'enticing', 13259: 'taye', 13260: 'scurrying', 13261: 'ooooohhhhhhh', 13262: 'ooooohhhhh', 13263: 'mover', 13264: 'crawlin', 13265: 'taggin', 13266: 'fuses', 13267: 'delusion', 13268: 'relied', 13269: 'cuervo', 13270: 'misleadings', 13271: 'hugh', 13272: 'integrity', 13273: 'reflected', 13274: 'reside', 13275: 'umbilical', 13276: 'glands', 13277: 'afterworld', 13278: 'shields', 13279: 'plateau', 13280: 'mop', 13281: 'breather', 13282: 'spank', 13283: 'invasion', 13284: 'almounds', 13285: 'seamy', 13286: 'obituary', 13287: 'congratulations', 13288: 'arts', 13289: 'crafts', 13290: 'seashells', 13291: 'fuego', 13292: 'xico', 13293: 'skrrrt', 13294: 'nann', 13295: 'ferr', 13296: 'whistlin', 13297: 'rant', 13298: 'gadong', 13299: 'kinte', 13300: 'rom', 13301: 'huddle', 13302: 'tango', 13303: 'intuitions', 13304: 'maintenance', 13305: 'cartons', 13306: 'snorin', 13307: 'nookie', 13308: 'vivica', 13309: 'amigos', 13310: 'musi', 13311: 'ques', 13312: 'bews', 13313: 'pue', 13314: 'kizzer', 13315: 'zigga', 13316: 'zound', 13317: 'styling', 13318: 'attacking', 13319: 'maurice', 13320: 'nownownow', 13321: 'parlay', 13322: 'harruss', 13323: 'ruckast', 13324: 'platnium', 13325: 'uuuup', 13326: 'feets', 13327: 'burried', 13328: 'zay', 13329: 'frederick', 13330: 'astoria', 13331: 'mummy', 13332: 'dollers', 13333: 'magoo', 13334: 'spiked', 13335: 'invaded', 13336: 'butters', 13337: 'sicka', 13338: 'suites', 13339: 'linens', 13340: 'beeper', 13341: 'watermelon', 13342: 'supafly', 13343: 'maganoo', 13344: 'hounding', 13345: 'osh', 13346: 'beady', 13347: 'maxi', 13348: 'kits', 13349: 'renting', 13350: 'macaroni', 13351: 'screwing', 13352: 'piggidy', 13353: 'rearranged', 13354: 'dandy', 13355: 'chickenheads', 13356: 'astral', 13357: 'tical', 13358: 'gargon', 13359: 'indonesia', 13360: 'resurrect', 13361: 'knave', 13362: 'swithin', 13363: 'laddie', 13364: 'buz', 13365: 'glo', 13366: 'forwards', 13367: 'georgy', 13368: 'porgy', 13369: 'pancake', 13370: 'bandy', 13371: 'nodded', 13372: 'shorn', 13373: 'fourpence', 13374: 'pence', 13375: 'hoeing', 13376: 'threescore', 13377: 'tattamus', 13378: 'fiddlers', 13379: 'jags', 13380: 'rashes', 13381: 'plough', 13382: 'tailors', 13383: 'ruled', 13384: 'grundy', 13385: 'sukey', 13386: 'hanged', 13387: 'muffet', 13388: 'delighted', 13389: 'parson', 13390: 'cobbler', 13391: 'ives', 13392: 'gnaw', 13393: 'danty', 13394: 'jacky', 13395: 'binding', 13396: 'bunting', 13397: 'moppet', 13398: 'redbreast', 13399: 'hind', 13400: 'hubbard', 13401: 'radical', 13402: 'celia', 13403: 'sifting', 13404: 'ballpark', 13405: 'pledged', 13406: 'allegiance', 13407: 'disagreements', 13408: 'captured', 13409: 'gangs', 13410: 'occupation', 13411: 'tokyo', 13412: 'gunning', 13413: 'shoves', 13414: 'parsely', 13415: 'coracao', 13416: 'beginnings', 13417: 'vitamin', 13418: 'fetish', 13419: 'caramel', 13420: 'bots', 13421: 'robots', 13422: 'classroom', 13423: 'pedals', 13424: 'clogged', 13425: 'knick', 13426: 'knack', 13427: 'md', 13428: 'kn', 13429: 'illegal', 13430: 'decatur', 13431: 'experiences', 13432: 'hickies', 13433: 'chromed', 13434: 'swoll', 13435: 'bronson', 13436: 'uhhh', 13437: 'cutty', 13438: 'sheila', 13439: 'tallywhacker', 13440: 'cruddy', 13441: 'regulations', 13442: 'carlos', 13443: 'youoowhoo', 13444: 'restaurants', 13445: 'ssy', 13446: 'kay', 13447: 'lurking', 13448: 'ecstacy', 13449: 'lam', 13450: 'fairytales', 13451: 'ouuuuuuuuuuuuuuuuuuuuuuuuuuuuuh', 13452: 'complanin', 13453: 'confusions', 13454: 'elsewhere', 13455: 'acha', 13456: 'midway', 13457: 'penda', 13458: 'taka', 13459: 'mpenziwe', 13460: 'diseases', 13461: 'bloodshed', 13462: 'libs', 13463: 'abusin', 13464: 'victimize', 13465: 'brutally', 13466: 'allegation', 13467: 'bisexual', 13468: 'shockin', 13469: 'stuffy', 13470: 'shaquille', 13471: 'slenderly', 13472: 'woh', 13473: 'moly', 13474: 'serling', 13475: 'execution', 13476: 'aaw', 13477: 'pah', 13478: 'innocently', 13479: 'boogieman', 13480: 'conoces', 13481: 'tambien', 13482: 'vivir', 13483: 'stoppe', 13484: 'crois', 13485: 'deviendrais', 13486: 'fou', 13487: 'blimps', 13488: 'slicker', 13489: 'claire', 13490: 'awww', 13491: 'jizz', 13492: 'vids', 13493: 'champ', 13494: 'weaved', 13495: 'harajuku', 13496: 'wuss', 13497: 'google', 13498: 'cuchi', 13499: 'relation', 13500: 'crusty', 13501: 'ie', 13502: 'billin', 13503: 'malaysian', 13504: 'thugger', 13505: 'rentals', 13506: 'thugga', 13507: 'toddler', 13508: 'ghostface', 13509: 'sremm', 13510: 'perc', 13511: 'caiah', 13512: 'commend', 13513: 'syringes', 13514: 'recruitin', 13515: 'ged', 13516: 'bucking', 13517: 'dumbin', 13518: 'bubba', 13519: 'sewer', 13520: 'humpin', 13521: 'hearse', 13522: 'beckoning', 13523: 'arabia', 13524: 'splatter', 13525: 'excreting', 13526: 'walla', 13527: 'gripped', 13528: 'drying', 13529: 'ceaselessly', 13530: 'advancin', 13531: 'piranhas', 13532: 'giveth', 13533: 'sandwiches', 13534: 'tingling', 13535: 'somersaults', 13536: 'jellyfish', 13537: 'whys', 13538: 'magpie', 13539: 'birthdays', 13540: 'disciples', 13541: 'homeboys', 13542: 'connivin', 13543: 'gagged', 13544: 'whiz', 13545: 'freaked', 13546: 'connections', 13547: 'hiccups', 13548: 'receipts', 13549: 'mentality', 13550: 'bearly', 13551: 'contradiction', 13552: 'armstrong', 13553: 'germany', 13554: 'ricans', 13555: 'klein', 13556: 'unnecessary', 13557: 'macs', 13558: 'cyar', 13559: 'runaways', 13560: 'ade', 13561: 'ekg', 13562: 'unbelieveable', 13563: 'kellz', 13564: 'doubling', 13565: 'navigator', 13566: 'catered', 13567: 'foggin', 13568: 'winkin', 13569: 'comfy', 13570: 'beleive', 13571: 'ehhhh', 13572: 'demanding', 13573: 'compatible', 13574: 'nuf', 13575: 'rammin', 13576: 'ducky', 13577: 'everbody', 13578: 'hundalasiliah', 13579: 'thunderbird', 13580: 'stesia', 13581: 'ravish', 13582: 'vicky', 13583: 'postive', 13584: 'funkin', 13585: 'bombshell', 13586: 'yount', 13587: 'vanessa', 13588: 'affirmation', 13589: 'indoors', 13590: 'treasured', 13591: 'fonder', 13592: 'strutting', 13593: 'madam', 13594: 'patronize', 13595: 'daydreamer', 13596: 'lends', 13597: 'faked', 13598: 'wiser', 13599: 'boils', 13600: 'hiked', 13601: 'birmingham', 13602: 'obviously', 13603: 'desperately', 13604: 'adele', 13605: 'ignited', 13606: 'softening', 13607: 'adventurous', 13608: 'favoritism', 13609: 'rooted', 13610: 'impatience', 13611: 'collided', 13612: 'adds', 13613: 'riots', 13614: 'pretentious', 13615: 'posses', 13616: 'rustles', 13617: 'yielding', 13618: 'subdue', 13619: 'disdain', 13620: 'shuttin', 13621: 'positively', 13622: 'freeing', 13623: 'unable', 13624: 'shamed', 13625: 'infatuation', 13626: 'restore', 13627: 'anointest', 13628: 'suitor', 13629: 'aglow', 13630: 'turkey', 13631: 'churn', 13632: 'battled', 13633: 'mar', 13634: 'fierce', 13635: 'seizing', 13636: 'swims', 13637: 'brixton', 13638: 'lad', 13639: 'skank', 13640: 'sob', 13641: 'urgency', 13642: 'discovering', 13643: 'bludgeon', 13644: 'melodramas', 13645: 'surpass', 13646: 'reflects', 13647: 'smoothen', 13648: 'glancing', 13649: 'procrastination', 13650: 'withholding', 13651: 'bricked', 13652: 'pretence', 13653: 'lull', 13654: 'interlude', 13655: 'thumps', 13656: 'flush', 13657: 'enjoyed', 13658: 'provides', 13659: 'craziness', 13660: 'defined', 13661: 'shifting', 13662: 'resentment', 13663: 'rizla', 13664: 'masculin', 13665: 'imobile', 13666: 'underwhere', 13667: 'peeks', 13668: 'lists', 13669: 'ipanema', 13670: 'ely', 13671: 'vaughan', 13672: 'stinging', 13673: 'sufficiency', 13674: 'brim', 13675: 'beak', 13676: 'cinders', 13677: 'beckon', 13678: 'uncertainty', 13679: 'disasters', 13680: 'admiring', 13681: 'shocks', 13682: 'unravels', 13683: 'knickers', 13684: 'irritating', 13685: 'fylgist', 13686: 'alveg', 13687: 'kahiiiiiii', 13688: 'sekkur', 13689: 'thegar', 13690: 'tur', 13691: 'eftir', 13692: 'continuity', 13693: 'scandinavian', 13694: 'sussed', 13695: 'cliff', 13696: 'openness', 13697: 'quartz', 13698: 'warmest', 13699: 'restlessness', 13700: 'included', 13701: 'tiniest', 13702: 'waa', 13703: 'howweeeeeeeeeeee', 13704: 'eeeeeeeeeeeeeeeeee', 13705: 'minun', 13706: 'kultani', 13707: 'kaunis', 13708: 'kun', 13709: 'vien', 13710: 'markniniolle', 13711: 'hevosetkin', 13712: 'nauraa', 13713: 'stampede', 13714: 'parashooters', 13715: 'voltage', 13716: 'whirls', 13717: 'deeply', 13718: 'craved', 13719: 'striking', 13720: 'inviolable', 13721: 'shuffling', 13722: 'columns', 13723: 'unspent', 13724: 'capsule', 13725: 'shimmers', 13726: 'nourish', 13727: 'razorblade', 13728: 'loveless', 13729: 'protein', 13730: 'afterwards', 13731: 'corpses', 13732: 'rested', 13733: 'creating', 13734: 'brightness', 13735: 'packages', 13736: 'extremely', 13737: 'warmer', 13738: 'whistles', 13739: 'clementine', 13740: 'blueberries', 13741: 'mastery', 13742: 'tilt', 13743: 'hermit', 13744: 'parrot', 13745: 'clairvoyance', 13746: 'initiate', 13747: 'selma', 13748: 'gaman', 13749: 'vri', 13750: 'str', 13751: 'vildi', 13752: 'stjrna', 13753: 'bdi', 13754: 'hljmsveit', 13755: 'ert', 13756: 'elskuleg', 13757: 'finnst', 13758: 'gott', 13759: 'varst', 13760: 'menn', 13761: 'thau', 13762: 'upp', 13763: 'std', 13764: 'thar', 13765: 'awaiting', 13766: 'lenti', 13767: 'mjg', 13768: 'gleym', 13769: 'skjlfa', 13770: 'sig', 13771: 'sjlfa', 13772: 'icelandic', 13773: 'icelander', 13774: 'someones', 13775: 'humanity', 13776: 'bredda', 13777: 'fatta', 13778: 'madda', 13779: 'bruk', 13780: 'glutton', 13781: 'manipulate', 13782: 'yutes', 13783: 'siento', 13784: 'estrellas', 13785: 'sica', 13786: 'llena', 13787: 'sentimiento', 13788: 'lugar', 13789: 'damos', 13790: 'lucid', 13791: 'polishing', 13792: 'restin', 13793: 'composition', 13794: 'comforts', 13795: 'epidemic', 13796: 'metropolis', 13797: 'lifelong', 13798: 'kandi', 13799: 'loosing', 13800: 'fragment', 13801: 'challenges', 13802: 'wildly', 13803: 'blindly', 13804: 'limitless', 13805: 'sunken', 13806: 'bla', 13807: 'wight', 13808: 'scrimp', 13809: 'grandchildren', 13810: 'sideboard', 13811: 'spinal', 13812: 'institution', 13813: 'custard', 13814: 'pornographic', 13815: 'smokers', 13816: 'allen', 13817: 'poe', 13818: 'controlled', 13819: 'perverted', 13820: 'shaves', 13821: 'loretta', 13822: 'cellophane', 13823: 'newspaper', 13824: 'hula', 13825: 'eleanor', 13826: 'rigby', 13827: 'darning', 13828: 'evermore', 13829: 'bup', 13830: 'coral', 13831: 'lorry', 13832: 'syndicate', 13833: 'bullfrog', 13834: 'ukraine', 13835: 'negotiations', 13836: 'corazon', 13837: 'postcards', 13838: 'raincoats', 13839: 'booked', 13840: 'saloon', 13841: 'collapsed', 13842: 'oa', 13843: 'perch', 13844: 'reflexion', 13845: 'oba', 13846: 'obaserving', 13847: 'seh', 13848: 'georgie', 13849: 'logwood', 13850: 'cornmeal', 13851: 'pirates', 13852: 'bottomless', 13853: 'emancipate', 13854: 'manure', 13855: 'equally', 13856: 'morality', 13857: 'utterly', 13858: 'alf', 13859: 'skism', 13860: 'hearty', 13861: 'diplomatic', 13862: 'yp', 13863: 'hypocratic', 13864: 'topper', 13865: 'norris', 13866: 'eartache', 13867: 'scoobado', 13868: 'whe', 13869: 'raid', 13870: 'bringeth', 13871: 'slum', 13872: 'brutalize', 13873: 'shelves', 13874: 'wickedness', 13875: 'terrain', 13876: 'crumpy', 13877: 'crampy', 13878: 'accused', 13879: 'involve', 13880: 'abundance', 13881: 'paintings', 13882: 'resisting', 13883: 'harmonies', 13884: 'selassie', 13885: 'rastafari', 13886: 'ites', 13887: 'armagiddyon', 13888: 'peeyah', 13889: 'unification', 13890: 'seals', 13891: 'destroying', 13892: 'understandin', 13893: 'hawkins', 13894: 'offf', 13895: 'buring', 13896: 'inthrough', 13897: 'oxblood', 13898: 'smiths', 13899: 'seriously', 13900: 'commiserating', 13901: 'retrace', 13902: 'charade', 13903: 'rarely', 13904: 'ated', 13905: 'rescuing', 13906: 'sombrero', 13907: 'warped', 13908: 'lodged', 13909: 'sappy', 13910: 'corporate', 13911: 'elect', 13912: 'workplace', 13913: 'shaving', 13914: 'trashed', 13915: 'pier', 13916: 'shoreline', 13917: 'keg', 13918: 'chests', 13919: 'constructed', 13920: 'tasteless', 13921: 'peepee', 13922: 'stalls', 13923: 'rehearsal', 13924: 'hardwood', 13925: 'soccer', 13926: 'weasel', 13927: 'resolutions', 13928: 'apprehension', 13929: 'hesh', 13930: 'stunk', 13931: 'reputations', 13932: 'solitudes', 13933: 'reignite', 13934: 'superstitious', 13935: 'bitterly', 13936: 'entrance', 13937: 'conceiving', 13938: 'incomplete', 13939: 'seasick', 13940: 'deafening', 13941: 'crumple', 13942: 'allocations', 13943: 'uninterrupted', 13944: 'prosperity', 13945: 'liquidation', 13946: 'borrows', 13947: 'holder', 13948: 'karen', 13949: 'mg', 13950: 'crouched', 13951: 'churning', 13952: 'yearn', 13953: 'deftly', 13954: 'maneuver', 13955: 'flashbulbs', 13956: 'bowel', 13957: 'earthquakes', 13958: 'assail', 13959: 'impale', 13960: 'unny', 13961: 'sharpening', 13962: 'blunder', 13963: 'gravedigger', 13964: 'stonemason', 13965: 'panpipes', 13966: 'aaaaaa', 13967: 'aaaaaaaa', 13968: 'sheath', 13969: 'echos', 13970: 'launching', 13971: 'loony', 13972: 'darken', 13973: 'rattling', 13974: 'chiming', 13975: 'concerns', 13976: 'cloy', 13977: 'annoy', 13978: 'overhead', 13979: 'separately', 13980: 'muscular', 13981: 'overweight', 13982: 'costly', 13983: 'ruthlessly', 13984: 'wigglin', 13985: 'widening', 13986: 'waning', 13987: 'onion', 13988: 'shanties', 13989: 'wacky', 13990: 'fastening', 13991: 'combustion', 13992: 'quilt', 13993: 'translucent', 13994: 'confront', 13995: 'diligence', 13996: 'nuggets', 13997: 'sacrificial', 13998: 'mint', 13999: 'minted', 14000: 'roadside', 14001: 'virtues', 14002: 'herd', 14003: 'stickshifts', 14004: 'safetybelts', 14005: 'rinse', 14006: 'recklessly', 14007: 'empties', 14008: 'poisoning', 14009: 'brainwashed', 14010: 'pawns', 14011: 'yesteryear', 14012: 'chilled', 14013: 'strategize', 14014: 'aaa', 14015: 'casual', 14016: 'hugely', 14017: 'oppressively', 14018: 'mugs', 14019: 'plugs', 14020: 'bankers', 14021: 'congressmen', 14022: 'horizontal', 14023: 'construct', 14024: 'symbolic', 14025: 'ascent', 14026: 'flimsy', 14027: 'itunes', 14028: 'clamor', 14029: 'quedando', 14030: 'sacarte', 14031: 'ahora', 14032: 'minutos', 14033: 'aunque', 14034: 'haciendo', 14035: 'esperar', 14036: 'hacerle', 14037: 'realmente', 14038: 'encontrar', 14039: 'dile', 14040: 'nico', 14041: 'podr', 14042: 'venir', 14043: 'apenas', 14044: 'dicen', 14045: 'temblando', 14046: 'tierra', 14047: 'hablando', 14048: 'debe', 14049: 'bala', 14050: 'necesita', 14051: 'inyecci', 14052: 'estallar', 14053: 'borda', 14054: 'ustedes', 14055: 'aviso', 14056: 'necesito', 14057: 'este', 14058: 'oportunidad', 14059: 'chica', 14060: 'pone', 14061: 'nervioso', 14062: 'alturas', 14063: 'deber', 14064: 'haberme', 14065: 'cuenta', 14066: 'tomar', 14067: 'hatnin', 14068: 'jammies', 14069: 'scampi', 14070: 'fleeka', 14071: 'fleeko', 14072: 'forbes', 14073: 'travie', 14074: 'chucks', 14075: 'hunts', 14076: 'hashtag', 14077: 'sheeps', 14078: 'bp', 14079: 'dazzle', 14080: 'conversating', 14081: 'aisha', 14082: 'eesha', 14083: 'standby', 14084: 'measurements', 14085: 'undid', 14086: 'insomnia', 14087: 'chemicals', 14088: 'lou', 14089: 'percussions', 14090: 'seperated', 14091: 'sobers', 14092: 'ooohh', 14093: 'straightforward', 14094: 'chinatown', 14095: 'guaranteeing', 14096: 'soy', 14097: 'voy', 14098: 'armando', 14099: 'respirar', 14100: 'cuello', 14101: 'diga', 14102: 'acuerdes', 14103: 'desnudarte', 14104: 'besos', 14105: 'firmo', 14106: 'paredes', 14107: 'laberinto', 14108: 'cuerpo', 14109: 'manuscrito', 14110: 'bailar', 14111: 'pelo', 14112: 'ritmo', 14113: 'jame', 14114: 'sobrepasar', 14115: 'zonas', 14116: 'peligro', 14117: 'hace', 14118: 'referee', 14119: 'quavo', 14120: 'criss', 14121: 'netflix', 14122: 'finessin', 14123: 'frowning', 14124: 'fliest', 14125: 'salvage', 14126: 'elevation', 14127: 'complementing', 14128: 'chestnuts', 14129: 'necessarily', 14130: 'dazin', 14131: 'goodfella', 14132: 'managed', 14133: 'promoted', 14134: 'selena', 14135: 'imperfections', 14136: 'imperfectly', 14137: 'revolves', 14138: 'ins', 14139: 'instance', 14140: 'equations', 14141: 'argued', 14142: 'component', 14143: 'chit', 14144: 'hotties', 14145: 'slams', 14146: 'chevrolets', 14147: 'machines', 14148: 'wheeled', 14149: 'rearview', 14150: 'amusement', 14151: 'huddled', 14152: 'sighin', 14153: 'deserted', 14154: 'drummers', 14155: 'dumps', 14156: 'calliope', 14157: 'slingshot', 14158: 'cyclone', 14159: 'mown', 14160: 'sown', 14161: 'harvard', 14162: 'scotland', 14163: 'hummin', 14164: 'lunar', 14165: 'edgy', 14166: 'recapture', 14167: 'promenade', 14168: 'stockin', 14169: 'covering', 14170: 'refinery', 14171: 'heartland', 14172: 'kingstown', 14173: 'boyfriends', 14174: 'clouded', 14175: 'mast', 14176: 'stratosphere', 14177: 'feared', 14178: 'fullness', 14179: 'scarecrow', 14180: 'oozing', 14181: 'herheart', 14182: 'vise', 14183: 'buick', 14184: 'taillights', 14185: 'smacks', 14186: 'chimes', 14187: 'rattlesnake', 14188: 'ymca', 14189: 'redneck', 14190: 'guardian', 14191: 'salamander', 14192: 'toenail', 14193: 'vitamins', 14194: 'defies', 14195: 'soften', 14196: 'bufallo', 14197: 'samson', 14198: 'furnaces', 14199: 'rubble', 14200: 'hitler', 14201: 'mills', 14202: 'visionaries', 14203: 'tunnels', 14204: 'chimneys', 14205: 'hangers', 14206: 'swamps', 14207: 'strummin', 14208: 'mosquitoes', 14209: 'christened', 14210: 'scooter', 14211: 'transistor', 14212: 'pollution', 14213: 'escalate', 14214: 'puppets', 14215: 'unreliable', 14216: 'tainted', 14217: 'philippines', 14218: 'havoc', 14219: 'settlin', 14220: 'ligo', 14221: 'ringleader', 14222: 'firecracker', 14223: 'performer', 14224: 'inappropriate', 14225: 'countdown', 14226: 'iggs', 14227: 'noticing', 14228: 'souped', 14229: 'igniting', 14230: 'maseratti', 14231: 'photographer', 14232: 'satis', 14233: 'poses', 14234: 'unsure', 14235: 'ranchers', 14236: 'shocking', 14237: 'premiere', 14238: 'glamorous', 14239: 'tonigh', 14240: 'dissapears', 14241: 'unbroken', 14242: 'starrin', 14243: 'hindsight', 14244: 'mistle', 14245: 'syncopated', 14246: 'penned', 14247: 'mesmo', 14248: 'entre', 14249: 'espera', 14250: 'novas', 14251: 'trove', 14252: 'cavern', 14253: 'aplenty', 14254: 'whooz', 14255: 'whatz', 14256: 'thingamabobs', 14257: 'whadd', 14258: 'reprimand', 14259: 'otter', 14260: 'grieving', 14261: 'fulfillment', 14262: 'glanced', 14263: 'shudder', 14264: 'aggravation', 14265: 'distracted', 14266: 'gaston', 14267: 'brute', 14268: 'scuse', 14269: 'madame', 14270: 'whilst', 14271: 'illuminate', 14272: 'buggy', 14273: 'muck', 14274: 'gramma', 14275: 'voyagers', 14276: 'fortunately', 14277: 'discussed', 14278: 'trifle', 14279: 'gulp', 14280: 'squall', 14281: 'hideous', 14282: 'sanctis', 14283: 'beata', 14284: 'purer', 14285: 'vulgar', 14286: 'hellfire', 14287: 'maxima', 14288: 'grievous', 14289: 'arranged', 14290: 'fling', 14291: 'awakes', 14292: 'bakes', 14293: 'gazed', 14294: 'teste', 14295: 'shimmering', 14296: 'splendid', 14297: 'poll', 14298: 'grecian', 14299: 'conquers', 14300: 'happiest', 14301: 'moonbeams', 14302: 'drab', 14303: 'demi', 14304: 'demigod', 14305: 'bits', 14306: 'hence', 14307: 'oeuvres', 14308: 'useful', 14309: 'brewing', 14310: 'plunder', 14311: 'hoot', 14312: 'extort', 14313: 'kindle', 14314: 'knaves', 14315: 'frightful', 14316: 'goodbying', 14317: 'boola', 14318: 'wholesome', 14319: 'ants', 14320: 'pawpaw', 14321: 'prickly', 14322: 'adorable', 14323: 'jamberre', 14324: 'swapped', 14325: 'bubbled', 14326: 'molten', 14327: 'spineless', 14328: 'loto', 14329: 'mamaina', 14330: 'toa', 14331: 'pelepele', 14332: 'plowed', 14333: 'rumblin', 14334: 'lacked', 14335: 'savannah', 14336: 'unwinding', 14337: 'tamafine', 14338: 'manatua', 14339: 'faiga', 14340: 'iena', 14341: 'luelue', 14342: 'ina', 14343: 'hiva', 14344: 'kuku', 14345: 'lima', 14346: 'hihiva', 14347: 'tamilomilo', 14348: 'fakatamilomilo', 14349: 'fai', 14350: 'practising', 14351: 'undertow', 14352: 'mischievous', 14353: 'ordianry', 14354: 'appiness', 14355: 'bloomin', 14356: 'olds', 14357: 'mavis', 14358: 'inkling', 14359: 'harms', 14360: 'ventured', 14361: 'prevail', 14362: 'conjectured', 14363: 'boiling', 14364: 'softness', 14365: 'fainting', 14366: 'chanced', 14367: 'sauntered', 14368: 'smitten', 14369: 'mirth', 14370: 'exclaim', 14371: 'inspect', 14372: 'dante', 14373: 'tantalize', 14374: 'discerning', 14375: 'assent', 14376: 'straightway', 14377: 'twirled', 14378: 'pausing', 14379: 'robber', 14380: 'gag', 14381: 'grandmamma', 14382: 'astir', 14383: 'spaces', 14384: 'brewed', 14385: 'tankards', 14386: 'rhine', 14387: 'debauchee', 14388: 'drams', 14389: 'seraphs', 14390: 'bequest', 14391: 'loosened', 14392: 'isles', 14393: 'belshazzar', 14394: 'repeal', 14395: 'suspense', 14396: 'felicity', 14397: 'stint', 14398: 'ceded', 14399: 'parching', 14400: 'firmaments', 14401: 'inference', 14402: 'saturated', 14403: 'sordid', 14404: 'maketh', 14405: 'clutched', 14406: 'opposing', 14407: 'external', 14408: 'sufficient', 14409: 'troth', 14410: 'theirs', 14411: 'dolls', 14412: 'spools', 14413: 'supremest', 14414: 'fleshless', 14415: 'apparelled', 14416: 'cherubim', 14417: 'seraphim', 14418: 'playthings', 14419: 'honorable', 14420: 'prospective', 14421: 'fathoms', 14422: 'enters', 14423: 'troubadour', 14424: 'candid', 14425: 'unties', 14426: 'cashmere', 14427: 'bestir', 14428: 'orchis', 14429: 'detachment', 14430: 'odors', 14431: 'barns', 14432: 'hoisted', 14433: 'lutes', 14434: 'flambeaux', 14435: 'flutter', 14436: 'crag', 14437: 'brows', 14438: 'stirred', 14439: 'tropic', 14440: 'homely', 14441: 'severe', 14442: 'bales', 14443: 'merchantmen', 14444: 'aspire', 14445: 'ruddier', 14446: 'proclaimed', 14447: 'shod', 14448: 'gauze', 14449: 'chrysoprase', 14450: 'clovers', 14451: 'nightgowns', 14452: 'prance', 14453: 'dingle', 14454: 'observation', 14455: 'untied', 14456: 'bonnets', 14457: 'phraseless', 14458: 'seamless', 14459: 'backward', 14460: 'permit', 14461: 'consecrated', 14462: 'trinket', 14463: 'beclouded', 14464: 'rut', 14465: 'debates', 14466: 'nutriment', 14467: 'afternoons', 14468: 'delays', 14469: 'lagging', 14470: 'alabaster', 14471: 'stolid', 14472: 'cadence', 14473: 'sagacity', 14474: 'listless', 14475: 'daybreak', 14476: 'baffle', 14477: 'adjusted', 14478: 'kinsmen', 14479: 'soldered', 14480: 'thimble', 14481: 'freckled', 14482: 'fearless', 14483: 'cobweb', 14484: 'convulsion', 14485: 'glaze', 14486: 'nosegays', 14487: 'obscure', 14488: 'galloped', 14489: 'industrious', 14490: 'fluttered', 14491: 'blest', 14492: 'junction', 14493: 'reed', 14494: 'consented', 14495: 'regulate', 14496: 'primer', 14497: 'enacted', 14498: 'vitality', 14499: 'perceived', 14500: 'drowsing', 14501: 'wrestled', 14502: 'skilful', 14503: 'identified', 14504: 'hospitable', 14505: 'potomac', 14506: 'conduct', 14507: 'apparition', 14508: 'knits', 14509: 'memorial', 14510: 'granite', 14511: 'hosts', 14512: 'array', 14513: 'schoolroom', 14514: 'scalds', 14515: 'prevent', 14516: 'themes', 14517: 'criticism', 14518: 'beauties', 14519: 'occasional', 14520: 'portfolios', 14521: 'helen', 14522: 'frequent', 14523: 'regarded', 14524: 'merely', 14525: 'handwriting', 14526: 'elder', 14527: 'gentlewomen', 14528: 'abrupt', 14529: 'particularly', 14530: 'numerous', 14531: 'exceedingly', 14532: 'titles', 14533: 'wagner', 14534: 'especial', 14535: 'elusive', 14536: 'critic', 14537: 'candor', 14538: 'seclusion', 14539: 'dawns', 14540: 'crowning', 14541: 'epoch', 14542: 'melancholy', 14543: 'brimming', 14544: 'tardy', 14545: 'cooled', 14546: 'mould', 14547: 'stoops', 14548: 'bewildered', 14549: 'paste', 14550: 'cochineal', 14551: 'extremity', 14552: 'unanointed', 14553: 'blacksmith', 14554: 'forge', 14555: 'flagons', 14556: 'cooling', 14557: 'pizarro', 14558: 'legions', 14559: 'streaks', 14560: 'meteor', 14561: 'suffice', 14562: 'infer', 14563: 'surge', 14564: 'menagerie', 14565: 'flits', 14566: 'unavailable', 14567: 'espied', 14568: 'penurious', 14569: 'gethsemane', 14570: 'thirsting', 14571: 'groped', 14572: 'famine', 14573: 'bayonet', 14574: 'torrid', 14575: 'firmer', 14576: 'organdy', 14577: 'weaver', 14578: 'bewildering', 14579: 'tapestries', 14580: 'credibility', 14581: 'temerity', 14582: 'raiment', 14583: 'enables', 14584: 'labored', 14585: 'avenge', 14586: 'lighted', 14587: 'whistled', 14588: 'ditty', 14589: 'carolled', 14590: 'chirping', 14591: 'hopelessly', 14592: 'fictitious', 14593: 'endears', 14594: 'abstinence', 14595: 'countenances', 14596: 'obtained', 14597: 'taunted', 14598: 'eludes', 14599: 'strategy', 14600: 'ascend', 14601: 'ceaseless', 14602: 'scanned', 14603: 'cautiously', 14604: 'implement', 14605: 'sums', 14606: 'apparatus', 14607: 'jest', 14608: 'lvi', 14609: 'spheres', 14610: 'lvii', 14611: 'recede', 14612: 'tarry', 14613: 'dispelled', 14614: 'esteemed', 14615: 'surmise', 14616: 'ratified', 14617: 'poorer', 14618: 'gesture', 14619: 'bestow', 14620: 'belated', 14621: 'harebell', 14622: 'hallow', 14623: 'invests', 14624: 'denies', 14625: 'ticked', 14626: 'appointed', 14627: 'obedient', 14628: 'toils', 14629: 'implore', 14630: 'minutest', 14631: 'wills', 14632: 'lilies', 14633: 'hindered', 14634: 'musket', 14635: 'breadths', 14636: 'unrolled', 14637: 'trailed', 14638: 'haughty', 14639: 'hems', 14640: 'cherubic', 14641: 'emerged', 14642: 'zealous', 14643: 'tyrian', 14644: 'wider', 14645: 'aster', 14646: 'anemone', 14647: 'belles', 14648: 'sceptic', 14649: 'prodigal', 14650: 'badinage', 14651: 'attar', 14652: 'pageant', 14653: 'ballads', 14654: 'tallest', 14655: 'deference', 14656: 'bribe', 14657: 'trinkets', 14658: 'grasped', 14659: 'frigate', 14660: 'wholly', 14661: 'interfere', 14662: 'proposed', 14663: 'chuckled', 14664: 'roofs', 14665: 'occasionally', 14666: 'ruff', 14667: 'gnome', 14668: 'physiognomy', 14669: 'briefly', 14670: 'struggles', 14671: 'sagacious', 14672: 'secrecy', 14673: 'compact', 14674: 'rambles', 14675: 'elemental', 14676: 'beryl', 14677: 'tenant', 14678: 'obligation', 14679: 'circumvent', 14680: 'reticent', 14681: 'oft', 14682: 'crested', 14683: 'cranny', 14684: 'dams', 14685: 'hover', 14686: 'chiefest', 14687: 'reckon', 14688: 'supple', 14689: 'wampum', 14690: 'unobtrusive', 14691: 'enhances', 14692: 'loom', 14693: 'illness', 14694: 'aged', 14695: 'mockery', 14696: 'sheaves', 14697: 'spicy', 14698: 'powders', 14699: 'flings', 14700: 'pursuing', 14701: 'evergreens', 14702: 'larder', 14703: 'dispute', 14704: 'bleating', 14705: 'ceases', 14706: 'lofty', 14707: 'fluttering', 14708: 'lisp', 14709: 'linnet', 14710: 'mechlin', 14711: 'sandal', 14712: 'transient', 14713: 'appalling', 14714: 'schoolboy', 14715: 'mathematics', 14716: 'obliterate', 14717: 'acknowledged', 14718: 'cordial', 14719: 'wishfulness', 14720: 'stimulus', 14721: 'spur', 14722: 'commerce', 14723: 'tenderer', 14724: 'leisurely', 14725: 'concealed', 14726: 'alluded', 14727: 'dissent', 14728: 'rejoin', 14729: 'lesser', 14730: 'devoured', 14731: 'continual', 14732: 'superiority', 14733: 'conferred', 14734: 'consumed', 14735: 'mocks', 14736: 'mortality', 14737: 'visage', 14738: 'classify', 14739: 'statures', 14740: 'prancing', 14741: 'poorest', 14742: 'acquaintances', 14743: 'pleiad', 14744: 'probable', 14745: 'dainty', 14746: 'wretch', 14747: 'sullied', 14748: 'entitled', 14749: 'stricken', 14750: 'boon', 14751: 'precarious', 14752: 'recollecting', 14753: 'preceded', 14754: 'chemist', 14755: 'doubly', 14756: 'bounty', 14757: 'stung', 14758: 'grieved', 14759: 'fascinated', 14760: 'presume', 14761: 'thro', 14762: 'wares', 14763: 'surpasses', 14764: 'fife', 14765: 'proclaim', 14766: 'garret', 14767: 'attitudes', 14768: 'function', 14769: 'bleaker', 14770: 'peninsula', 14771: 'perish', 14772: 'cedar', 14773: 'patent', 14774: 'plank', 14775: 'celebrated', 14776: 'caption', 14777: 'consummate', 14778: 'conform', 14779: 'posterior', 14780: 'scantily', 14781: 'bowls', 14782: 'gush', 14783: 'dinna', 14784: 'debonair', 14785: 'frail', 14786: 'epauletted', 14787: 'fumbles', 14788: 'cherished', 14789: 'boundless', 14790: 'transfigured', 14791: 'visitor', 14792: 'wedlock', 14793: 'frill', 14794: 'priests', 14795: 'overtake', 14796: 'formula', 14797: 'buttercup', 14798: 'trifles', 14799: 'peddler', 14800: 'billows', 14801: 'situated', 14802: 'joyous', 14803: 'benediction', 14804: 'dependent', 14805: 'pervades', 14806: 'simplified', 14807: 'revery', 14808: 'raft', 14809: 'twinkling', 14810: 'alike', 14811: 'eccentricities', 14812: 'swans', 14813: 'tumbles', 14814: 'vastness', 14815: 'hemispheres', 14816: 'forms', 14817: 'dishonored', 14818: 'blot', 14819: 'kennel', 14820: 'philosophies', 14821: 'assuages', 14822: 'strengthens', 14823: 'unfurled', 14824: 'retrospect', 14825: 'immaterial', 14826: 'intimates', 14827: 'accost', 14828: 'firmest', 14829: 'dazzled', 14830: 'seated', 14831: 'anonymous', 14832: 'sprig', 14833: 'prone', 14834: 'obliged', 14835: 'bellows', 14836: 'skaters', 14837: 'tarnished', 14838: 'stillness', 14839: 'wrung', 14840: 'willed', 14841: 'portion', 14842: 'masts', 14843: 'bront', 14844: 'oftener', 14845: 'briar', 14846: 'predestined', 14847: 'bask', 14848: 'carts', 14849: 'breakers', 14850: 'watchtower', 14851: 'princes', 14852: 'scrounging', 14853: 'alibis', 14854: 'siamese', 14855: 'twelfth', 14856: 'complexion', 14857: 'seventh', 14858: 'bleachers', 14859: 'agreeing', 14860: 'caf', 14861: 'lepers', 14862: 'midget', 14863: 'trav', 14864: 'amazes', 14865: 'skippin', 14866: 'reels', 14867: 'foggy', 14868: 'hurled', 14869: 'amphetamine', 14870: 'carburetors', 14871: 'advertising', 14872: 'reappear', 14873: 'pliers', 14874: 'swears', 14875: 'propaganda', 14876: 'senator', 14877: 'debutante', 14878: 'bertha', 14879: 'vicksburg', 14880: 'drenched', 14881: 'namin', 14882: 'strangle', 14883: 'believin', 14884: 'ruckus', 14885: 'orphanages', 14886: 'herman', 14887: 'furthermore', 14888: 'balances', 14889: 'disobeyed', 14890: 'begs', 14891: 'disagreeing', 14892: 'courageous', 14893: 'stumbles', 14894: 'collector', 14895: 'voyage', 14896: 'immaculately', 14897: 'insurance', 14898: 'highways', 14899: 'trooper', 14900: 'network', 14901: 'terry', 14902: 'boulevards', 14903: 'unresolved', 14904: 'mournin', 14905: 'repaid', 14906: 'meaningless', 14907: 'valentines', 14908: 'whirling', 14909: 'likewise', 14910: 'stilts', 14911: 'ownin', 14912: 'hattie', 14913: 'carroll', 14914: 'owns', 14915: 'slain', 14916: 'gavel', 14917: 'chirpin', 14918: 'saws', 14919: 'buckles', 14920: 'clung', 14921: 'glued', 14922: 'prejudice', 14923: 'leaped', 14924: 'musketeers', 14925: 'corpse', 14926: 'mongrel', 14927: 'disappearing', 14928: 'drifter', 14929: 'juarez', 14930: 'plantations', 14931: 'squire', 14932: 'waxed', 14933: 'lamppost', 14934: 'curbs', 14935: 'resign', 14936: 'attempts', 14937: 'truths', 14938: 'temptin', 14939: 'watchman', 14940: 'harmonicas', 14941: 'expense', 14942: 'hollis', 14943: 'stabbin', 14944: 'terrifying', 14945: 'recover', 14946: 'loveliness', 14947: 'bragged', 14948: 'endorse', 14949: 'tombstones', 14950: 'flagpole', 14951: 'rejected', 14952: 'devices', 14953: 'flagging', 14954: 'overdrive', 14955: 'skilled', 14956: 'mountainside', 14957: 'paree', 14958: 'intrude', 14959: 'polluted', 14960: 'thorny', 14961: 'ramblers', 14962: 'dimmed', 14963: 'intense', 14964: 'darktown', 14965: 'statistic', 14966: 'controlling', 14967: 'outdated', 14968: 'healers', 14969: 'multiplied', 14970: 'oftentimes', 14971: 'soles', 14972: 'confronted', 14973: 'senile', 14974: 'tiptoes', 14975: 'braille', 14976: 'theaters', 14977: 'manhole', 14978: 'yon', 14979: 'misfortune', 14980: 'altars', 14981: 'outback', 14982: 'genghis', 14983: 'stamped', 14984: 'orchids', 14985: 'pinewood', 14986: 'trapper', 14987: 'carols', 14988: 'oppression', 14989: 'mislead', 14990: 'mourned', 14991: 'resent', 14992: 'pilin', 14993: 'intend', 14994: 'neutral', 14995: 'mohammed', 14996: 'egypt', 14997: 'ethiopia', 14998: 'wagoner', 14999: 'grieve', 15000: 'growled', 15001: 'meetings', 15002: 'caboose', 15003: 'envelope', 15004: 'sinful', 15005: 'reacher', 15006: 'torches', 15007: 'forgivin', 15008: 'seuss', 15009: 'gluey', 15010: 'lucks', 15011: 'muddle', 15012: 'sizes', 15013: 'nervously', 15014: 'asnooze', 15015: 'slunk', 15016: 'plums', 15017: 'icebox', 15018: 'speck', 15019: 'hadnt', 15020: 'yelp', 15021: 'yink', 15022: 'yop', 15023: 'gack', 15024: 'reconsider', 15025: 'kathmandu', 15026: 'joplin', 15027: 'aflame', 15028: 'unlucky', 15029: 'immediate', 15030: 'teenager', 15031: 'unloved', 15032: 'administration', 15033: 'classmates', 15034: 'hurrah', 15035: 'columbia', 15036: 'quartered', 15037: 'preferably', 15038: 'waaah', 15039: 'blackest', 15040: 'pterodactyl', 15041: 'lovemaker', 15042: 'staggering', 15043: 'sags', 15044: 'downstream', 15045: 'zebras', 15046: 'pointing', 15047: 'frustrating', 15048: 'sulphur', 15049: 'lookout', 15050: 'happ', 15051: 'bomber', 15052: 'ringside', 15053: 'donut', 15054: 'breathes', 15055: 'howled', 15056: 'bandwagon', 15057: 'glistens', 15058: 'ahhhahhh', 15059: 'bv', 15060: 'hurray', 15061: 'catherina', 15062: 'cox', 15063: 'lary', 15064: 'mitch', 15065: 'velez', 15066: 'primary', 15067: 'arranges', 15068: 'ladyland', 15069: 'loveland', 15070: 'penetrates', 15071: 'perilous', 15072: 'neighbourhood', 15073: 'microphones', 15074: 'brang', 15075: 'colours', 15076: 'izabella', 15077: 'anniversary', 15078: 'ther', 15079: 'gunny', 15080: 'bandit', 15081: 'steamed', 15082: 'serenade', 15083: 'liars', 15084: 'antone', 15085: 'snowball', 15086: 'numbering', 15087: 'believen', 15088: 'coughed', 15089: 'commence', 15090: 'bountiful', 15091: 'drawl', 15092: 'davenport', 15093: 'gulf', 15094: 'devised', 15095: 'adapter', 15096: 'visits', 15097: 'reception', 15098: 'plunged', 15099: 'tonks', 15100: 'southbound', 15101: 'decides', 15102: 'kettledrum', 15103: 'omega', 15104: 'trimming', 15105: 'wicks', 15106: 'panicked', 15107: 'charger', 15108: 'gerneral', 15109: 'blownin', 15110: 'tipperary', 15111: 'eiderdown', 15112: 'shalimar', 15113: 'dublin', 15114: 'cork', 15115: 'winnemucca', 15116: 'charleston', 15117: 'catalina', 15118: 'colorado', 15119: 'mainsail', 15120: 'jove', 15121: 'leaned', 15122: 'delaware', 15123: 'waved', 15124: 'insisting', 15125: 'highwayman', 15126: 'schooner', 15127: 'dam', 15128: 'mite', 15129: 'holster', 15130: 'arkansas', 15131: 'thud', 15132: 'whupped', 15133: 'forgiver', 15134: 'livestock', 15135: 'nosed', 15136: 'hammered', 15137: 'rewarded', 15138: 'steamdrill', 15139: 'cavin', 15140: 'lynn', 15141: 'pima', 15142: 'maytag', 15143: 'cremation', 15144: 'seaters', 15145: 'puddles', 15146: 'mashing', 15147: 'impeached', 15148: 'workaholic', 15149: 'improvement', 15150: 'ebenezer', 15151: 'ethered', 15152: 'therapy', 15153: 'billing', 15154: 'piston', 15155: 'michelin', 15156: 'moynat', 15157: 'claritin', 15158: 'portraying', 15159: 'ypd', 15160: 'riley', 15161: 'aswell', 15162: 'mayans', 15163: 'mazel', 15164: 'tov', 15165: 'elle', 15166: 'reine', 15167: 'rien', 15168: 'trop', 15169: 'beau', 15170: 'regarde', 15171: 'dirai', 15172: 'soleil', 15173: 'garde', 15174: 'tr', 15175: 'barreaux', 15176: 'nebghik', 15177: 'wenmoot', 15178: 'aleek', 15179: 'aime', 15180: 'enty', 15181: 'iguodal', 15182: 'calamari', 15183: 'versaces', 15184: 'transporter', 15185: 'whacked', 15186: 'heartthrob', 15187: 'mesmerized', 15188: 'abu', 15189: 'dhabi', 15190: 'rlia', 15191: 'sakse', 15192: 'ghaka', 15193: 'tenn', 15194: 'cloverland', 15195: 'bx', 15196: 'eyez', 15197: 'khaleed', 15198: 'tumor', 15199: 'norman', 15200: 'harris', 15201: 'phoney', 15202: 'coronas', 15203: 'vert', 15204: 'consistent', 15205: 'asahd', 15206: 'marino', 15207: 'ciroc', 15208: 'zombies', 15209: 'abortions', 15210: 'offset', 15211: 'philippe', 15212: 'slump', 15213: 'mileage', 15214: 'elway', 15215: 'superpowers', 15216: 'cc', 15217: 'rex', 15218: 'peds', 15219: 'boujee', 15220: 'blender', 15221: 'mello', 15222: 'mistreated', 15223: 'mulsanne', 15224: 'overrated', 15225: 'bonds', 15226: 'theory', 15227: 'myx', 15228: 'hookie', 15229: 'yoyoyoyo', 15230: 'eheh', 15231: 'fuckas', 15232: 'ryhmes', 15233: 'listennn', 15234: 'shaved', 15235: 'moa', 15236: 'unhh', 15237: 'poetic', 15238: 'empress', 15239: 'celebrity', 15240: 'racial', 15241: 'bevel', 15242: 'bussin', 15243: 'dmv', 15244: 'aces', 15245: 'multiple', 15246: 'sixes', 15247: 'passenges', 15248: 'cud', 15249: 'turks', 15250: 'caicos', 15251: 'rry', 15252: 'blogs', 15253: 'indict', 15254: 'environment', 15255: 'pike', 15256: 'chili', 15257: 'swipers', 15258: 'morally', 15259: 'idiots', 15260: 'travis', 15261: 'playoff', 15262: 'multiplication', 15263: 'amateur', 15264: 'hollar', 15265: 'franks', 15266: 'mcdonald', 15267: 'impersonating', 15268: 'eviction', 15269: 'repo', 15270: 'monique', 15271: 'foots', 15272: 'wodie', 15273: 'blocked', 15274: 'headrest', 15275: 'lurkin', 15276: 'pinched', 15277: 'sorrows', 15278: 'niqqa', 15279: 'istanbul', 15280: 'gallardo', 15281: 'braveheart', 15282: 'acronym', 15283: 'killaz', 15284: 'frisbee', 15285: 'kha', 15286: 'relieving', 15287: 'provider', 15288: 'buses', 15289: 'rozay', 15290: 'pandemonium', 15291: 'wildy', 15292: 'foshigady', 15293: 'aling', 15294: 'gurls', 15295: 'dere', 15296: 'likin', 15297: 'freek', 15298: 'peal', 15299: 'ouit', 15300: 'tangible', 15301: 'aventadors', 15302: 'foreplay', 15303: 'billionaires', 15304: 'iq', 15305: 'bailin', 15306: 'sidelines', 15307: 'tra', 15308: 'spoils', 15309: 'heiress', 15310: 'organs', 15311: 'therapist', 15312: 'jorja', 15313: 'oti', 15314: 'ot', 15315: 'wizkid', 15316: 'gibbo', 15317: 'ignorin', 15318: 'kd', 15319: 'pilots', 15320: 'martian', 15321: 'nevada', 15322: 'bozos', 15323: 'pinocchio', 15324: 'bashing', 15325: 'slower', 15326: 'vet', 15327: 'steph', 15328: 'comeback', 15329: 'feedback', 15330: 'meetin', 15331: 'noel', 15332: 'luminati', 15333: 'optimist', 15334: 'truey', 15335: 'mazi', 15336: 'opener', 15337: 'checkered', 15338: 'pendergrass', 15339: 'salons', 15340: 'overlook', 15341: 'mcqueen', 15342: 'bebe', 15343: 'orgasm', 15344: 'concealer', 15345: 'diplomas', 15346: 'ab', 15347: 'biscayne', 15348: 'relay', 15349: 'freddie', 15350: 'energizer', 15351: 'costing', 15352: 'sacrificing', 15353: 'waan', 15354: 'meck', 15355: 'monsters', 15356: 'adjusting', 15357: 'reaper', 15358: 'taliban', 15359: 'introduction', 15360: 'boomin', 15361: 'adderall', 15362: 'woooah', 15363: 'steroids', 15364: 'majors', 15365: 'bishop', 15366: 'concord', 15367: 'zippers', 15368: 'ebert', 15369: 'roeper', 15370: 'visine', 15371: 'starboy', 15372: 'suh', 15373: 'messy', 15374: 'closure', 15375: 'sydney', 15376: 'honeycomb', 15377: 'nipsey', 15378: 'hussle', 15379: 'explainin', 15380: 'hooters', 15381: 'clan', 15382: 'punishment', 15383: 'negatives', 15384: 'optimistic', 15385: 'atlas', 15386: 'perks', 15387: 'dined', 15388: 'timberlake', 15389: 'spoons', 15390: 'seducing', 15391: 'binnin', 15392: 'centerfold', 15393: 'zoe', 15394: 'kidnappers', 15395: 'dogging', 15396: 'babysit', 15397: 'guala', 15398: 'cater', 15399: 'fbgovo', 15400: 'medications', 15401: 'irrational', 15402: 'elroy', 15403: 'sotto', 15404: 'yen', 15405: 'santo', 15406: 'mia', 15407: 'traitors', 15408: 'lovey', 15409: 'dovey', 15410: 'hubbie', 15411: 'located', 15412: 'fronted', 15413: 'impressions', 15414: 'judah', 15415: 'bothering', 15416: 'propose', 15417: 'slices', 15418: 'postin', 15419: 'chevron', 15420: 'deebo', 15421: 'infant', 15422: 'nemesis', 15423: 'device', 15424: 'initiation', 15425: 'sketched', 15426: 'boutique', 15427: 'junes', 15428: 'ferries', 15429: 'dragonfly', 15430: 'tearful', 15431: 'skated', 15432: 'appease', 15433: 'grandeur', 15434: 'studios', 15435: 'eskimo', 15436: 'unfettered', 15437: 'stoking', 15438: 'crocuses', 15439: 'defector', 15440: 'possessive', 15441: 'waltzing', 15442: 'particles', 15443: 'decker', 15444: 'vapor', 15445: 'staten', 15446: 'girders', 15447: 'ferry', 15448: 'dora', 15449: 'ecology', 15450: 'nylons', 15451: 'veils', 15452: 'achievements', 15453: 'trailers', 15454: 'profits', 15455: 'jester', 15456: 'governed', 15457: 'tragedies', 15458: 'ozone', 15459: 'tumors', 15460: 'filigree', 15461: 'estrella', 15462: 'beveled', 15463: 'fishnet', 15464: 'bandstands', 15465: 'refusing', 15466: 'unlikely', 15467: 'balancing', 15468: 'vengeful', 15469: 'snug', 15470: 'sealing', 15471: 'bargains', 15472: 'swoop', 15473: 'brazen', 15474: 'siphon', 15475: 'oppressed', 15476: 'shaken', 15477: 'fascination', 15478: 'gobbled', 15479: 'vagrant', 15480: 'yawning', 15481: 'fumbling', 15482: 'lightness', 15483: 'mirrored', 15484: 'radiant', 15485: 'ferns', 15486: 'falcons', 15487: 'statue', 15488: 'judgments', 15489: 'tractors', 15490: 'sunk', 15491: 'chilly', 15492: 'surrealist', 15493: 'iniquity', 15494: 'netherlands', 15495: 'gail', 15496: 'brando', 15497: 'teased', 15498: 'hairline', 15499: 'pans', 15500: 'cocktail', 15501: 'dipper', 15502: 'girly', 15503: 'germs', 15504: 'joni', 15505: 'seabird', 15506: 'streetlight', 15507: 'hostage', 15508: 'scribbled', 15509: 'kenora', 15510: 'barker', 15511: 'praised', 15512: 'charging', 15513: 'hatersn', 15514: 'yan', 15515: 'yayou', 15516: 'blowjob', 15517: 'jungles', 15518: 'examplegossip', 15519: 'theuh', 15520: 'maliboomyauh', 15521: 'assgossip', 15522: 'thesasquatch', 15523: 'godzilla', 15524: 'lochness', 15525: 'convertibles', 15526: 'vampires', 15527: 'milling', 15528: 'upgossip', 15529: 'thepull', 15530: 'tonka', 15531: 'wonka', 15532: 'hairdresser', 15533: 'roster', 15534: 'eastern', 15535: 'matterhorn', 15536: 'oursand', 15537: 'dia', 15538: 'gonow', 15539: 'losei', 15540: 'diei', 15541: 'unwantedjust', 15542: 'relatenow', 15543: 'unwantedi', 15544: 'iperfect', 15545: 'stacksi', 15546: 'mei', 15547: 'ohi', 15548: 'camerahow', 15549: 'pillar', 15550: 'nothinglet', 15551: 'eyy', 15552: 'lightkiss', 15553: 'vultures', 15554: 'freddy', 15555: 'goodwelcome', 15556: 'lifenow', 15557: 'har', 15558: 'bugah', 15559: 'godi', 15560: 'palin', 15561: 'exorcist', 15562: 'duncan', 15563: 'lago', 15564: 'dali', 15565: 'ketchup', 15566: 'uplifting', 15567: 'sayhello', 15568: 'mistakeshey', 15569: 'deadbeat', 15570: 'yams', 15571: 'niggahow', 15572: 'fishi', 15573: 'boundbound', 15574: 'admitting', 15575: 'blinkin', 15576: 'downman', 15577: 'yeahi', 15578: 'choos', 15579: 'download', 15580: 'junie', 15581: 'morrison', 15582: 'bitchfour', 15583: 'assfour', 15584: 'itstop', 15585: 'actionfour', 15586: 'assgod', 15587: 'paperi', 15588: 'doubles', 15589: 'fearin', 15590: 'composing', 15591: 'overthrew', 15592: 'wavelength', 15593: 'counters', 15594: 'outworn', 15595: 'roosevelt', 15596: 'sheer', 15597: 'elbows', 15598: 'confined', 15599: 'bidding', 15600: 'magnified', 15601: 'vilified', 15602: 'boredom', 15603: 'practiced', 15604: 'climbs', 15605: 'hungarian', 15606: 'maestro', 15607: 'grim', 15608: 'graceful', 15609: 'thumbnail', 15610: 'scrapes', 15611: 'raincoat', 15612: 'allemands', 15613: 'signe', 15614: 'nom', 15615: 'enfants', 15616: 'tant', 15617: 'parcourait', 15618: 'pleurant', 15619: 'etrangers', 15620: 'courant', 15621: 'fugitif', 15622: 'fleeing', 15623: 'adressa', 15624: 'ces', 15625: 'souviens', 15626: 'eux', 15627: 'patrie', 15628: 'helas', 15629: 'verrai', 15630: 'coughing', 15631: 'unmade', 15632: 'limousines', 15633: 'commands', 15634: 'determine', 15635: 'squalls', 15636: 'corps', 15637: 'quand', 15638: 'suis', 15639: 'voir', 15640: 'tends', 15641: 'passe', 15642: 'toujours', 15643: 'autres', 15644: 'amours', 15645: 'jouent', 15646: 'caving', 15647: 'deserving', 15648: 'exhaust', 15649: 'strategies', 15650: 'effects', 15651: 'clenching', 15652: 'revoir', 15653: 'roving', 15654: 'outwears', 15655: 'shred', 15656: 'particle', 15657: 'flare', 15658: 'chola', 15659: 'wha', 15660: 'bolsillo', 15661: 'roulette', 15662: 'okayay', 15663: 'symphonic', 15664: 'rye', 15665: 'wench', 15666: 'vomits', 15667: 'nostalgia', 15668: 'kunst', 15669: 'shush', 15670: 'bangkok', 15671: 'identity', 15672: 'junkie', 15673: 'mumbled', 15674: 'seashell', 15675: 'joanne', 15676: 'transform', 15677: 'haute', 15678: 'monde', 15679: 'rebuke', 15680: 'feminist', 15681: 'chicos', 15682: 'chicas', 15683: 'wobbledy', 15684: 'wobbin', 15685: 'throbbin', 15686: 'geeky', 15687: 'benji', 15688: 'complica', 15689: 'retweet', 15690: 'rams', 15691: 'achtzehn', 15692: 'vierzehn', 15693: 'drei', 15694: 'roughing', 15695: 'gorgeousness', 15696: 'enigma', 15697: 'hubba', 15698: 'limo', 15699: 'swirl', 15700: 'hybrid', 15701: 'bowery', 15702: 'homer', 15703: 'playful', 15704: 'relaxing', 15705: 'behaving', 15706: 'stickss', 15707: 'edelweiss', 15708: 'puke', 15709: 'addictions', 15710: 'falalalala', 15711: 'frist', 15712: 'crusing', 15713: 'bimmers', 15714: 'brothercooked', 15715: 'ini', 15716: 'slanging', 15717: 'talkeyng', 15718: 'hubbers', 15719: 'errbody', 15720: 'millie', 15721: 'sanitizer', 15722: 'executed', 15723: 'electrocuted', 15724: 'nutthin', 15725: 'weedn', 15726: 'rappas', 15727: 'feins', 15728: 'wadda', 15729: 'tri', 15730: 'hallo', 15731: 'europeans', 15732: 'yeeee', 15733: 'hahah', 15734: 'coudlnt', 15735: 'hahahh', 15736: 'mullah', 15737: 'ashed', 15738: 'celly', 15739: 'sugars', 15740: 'asskissers', 15741: 'pullers', 15742: 'affairs', 15743: 'girlfriendses', 15744: 'sike', 15745: 'forgets', 15746: 'blaque', 15747: 'starch', 15748: 'bowleg', 15749: 'slugged', 15750: 'cateye', 15751: 'drout', 15752: 'tymin', 15753: 'pha', 15754: 'lammy', 15755: 'blammies', 15756: 'hammy', 15757: 'rangein', 15758: 'tussle', 15759: 'yeeyo', 15760: 'tullies', 15761: 'hoopties', 15762: 'qps', 15763: 'peeled', 15764: 'bulky', 15765: 'steallin', 15766: 'feedin', 15767: 'greivin', 15768: 'hoody', 15769: 'ammomammal', 15770: 'blum', 15771: 'blam', 15772: 'sapp', 15773: 'cataracts', 15774: 'everyones', 15775: 'callus', 15776: 'joggin', 15777: 'wbitch', 15778: 'rasheds', 15779: 'helicopters', 15780: 'mandat', 15781: 'countryness', 15782: 'likedegreez', 15783: 'currencys', 15784: 'gibraltar', 15785: 'tikara', 15786: 'contra', 15787: 'laundered', 15788: 'flier', 15789: 'ostrich', 15790: 'accomplice', 15791: 'activist', 15792: 'fergielicious', 15793: 'sullivan', 15794: 'donovan', 15795: 'politick', 15796: 'polident', 15797: 'representa', 15798: 'buttin', 15799: 'unbutton', 15800: 'listerine', 15801: 'guzzerin', 15802: 'muzzles', 15803: 'gullible', 15804: 'cockaroaches', 15805: 'fareal', 15806: 'dup', 15807: 'chaufeur', 15808: 'whaddup', 15809: 'bengals', 15810: 'picutre', 15811: 'pinkos', 15812: 'gotlives', 15813: 'leann', 15814: 'rimes', 15815: 'weezyana', 15816: 'erbody', 15817: 'gotso', 15818: 'antennae', 15819: 'theget', 15820: 'bruntin', 15821: 'hitn', 15822: 'nudda', 15823: 'ossevago', 15824: 'rocksteady', 15825: 'mashin', 15826: 'jealousies', 15827: 'trex', 15828: 'linebacker', 15829: 'accompany', 15830: 'macarena', 15831: 'eattin', 15832: 'bonecrusher', 15833: 'poptart', 15834: 'lukeworm', 15835: 'aspen', 15836: 'grasping', 15837: 'clickclack', 15838: 'toppe', 15839: 'gota', 15840: 'shooter', 15841: 'looter', 15842: 'lootin', 15843: 'addore', 15844: 'tattooos', 15845: 'muthafukin', 15846: 'mercedez', 15847: 'panny', 15848: 'seminole', 15849: 'lke', 15850: 'expandin', 15851: 'securtiy', 15852: 'twisty', 15853: 'fidel', 15854: 'castro', 15855: 'wanye', 15856: 'barcadi', 15857: 'lincon', 15858: 'elastic', 15859: 'taso', 15860: 'versemannie', 15861: 'ky', 15862: 'ginseng', 15863: 'yucky', 15864: 'tymer', 15865: 'narcotics', 15866: 'verselittle', 15867: 'audition', 15868: 'mceds', 15869: 'koobie', 15870: 'cuisine', 15871: 'creatine', 15872: 'boutyears', 15873: 'beatings', 15874: 'womens', 15875: 'shadai', 15876: 'coasters', 15877: 'gumbo', 15878: 'pebbles', 15879: 'dailiest', 15880: 'chalks', 15881: 'photofobia', 15882: 'brassiere', 15883: 'hunters', 15884: 'enchilada', 15885: 'gotdollars', 15886: 'jilled', 15887: 'bixby', 15888: 'drizzlin', 15889: 'giftwrapped', 15890: 'dribblin', 15891: 'gremlin', 15892: 'withhands', 15893: 'birdfood', 15894: 'silencer', 15895: 'truckfit', 15896: 'spacehead', 15897: 'gotlegs', 15898: 'pitstop', 15899: 'wafflehouse', 15900: 'nickis', 15901: 'microsoft', 15902: 'certs', 15903: 'keepaway', 15904: 'fluffed', 15905: 'duckling', 15906: 'chipped', 15907: 'raisins', 15908: 'thawed', 15909: 'thrash', 15910: 'dayit', 15911: 'checkor', 15912: 'imhigh', 15913: 'ooey', 15914: 'sistine', 15915: 'freshspring', 15916: 'asparagus', 15917: 'servers', 15918: 'chrous', 15919: 'conversion', 15920: 'mewhoo', 15921: 'excursion', 15922: 'boneless', 15923: 'chickfila', 15924: 'saggin', 15925: 'kart', 15926: 'purchased', 15927: 'curvy', 15928: 'recliner', 15929: 'yolonda', 15930: 'kentuckyderby', 15931: 'shroomies', 15932: 'boojie', 15933: 'goddamned', 15934: 'hubby', 15935: 'tenderhonnie', 15936: 'cosner', 15937: 'jalapeno', 15938: 'deez', 15939: 'yeahchainz', 15940: 'hustlenomics', 15941: 'froggystyle', 15942: 'sssssss', 15943: 'sicle', 15944: 'goodmorning', 15945: 'bakers', 15946: 'stunnas', 15947: 'nikk', 15948: 'nikkim', 15949: 'fallback', 15950: 'onli', 15951: 'hairdont', 15952: 'hermione', 15953: 'thelike', 15954: 'rov', 15955: 'honkin', 15956: 'kango', 15957: 'mango', 15958: 'hearns', 15959: 'abou', 15960: 'hsshswash', 15961: 'diggggggggg', 15962: 'nop', 15963: 'yeyo', 15964: 'ewings', 15965: 'papaya', 15966: 'exempt', 15967: 'vitale', 15968: 'carsole', 15969: 'stuart', 15970: 'cohn', 15971: 'twayne', 15972: 'deads', 15973: 'glaciers', 15974: 'sniffin', 15975: 'tapeworm', 15976: 'soyou', 15977: 'phill', 15978: 'sunshines', 15979: 'peyton', 15980: 'heats', 15981: 'seventeenth', 15982: 'daps', 15983: 'teceleven', 15984: 'soaker', 15985: 'cobra', 15986: 'hoodlum', 15987: 'debatin', 15988: 'abs', 15989: 'baths', 15990: 'strenght', 15991: 'muscule', 15992: 'fustin', 15993: 'hawiian', 15994: 'milimeter', 15995: 'sweve', 15996: 'pifatti', 15997: 'understund', 15998: 'destructin', 15999: 'seductin', 16000: 'goota', 16001: 'headbutt', 16002: 'lt', 16003: 'bootsy', 16004: 'truk', 16005: 'nerf', 16006: 'brr', 16007: 'putta', 16008: 'ngga', 16009: 'omarion', 16010: 'bestest', 16011: 'asbestos', 16012: 'wasabi', 16013: 'recognised', 16014: 'tyga', 16015: 'tanning', 16016: 'lotions', 16017: 'rollarcoasting', 16018: 'jae', 16019: 'millz', 16020: 'winndixie', 16021: 'mulla', 16022: 'flurry', 16023: 'muggin', 16024: 'ehhh', 16025: 'lastdollars', 16026: 'lorlord', 16027: 'joynerkersee', 16028: 'spiderman', 16029: 'tees', 16030: 'weirdos', 16031: 'kiddos', 16032: 'skittles', 16033: 'instrumentals', 16034: 'madsen', 16035: 'gggunit', 16036: 'reuse', 16037: 'limos', 16038: 'zitzitzitzitzit', 16039: 'pimples', 16040: 'puddin', 16041: 'blindside', 16042: 'bullock', 16043: 'enuff', 16044: 'ocontraire', 16045: 'grounded', 16046: 'goverment', 16047: 'economies', 16048: 'compulsion', 16049: 'fictionvirgins', 16050: 'dixons', 16051: 'swagging', 16052: 'windowwindow', 16053: 'adope', 16054: 'geezy', 16055: 'ripcas', 16056: 'henney', 16057: 'situtions', 16058: 'noi', 16059: 'definantly', 16060: 'aboutblunts', 16061: 'everythangs', 16062: 'mantain', 16063: 'awfall', 16064: 'combile', 16065: 'somthin', 16066: 'brutained', 16067: 'waisten', 16068: 'congratulated', 16069: 'succeced', 16070: 'fadingbelieve', 16071: 'wats', 16072: 'manish', 16073: 'trashcan', 16074: 'mam', 16075: 'spitta', 16076: 'whateva', 16077: 'occured', 16078: 'visor', 16079: 'ugk', 16080: 'julius', 16081: 'erving', 16082: 'tini', 16083: 'colada', 16084: 'fcking', 16085: 'wildass', 16086: 'motherfcker', 16087: 'maddfucka', 16088: 'missles', 16089: 'specifics', 16090: 'torche', 16091: 'gyminst', 16092: 'roun', 16093: 'surenges', 16094: 'cavemen', 16095: 'hairpin', 16096: 'trigga', 16097: 'mating', 16098: 'carton', 16099: 'weddings', 16100: 'panther', 16101: 'bengle', 16102: 'ocho', 16103: 'gillie', 16104: 'freeyer', 16105: 'chilli', 16106: 'lockness', 16107: 'kinnle', 16108: 'nge', 16109: 'paternally', 16110: 'vividly', 16111: 'brightened', 16112: 'footy', 16113: 'flosser', 16114: 'weezing', 16115: 'heezing', 16116: 'beatrall', 16117: 'womans', 16118: 'fungi', 16119: 'charmless', 16120: 'armless', 16121: 'loadin', 16122: 'cockeyed', 16123: 'thermostat', 16124: 'heatll', 16125: 'shakita', 16126: 'gunll', 16127: 'sutures', 16128: 'smooches', 16129: 'girbaud', 16130: 'walgreens', 16131: 'washaving', 16132: 'realrealreal', 16133: 'howdy', 16134: 'nit', 16135: 'josephine', 16136: 'vacated', 16137: 'debated', 16138: 'johhny', 16139: 'bayou', 16140: 'tanto', 16141: 'guapo', 16142: 'thatsdegrees', 16143: 'lachey', 16144: 'switchblade', 16145: 'invade', 16146: 'grossed', 16147: 'getms', 16148: 'alphabets', 16149: 'newand', 16150: 'belfast', 16151: 'kowabunga', 16152: 'landmark', 16153: 'airborne', 16154: 'grapefruit', 16155: 'chaz', 16156: 'sternum', 16157: 'merk', 16158: 'gwop', 16159: 'leroy', 16160: 'masturbatin', 16161: 'koheba', 16162: 'likebucks', 16163: 'hittas', 16164: 'butch', 16165: 'shoebox', 16166: 'shoeboxes', 16167: 'whoppers', 16168: 'tilapia', 16169: 'weopon', 16170: 'penit', 16171: 'demolished', 16172: 'freeks', 16173: 'semis', 16174: 'brothas', 16175: 'males', 16176: 'psychopathic', 16177: 'overthink', 16178: 'progresses', 16179: 'friendships', 16180: 'coasting', 16181: 'mistrust', 16182: 'pseudo', 16183: 'ephedrine', 16184: 'trashin', 16185: 'admired', 16186: 'eclipsed', 16187: 'atoms', 16188: 'gunfights', 16189: 'limelights', 16190: 'bruising', 16191: 'drape', 16192: 'pulses', 16193: 'dumber', 16194: 'likeness', 16195: 'resound', 16196: 'electronics', 16197: 'hallucination', 16198: 'reckoned', 16199: 'commonplace', 16200: 'tween', 16201: 'recruits', 16202: 'disputes', 16203: 'deniability', 16204: 'duels', 16205: 'inexperienced', 16206: 'paces', 16207: 'ragtag', 16208: 'superpower', 16209: 'emerge', 16210: 'quagmire', 16211: 'confusin', 16212: 'confoundin', 16213: 'frenchman', 16214: 'engagin', 16215: 'enragin', 16216: 'rochambeau', 16217: 'consolidate', 16218: 'yorktown', 16219: 'ingenuitive', 16220: 'tactical', 16221: 'brilliance', 16222: 'accelerated', 16223: 'financials', 16224: 'bursar', 16225: 'pints', 16226: 'appelle', 16227: 'bonsoir', 16228: 'casse', 16229: 'brrrah', 16230: 'brraaah', 16231: 'corsets', 16232: 'prodigy', 16233: 'imminent', 16234: 'homilies', 16235: 'hymns', 16236: 'inimitable', 16237: 'wastes', 16238: 'revel', 16239: 'schuyler', 16240: 'defenseless', 16241: 'paragraphs', 16242: 'cathedrals', 16243: 'scanning', 16244: 'historians', 16245: 'oppressors', 16246: 'rioting', 16247: 'neutrality', 16248: 'petition', 16249: 'hawing', 16250: 'ban', 16251: 'execute', 16252: 'rapbot', 16253: 'killaholic', 16254: 'slickety', 16255: 'gibbedy', 16256: 'hibbedy', 16257: 'rappidy', 16258: 'yackidy', 16259: 'acrobat', 16260: 'stunts', 16261: 'maxipad', 16262: 'disastrously', 16263: 'masterfully', 16264: 'constructing', 16265: 'maintaining', 16266: 'exuberance', 16267: 'asteroid', 16268: 'rakim', 16269: 'lakim', 16270: 'shabazz', 16271: 'yella', 16272: 'dmc', 16273: 'induct', 16274: 'inducted', 16275: 'vey', 16276: 'earnhardt', 16277: 'zod', 16278: 'krypton', 16279: 'thor', 16280: 'odin', 16281: 'rodent', 16282: 'reloading', 16283: 'throating', 16284: 'doberman', 16285: 'utilize', 16286: 'lunchtime', 16287: 'pharoahe', 16288: 'monch', 16289: 'combine', 16290: 'censor', 16291: 'morphed', 16292: 'portal', 16293: 'cornrows', 16294: 'maywhether', 16295: 'fad', 16296: 'sama', 16297: 'duma', 16298: 'assuming', 16299: 'ricocheting', 16300: 'demonstrating', 16301: 'elevating', 16302: 'occurs', 16303: 'inadvertently', 16304: 'flunkie', 16305: 'tugging', 16306: 'lemons', 16307: 'beggers', 16308: 'cookey', 16309: 'weirder', 16310: 'squander', 16311: 'conjuring', 16312: 'spawn', 16313: 'vanvonderen', 16314: 'interventionist', 16315: 'ocd', 16316: 'conking', 16317: 'sleepwalking', 16318: 'relaying', 16319: 'civilian', 16320: 'relates', 16321: 'rumpelstiltskin', 16322: 'straightjacket', 16323: 'undoubtedly', 16324: 'accents', 16325: 'admittedly', 16326: 'subliminally', 16327: 'stingers', 16328: 'flingers', 16329: 'solely', 16330: 'solemnly', 16331: 'shingle', 16332: 'pub', 16333: 'gazin', 16334: 'tornado', 16335: 'lightening', 16336: 'nipple', 16337: 'bic', 16338: 'pacquiao', 16339: 'debating', 16340: 'cheney', 16341: 'moaned', 16342: 'uncles', 16343: 'backstabbers', 16344: 'jackets', 16345: 'whoopin', 16346: 'clitoris', 16347: 'durst', 16348: 'skam', 16349: 'blistering', 16350: 'bleeds', 16351: 'flattered', 16352: 'clownin', 16353: 'discriminated', 16354: 'protested', 16355: 'demonstrated', 16356: 'tempers', 16357: 'envision', 16358: 'housin', 16359: 'harshest', 16360: 'momentum', 16361: 'illin', 16362: 'sporadic', 16363: 'attend', 16364: 'rollercoaster', 16365: 'cid', 16366: 'semester', 16367: 'stapler', 16368: 'operate', 16369: 'cemetery', 16370: 'nelly', 16371: 'jams', 16372: 'peeing', 16373: 'psych', 16374: 'duff', 16375: 'bozo', 16376: 'lookie', 16377: 'sensations', 16378: 'potatoes', 16379: 'aspirin', 16380: 'nap', 16381: 'heath', 16382: 'cappella', 16383: 'blaring', 16384: 'stepfather', 16385: 'socked', 16386: 'pinup', 16387: 'slur', 16388: 'kkk', 16389: 'badi', 16390: 'barnes', 16391: 'poot', 16392: 'goggles', 16393: 'duba', 16394: 'starring', 16395: 'mixtapes', 16396: 'procrastinated', 16397: 'gymnasium', 16398: 'tackle', 16399: 'inhaler', 16400: 'alba', 16401: 'blake', 16402: 'murders', 16403: 'undisputed', 16404: 'elephant', 16405: 'acapella', 16406: 'imprisoned', 16407: 'flack', 16408: 'cockin', 16409: 'trucker', 16410: 'stewardess', 16411: 'sobbing', 16412: 'eyeballed', 16413: 'batteries', 16414: 'walkman', 16415: 'horseshit', 16416: 'licker', 16417: 'heinous', 16418: 'exclamation', 16419: 'casin', 16420: 'enjoyin', 16421: 'relaxed', 16422: 'endorphins', 16423: 'walmart', 16424: 'tractor', 16425: 'normally', 16426: 'mischief', 16427: 'squashed', 16428: 'von', 16429: 'cuffs', 16430: 'mescaline', 16431: 'swallowing', 16432: 'resolve', 16433: 'habitat', 16434: 'cuddling', 16435: 'lickety', 16436: 'beddy', 16437: 'strangling', 16438: 'nachos', 16439: 'dilemma', 16440: 'jeffrey', 16441: 'lyric', 16442: 'dosage', 16443: 'magician', 16444: 'baw', 16445: 'nuclear', 16446: 'nemisis', 16447: 'evolves', 16448: 'honour', 16449: 'splattered', 16450: 'unit', 16451: 'diaper', 16452: 'operated', 16453: 'crushing', 16454: 'laxatives', 16455: 'asap', 16456: 'ingredient', 16457: 'grammar', 16458: 'snuff', 16459: 'diggity', 16460: 'mohammad', 16461: 'nob', 16462: 'wean', 16463: 'insecurities', 16464: 'whooping', 16465: 'verbs', 16466: 'whilin', 16467: 'suggestions', 16468: 'nighquil', 16469: 'mastermind', 16470: 'vicodin', 16471: 'ambian', 16472: 'lineup', 16473: 'mitsubishi', 16474: 'roxanne', 16475: 'soundcheck', 16476: 'dislocate', 16477: 'ruffle', 16478: 'hyphen', 16479: 'suc', 16480: 'occur', 16481: 'humping', 16482: 'areas', 16483: 'handout', 16484: 'zany', 16485: 'curtis', 16486: 'heater', 16487: 'hernandez', 16488: 'shutter', 16489: 'cutter', 16490: 'rambo', 16491: 'pout', 16492: 'cynics', 16493: 'obstacle', 16494: 'mistaking', 16495: 'gilbert', 16496: 'outsider', 16497: 'laggin', 16498: 'gaggin', 16499: 'footage', 16500: 'sentencin', 16501: 'punt', 16502: 'pretzel', 16503: 'wad', 16504: 'dye', 16505: 'tightwad', 16506: 'pees', 16507: 'lunge', 16508: 'mumblin', 16509: 'cacklin', 16510: 'vatican', 16511: 'overwrite', 16512: 'overbite', 16513: 'filas', 16514: 'fagots', 16515: 'magnets', 16516: 'straitjackets', 16517: 'gastric', 16518: 'bypass', 16519: 'vrinnn', 16520: 'washin', 16521: 'datsun', 16522: 'upinyoface', 16523: 'margiela', 16524: 'realness', 16525: 'unamerican', 16526: 'ignant', 16527: 'frew', 16528: 'walkingroundalwaysmad', 16529: 'leaveaprettygirlsad', 16530: 'whatwedodonttellyourmom', 16531: 'redcupallonthelawn', 16532: 'admittin', 16533: 'longass', 16534: 'deception', 16535: 'sunglasses', 16536: 'kiki', 16537: 'youuh', 16538: 'contracts', 16539: 'cest', 16540: 'recorders', 16541: 'teamed', 16542: 'cca', 16543: 'hamptons', 16544: 'nolia', 16545: 'badbitchalert', 16546: 'madrichalert', 16547: 'twothousanddollar', 16548: 'apartheid', 16549: 'owin', 16550: 'alimony', 16551: 'byanymeans', 16552: 'overreactin', 16553: 'gaspin', 16554: 'readyready', 16555: 'soundbite', 16556: 'girlll', 16557: 'vegetarian', 16558: 'strapon', 16559: 'suge', 16560: 'lep', 16561: 'keef', 16562: 'malibooyah', 16563: 'swallowship', 16564: 'sumbitch', 16565: 'hatinass', 16566: 'snakeass', 16567: 'pinkass', 16568: 'cosa', 16569: 'kman', 16570: 'dennys', 16571: 'alist', 16572: 'capn', 16573: 'partys', 16574: 'dropdrodrodrodrop', 16575: 'reptile', 16576: 'aaaaahhh', 16577: 'deepak', 16578: 'chopra', 16579: 'octobers', 16580: 'latenight', 16581: 'donor', 16582: 'disown', 16583: 'soulless', 16584: 'overreckless', 16585: 'stcentury', 16586: 'snl', 16587: 'shortminded', 16588: 'goalies', 16589: 'colin', 16590: 'powells', 16591: 'obamas', 16592: 'wintour', 16593: 'loudass', 16594: 'doublecupped', 16595: 'coachella', 16596: 'wholesaler', 16597: 'daytonas', 16598: 'rodney', 16599: 'erick', 16600: 'pryor', 16601: 'muller', 16602: 'poli', 16603: 'pds', 16604: 'prive', 16605: 'arttype', 16606: 'shewascaughtinthehype', 16607: 'clubbin', 16608: 'selfcontrol', 16609: 'cosbys', 16610: 'apologing', 16611: 'pharaohs', 16612: 'fistfight', 16613: 'leona', 16614: 'alec', 16615: 'baldwin', 16616: 'inter', 16617: 'tantrums', 16618: 'brandon', 16619: 'opportunities', 16620: 'lucrative', 16621: 'euphemism', 16622: 'olympus', 16623: 'pimpish', 16624: 'enlisted', 16625: 'director', 16626: 'beatle', 16627: 'showbiz', 16628: 'casually', 16629: 'casualty', 16630: 'jumbotron', 16631: 'stuntmen', 16632: 'drummond', 16633: 'sophisticated', 16634: 'curses', 16635: 'anah', 16636: 'appalled', 16637: 'spalding', 16638: 'balding', 16639: 'housekeeping', 16640: 'cheerios', 16641: 'tada', 16642: 'insecurr', 16643: 'yurrs', 16644: 'carurr', 16645: 'babydaddy', 16646: 'alexis', 16647: 'pashas', 16648: 'versaysee', 16649: 'coachs', 16650: 'parkinsons', 16651: 'moccasins', 16652: 'cochran', 16653: 'bleau', 16654: 'grutman', 16655: 'bitchmade', 16656: 'ixnay', 16657: 'dicksnay', 16658: 'itchbay', 16659: 'cosell', 16660: 'commentator', 16661: 'doorman', 16662: 'leos', 16663: 'trios', 16664: 'peekin', 16665: 'blockablocka', 16666: 'shaka', 16667: 'shabba', 16668: 'saga', 16669: 'chewbacca', 16670: 'numberone', 16671: 'piranhasized', 16672: 'postdemise', 16673: 'parolees', 16674: 'ogs', 16675: 'expectancy', 16676: 'effectively', 16677: 'popeyes', 16678: 'blowjobs', 16679: 'crayist', 16680: 'htotheizzos', 16681: 'wizerk', 16682: 'grownass', 16683: 'naomi', 16684: 'crowe', 16685: 'staples', 16686: 'burrr', 16687: 'overclose', 16688: 'collo', 16689: 'drolo', 16690: 'sponsored', 16691: 'zeppi', 16692: 'notos', 16693: 'lanvin', 16694: 'departments', 16695: 'doeuvres', 16696: 'olwuwopte', 16697: 'memorys', 16698: 'rednosed', 16699: 'rocafellas', 16700: 'pauls', 16701: 'gaultier', 16702: 'bigheaded', 16703: 'infectious', 16704: 'insects', 16705: 'overbooked', 16706: 'kwali', 16707: 'republic', 16708: 'bunb', 16709: 'raymond', 16710: 'mayonnaisecolored', 16711: 'theyselves', 16712: 'twodoor', 16713: 'oragy', 16714: 'metaphorically', 16715: 'historically', 16716: 'actresses', 16717: 'masseuse', 16718: 'ku', 16719: 'afterlife', 16720: 'outlandish', 16721: 'influential', 16722: 'confirmation', 16723: 'troll', 16724: 'antiquated', 16725: 'submission', 16726: 'illegally', 16727: 'downloaded', 16728: 'checkbook', 16729: 'crowdsource', 16730: 'outofbody', 16731: 'negotiatin', 16732: 'waldo', 16733: 'aldo', 16734: 'nopussygetting', 16735: 'petas', 16736: 'rodman', 16737: 'urrr', 16738: 'scrippers', 16739: 'whichll', 16740: 'stoled', 16741: 'disick', 16742: 'underwhelmed', 16743: 'helm', 16744: 'yeeeaaaalmmp', 16745: 'tryst', 16746: 'uhaul', 16747: 'pessimists', 16748: 'apartament', 16749: 'kfc', 16750: 'skeeted', 16751: 'classics', 16752: 'fourtrack', 16753: 'porscha', 16754: 'minivan', 16755: 'sein', 16756: 'convincin', 16757: 'motown', 16758: 'paraplegic', 16759: 'rrrrright', 16760: 'sitins', 16761: 'ballots', 16762: 'leadership', 16763: 'racisms', 16764: 'concealin', 16765: 'sams', 16766: 'yukons', 16767: 'sellout', 16768: 'mime', 16769: 'baseline', 16770: 'partyin', 16771: 'sobs', 16772: 'carline', 16773: 'scrotum', 16774: 'client', 16775: 'presidito', 16776: 'hola', 16777: 'hovito', 16778: 'spazzed', 16779: 'pickandroll', 16780: 'giveandgo', 16781: 'beanies', 16782: 'translate', 16783: 'espanol', 16784: 'telethon', 16785: 'coroners', 16786: 'ulcer', 16787: 'sweepstakes', 16788: 'levitate', 16789: 'bigass', 16790: 'coppola', 16791: 'rossd', 16792: 'goldman', 16793: 'sachs', 16794: 'foley', 16795: 'jody', 16796: 'unmistakable', 16797: 'doctorate', 16798: 'maya', 16799: 'angelou', 16800: 'giovanni', 16801: 'echelon', 16802: 'stype', 16803: 'administer', 16804: 'akbar', 16805: 'niggerish', 16806: 'coladas', 16807: 'flannels', 16808: 'coked', 16809: 'demanded', 16810: 'tenyear', 16811: 'unquote', 16812: 'aunty', 16813: 'eurostar', 16814: 'reunited', 16815: 'dadd', 16816: 'harebrained', 16817: 'livings', 16818: 'princed', 16819: 'basquions', 16820: 'basquiats', 16821: 'perv', 16822: 'pictureperfect', 16823: 'blackstreet', 16824: 'creeped', 16825: 'latifah', 16826: 'gearing', 16827: 'barbershops', 16828: 'adidos', 16829: 'naacp', 16830: 'arie', 16831: 'ashland', 16832: 'tithe', 16833: 'tuesdays', 16834: 'fridays', 16835: 'intern', 16836: 'superofficial', 16837: 'rrrroc', 16838: 'dookied', 16839: 'dealerships', 16840: 'cheapass', 16841: 'eighteenyearold', 16842: 'taco', 16843: 'churros', 16844: 'mirro', 16845: 'euros', 16846: 'aspiring', 16847: 'anakin', 16848: 'fabrics', 16849: 'blog', 16850: 'folksll', 16851: 'designing', 16852: 'swaggin', 16853: 'chokes', 16854: 'oclock', 16855: 'heavenll', 16856: 'hotlines', 16857: 'assaulting', 16858: 'blackie', 16859: 'cree', 16860: 'nnnnow', 16861: 'alcoholics', 16862: 'nnnnnnow', 16863: 'emailing', 16864: 'doubled', 16865: 'lamping', 16866: 'candice', 16867: 'talib', 16868: 'kwe', 16869: 'noemie', 16870: 'lenoir', 16871: 'sessilee', 16872: 'arlenis', 16873: 'selita', 16874: 'ebanks', 16875: 'mobb', 16876: 'jourdan', 16877: 'gomes', 16878: 'stam', 16879: 'esti', 16880: 'ginzburg', 16881: 'rocha', 16882: 'mimosa', 16883: 'alessandra', 16884: 'ambrosio', 16885: 'olga', 16886: 'kurylenko', 16887: 'irina', 16888: 'shayk', 16889: 'doutzen', 16890: 'programs', 16891: 'dcfs', 16892: 'dyslexic', 16893: 'retards', 16894: 'chromie', 16895: 'grannys', 16896: 'thankgiving', 16897: 'abi', 16898: 'polaroidsll', 16899: 'socrates', 16900: 'collections', 16901: 'hellhole', 16902: 'fossils', 16903: 'uncanny', 16904: 'uncamry', 16905: 'marni', 16906: 'giorgio', 16907: 'sergio', 16908: 'tacchini', 16909: 'hellified', 16910: 'vertical', 16911: 'vertebrae', 16912: 'conception', 16913: 'majestys', 16914: 'pageantries', 16915: 'divin', 16916: 'gds', 16917: 'analogy', 16918: 'childs', 16919: 'limon', 16920: 'dwyane', 16921: 'gnarls', 16922: 'barkers', 16923: 'limbo', 16924: 'rocachain', 16925: 'travolta', 16926: 'speedo', 16927: 'nodoz', 16928: 'mammas', 16929: 'volvo', 16930: 'hugos', 16931: 'tudor', 16932: 'tracey', 16933: 'skined', 16934: 'misogyny', 16935: 'massagin', 16936: 'raunchy', 16937: 'crunchy', 16938: 'hedi', 16939: 'slimane', 16940: 'calumet', 16941: 'nicknamed', 16942: 'krock', 16943: 'spinner', 16944: 'daytons', 16945: 'ellesses', 16946: 'boned', 16947: 'backback', 16948: 'thenthen', 16949: 'yanked', 16950: 'cranked', 16951: 'lincolns', 16952: 'auroras', 16953: 'authors', 16954: 'parenthood', 16955: 'refills', 16956: 'electro', 16957: 'perfecto', 16958: 'gidget', 16959: 'fallopian', 16960: 'jewelrys', 16961: 'trinity', 16962: 'crunches', 16963: 'silhouette', 16964: 'sars', 16965: 'juking', 16966: 'lattes', 16967: 'nnooo', 16968: 'basking', 16969: 'firstclass', 16970: 'hovercraft', 16971: 'irs', 16972: 'winos', 16973: 'jon', 16974: 'brion', 16975: 'campbell', 16976: 'registration', 16977: 'anaesthesia', 16978: 'beepin', 16979: 'xrays', 16980: 'alltime', 16981: 'norah', 16982: 'soror', 16983: 'laura', 16984: 'pootie', 16985: 'rocafella', 16986: 'kappa', 16987: 'afflicted', 16988: 'spontaneous', 16989: 'cocacola', 16990: 'konnichiwa', 16991: 'havent', 16992: 'lohead', 16993: 'purposely', 16994: 'domestic', 16995: 'currently', 16996: 'sexually', 16997: 'disrespecting', 16998: 'godsister', 16999: 'drivethru', 17000: 'imitated', 17001: 'nominated', 17002: 'accommodated', 17003: 'promdated', 17004: 'playahated', 17005: 'momandpop', 17006: 'racially', 17007: 'profiled', 17008: 'hod', 17009: 'whipthen', 17010: 'chickso', 17011: 'finehomeswhy', 17012: 'worldshe', 17013: 'knightme', 17014: 'ronald', 17015: 'gil', 17016: 'merrill', 17017: 'madigans', 17018: 'audy', 17019: 'quota', 17020: 'moes', 17021: 'soundtrack', 17022: 'superflyness', 17023: 'performing', 17024: 'pioneers', 17025: 'snobbish', 17026: 'semesters', 17027: 'evident', 17028: 'stephen', 17029: 'golly', 17030: 'pologize', 17031: 'ghana', 17032: 'carti', 17033: 'rapped', 17034: 'synonyms', 17035: 'cinnamon', 17036: 'pentium', 17037: 'denamuhh', 17038: 'altima', 17039: 'gses', 17040: 'ambidextrous', 17041: 'breasteses', 17042: 'mammogram', 17043: 'handicam', 17044: 'candyman', 17045: 'handyman', 17046: 'electives', 17047: 'prerequits', 17048: 'underachievin', 17049: 'freshest', 17050: 'unprofessional', 17051: 'eskimos', 17052: 'milianlike', 17053: 'ingl', 17054: 'lim', 17055: 'jeremy', 17056: 'wipin', 17057: 'eggnog', 17058: 'deericious', 17059: 'monologue', 17060: 'tylenol', 17061: 'endowed', 17062: 'fattie', 17063: 'praticing', 17064: 'packaging', 17065: 'alaias', 17066: 'epidural', 17067: 'scripts', 17068: 'booby', 17069: 'crosss', 17070: 'cheadle', 17071: 'cremated', 17072: 'stinks', 17073: 'beared', 17074: 'ottoman', 17075: 'lonliness', 17076: 'phoniness', 17077: 'sophmore', 17078: 'moontalk', 17079: 'adriana', 17080: 'giselle', 17081: 'photoshoot', 17082: 'binns', 17083: 'dieting', 17084: 'chai', 17085: 'tai', 17086: 'icet', 17087: 'deadend', 17088: 'culdesac', 17089: 'varicose', 17090: 'lodi', 17091: 'dodi', 17092: 'vidal', 17093: 'sassoon', 17094: 'duper', 17095: 'hoopersize', 17096: 'tryning', 17097: 'divorces', 17098: 'splitups', 17099: 'crayons', 17100: 'unspike', 17101: 'domtylerperryon', 17102: 'rachel', 17103: 'urges', 17104: 'splurges', 17105: 'canaries', 17106: 'callone', 17107: 'ringtwo', 17108: 'ringsseven', 17109: 'ringseight', 17110: 'fulltime', 17111: 'deltas', 17112: 'brownskinned', 17113: 'akas', 17114: 'hypeman', 17115: 'frightnin', 17116: 'hesus', 17117: 'implants', 17118: 'melrose', 17119: 'hoodrat', 17120: 'mccartneys', 17121: 'halles', 17122: 'lohan', 17123: 'cramps', 17124: 'headless', 17125: 'horseman', 17126: 'backdraft', 17127: 'sleepers', 17128: 'jeeper', 17129: 'creepup', 17130: 'clockus', 17131: 'blockus', 17132: 'ayeb', 17133: 'yao', 17134: 'gosspital', 17135: 'pacll', 17136: 'niggasd', 17137: 'bmw', 17138: 'westin', 17139: 'converse', 17140: 'asics', 17141: 'buckfiftys', 17142: 'sara', 17143: 'backfired', 17144: 'sacked', 17145: 'halftime', 17146: 'diseased', 17147: 'representation', 17148: 'ovulation', 17149: 'sensationll', 17150: 'temporarily', 17151: 'supposedly', 17152: 'password', 17153: 'guwop', 17154: 'nosebleeds', 17155: 'guestroom', 17156: 'urinal', 17157: 'executives', 17158: 'entertained', 17159: 'guevara', 17160: 'zara', 17161: 'rochelle', 17162: 'fomo', 17163: 'scarier', 17164: 'weddin', 17165: 'marshawn', 17166: 'playgrounds', 17167: 'archetype', 17168: 'oxford', 17169: 'fullblown', 17170: 'errr', 17171: 'errerrerr', 17172: 'proportions', 17173: 'speedlevel', 17174: 'walt', 17175: 'karrueche', 17176: 'chainsmokin', 17177: 'arizon', 17178: 'aerosol', 17179: 'aiight', 17180: 'moneytalkin', 17181: 'palo', 17182: 'alto', 17183: 'intros', 17184: 'pumin', 17185: 'nevuary', 17186: 'foolishness', 17187: 'nolan', 17188: 'ryan', 17189: 'redesigned', 17190: 'lagerfeld', 17191: 'fav', 17192: 'obvi', 17193: 'ishh', 17194: 'brits', 17195: 'jeal', 17196: 'magnif', 17197: 'merrauder', 17198: 'installment', 17199: 'christohper', 17200: 'wallace', 17201: 'pompus', 17202: 'modesty', 17203: 'includes', 17204: 'yeyeezys', 17205: 'herve', 17206: 'leger', 17207: 'rurunning', 17208: 'heidi', 17209: 'klum', 17210: 'apes', 17211: 'nonchalantly', 17212: 'ronsy', 17213: 'collars', 17214: 'fonzy', 17215: 'ena', 17216: 'maxin', 17217: 'bball', 17218: 'risky', 17219: 'tay', 17220: 'zonday', 17221: 'vary', 17222: 'blasting', 17223: 'db', 17224: 'goldplated', 17225: 'refreshingly', 17226: 'hydrate', 17227: 'sidebyside', 17228: 'allwheel', 17229: 'purpur', 17230: 'ari', 17231: 'buliding', 17232: 'louies', 17233: 'pimpd', 17234: 'issac', 17235: 'gonads', 17236: 'teriyaki', 17237: 'puffing', 17238: 'lobbies', 17239: 'jurisdiction', 17240: 'snob', 17241: 'yugoslavians', 17242: 'cholesterol', 17243: 'bossip', 17244: 'serch', 17245: 'mags', 17246: 'aaaaat', 17247: 'girlsll', 17248: 'uestion', 17249: 'yesssir', 17250: 'terrestrial', 17251: 'andersons', 17252: 'tracee', 17253: 'rosss', 17254: 'impromptu', 17255: 'voulezvous', 17256: 'smooze', 17257: 'celeb', 17258: 'marykate', 17259: 'raybe', 17260: 'wayfarers', 17261: 'mmmhmm', 17262: 'mmmnnnn', 17263: 'tivo', 17264: 'nikons', 17265: 'icons', 17266: 'soulfood', 17267: 'backpacker', 17268: 'richardson', 17269: 'carlton', 17270: 'uggh', 17271: 'tootie', 17272: 'mcfly', 17273: 'futon', 17274: 'neutron', 17275: 'croutons', 17276: 'operas', 17277: 'raza', 17278: 'qtip', 17279: 'lagged', 17280: 'codename', 17281: 'keyshia', 17282: 'execs', 17283: 'shemales', 17284: 'goldmember', 17285: 'miri', 17286: 'antihistamine', 17287: 'dangelo', 17288: 'maneuvers', 17289: 'threeoh', 17290: 'ohhhhhhhh', 17291: 'mae', 17292: 'chamone', 17293: 'ravensymon', 17294: 'keisha', 17295: 'knightpull', 17296: 'emmanuel', 17297: 'adjustments', 17298: 'hondas', 17299: 'ananda', 17300: 'zeroes', 17301: 'spouses', 17302: 'tripper', 17303: 'clouding', 17304: 'nigerian', 17305: 'uggs', 17306: 'sheepskin', 17307: 'astrology', 17308: 'tonights', 17309: 'reminiscent', 17310: 'boomerang', 17311: 'eloise', 17312: 'kidineys', 17313: 'hinting', 17314: 'tiffanys', 17315: 'brenda', 17316: 'lovelace', 17317: 'laface', 17318: 'hiphophead', 17319: 'shakespearian', 17320: 'midsummer', 17321: 'grgreen', 17322: 'chching', 17323: 'rreeal', 17324: 'ritter', 17325: 'nubian', 17326: 'bridgett', 17327: 'bis', 17328: 'quence', 17329: 'ittle', 17330: 'blu', 17331: 'cantrell', 17332: 'inventer', 17333: 'understatement', 17334: 'yallve', 17335: 'yallll', 17336: 'patr', 17337: 'clones', 17338: 'douja', 17339: 'rosey', 17340: 'blo', 17341: 'figiair', 17342: 'myleka', 17343: 'gogettin', 17344: 'takeover', 17345: 'safest', 17346: 'bestfriend', 17347: 'smits', 17348: 'capades', 17349: 'razorbladin', 17350: 'unknowingly', 17351: 'demoralizing', 17352: 'choosers', 17353: 'chipotle', 17354: 'oshea', 17355: 'reloaded', 17356: 'backflips', 17357: 'backless', 17358: 'brastrapless', 17359: 'barstool', 17360: 'truuu', 17361: 'asswater', 17362: 'homeschooled', 17363: 'montessori', 17364: 'monastery', 17365: 'timberlands', 17366: 'kendall', 17367: 'khloe', 17368: 'niggasll', 17369: 'fedsll', 17370: 'waywayway', 17371: 'sag', 17372: 'liaison', 17373: 'faaaaaar', 17374: 'fuuuhuhuck', 17375: 'everever', 17376: 'michelles', 17377: 'viktor', 17378: 'rolf', 17379: 'roth', 17380: 'shabby', 17381: 'celebs', 17382: 'laughy', 17383: 'athlete', 17384: 'seniority', 17385: 'oblongata', 17386: 'scoliosis', 17387: 'comatoses', 17388: 'osmosis', 17389: 'toastses', 17390: 'coastses', 17391: 'rosa', 17392: 'ohsa', 17393: 'escorts', 17394: 'rav', 17395: 'beasting', 17396: 'riesling', 17397: 'precinct', 17398: 'reebok', 17399: 'maywhat', 17400: 'accountable', 17401: 'lightheaded', 17402: 'tightthreaded', 17403: 'revving', 17404: 'freshness', 17405: 'whered', 17406: 'modeled', 17407: 'throttled', 17408: 'bravoed', 17409: 'ayayay', 17410: 'pjs', 17411: 'marshalls', 17412: 'teesha', 17413: 'rawdog', 17414: 'strokes', 17415: 'caspers', 17416: 'omg', 17417: 'jaguar', 17418: 'bullheaded', 17419: 'peat', 17420: 'geographic', 17421: 'awastin', 17422: 'russells', 17423: 'rhymer', 17424: 'caaash', 17425: 'gladdest', 17426: 'mutherfuckas', 17427: 'historical', 17428: 'orchestral', 17429: 'smpte', 17430: 'shibuya', 17431: 'rararararappers', 17432: 'hanto', 17433: 'foxes', 17434: 'fabo', 17435: 'geo', 17436: 'fedex', 17437: 'jazzy', 17438: 'wwwhat', 17439: 'wwwhen', 17440: 'bbut', 17441: 'coor', 17442: 'dinated', 17443: 'champaign', 17444: 'hiatus', 17445: 'hypno', 17446: 'lobsters', 17447: 'dranky', 17448: 'determines', 17449: 'survey', 17450: 'scorin', 17451: 'nissan', 17452: 'arbor', 17453: 'rosed', 17454: 'chloes', 17455: 'fugees', 17456: 'ania', 17457: 'dep', 17458: 'omegas', 17459: 'synonym', 17460: 'scrimmaging', 17461: 'penmanship', 17462: 'censorship', 17463: 'chicagoan', 17464: 'supermodel', 17465: 'myspaces', 17466: 'tyrannosaurus', 17467: 'cojones', 17468: 'crs', 17469: 'parasail', 17470: 'colette', 17471: 'cindys', 17472: 'mork', 17473: 'mindy', 17474: 'corks', 17475: 'dorks', 17476: 'chitowns', 17477: 'hoochies', 17478: 'belluccis', 17479: 'millionnaires', 17480: 'bendies', 17481: 'defines', 17482: 'altoids', 17483: 'cody', 17484: 'chesnutt', 17485: 'allstar', 17486: 'vomited', 17487: 'colonicd', 17488: 'platonicd', 17489: 'arouse', 17490: 'browsing', 17491: 'ahhnah', 17492: 'tailormade', 17493: 'aghh', 17494: 'lector', 17495: 'seducers', 17496: 'deuces', 17497: 'festivals', 17498: 'perignon', 17499: 'beons', 17500: 'unpopular', 17501: 'kruegers', 17502: 'uhoh', 17503: 'extratight', 17504: 'extrabright', 17505: 'extrahype', 17506: 'extradyke', 17507: 'dancell', 17508: 'mick', 17509: 'liiliilicks', 17510: 'doritos', 17511: 'nacho', 17512: 'ohohohoh', 17513: 'bounds', 17514: 'default', 17515: 'wads', 17516: 'tippers', 17517: 'menorah', 17518: 'onstar', 17519: 'errrr', 17520: 'herrooh', 17521: 'dayo', 17522: 'monorail', 17523: 'mightve', 17524: 'diggs', 17525: 'disrespectin', 17526: 'blazed', 17527: 'spud', 17528: 'lw', 17529: 'rocafam', 17530: 'scram', 17531: 'rnb', 17532: 'cuence', 17533: 'dwele', 17534: 'xxl', 17535: 'upscale', 17536: 'parlayin', 17537: 'cosmopolitan', 17538: 'weekly', 17539: 'robb', 17540: 'steamboat', 17541: 'abandonment', 17542: 'wasteful', 17543: 'moderation', 17544: 'comforting', 17545: 'ninth', 17546: 'autographs', 17547: 'unturned', 17548: 'firing', 17549: 'dammit', 17550: 'flicking', 17551: 'cheech', 17552: 'suzy', 17553: 'blindfolded', 17554: 'sites', 17555: 'respects', 17556: 'colour', 17557: 'fbi', 17558: 'motorboatin', 17559: 'playmate', 17560: 'responds', 17561: 'seafoam', 17562: 'sunburn', 17563: 'superfly', 17564: 'caffeine', 17565: 'doused', 17566: 'pisces', 17567: 'magnetar', 17568: 'infection', 17569: 'tarp', 17570: 'drippings', 17571: 'distill', 17572: 'soothing', 17573: 'expanse', 17574: 'butterworth', 17575: 'squares', 17576: 'moderate', 17577: 'alt', 17578: 'afterbirth', 17579: 'acne', 17580: 'fusion', 17581: 'moist', 17582: 'tickling', 17583: 'wishfull', 17584: 'godess', 17585: 'chippin', 17586: 'ecto', 17587: 'tensions', 17588: 'pecker', 17589: 'potentials', 17590: 'scentless', 17591: 'formulas', 17592: 'subscription', 17593: 'puns', 17594: 'newspapers', 17595: 'banga', 17596: 'copywritten', 17597: 'ciara', 17598: 'rump', 17599: 'stopper', 17600: 'rok', 17601: 'fiya', 17602: 'louda', 17603: 'percolation', 17604: 'spankin', 17605: 'herm', 17606: 'trismegistus', 17607: 'optimus', 17608: 'kak', 17609: 'bisque', 17610: 'dosie', 17611: 'chumpy', 17612: 'wholes', 17613: 'izzy', 17614: 'vanilli', 17615: 'foundin', 17616: 'mushy', 17617: 'aaaaoow', 17618: 'lucked', 17619: 'liquored', 17620: 'informed', 17621: 'heaving', 17622: 'rectum', 17623: 'dupilcated', 17624: 'recycled', 17625: 'soba', 17626: 'tush', 17627: 'glittas', 17628: 'crittas', 17629: 'iza', 17630: 'shantay', 17631: 'remmy', 17632: 'supersize', 17633: 'milkshake', 17634: 'darth', 17635: 'vader', 17636: 'talker', 17637: 'crunk', 17638: 'terri', 17639: 'category', 17640: 'bolla', 17641: 'hatahs', 17642: 'clothe', 17643: 'knogen', 17644: 'haaaa', 17645: 'haa', 17646: 'raaah', 17647: 'thongs', 17648: 'originality', 17649: 'quarterback', 17650: 'murkin', 17651: 'everythin', 17652: 'climax', 17653: 'unforgettable', 17654: 'diggities', 17655: 'fido', 17656: 'sprint', 17657: 'gents', 17658: 'misdemean', 17659: 'whoomp', 17660: 'rza', 17661: 'reala', 17662: 'oohwee', 17663: 'jen', 17664: 'carolinas', 17665: 'compromised', 17666: 'foreal', 17667: 'loudly', 17668: 'garments', 17669: 'hazardous', 17670: 'duct', 17671: 'sizz', 17672: 'hitmakin', 17673: 'hitbreakin', 17674: 'partyshakin', 17675: 'groundbreakin', 17676: 'anticipated', 17677: 'pharrell', 17678: 'fishie', 17679: 'mammie', 17680: 'coatie', 17681: 'ware', 17682: 'snails', 17683: 'soonest', 17684: 'ded', 17685: 'pandy', 17686: 'kilkenny', 17687: 'shuter', 17688: 'nag', 17689: 'tittlemouse', 17690: 'daffy', 17691: 'wand', 17692: 'shear', 17693: 'woolly', 17694: 'whaskey', 17695: 'weedle', 17696: 'faddle', 17697: 'feedle', 17698: 'jiggety', 17699: 'whim', 17700: 'nock', 17701: 'bobin', 17702: 'tart', 17703: 'dears', 17704: 'waggled', 17705: 'crowed', 17706: 'soapsuds', 17707: 'fisher', 17708: 'parritch', 17709: 'stye', 17710: 'salting', 17711: 'ladle', 17712: 'winkie', 17713: 'farthing', 17714: 'sulky', 17715: 'tailed', 17716: 'pussycat', 17717: 'faustus', 17718: 'fount', 17719: 'welshmen', 17720: 'westminster', 17721: 'mourner', 17722: 'dirge', 17723: 'thrush', 17724: 'pheasant', 17725: 'clout', 17726: 'primrose', 17727: 'chirp', 17728: 'cuckoos', 17729: 'burny', 17730: 'pooh', 17731: 'thessaly', 17732: 'cushy', 17733: 'victuals', 17734: 'elspeth', 17735: 'bess', 17736: 'parlour', 17737: 'mounting', 17738: 'spoiling', 17739: 'flinders', 17740: 'margery', 17741: 'daw', 17742: 'tucker', 17743: 'moisty', 17744: 'brodie', 17745: 'etticoat', 17746: 'scornful', 17747: 'soiled', 17748: 'feetikin', 17749: 'toddle', 17750: 'cheshire', 17751: 'niggledy', 17752: 'nobleman', 17753: 'pippin', 17754: 'welshman', 17755: 'comical', 17756: 'snooks', 17757: 'fain', 17758: 'hart', 17759: 'retriever', 17760: 'bonedigger', 17761: 'beerbelly', 17762: 'amusing', 17763: 'gus', 17764: 'seeping', 17765: 'jubilation', 17766: 'homecomin', 17767: 'parkbench', 17768: 'thinning', 17769: 'cathy', 17770: 'scenery', 17771: 'exaggerating', 17772: 'dappled', 17773: 'cinematographer', 17774: 'cleans', 17775: 'hemisphere', 17776: 'pulsing', 17777: 'crest', 17778: 'trailways', 17779: 'via', 17780: 'storybook', 17781: 'aurea', 17782: 'shackled', 17783: 'pisanos', 17784: 'divvy', 17785: 'sheds', 17786: 'litigation', 17787: 'stationed', 17788: 'congregate', 17789: 'koran', 17790: 'mole', 17791: 'parsley', 17792: 'sickle', 17793: 'flickers', 17794: 'amanha', 17795: 'depende', 17796: 'breve', 17797: 'nightshade', 17798: 'defensive', 17799: 'nutrients', 17800: 'extensions', 17801: 'icin', 17802: 'lamerlo', 17803: 'sabor', 17804: 'azucar', 17805: 'bonnita', 17806: 'chicha', 17807: 'skydive', 17808: 'woosa', 17809: 'screenshot', 17810: 'bday', 17811: 'blindfold', 17812: 'towels', 17813: 'drankin', 17814: 'surprising', 17815: 'flatlands', 17816: 'overworked', 17817: 'underpaid', 17818: 'horseback', 17819: 'jigglin', 17820: 'vogues', 17821: 'rollz', 17822: 'cutt', 17823: 'skatin', 17824: 'tooked', 17825: 'spleen', 17826: 'perscribed', 17827: 'histemines', 17828: 'siguar', 17829: 'wooley', 17830: 'mammoth', 17831: 'tounge', 17832: 'cadallacin', 17833: 'aquaduct', 17834: 'chil', 17835: 'shadi', 17836: 'mbp', 17837: 'ballernous', 17838: 'strokers', 17839: 'kyack', 17840: 'skeem', 17841: 'heezy', 17842: 'sheezy', 17843: 'tweezy', 17844: 'paddywhack', 17845: 'uppercut', 17846: 'eyeing', 17847: 'spying', 17848: 'peeling', 17849: 'drilling', 17850: 'goosebumps', 17851: 'playstation', 17852: 'lorenzo', 17853: 'kitted', 17854: 'housekeeper', 17855: 'overcast', 17856: 'clocking', 17857: 'altercation', 17858: 'jiggling', 17859: 'thrilla', 17860: 'manilla', 17861: 'schlong', 17862: 'lacs', 17863: 'ichy', 17864: 'leashes', 17865: 'waterpark', 17866: 'pedicured', 17867: 'trife', 17868: 'brina', 17869: 'grenades', 17870: 'masha', 17871: 'endings', 17872: 'brah', 17873: 'clockwise', 17874: 'hustled', 17875: 'mugging', 17876: 'coordinate', 17877: 'mutherfucking', 17878: 'scuba', 17879: 'filters', 17880: 'cambleton', 17881: 'nozzles', 17882: 'garrett', 17883: 'straps', 17884: 'sg', 17885: 'wayin', 17886: 'faizon', 17887: 'recruiter', 17888: 'putty', 17889: 'pokin', 17890: 'threesomes', 17891: 'scummy', 17892: 'jalapenos', 17893: 'stuffin', 17894: 'tickles', 17895: 'pickles', 17896: 'rooty', 17897: 'tooty', 17898: 'appalonia', 17899: 'goonie', 17900: 'doug', 17901: 'plat', 17902: 'slobbin', 17903: 'heeshy', 17904: 'eighties', 17905: 'motorcycles', 17906: 'youowhoo', 17907: 'prep', 17908: 'anythang', 17909: 'munchies', 17910: 'exploit', 17911: 'booties', 17912: 'nutt', 17913: 'ckin', 17914: 'nugget', 17915: 'pisa', 17916: 'retirement', 17917: 'handcuffed', 17918: 'uuuuuuuuuup', 17919: 'portland', 17920: 'yippie', 17921: 'yie', 17922: 'pico', 17923: 'increasing', 17924: 'luva', 17925: 'mouf', 17926: 'ize', 17927: 'garder', 17928: 'tamed', 17929: 'bandages', 17930: 'reilly', 17931: 'untouchable', 17932: 'cartel', 17933: 'hehehehehe', 17934: 'watered', 17935: 'jaybird', 17936: 'ouuh', 17937: 'dapper', 17938: 'promess', 17939: 'grizzly', 17940: 'lollipops', 17941: 'avoiding', 17942: 'scarred', 17943: 'misunderstand', 17944: 'brutality', 17945: 'scold', 17946: 'sparkly', 17947: 'persuasive', 17948: 'kike', 17949: 'rapin', 17950: 'kgb', 17951: 'blackmail', 17952: 'glorify', 17953: 'fy', 17954: 'sanctifies', 17955: 'fies', 17956: 'nigh', 17957: 'agitate', 17958: 'intrusion', 17959: 'heartbreaking', 17960: 'juices', 17961: 'watts', 17962: 'ohms', 17963: 'volts', 17964: 'ridiculed', 17965: 'maliciously', 17966: 'neverland', 17967: 'radiator', 17968: 'descends', 17969: 'tahitian', 17970: 'wipes', 17971: 'seeeee', 17972: 'lalalalala', 17973: 'lalalalalalala', 17974: 'blurring', 17975: 'yee', 17976: 'insincere', 17977: 'junto', 17978: 'siempre', 17979: 'vas', 17980: 'viva', 17981: 'aimerais', 17982: 'ressens', 17983: 'personne', 17984: 'comprend', 17985: 'sais', 17986: 'vais', 17987: 'pr', 17988: 'rit', 17989: 'skreets', 17990: 'choker', 17991: 'boulders', 17992: 'bipolar', 17993: 'elevate', 17994: 'nahs', 17995: 'fives', 17996: 'dole', 17997: 'oooohhh', 17998: 'boney', 17999: 'update', 18000: 'surfboard', 18001: 'employ', 18002: 'ahoy', 18003: 'android', 18004: 'renovation', 18005: 'rigged', 18006: 'whoring', 18007: 'scoring', 18008: 'knickerbock', 18009: 'baisley', 18010: 'vindicated', 18011: 'syndicated', 18012: 'coincidental', 18013: 'whitley', 18014: 'cranky', 18015: 'hanky', 18016: 'blanky', 18017: 'wooah', 18018: 'wheelers', 18019: 'kangaroo', 18020: 'osalamalekam', 18021: 'myer', 18022: 'hahahahahahaha', 18023: 'som', 18024: 'dab', 18025: 'toppa', 18026: 'whacks', 18027: 'kilo', 18028: 'diznick', 18029: 'jizzes', 18030: 'disses', 18031: 'truffle', 18032: 'zanotti', 18033: 'pasties', 18034: 'leslie', 18035: 'rr', 18036: 'lingerie', 18037: 'birthing', 18038: 'bio', 18039: 'rillo', 18040: 'swae', 18041: 'thicky', 18042: 'shotkilla', 18043: 'reincarnated', 18044: 'eardrummers', 18045: 'magnitude', 18046: 'longitude', 18047: 'maury', 18048: 'seer', 18049: 'cah', 18050: 'gimmick', 18051: 'planetarium', 18052: 'cesarean', 18053: 'brands', 18054: 'guzzle', 18055: 'imprint', 18056: 'pinkprint', 18057: 'birkin', 18058: 'masika', 18059: 'chapo', 18060: 'quica', 18061: 'dita', 18062: 'boeing', 18063: 'dundun', 18064: 'pimple', 18065: 'llamas', 18066: 'baron', 18067: 'bxtch', 18068: 'fxck', 18069: 'peebe', 18070: 'abusive', 18071: 'animation', 18072: 'merged', 18073: 'seizes', 18074: 'stallions', 18075: 'hardening', 18076: 'encircling', 18077: 'pituitary', 18078: 'pitched', 18079: 'vineland', 18080: 'dervish', 18081: 'spi', 18082: 'spiraling', 18083: 'expanding', 18084: 'brancusi', 18085: 'sculptor', 18086: 'unwinds', 18087: 'moslem', 18088: 'leadeth', 18089: 'result', 18090: 'scorned', 18091: 'acclaim', 18092: 'exiled', 18093: 'castaway', 18094: 'wartorn', 18095: 'marched', 18096: 'aspect', 18097: 'shepherds', 18098: 'energies', 18099: 'forewarned', 18100: 'lebanon', 18101: 'medieval', 18102: 'shimmer', 18103: 'unwound', 18104: 'soared', 18105: 'humankind', 18106: 'hammering', 18107: 'juggernaut', 18108: 'hal', 18109: 'cronies', 18110: 'tiptoe', 18111: 'jigsaws', 18112: 'reckoner', 18113: 'beings', 18114: 'ripples', 18115: 'ragdoll', 18116: 'twitch', 18117: 'spacecraft', 18118: 'etcetera', 18119: 'crackle', 18120: 'scaremongering', 18121: 'mobiles', 18122: 'glassy', 18123: 'shimmerers', 18124: 'wakey', 18125: 'puking', 18126: 'dragonflies', 18127: 'witching', 18128: 'aircrash', 18129: 'cheering', 18130: 'sixties', 18131: 'fitter', 18132: 'productive', 18133: 'pepa', 18134: 'bambu', 18135: 'lumberjack', 18136: 'sardines', 18137: 'brucey', 18138: 'capri', 18139: 'lovebug', 18140: 'starski', 18141: 'aaalll', 18142: 'alize', 18143: 'condos', 18144: 'lunches', 18145: 'brunches', 18146: 'stereotypes', 18147: 'sega', 18148: 'oneroom', 18149: 'thirstay', 18150: 'aand', 18151: 'hooligans', 18152: 'erynight', 18153: 'underroos', 18154: 'starsky', 18155: 'hutch', 18156: 'busily', 18157: 'dkny', 18158: 'dookie', 18159: 'lx', 18160: 'menageatois', 18161: 'arraignment', 18162: 'plantiff', 18163: 'escargot', 18164: 'gobe', 18165: 'newton', 18166: 'unfolded', 18167: 'sooften', 18168: 'screwup', 18169: 'dreads', 18170: 'extermination', 18171: 'tre', 18172: 'brandnubian', 18173: 'jacques', 18174: 'loke', 18175: 'perrignon', 18176: 'thesis', 18177: 'diablos', 18178: 'silliest', 18179: 'phillie', 18180: 'padell', 18181: 'escada', 18182: 'lovell', 18183: 'godll', 18184: 'ramo', 18185: 'doubleg', 18186: 'ceasealeo', 18187: 'imna', 18188: 'sess', 18189: 'roscoes', 18190: 'fatburger', 18191: 'frisco', 18192: 'nyc', 18193: 'cellycelly', 18194: 'tristate', 18195: 'tresvant', 18196: 'epilogue', 18197: 'unfoldin', 18198: 'restaraunts', 18199: 'gamell', 18200: 'ninetytwo', 18201: 'aspirations', 18202: 'caffine', 18203: 'nicotine', 18204: 'ripsta', 18205: 'sentimentally', 18206: 'instrumelody', 18207: 'fortyfive', 18208: 'flees', 18209: 'doubleedged', 18210: 'messiahs', 18211: 'armageddeon', 18212: 'expired', 18213: 'suited', 18214: 'mossberg', 18215: 'leatherface', 18216: 'guzzlers', 18217: 'sawedoff', 18218: 'automaticstatus', 18219: 'artillery', 18220: 'blimp', 18221: 'ninetyone', 18222: 'cooter', 18223: 'hootie', 18224: 'ctotheatotheddy', 18225: 'nows', 18226: 'thisll', 18227: 'doa', 18228: 'ppa', 18229: 'holsters', 18230: 'roadies', 18231: 'phizat', 18232: 'thizat', 18233: 'trizack', 18234: 'kizzack', 18235: 'homos', 18236: 'wickedest', 18237: 'syphillis', 18238: 'gonorrhea', 18239: 'chlamydia', 18240: 'dempsey', 18241: 'backspins', 18242: 'chronicles', 18243: 'holocaust', 18244: 'merciless', 18245: 'luckand', 18246: 'buttfuckin', 18247: 'rhinocerous', 18248: 'preposterous', 18249: 'babypop', 18250: 'rapperdons', 18251: 'dondadda', 18252: 'mh', 18253: 'intake', 18254: 'firin', 18255: 'worshiped', 18256: 'rehearsed', 18257: 'cairo', 18258: 'brailling', 18259: 'scaling', 18260: 'vigilante', 18261: 'siblings', 18262: 'recouping', 18263: 'cristyle', 18264: 'willyist', 18265: 'millis', 18266: 'gavana', 18267: 'whinin', 18268: 'bogatar', 18269: 'tanktop', 18270: 'advancing', 18271: 'jetskiing', 18272: 'scareless', 18273: 'unshamelessly', 18274: 'smuggle', 18275: 'thiefs', 18276: 'caine', 18277: 'dockin', 18278: 'slimmed', 18279: 'seperate', 18280: 'bickering', 18281: 'soun', 18282: 'sasquatch', 18283: 'thundering', 18284: 'electrical', 18285: 'molestin', 18286: 'landcruisers', 18287: 'crooklyns', 18288: 'cpoppa', 18289: 'thosand', 18290: 'baileys', 18291: 'christenings', 18292: 'proceeeeeeed', 18293: 'pohey', 18294: 'aoowww', 18295: 'exprained', 18296: 'mechanical', 18297: 'stepbystep', 18298: 'booklet', 18299: 'momsll', 18300: 'hoodied', 18301: 'jums', 18302: 'freshmen', 18303: 'clientele', 18304: 'caretaker', 18305: 'sniffed', 18306: 'carrero', 18307: 'shooken', 18308: 'ismail', 18309: 'fiver', 18310: 'strobes', 18311: 'flaavvaa', 18312: 'sonning', 18313: 'numbing', 18314: 'montega', 18315: 'rationalized', 18316: 'nationalize', 18317: 'scorer', 18318: 'picatti', 18319: 'papes', 18320: 'sheek', 18321: 'luchion', 18322: 'fatigued', 18323: 'uhhun', 18324: 'cruisers', 18325: 'parades', 18326: 'lifers', 18327: 'whoh', 18328: 'enhancin', 18329: 'vansons', 18330: 'hitchlin', 18331: 'millies', 18332: 'ivana', 18333: 'gabana', 18334: 'bogota', 18335: 'englique', 18336: 'stashing', 18337: 'skiing', 18338: 'strolls', 18339: 'celo', 18340: 'bitchll', 18341: 'politely', 18342: 'heheh', 18343: 'robberies', 18344: 'uturn', 18345: 'kapeesha', 18346: 'honcho', 18347: 'camacho', 18348: 'stylistics', 18349: 'wron', 18350: 'dusted', 18351: 'toothless', 18352: 'kibbitz', 18353: 'potency', 18354: 'maybes', 18355: 'worshippin', 18356: 'cannibalism', 18357: 'exorcism', 18358: 'camels', 18359: 'rabbits', 18360: 'machetes', 18361: 'uz', 18362: 'intricate', 18363: 'flypaper', 18364: 'rolexs', 18365: 'corridor', 18366: 'coroner', 18367: 'burgular', 18368: 'rottweilers', 18369: 'devour', 18370: 'ligaments', 18371: 'prediciment', 18372: 'rasshole', 18373: 'remo', 18374: 'aow', 18375: 'symone', 18376: 'feenin', 18377: 'tonto', 18378: 'chronchron', 18379: 'puffs', 18380: 'satisfyin', 18381: 'deniro', 18382: 'cartier', 18383: 'degenero', 18384: 'dripped', 18385: 'instamatak', 18386: 'petiteness', 18387: 'arsenio', 18388: 'doubleoh', 18389: 'televisions', 18390: 'versacci', 18391: 'roped', 18392: 'emotionless', 18393: 'prater', 18394: 'user', 18395: 'abuser', 18396: 'stressfilled', 18397: 'devilish', 18398: 'ssshit', 18399: 'newports', 18400: 'bridgeport', 18401: 'amtrak', 18402: 'digit', 18403: 'toyota', 18404: 'dealathon', 18405: 'alberta', 18406: 'nickelplated', 18407: 'guiliani', 18408: 'potty', 18409: 'binges', 18410: 'teck', 18411: 'checkcheck', 18412: 'alfred', 18413: 'droptopnotch', 18414: 'playahating', 18415: 'wiling', 18416: 'peeved', 18417: 'ballerlike', 18418: 'booyaka', 18419: 'tutor', 18420: 'bailing', 18421: 'dez', 18422: 'gino', 18423: 'sponge', 18424: 'encaged', 18425: 'igloo', 18426: 'vtrim', 18427: 'untwist', 18428: 'joness', 18429: 'combses', 18430: 'killins', 18431: 'yukon', 18432: 'youngin', 18433: 'jooks', 18434: 'vantage', 18435: 'embedded', 18436: 'billys', 18437: 'flammable', 18438: 'unexplainable', 18439: 'ejected', 18440: 'spint', 18441: 'headshots', 18442: 'briefcases', 18443: 'franco', 18444: 'hydrant', 18445: 'bluelight', 18446: 'gib', 18447: 'ktown', 18448: 'swizzie', 18449: 'mils', 18450: 'terracota', 18451: 'splitta', 18452: 'tactic', 18453: 'heavily', 18454: 'obese', 18455: 'della', 18456: 'warpath', 18457: 'spectators', 18458: 'shortchange', 18459: 'snortcane', 18460: 'cripple', 18461: 'hardlike', 18462: 'pickle', 18463: 'jerus', 18464: 'strenuous', 18465: 'maniacs', 18466: 'duchies', 18467: 'touchytouchy', 18468: 'witchyo', 18469: 'sneaky', 18470: 'shakey', 18471: 'slipntryin', 18472: 'whatchyou', 18473: 'marineblue', 18474: 'sixcoupe', 18475: 'skied', 18476: 'chron', 18477: 'chrons', 18478: 'comer', 18479: 'greend', 18480: 'distribute', 18481: 'ballantine', 18482: 'flatline', 18483: 'onetothree', 18484: 'fourfive', 18485: 'pointblank', 18486: 'bogart', 18487: 'welts', 18488: 'robbing', 18489: 'herring', 18490: 'bamboos', 18491: 'hiccup', 18492: 'colourful', 18493: 'knockers', 18494: 'apologetic', 18495: 'beem', 18496: 'doughnuts', 18497: 'tooken', 18498: 'booking', 18499: 'bigandheavy', 18500: 'wedgie', 18501: 'shifty', 18502: 'gatll', 18503: 'jackers', 18504: 'rapside', 18505: 'crackside', 18506: 'backside', 18507: 'rests', 18508: 'misdeameanor', 18509: 'bluntsip', 18510: 'miniute', 18511: 'chorusrepeat', 18512: 'playinknow', 18513: 'paidim', 18514: 'everybodymove', 18515: 'chakai', 18516: 'hairry', 18517: 'sadeooooh', 18518: 'bonesme', 18519: 'snuffed', 18520: 'flipout', 18521: 'amped', 18522: 'sunrays', 18523: 'baldhead', 18524: 'oneohsix', 18525: 'oneoheight', 18526: 'onetothehundredeleventh', 18527: 'shank', 18528: 'sadats', 18529: 'knowwwwww', 18530: 'spurts', 18531: 'papichulo', 18532: 'stouts', 18533: 'landspread', 18534: 'matteo', 18535: 'llello', 18536: 'excels', 18537: 'jailcells', 18538: 'smackin', 18539: 'christening', 18540: 'popya', 18541: 'slinger', 18542: 'hiv', 18543: 'twinkie', 18544: 'villian', 18545: 'arnold', 18546: 'thod', 18547: 'hominy', 18548: 'asswhippin', 18549: 'shaolin', 18550: 'sixshooter', 18551: 'olde', 18552: 'dickens', 18553: 'placenta', 18554: 'unloads', 18555: 'stickup', 18556: 'irritatin', 18557: 'avalanches', 18558: 'mantis', 18559: 'headpiece', 18560: 'sipper', 18561: 'lightswitch', 18562: 'collected', 18563: 'techniques', 18564: 'buttcheeks', 18565: 'jheri', 18566: 'pocketbooks', 18567: 'rolexes', 18568: 'hungrys', 18569: 'cece', 18570: 'anoint', 18571: 'measuring', 18572: 'benzito', 18573: 'mannys', 18574: 'cleats', 18575: 'decease', 18576: 'mwa', 18577: 'fiftyfour', 18578: 'steers', 18579: 'respirator', 18580: 'escalator', 18581: 'tempts', 18582: 'fuschia', 18583: 'weighters', 18584: 'borough', 18585: 'reminesce', 18586: 'fattest', 18587: 'dana', 18588: 'darkskin', 18589: 'dedicatin', 18590: 'sparkin', 18591: 'daydreams', 18592: 'whyd', 18593: 'thirtyeight', 18594: 'flatops', 18595: 'doobies', 18596: 'bricklayers', 18597: 'bedfordstuyvesant', 18598: 'clucking', 18599: 'damagin', 18600: 'gie', 18601: 'heatseeking', 18602: 'saute', 18603: 'icepicks', 18604: 'hardhardcore', 18605: 'chromefu', 18606: 'nex', 18607: 'gangthight', 18608: 'gettho', 18609: 'steven', 18610: 'gazelle', 18611: 'jellies', 18612: 'skelly', 18613: 'barbeques', 18614: 'lifin', 18615: 'cocoa', 18616: 'leaveio', 18617: 'kungfu', 18618: 'scrappin', 18619: 'jumpshot', 18620: 'shottie', 18621: 'identify', 18622: 'cookouts', 18623: 'brookland', 18624: 'crotched', 18625: 'lugers', 18626: 'rugers', 18627: 'diets', 18628: 'tyanna', 18629: 'halfamen', 18630: 'teamand', 18631: 'freemen', 18632: 'toolies', 18633: 'moolies', 18634: 'woolies', 18635: 'grandmothers', 18636: 'windin', 18637: 'moonlights', 18638: 'shotsll', 18639: 'carte', 18640: 'clams', 18641: 'mussels', 18642: 'pendejos', 18643: 'briefcase', 18644: 'fourteenfive', 18645: 'onepointfive', 18646: 'arab', 18647: 'sitch', 18648: 'wombed', 18649: 'lexi', 18650: 'killah', 18651: 'cortex', 18652: 'gourmet', 18653: 'trimmers', 18654: 'spenders', 18655: 'powerfully', 18656: 'whyknahmean', 18657: 'wut', 18658: 'trep', 18659: 'dept', 18660: 'gona', 18661: 'snooxe', 18662: 'howda', 18663: 'flawlet', 18664: 'gss', 18665: 'bbs', 18666: 'skeems', 18667: 'carjack', 18668: 'brun', 18669: 'splat', 18670: 'callable', 18671: 'circumfrence', 18672: 'noochies', 18673: 'vestes', 18674: 'coochies', 18675: 'oozie', 18676: 'belize', 18677: 'lali', 18678: 'cami', 18679: 'cyber', 18680: 'supres', 18681: 'chope', 18682: 'spurtin', 18683: 'lawf', 18684: 'cousrse', 18685: 'thys', 18686: 'utincils', 18687: 'oriental', 18688: 'putcho', 18689: 'outcho', 18690: 'hiddn', 18691: 'forbidin', 18692: 'beeotch', 18693: 'cumin', 18694: 'eyeses', 18695: 'barmitzvahs', 18696: 'quickie', 18697: 'flutes', 18698: 'caint', 18699: 'bedfordstuyverson', 18700: 'cluckin', 18701: 'bandaging', 18702: 'heatseekin', 18703: 'teachin', 18704: 'wacko', 18705: 'huntedi', 18706: 'sautee', 18707: 'caucausians', 18708: 'carweed', 18709: 'saidhi', 18710: 'procced', 18711: 'vic', 18712: 'removers', 18713: 'puppies', 18714: 'cartwheel', 18715: 'bucktown', 18716: 'earings', 18717: 'antartic', 18718: 'meshed', 18719: 'greams', 18720: 'tustle', 18721: 'mediocre', 18722: 'hampers', 18723: 'thurough', 18724: 'squirels', 18725: 'rollem', 18726: 'plucked', 18727: 'ez', 18728: 'barly', 18729: 'threes', 18730: 'girbauds', 18731: 'merrygo', 18732: 'mpv', 18733: 'wutang', 18734: 'methoh', 18735: 'mackadocious', 18736: 'banged', 18737: 'classified', 18738: 'shoops', 18739: 'interrupted', 18740: 'doorbell', 18741: 'fourfifth', 18742: 'hooptie', 18743: 'drock', 18744: 'heckler', 18745: 'koch', 18746: 'exchanged', 18747: 'plymouth', 18748: 'soloist', 18749: 'sticked', 18750: 'grandmama', 18751: 'lefty', 18752: 'bullies', 18753: 'abusers', 18754: 'patruise', 18755: 'muse', 18756: 'contraception', 18757: 'conceptions', 18758: 'rubberband', 18759: 'brooklyns', 18760: 'duets', 18761: 'scoping', 18762: 'selected', 18763: 'headll', 18764: 'flexible', 18765: 'remis', 18766: 'ssi', 18767: 'cribo', 18768: 'popularity', 18769: 'steaks', 18770: 'symps', 18771: 'kis', 18772: 'buckshots', 18773: 'rodeos', 18774: 'unorthodox', 18775: 'fourfifths', 18776: 'cemetary', 18777: 'fistskill', 18778: 'doodoo', 18779: 'remover', 18780: 'hahhh', 18781: 'gravedigga', 18782: 'fatass', 18783: 'amuck', 18784: 'swellin', 18785: 'steez', 18786: 'macing', 18787: 'slacking', 18788: 'golddiggers', 18789: 'jiggas', 18790: 'hiltons', 18791: 'thrillons', 18792: 'attracting', 18793: 'dividence', 18794: 'tipping', 18795: 'tanguray', 18796: 'milo', 18797: 'leek', 18798: 'blinkers', 18799: 'aes', 18800: 'acs', 18801: 'sayd', 18802: 'stroam', 18803: 'eastcoast', 18804: 'newbian', 18805: 'bches', 18806: 'oneonone', 18807: 'fking', 18808: 'hickeys', 18809: 'bejust', 18810: 'bigchant', 18811: 'doggytyle', 18812: 'hundredandtwo', 18813: 'intrrupted', 18814: 'taisha', 18815: 'dopefiend', 18816: 'crackfiend', 18817: 'eyewitness', 18818: 'bivins', 18819: 'neneh', 18820: 'witchou', 18821: 'hitcha', 18822: 'chickenhead', 18823: 'flomps', 18824: 'korean', 18825: 'peein', 18826: 'brattattat', 18827: 'hestiation', 18828: 'eulogy', 18829: 'brattattattat', 18830: 'platinuim', 18831: 'pledging', 18832: 'sosodef', 18833: 'barbayed', 18834: 'parkade', 18835: 'bside', 18836: 'starters', 18837: 'sixtynine', 18838: 'trialed', 18839: 'stylistic', 18840: 'ojays', 18841: 'paula', 18842: 'scalin', 18843: 'nautica', 18844: 'canape', 18845: 'hennesey', 18846: 'visualized', 18847: 'tianna', 18848: 'rendevouz', 18849: 'vasquez', 18850: 'shitd', 18851: 'happennin', 18852: 'ruptured', 18853: 'spleens', 18854: 'incarcerated', 18855: 'dibby', 18856: 'boogey', 18857: 'whatta', 18858: 'eightyseven', 18859: 'seeseventyfour', 18860: 'hahahahaha', 18861: 'previously', 18862: 'unfinished', 18863: 'spock', 18864: 'mmmhmmmmmm', 18865: 'prestigious', 18866: 'releases', 18867: 'snatches', 18868: 'halfass', 18869: 'barrels', 18870: 'chestplate', 18871: 'brownnose', 18872: 'crowbar', 18873: 'pyros', 18874: 'sheisty', 18875: 'concurrent', 18876: 'baybayy', 18877: 'onetwos', 18878: 'cees', 18879: 'branson', 18880: 'lampin', 18881: 'wizzard', 18882: 'fragilla', 18883: 'adolescents', 18884: 'spofford', 18885: 'injuries', 18886: 'han', 18887: 'egoes', 18888: 'seethreepos', 18889: 'whoopyoassday', 18890: 'blower', 18891: 'unpretty', 18892: 'jeeezus', 18893: 'whatsyourname', 18894: 'extortin', 18895: 'scorchin', 18896: 'forcin', 18897: 'matador', 18898: 'fairing', 18899: 'hmmmm', 18900: 'moo', 18901: 'lah', 18902: 'consume', 18903: 'vibin', 18904: 'repeatedly', 18905: 'tele', 18906: 'washer', 18907: 'tasha', 18908: 'acceptin', 18909: 'underdogs', 18910: 'junkin', 18911: 'sucesss', 18912: 'kel', 18913: 'steppers', 18914: 'fiesta', 18915: 'restoration', 18916: 'arrangements', 18917: 'begain', 18918: 'saaaved', 18919: 'wooooooh', 18920: 'keri', 18921: 'kells', 18922: 'satify', 18923: 'chemistry', 18924: 'thatttt', 18925: 'yeahy', 18926: 'ahahah', 18927: 'apologise', 18928: 'fornicate', 18929: 'triflin', 18930: 'milton', 18931: 'everylittlesinglething', 18932: 'abscam', 18933: 'automatically', 18934: 'disneyland', 18935: 'masturbating', 18936: 'colorful', 18937: 'terminal', 18938: 'votre', 18939: 'aback', 18940: 'miko', 18941: 'appeals', 18942: 'systematic', 18943: 'overthrow', 18944: 'underclass', 18945: 'conjures', 18946: 'spiritually', 18947: 'trippy', 18948: 'funkiest', 18949: 'truely', 18950: 'psyche', 18951: 'unnerve', 18952: 'acceleration', 18953: 'temporal', 18954: 'continuum', 18955: 'gangk', 18956: 'funkier', 18957: 'barbarella', 18958: 'fascinating', 18959: 'bartholomew', 18960: 'nite', 18961: 'kooky', 18962: 'mpls', 18963: 'nucleus', 18964: 'chantez', 18965: 'heifer', 18966: 'squirreled', 18967: 'measures', 18968: 'dippy', 18969: 'muerto', 18970: 'courtship', 18971: 'defendant', 18972: 'opaque', 18973: 'braved', 18974: 'closly', 18975: 'resemblance', 18976: 'wayward', 18977: 'jailhouse', 18978: 'hastiness', 18979: 'bribing', 18980: 'tiring', 18981: 'excusing', 18982: 'pretendings', 18983: 'provocative', 18984: 'combining', 18985: 'persist', 18986: 'statio', 18987: 'agrees', 18988: 'grandsons', 18989: 'kink', 18990: 'completed', 18991: 'depleted', 18992: 'ostentatious', 18993: 'emolicious', 18994: 'hungered', 18995: 'creatin', 18996: 'manfully', 18997: 'reverence', 18998: 'kindhearted', 18999: 'gc', 19000: 'hovering', 19001: 'oughtta', 19002: 'desirable', 19003: 'disregarding', 19004: 'quieted', 19005: 'surprisin', 19006: 'severance', 19007: 'beauti', 19008: 'preparest', 19009: 'volkswagen', 19010: 'tuslin', 19011: 'hathaway', 19012: 'professed', 19013: 'snaps', 19014: 'monogram', 19015: 'intruded', 19016: 'footballer', 19017: 'condescend', 19018: 'plagued', 19019: 'allude', 19020: 'empathize', 19021: 'frustrated', 19022: 'cleverer', 19023: 'unkindly', 19024: 'emulate', 19025: 'demostrate', 19026: 'freudian', 19027: 'agression', 19028: 'finale', 19029: 'overreact', 19030: 'infidelity', 19031: 'buzzers', 19032: 'wordland', 19033: 'strangely', 19034: 'horseshoe', 19035: 'unfamiliar', 19036: 'surroundings', 19037: 'subconsciously', 19038: 'ached', 19039: 'distress', 19040: 'footballers', 19041: 'caned', 19042: 'overpowers', 19043: 'uplift', 19044: 'pacifies', 19045: 'sighed', 19046: 'surprisingly', 19047: 'ogling', 19048: 'engagement', 19049: 'extravagant', 19050: 'camden', 19051: 'parkway', 19052: 'samba', 19053: 'sways', 19054: 'sadly', 19055: 'batt', 19056: 'ies', 19057: 'loooong', 19058: 'innit', 19059: 'looooooooooooooong', 19060: 'recharged', 19061: 'loooooooooong', 19062: 'scenarios', 19063: 'perceptive', 19064: 'whisk', 19065: 'lovebird', 19066: 'suppertime', 19067: 'contenting', 19068: 'searches', 19069: 'unsurprisingly', 19070: 'smittens', 19071: 'excites', 19072: 'cult', 19073: 'petit', 19074: 'vulcan', 19075: 'eruptions', 19076: 'pedaling', 19077: 'morsecoding', 19078: 'pulsate', 19079: 'hibernating', 19080: 'unpolished', 19081: 'flickering', 19082: 'bearer', 19083: 'radiance', 19084: 'scrabbles', 19085: 'scrubs', 19086: 'pinches', 19087: 'glues', 19088: 'glided', 19089: 'sows', 19090: 'dabbling', 19091: 'andar', 19092: 'kemur', 19093: 'fylgir', 19094: 'telur', 19095: 'siglir', 19096: 'unhealable', 19097: 'lickel', 19098: 'sj', 19099: 'lvar', 19100: 'sasar', 19101: 'sshh', 19102: 'slumberless', 19103: 'numberless', 19104: 'cutlery', 19105: 'crystals', 19106: 'mimic', 19107: 'equalize', 19108: 'chisel', 19109: 'octagon', 19110: 'polygon', 19111: 'crystallizing', 19112: 'suggesting', 19113: 'beautifulest', 19114: 'fragilest', 19115: 'littleness', 19116: 'invents', 19117: 'habitants', 19118: 'liberates', 19119: 'wanderland', 19120: 'forges', 19121: 'scanscanscan', 19122: 'sksksksksksk', 19123: 'skskskskksksks', 19124: 'brrbrbrbbbrbrehheee', 19125: 'eran', 19126: 'tibble', 19127: 'aleeeyha', 19128: 'ohrwaaa', 19129: 'ohwaa', 19130: 'wawawawa', 19131: 'ideedeedoo', 19132: 'yehaaa', 19133: 'unsenononah', 19134: 'leeee', 19135: 'aheeeeee', 19136: 'howwwooooooooeeeeeee', 19137: 'geeeeeeeheeheeeeeeee', 19138: 'amweee', 19139: 'eeeeeee', 19140: 'howwwwwwweeeeeeeeeee', 19141: 'heeeeheeeeeeeeeeeeee', 19142: 'owwooooeeeeioioeeeee', 19143: 'carten', 19144: 'sahkahhh', 19145: 'frawww', 19146: 'ohtuuuuekeah', 19147: 'yahhh', 19148: 'handeeeeeeey', 19149: 'seeeeeooheeeee', 19150: 'howweeeeeeeee', 19151: 'howweeeeeeeeeeeeeeee', 19152: 'howweeeeeeeeee', 19153: 'weeeeeeeeeeeee', 19154: 'lynx', 19155: 'hawks', 19156: 'stingrays', 19157: 'eeeeeemmmmm', 19158: 'paratroopers', 19159: 'sharpshooters', 19160: 'skeptics', 19161: 'ferocity', 19162: 'mudgraves', 19163: 'canoneers', 19164: 'steamroller', 19165: 'froth', 19166: 'imagines', 19167: 'dominant', 19168: 'irregularly', 19169: 'barnacles', 19170: 'tectonic', 19171: 'seasonal', 19172: 'fingernail', 19173: 'persists', 19174: 'nuance', 19175: 'eurasian', 19176: 'subsumed', 19177: 'nestle', 19178: 'deli', 19179: 'owowow', 19180: 'sabotage', 19181: 'marvellous', 19182: 'foetus', 19183: 'turtleheart', 19184: 'transmutates', 19185: 'explosives', 19186: 'bravely', 19187: 'teepee', 19188: 'lioness', 19189: 'beautifulness', 19190: 'lukewarm', 19191: 'rinsed', 19192: 'nourished', 19193: 'healthiest', 19194: 'miserably', 19195: 'realign', 19196: 'ails', 19197: 'grandson', 19198: 'review', 19199: 'whiskers', 19200: 'kettles', 19201: 'woolen', 19202: 'strudels', 19203: 'doorbells', 19204: 'sleighbells', 19205: 'schnitzel', 19206: 'blaster', 19207: 'curiously', 19208: 'provocation', 19209: 'bakery', 19210: 'arrives', 19211: 'offending', 19212: 'tommorow', 19213: 'bothsweet', 19214: 'tak', 19215: 'takt', 19216: 'trega', 19217: 'chasteness', 19218: 'hoarseness', 19219: 'cruelest', 19220: 'unnecessarily', 19221: 'discipliner', 19222: 'domestically', 19223: 'spatial', 19224: 'compress', 19225: 'repressed', 19226: 'voluntarily', 19227: 'ertu', 19228: 'vakandi', 19229: 'dreymdi', 19230: 'draum', 19231: 'thig', 19232: 'datt', 19233: 'framr', 19234: 'trufladi', 19235: 'drottning', 19236: 'hrri', 19237: 'hll', 19238: 'hljmsveitin', 19239: 'lfar', 19240: 'trll', 19241: 'lk', 19242: 'thr', 19243: 'sng', 19244: 'senn', 19245: 'strfengleg', 19246: 'trllin', 19247: 'brdu', 19248: 'bumburnar', 19249: 'blmlfar', 19250: 'lku', 19251: 'flauturnar', 19252: 'fidlurnar', 19253: 'mennskir', 19254: 'mendln', 19255: 'allir', 19256: 'mndum', 19257: 'blm', 19258: 'slin', 19259: 'skn', 19260: 'thnum', 19261: 'fadmi', 19262: 'gjafir', 19263: 'flugu', 19264: 'allt', 19265: 'flestum', 19266: 'gekk', 19267: 'vel', 19268: 'gripa', 19269: 'sitt', 19270: 'gladur', 19271: 'ndi', 19272: 'fljtt', 19273: 'stll', 19274: 'steig', 19275: 'tpt', 19276: 'valt', 19277: 'lysti', 19278: 'gamli', 19279: 'gtusld', 19280: 'gladleg', 19281: 'leitar', 19282: 'leid', 19283: 'leiti', 19284: 'hanns', 19285: 'beid', 19286: 'unnendum', 19287: 'tfraljma', 19288: 'slr', 19289: 'bidilsbuxum', 19290: 'brtt', 19291: 'lnu', 19292: 'svar', 19293: 'vard', 19294: 'hyr', 19295: 'br', 19296: 'drtti', 19297: 'mdir', 19298: 'tti', 19299: 'gskid', 19300: 'lknrinn', 19301: 'sttur', 19302: 'fetched', 19303: 'loksins', 19304: 'dttur', 19305: 'thd', 19306: 'pabbi', 19307: 'sjalfur', 19308: 'sjnum', 19309: 'alltaf', 19310: 'hlfur', 19311: 'lengur', 19312: 'sagt', 19313: 'fyrst', 19314: 'sleginn', 19315: 'seinna', 19316: 'feginn', 19317: 'relieved', 19318: 'fyrr', 19319: 'vardi', 19320: 'hver', 19321: 'strkur', 19322: 'stardi', 19323: 'stelpur', 19324: 'nots', 19325: 'fru', 19326: 'sgdu', 19327: 'sorglega', 19328: 'stygg', 19329: 'trygg', 19330: 'hygg', 19331: 'lrdi', 19332: 'bernsku', 19333: 'blikka', 19334: 'finni', 19335: 'ensku', 19336: 'min', 19337: 'sngrdd', 19338: 'vestur', 19339: 'landi', 19340: 'hjnabandi', 19341: 'sorglegt', 19342: 'fyrir', 19343: 'sidprda', 19344: 'lagdi', 19345: 'sinn', 19346: 'vana', 19347: 'elska', 19348: 'amerkana', 19349: 'kyssti', 19350: 'illt', 19351: 'efni', 19352: 'damla', 19353: 'svefni', 19354: 'reyndist', 19355: 'ramm', 19356: 'sem', 19357: 'sdist', 19358: 'islenska', 19359: 'nnur', 19360: 'ldin', 19361: 'dansa', 19362: 'kt', 19363: 'kvldin', 19364: 'thiy', 19365: 'kalla', 19366: 'piltarnir', 19367: 'segja', 19368: 'setydir', 19369: 'blossandi', 19370: 'thvlkt', 19371: 'hnoss', 19372: 'likkle', 19373: 'bruke', 19374: 'hobos', 19375: 'hookas', 19376: 'caan', 19377: 'notin', 19378: 'nyaam', 19379: 'mutton', 19380: 'dehso', 19381: 'unnu', 19382: 'sey', 19383: 'licke', 19384: 'warzone', 19385: 'veces', 19386: 'perdido', 19387: 'inquieto', 19388: 'confundido', 19389: 'entonces', 19390: 'ato', 19391: 'entero', 19392: 'doy', 19393: 'vueltas', 19394: 'oreja', 19395: 'nena', 19396: 'llega', 19397: 'sideway', 19398: 'cantas', 19399: 'herido', 19400: 'sentido', 19401: 'mhum', 19402: 'daydreamin', 19403: 'amazement', 19404: 'verify', 19405: 'convinces', 19406: 'stability', 19407: 'impostor', 19408: 'prosecute', 19409: 'freezes', 19410: 'flatten', 19411: 'hussein', 19412: 'warriorz', 19413: 'skullies', 19414: 'timmies', 19415: 'spics', 19416: 'giddies', 19417: 'unphased', 19418: 'shreddin', 19419: 'liza', 19420: 'minelli', 19421: 'gritty', 19422: 'camille', 19423: 'steadman', 19424: 'evans', 19425: 'kimora', 19426: 'catherine', 19427: 'painfully', 19428: 'limitation', 19429: 'bck', 19430: 'reverie', 19431: 'collabo', 19432: 'splain', 19433: 'adores', 19434: 'flacko', 19435: 'fictionalize', 19436: 'dryest', 19437: 'shares', 19438: 'perfected', 19439: 'hesitant', 19440: 'slither', 19441: 'possessing', 19442: 'meander', 19443: 'inciting', 19444: 'undying', 19445: 'barrow', 19446: 'woos', 19447: 'gumboot', 19448: 'armchair', 19449: 'winging', 19450: 'evolution', 19451: 'contribution', 19452: 'chairman', 19453: 'mao', 19454: 'submarines', 19455: 'boatswain', 19456: 'mattered', 19457: 'cornflake', 19458: 'policeman', 19459: 'policemen', 19460: 'crabalocker', 19461: 'fishwife', 19462: 'priestess', 19463: 'maintains', 19464: 'texpert', 19465: 'sty', 19466: 'snide', 19467: 'semolina', 19468: 'pilchard', 19469: 'penguin', 19470: 'krishna', 19471: 'edgar', 19472: 'servicible', 19473: 'diverted', 19474: 'inverted', 19475: 'alerted', 19476: 'blackburn', 19477: 'lancashire', 19478: 'motorcar', 19479: 'roundabout', 19480: 'aaaaaahhhhhh', 19481: 'aaaaaaaahhhh', 19482: 'aaaaaaahhhh', 19483: 'aaaaahhhhhhhhhh', 19484: 'marshmallow', 19485: 'incredibly', 19486: 'taxis', 19487: 'plasticine', 19488: 'porters', 19489: 'turnstile', 19490: 'tacks', 19491: 'cocker', 19492: 'spaniel', 19493: 'laundromat', 19494: 'shears', 19495: 'lup', 19496: 'brotherhood', 19497: 'hideaway', 19498: 'stoney', 19499: 'walter', 19500: 'raleigh', 19501: 'sheepdog', 19502: 'jackknife', 19503: 'wigwam', 19504: 'boac', 19505: 'peaked', 19506: 'balalaika', 19507: 'comrade', 19508: 'jobber', 19509: 'paramucho', 19510: 'defelice', 19511: 'pararazzi', 19512: 'ferdy', 19513: 'cuesto', 19514: 'obrigado', 19515: 'tanta', 19516: 'mucho', 19517: 'jackboots', 19518: 'kilt', 19519: 'hilt', 19520: 'attractively', 19521: 'bellyful', 19522: 'arriving', 19523: 'latches', 19524: 'magill', 19525: 'showdown', 19526: 'daniel', 19527: 'revival', 19528: 'pataphysical', 19529: 'majoring', 19530: 'joa', 19531: 'oan', 19532: 'annoyed', 19533: 'sce', 19534: 'testimonial', 19535: 'litigate', 19536: 'sherif', 19537: 'thas', 19538: 'thit', 19539: 'siter', 19540: 'hhh', 19541: 'triumphantly', 19542: 'gonn', 19543: 'sacrafice', 19544: 'cusp', 19545: 'toured', 19546: 'sitteth', 19547: 'jamdown', 19548: 'smug', 19549: 'lippy', 19550: 'feasible', 19551: 'jeelly', 19552: 'inferior', 19553: 'discredited', 19554: 'citizenship', 19555: 'attained', 19556: 'ignoble', 19557: 'regimes', 19558: 'angola', 19559: 'mozambique', 19560: 'toppled', 19561: 'reflexes', 19562: 'provokin', 19563: 'thema', 19564: 'scramble', 19565: 'bluesing', 19566: 'understang', 19567: 'botheration', 19568: 'duppy', 19569: 'conqueror', 19570: 'catcher', 19571: 'bucka', 19572: 'skankiness', 19573: 'revealed', 19574: 'suckling', 19575: 'diba', 19576: 'groover', 19577: 'arder', 19578: 'inthis', 19579: 'downpression', 19580: 'bilyabong', 19581: 'marcus', 19582: 'garvey', 19583: 'bogle', 19584: 'brooh', 19585: 'innocency', 19586: 'yeha', 19587: 'dumpy', 19588: 'gorgon', 19589: 'guine', 19590: 'gog', 19591: 'collective', 19592: 'surety', 19593: 'budgies', 19594: 'asphalt', 19595: 'barriers', 19596: 'sufferation', 19597: 'refugees', 19598: 'lamentation', 19599: 'rythmn', 19600: 'lan', 19601: 'pression', 19602: 'transgression', 19603: 'expresses', 19604: 'haile', 19605: 'feareful', 19606: 'rastman', 19607: 'cize', 19608: 'shanking', 19609: 'skankers', 19610: 'skanky', 19611: 'dung', 19612: 'ziya', 19613: 'loo', 19614: 'ste', 19615: 'peh', 19616: 'afri', 19617: 'forefather', 19618: 'twinklin', 19619: 'dideh', 19620: 'eth', 19621: 'mystics', 19622: 'gwan', 19623: 'yaga', 19624: 'dreadies', 19625: 'educate', 19626: 'continually', 19627: 'graduatin', 19628: 'wohoo', 19629: 'scouldn', 19630: 'sodomy', 19631: 'wunna', 19632: 'null', 19633: 'overstated', 19634: 'letdown', 19635: 'ul', 19636: 'dhc', 19637: 'linear', 19638: 'craziest', 19639: 'unglued', 19640: 'crypt', 19641: 'oversensitive', 19642: 'misled', 19643: 'adults', 19644: 'unsafe', 19645: 'warnings', 19646: 'pauses', 19647: 'curlers', 19648: 'rehabilitating', 19649: 'journeys', 19650: 'iit', 19651: 'absentminded', 19652: 'gameface', 19653: 'insider', 19654: 'resignation', 19655: 'lipped', 19656: 'frat', 19657: 'ska', 19658: 'iwise', 19659: 'narrowing', 19660: 'misleading', 19661: 'unicorns', 19662: 'brownie', 19663: 'cellphone', 19664: 'repaired', 19665: 'delusions', 19666: 'humboldt', 19667: 'dumpster', 19668: 'sedan', 19669: 'pigtails', 19670: 'josie', 19671: 'gulped', 19672: 'painkiller', 19673: 'cutout', 19674: 'flatscreen', 19675: 'hazards', 19676: 'differing', 19677: 'searchlights', 19678: 'pillbox', 19679: 'ontiac', 19680: 'utterflies', 19681: 'urning', 19682: 'arsenic', 19683: 'insi', 19684: 'ide', 19685: 'cupboards', 19686: 'roost', 19687: 'campaigns', 19688: 'collecting', 19689: 'mayo', 19690: 'tissues', 19691: 'woofers', 19692: 'distorting', 19693: 'candlerock', 19694: 'applying', 19695: 'eyeshadow', 19696: 'chore', 19697: 'quaking', 19698: 'summons', 19699: 'contemplations', 19700: 'tokens', 19701: 'grains', 19702: 'shipping', 19703: 'freighters', 19704: 'darkening', 19705: 'karaoke', 19706: 'bosphorus', 19707: 'cyborg', 19708: 'canadians', 19709: 'americans', 19710: 'jumpsuits', 19711: 'moto', 19712: 'guzzi', 19713: 'removal', 19714: 'components', 19715: 'adding', 19716: 'grooming', 19717: 'sultan', 19718: 'selflessly', 19719: 'heaviest', 19720: 'ripening', 19721: 'sacramento', 19722: 'freeways', 19723: 'quickens', 19724: 'thickens', 19725: 'deadlines', 19726: 'unbolt', 19727: 'unfasten', 19728: 'inventing', 19729: 'contraptions', 19730: 'verdi', 19731: 'emperors', 19732: 'pentagram', 19733: 'feisty', 19734: 'simpler', 19735: 'dented', 19736: 'commuters', 19737: 'ringle', 19738: 'cancers', 19739: 'scoot', 19740: 'serrated', 19741: 'ziplock', 19742: 'unlocked', 19743: 'breezeway', 19744: 'sickly', 19745: 'uneven', 19746: 'snores', 19747: 'rubbernecker', 19748: 'sorcers', 19749: 'mercies', 19750: 'piecemeal', 19751: 'marking', 19752: 'mortar', 19753: 'resisted', 19754: 'slaughters', 19755: 'antlers', 19756: 'murky', 19757: 'polyester', 19758: 'pinstriped', 19759: 'stargazers', 19760: 'stockbrokers', 19761: 'architects', 19762: 'loaves', 19763: 'cement', 19764: 'mixer', 19765: 'glances', 19766: 'jackhammers', 19767: 'adopt', 19768: 'dunking', 19769: 'delegates', 19770: 'etiquette', 19771: 'soundly', 19772: 'snuggie', 19773: 'dougie', 19774: 'pfeiffer', 19775: 'masterpieces', 19776: 'whilen', 19777: 'skippy', 19778: 'lemmi', 19779: 'wrooooong', 19780: 'inglewood', 19781: 'troublesome', 19782: 'ooooooooohhhhhhhhhhh', 19783: 'ooooooooooohhhhhhhhh', 19784: 'oooooooooohhhhhhhhhhhh', 19785: 'ooooooooooohhhhhhhhhhh', 19786: 'razzle', 19787: 'oose', 19788: 'kicker', 19789: 'fistful', 19790: 'swat', 19791: 'goodlookin', 19792: 'bedly', 19793: 'narnia', 19794: 'frankenstein', 19795: 'extraordinary', 19796: 'ru', 19797: 'quiting', 19798: 'rollerskates', 19799: 'anothers', 19800: 'stems', 19801: 'squirter', 19802: 'doctrine', 19803: 'writings', 19804: 'revoked', 19805: 'mustve', 19806: 'youuuu', 19807: 'yooou', 19808: 'bathrooms', 19809: 'acercando', 19810: 'pensarlo', 19811: 'acelera', 19812: 'pulso', 19813: 'gustando', 19814: 'sentidos', 19815: 'pidiendo', 19816: 'tomarlo', 19817: 'apuro', 19818: 'pido', 19819: 'beso', 19820: 'melo', 19821: 'pens', 19822: 'llevo', 19823: 'dando', 19824: 'beba', 19825: 'prueba', 19826: 'cu', 19827: 'nto', 19828: 'cabe', 19829: 'prisa', 19830: 'dar', 19831: 'viaje', 19832: 'empecemos', 19833: 'lento', 19834: 'despu', 19835: 'salvaje', 19836: 'besas', 19837: 'destreza', 19838: 'veo', 19839: 'malicia', 19840: 'delicadeza', 19841: 'belleza', 19842: 'rompecabezas', 19843: 'montarlo', 19844: 'pieza', 19845: 'oye', 19846: 'bendito', 19847: 'bailalo', 19848: 'fonsi', 19849: 'dy', 19850: 'dazing', 19851: 'vulnerable', 19852: 'fondue', 19853: 'lightyear', 19854: 'epic', 19855: 'swaggie', 19856: 'hollas', 19857: 'humbles', 19858: 'disarm', 19859: 'crossroad', 19860: 'gatherin', 19861: 'wisemen', 19862: 'overs', 19863: 'taping', 19864: 'piercings', 19865: 'berb', 19866: 'checkout', 19867: 'suburbs', 19868: 'incline', 19869: 'wiener', 19870: 'prettier', 19871: 'anatomy', 19872: 'biased', 19873: 'fiber', 19874: 'dynamic', 19875: 'duo', 19876: 'remnants', 19877: 'dwindling', 19878: 'wearer', 19879: 'serendipity', 19880: 'quits', 19881: 'pending', 19882: 'slippping', 19883: 'crosslights', 19884: 'frostbite', 19885: 'yoko', 19886: 'ryu', 19887: 'masseuses', 19888: 'lucious', 19889: 'disappoints', 19890: 'olay', 19891: 'anada', 19892: 'vuittons', 19893: 'nineteenth', 19894: 'orbison', 19895: 'injected', 19896: 'hemi', 19897: 'powered', 19898: 'drones', 19899: 'aqueduct', 19900: 'decent', 19901: 'bummers', 19902: 'mumps', 19903: 'unpleasing', 19904: 'sneezing', 19905: 'wheezing', 19906: 'fleshpot', 19907: 'whatnot', 19908: 'earshot', 19909: 'buckshot', 19910: 'dethrone', 19911: 'dictaphone', 19912: 'chaperone', 19913: 'moonstone', 19914: 'wurly', 19915: 'skunked', 19916: 'bombardier', 19917: 'zanzibar', 19918: 'kidnapped', 19919: 'handicap', 19920: 'mousetrap', 19921: 'unsnapped', 19922: 'boardwalk', 19923: 'busin', 19924: 'brunettes', 19925: 'rotated', 19926: 'khe', 19927: 'sahn', 19928: 'viet', 19929: 'cong', 19930: 'saigon', 19931: 'smashin', 19932: 'crossfire', 19933: 'betweens', 19934: 'unfulfilled', 19935: 'texaco', 19936: 'ityou', 19937: 'brigade', 19938: 'strafed', 19939: 'vacations', 19940: 'comforted', 19941: 'temptations', 19942: 'roberts', 19943: 'perrineville', 19944: 'barracks', 19945: 'shortwave', 19946: 'deferment', 19947: 'roadhouse', 19948: 'crates', 19949: 'underway', 19950: 'diner', 19951: 'shaniqua', 19952: 'unrecognizable', 19953: 'faithless', 19954: 'speedway', 19955: 'waynesboro', 19956: 'wrench', 19957: 'randolph', 19958: 'frehold', 19959: 'canteen', 19960: 'espenoza', 19961: 'regional', 19962: 'tex', 19963: 'marion', 19964: 'masturbation', 19965: 'guarding', 19966: 'unemployment', 19967: 'agency', 19968: 'operators', 19969: 'roarin', 19970: 'carvin', 19971: 'muriel', 19972: 'smote', 19973: 'drownded', 19974: 'brambles', 19975: 'unatoned', 19976: 'bloomindales', 19977: 'iovine', 19978: 'chargin', 19979: 'hardness', 19980: 'mistery', 19981: 'uncovered', 19982: 'romeos', 19983: 'shoutin', 19984: 'unfurls', 19985: 'barges', 19986: 'lumber', 19987: 'duded', 19988: 'coonskin', 19989: 'pretenders', 19990: 'blesses', 19991: 'danceas', 19992: 'inspirin', 19993: 'sump', 19994: 'bursted', 19995: 'heaton', 19996: 'scarfer', 19997: 'taconite', 19998: 'limestone', 19999: 'smokestacks', 20000: 'hio', 20001: 'monongaleh', 20002: 'mesabi', 20003: 'appalacchia', 20004: 'rangers', 20005: 'maximum', 20006: 'lawmen', 20007: 'assembled', 20008: 'exxon', 20009: 'unseen', 20010: 'backstreet', 20011: 'refusal', 20012: 'angeline', 20013: 'dynamo', 20014: 'belfry', 20015: 'woolworth', 20016: 'slashed', 20017: 'dud', 20018: 'blacktop', 20019: 'lineir', 20020: 'meadowlands', 20021: 'rust', 20022: 'tousle', 20023: 'whitewashed', 20024: 'blasts', 20025: 'pretties', 20026: 'nobodies', 20027: 'merrier', 20028: 'bluffs', 20029: 'exta', 20030: 'danj', 20031: 'yeaaaah', 20032: 'lullabies', 20033: 'seansational', 20034: 'penelope', 20035: 'edginess', 20036: 'lush', 20037: 'bulletin', 20038: 'intercontinental', 20039: 'norm', 20040: 'controll', 20041: 'aay', 20042: 'hershey', 20043: 'snicker', 20044: 'stange', 20045: 'clawfoot', 20046: 'noticin', 20047: 'undefined', 20048: 'couples', 20049: 'sabi', 20050: 'vegetables', 20051: 'peepz', 20052: 'butane', 20053: 'misfit', 20054: 'synchronizing', 20055: 'soothes', 20056: 'privates', 20057: 'ceis', 20058: 'mudar', 20059: 'quem', 20060: 'algu', 20061: 'pode', 20062: 'seu', 20063: 'basta', 20064: 'olhar', 20065: 'assustar', 20066: 'perturbar', 20067: 'sentimento', 20068: 'assim', 20069: 'sempre', 20070: 'surpresa', 20071: 'ele', 20072: 'vem', 20073: 'det', 20074: 'chama', 20075: 'acesa', 20076: 'trazer', 20077: 'sensa', 20078: 'doces', 20079: 'emo', 20080: 'novo', 20081: 'prazer', 20082: 'numa', 20083: 'primavera', 20084: 'bobcat', 20085: 'berries', 20086: 'rainstorm', 20087: 'killjoy', 20088: 'coarse', 20089: 'unrefined', 20090: 'alarming', 20091: 'clich', 20092: 'bookshop', 20093: 'beanstalk', 20094: 'ogre', 20095: 'lefou', 20096: 'stale', 20097: 'ruminate', 20098: 'scheherazade', 20099: 'pizzaz', 20100: 'yahoo', 20101: 'maitre', 20102: 'shah', 20103: 'baklava', 20104: 'abracadabra', 20105: 'jawed', 20106: 'bona', 20107: 'fide', 20108: 'affaires', 20109: 'nabob', 20110: 'devotin', 20111: 'worser', 20112: 'fricassee', 20113: 'sturgeon', 20114: 'carp', 20115: 'harp', 20116: 'plaice', 20117: 'chub', 20118: 'fluke', 20119: 'lings', 20120: 'blackfish', 20121: 'blowfish', 20122: 'sardine', 20123: 'beguine', 20124: 'crustacean', 20125: 'tala', 20126: 'descended', 20127: 'journeyed', 20128: 'merfolk', 20129: 'repented', 20130: 'behalf', 20131: 'flocking', 20132: 'ursula', 20133: 'coals', 20134: 'blabber', 20135: 'gossips', 20136: 'dote', 20137: 'flotsam', 20138: 'jetsam', 20139: 'beluga', 20140: 'sevruga', 20141: 'larengix', 20142: 'glaucitis', 20143: 'laryngitis', 20144: 'voce', 20145: 'sepulchral', 20146: 'confiteor', 20147: 'deo', 20148: 'omnipotenti', 20149: 'beatae', 20150: 'mariae', 20151: 'semper', 20152: 'virgini', 20153: 'beato', 20154: 'michaeli', 20155: 'archangelo', 20156: 'apostolis', 20157: 'omnibus', 20158: 'apostles', 20159: 'justly', 20160: 'tibit', 20161: 'pater', 20162: 'licentious', 20163: 'quia', 20164: 'peccavi', 20165: 'nimis', 20166: 'smold', 20167: 'cogitatione', 20168: 'verbo', 20169: 'opere', 20170: 'sear', 20171: 'esmeralda', 20172: 'pyre', 20173: 'uninspiring', 20174: 'hornbills', 20175: 'simba', 20176: 'sash', 20177: 'dally', 20178: 'trimmin', 20179: 'bakerman', 20180: 'claude', 20181: 'purge', 20182: 'solvet', 20183: 'saeclum', 20184: 'favilla', 20185: 'sibylla', 20186: 'quantus', 20187: 'tremor', 20188: 'futurus', 20189: 'judex', 20190: 'venturus', 20191: 'minions', 20192: 'qualm', 20193: 'twinge', 20194: 'indescribable', 20195: 'freewheeling', 20196: 'oohs', 20197: 'ahhs', 20198: 'vahse', 20199: 'riche', 20200: 'pecs', 20201: 'hercie', 20202: 'moxie', 20203: 'thunk', 20204: 'gladiator', 20205: 'tamatoa', 20206: 'decapod', 20207: 'heiney', 20208: 'builds', 20209: 'smoothest', 20210: 'kocoum', 20211: 'undertake', 20212: 'feathering', 20213: 'twine', 20214: 'pursuit', 20215: 'nip', 20216: 'cherie', 20217: 'ragout', 20218: 'souffl', 20219: 'flamb', 20220: 'flair', 20221: 'culinary', 20222: 'flatware', 20223: 'candlesticks', 20224: 'unnerving', 20225: 'rusting', 20226: 'flabby', 20227: 'shoein', 20228: 'piping', 20229: 'prop', 20230: 'ravage', 20231: 'pilfer', 20232: 'filch', 20233: 'maraud', 20234: 'embezzle', 20235: 'char', 20236: 'inflame', 20237: 'rascals', 20238: 'scoundrels', 20239: 'villans', 20240: 'blighters', 20241: 'cads', 20242: 'dads', 20243: 'booleroo', 20244: 'mabob', 20245: 'monkeyin', 20246: 'oobee', 20247: 'humen', 20248: 'inhuman', 20249: 'recipes', 20250: 'waddling', 20251: 'lassoed', 20252: 'harnessed', 20253: 'eel', 20254: 'sprouted', 20255: 'takeaway', 20256: 'breakaway', 20257: 'tickety', 20258: 'madagascar', 20259: 'tessie', 20260: 'java', 20261: 'hannah', 20262: 'rudder', 20263: 'tuppence', 20264: 'ouses', 20265: 'olding', 20266: 'echoing', 20267: 'entreating', 20268: 'saddest', 20269: 'unsuited', 20270: 'defiant', 20271: 'elsa', 20272: 'sweeper', 20273: 'sleeper', 20274: 'warthog', 20275: 'wart', 20276: 'hoooog', 20277: 'downwind', 20278: 'downhearted', 20279: 'pumbaa', 20280: 'voyager', 20281: 'mafanafanaga', 20282: 'saolotoga', 20283: 'tenei', 20284: 'manatunatu', 20285: 'maua', 20286: 'lumanai', 20287: 'malohi', 20288: 'fiafia', 20289: 'malie', 20290: 'ko', 20291: 'koe', 20292: 'pele', 20293: 'fofou', 20294: 'kua', 20295: 'ninimo', 20296: 'toku', 20297: 'ulu', 20298: 'manino', 20299: 'katakata', 20300: 'fakalogo', 20301: 'aue', 20302: 'motunui', 20303: 'taro', 20304: 'misbehaves', 20305: 'stubbornness', 20306: 'derogate', 20307: 'deride', 20308: 'enable', 20309: 'hitching', 20310: 'transformafication', 20311: 'bluer', 20312: 'forbearance', 20313: 'hallmark', 20314: 'needn', 20315: 'gentility', 20316: 'sybil', 20317: 'gwendolyn', 20318: 'maude', 20319: 'disarming', 20320: 'janice', 20321: 'felicia', 20322: 'lydia', 20323: 'dashing', 20324: 'priscilla', 20325: 'millicent', 20326: 'agnes', 20327: 'convivial', 20328: 'dorcas', 20329: 'phyllis', 20330: 'glynis', 20331: 'zuider', 20332: 'savoire', 20333: 'volga', 20334: 'ivan', 20335: 'masque', 20336: 'townswoman', 20337: 'sorest', 20338: 'agonized', 20339: 'scorning', 20340: 'noir', 20341: 'ballot', 20342: 'imps', 20343: 'caucus', 20344: 'raffle', 20345: 'gagne', 20346: 'hesitated', 20347: 'drearier', 20348: 'erwhelm', 20349: 'recovered', 20350: 'bridegroom', 20351: 'shoals', 20352: 'suffuses', 20353: 'unsuspected', 20354: 'gushes', 20355: 'cautions', 20356: 'anodynes', 20357: 'deaden', 20358: 'inquisitor', 20359: 'mouldering', 20360: 'venerable', 20361: 'literature', 20362: 'competitions', 20363: 'plato', 20364: 'sophocles', 20365: 'sappho', 20366: 'beatrice', 20367: 'deified', 20368: 'traverses', 20369: 'volumes', 20370: 'vellum', 20371: 'divinest', 20372: 'starkest', 20373: 'demur', 20374: 'exclusion', 20375: 'selects', 20376: 'obtrude', 20377: 'elegy', 20378: 'behooveth', 20379: 'expound', 20380: 'portico', 20381: 'spectacles', 20382: 'almanac', 20383: 'tankard', 20384: 'brooch', 20385: 'staid', 20386: 'rattles', 20387: 'stealth', 20388: 'gallanter', 20389: 'patriot', 20390: 'plumed', 20391: 'uniforms', 20392: 'stouter', 20393: 'vats', 20394: 'inebriate', 20395: 'inns', 20396: 'landlords', 20397: 'foxglove', 20398: 'renounce', 20399: 'snowy', 20400: 'tippler', 20401: 'robust', 20402: 'dingy', 20403: 'enmity', 20404: 'unreturning', 20405: 'mooring', 20406: 'correspondent', 20407: 'concluded', 20408: 'evenly', 20409: 'blotted', 20410: 'veto', 20411: 'titled', 20412: 'confirmed', 20413: 'legacies', 20414: 'capacious', 20415: 'surfeit', 20416: 'elysium', 20417: 'fortitude', 20418: 'contains', 20419: 'dower', 20420: 'opulence', 20421: 'timidly', 20422: 'befalls', 20423: 'subtracting', 20424: 'diemen', 20425: 'rind', 20426: 'goads', 20427: 'therefrom', 20428: 'graciously', 20429: 'nooks', 20430: 'porcelain', 20431: 'sevres', 20432: 'sustenance', 20433: 'solstice', 20434: 'profaned', 20435: 'commune', 20436: 'deposed', 20437: 'calvaries', 20438: 'baptism', 20439: 'threading', 20440: 'consciously', 20441: 'crowing', 20442: 'bridal', 20443: 'requirement', 20444: 'aught', 20445: 'amplitude', 20446: 'unmentioned', 20447: 'develops', 20448: 'apotheosis', 20449: 'jasmines', 20450: 'nectars', 20451: 'balms', 20452: 'aromatic', 20453: 'bedecked', 20454: 'forswears', 20455: 'antiquity', 20456: 'witchcraft', 20457: 'yieldeth', 20458: 'taketh', 20459: 'addeth', 20460: 'pedigree', 20461: 'chorister', 20462: 'surplice', 20463: 'preaches', 20464: 'noted', 20465: 'clergyman', 20466: 'cordially', 20467: 'confidently', 20468: 'fritters', 20469: 'lethargic', 20470: 'whir', 20471: 'sundered', 20472: 'baronial', 20473: 'platoon', 20474: 'revisiting', 20475: 'regiment', 20476: 'turbaned', 20477: 'circassian', 20478: 'sphere', 20479: 'amulets', 20480: 'accessible', 20481: 'thill', 20482: 'gables', 20483: 'necklaces', 20484: 'jocoser', 20485: 'spangles', 20486: 'dejected', 20487: 'bathed', 20488: 'fete', 20489: 'solemnizes', 20490: 'azure', 20491: 'wordless', 20492: 'transcending', 20493: 'inspecting', 20494: 'chafes', 20495: 'deemed', 20496: 'awaited', 20497: 'delirium', 20498: 'dimly', 20499: 'worshipping', 20500: 'presumptuous', 20501: 'washes', 20502: 'strews', 20503: 'opal', 20504: 'poise', 20505: 'proportioned', 20506: 'dearth', 20507: 'rounder', 20508: 'pasture', 20509: 'rhododendron', 20510: 'contending', 20511: 'kinsman', 20512: 'litigants', 20513: 'retract', 20514: 'pang', 20515: 'swerveless', 20516: 'surrendering', 20517: 'masonry', 20518: 'withstands', 20519: 'consumes', 20520: 'tilts', 20521: 'vanquish', 20522: 'inlaid', 20523: 'presentiment', 20524: 'indicative', 20525: 'leaflets', 20526: 'dell', 20527: 'pods', 20528: 'bates', 20529: 'jargoning', 20530: 'omnifold', 20531: 'inquest', 20532: 'ancestor', 20533: 'bobolinks', 20534: 'dominie', 20535: 'assumption', 20536: 'apartments', 20537: 'condescending', 20538: 'despatched', 20539: 'tufts', 20540: 'thrum', 20541: 'orchestra', 20542: 'beheads', 20543: 'accidental', 20544: 'proceeds', 20545: 'approving', 20546: 'esoteric', 20547: 'sophistries', 20548: 'plausibility', 20549: 'induces', 20550: 'ranks', 20551: 'hurries', 20552: 'emblems', 20553: 'meeker', 20554: 'plumper', 20555: 'gayer', 20556: 'marge', 20557: 'austerity', 20558: 'hoar', 20559: 'lapland', 20560: 'thrives', 20561: 'gnash', 20562: 'tabernacles', 20563: 'dnieper', 20564: 'slant', 20565: 'oppresses', 20566: 'meanings', 20567: 'mitred', 20568: 'evade', 20569: 'insures', 20570: 'footmen', 20571: 'dignified', 20572: 'attendants', 20573: 'loyally', 20574: 'pomp', 20575: 'ermine', 20576: 'escutcheon', 20577: 'crier', 20578: 'doubtful', 20579: 'astra', 20580: 'castra', 20581: 'ushers', 20582: 'bodiless', 20583: 'audiences', 20584: 'chambers', 20585: 'rafter', 20586: 'babbles', 20587: 'arcs', 20588: 'doges', 20589: 'straggled', 20590: 'nonchalance', 20591: 'chrysalis', 20592: 'tightens', 20593: 'degrades', 20594: 'aptitude', 20595: 'concedes', 20596: 'clew', 20597: 'exultation', 20598: 'inland', 20599: 'headlands', 20600: 'intoxication', 20601: 'trilled', 20602: 'churchyard', 20603: 'adjoining', 20604: 'rivet', 20605: 'hasps', 20606: 'adamantine', 20607: 'indolent', 20608: 'sham', 20609: 'feign', 20610: 'illustrious', 20611: 'eclat', 20612: 'funnelled', 20613: 'travellers', 20614: 'cloudier', 20615: 'disclosing', 20616: 'crumbled', 20617: 'permits', 20618: 'promptly', 20619: 'marbles', 20620: 'intrust', 20621: 'wavering', 20622: 'accented', 20623: 'legible', 20624: 'drowsiest', 20625: 'italicized', 20626: 'jostled', 20627: 'unopened', 20628: 'clasped', 20629: 'solemnest', 20630: 'industries', 20631: 'excel', 20632: 'lodge', 20633: 'abasheth', 20634: 'comprehendeth', 20635: 'existences', 20636: 'fastidious', 20637: 'impeach', 20638: 'seeming', 20639: 'swimmers', 20640: 'beseeching', 20641: 'swelling', 20642: 'cornice', 20643: 'mound', 20644: 'surmised', 20645: 'dropt', 20646: 'leverrier', 20647: 'sorer', 20648: 'resurgam', 20649: 'argues', 20650: 'overcoat', 20651: 'impotent', 20652: 'clipt', 20653: 'shyly', 20654: 'marauder', 20655: 'enamoured', 20656: 'scymitar', 20657: 'divest', 20658: 'mayest', 20659: 'captivity', 20660: 'ducats', 20661: 'cravat', 20662: 'reimbursed', 20663: 'burglar', 20664: 'higginson', 20665: 'preface', 20666: 'eagerness', 20667: 'alleged', 20668: 'artificiality', 20669: 'prompt', 20670: 'appreciation', 20671: 'directness', 20672: 'compelling', 20673: 'predecessor', 20674: 'correspondents', 20675: 'suspected', 20676: 'outlive', 20677: 'literary', 20678: 'legatee', 20679: 'executor', 20680: 'cheered', 20681: 'withhold', 20682: 'housemate', 20683: 'copied', 20684: 'fascicules', 20685: 'revision', 20686: 'perplexing', 20687: 'affording', 20688: 'generously', 20689: 'disposal', 20690: 'renderings', 20691: 'rigorous', 20692: 'pruning', 20693: 'subjected', 20694: 'suggestive', 20695: 'sketches', 20696: 'embodied', 20697: 'distinct', 20698: 'dashes', 20699: 'capitals', 20700: 'manuscript', 20701: 'fac', 20702: 'simile', 20703: 'transition', 20704: 'arrange', 20705: 'chronologic', 20706: 'accuracy', 20707: 'accompanying', 20708: 'variation', 20709: 'readings', 20710: 'interference', 20711: 'rendering', 20712: 'impressionist', 20713: 'exacting', 20714: 'fitness', 20715: 'virtually', 20716: 'extrinsic', 20717: 'rhythmical', 20718: 'daringly', 20719: 'unrecognized', 20720: 'scrutinized', 20721: 'frankness', 20722: 'legitimate', 20723: 'sombre', 20724: 'humorously', 20725: 'frivolous', 20726: 'emersonian', 20727: 'unprejudiced', 20728: 'invalid', 20729: 'blossoming', 20730: 'introspective', 20731: 'companionship', 20732: 'monarch', 20733: 'pope', 20734: 'amherst', 20735: 'massachusetts', 20736: 'expectant', 20737: 'livelong', 20738: 'unaccustomed', 20739: 'crackling', 20740: 'essay', 20741: 'bosoms', 20742: 'recedes', 20743: 'unrealized', 20744: 'dips', 20745: 'evades', 20746: 'deploys', 20747: 'pinnace', 20748: 'variety', 20749: 'nurtured', 20750: 'mazarin', 20751: 'perches', 20752: 'gale', 20753: 'abash', 20754: 'chillest', 20755: 'crouch', 20756: 'sated', 20757: 'boasts', 20758: 'anvil', 20759: 'tugs', 20760: 'refining', 20761: 'ores', 20762: 'designated', 20763: 'repudiate', 20764: 'coronet', 20765: 'thirsted', 20766: 'tamarind', 20767: 'territories', 20768: 'bearest', 20769: 'weights', 20770: 'balm', 20771: 'himmaleh', 20772: 'pittances', 20773: 'contested', 20774: 'farthings', 20775: 'coffers', 20776: 'heaped', 20777: 'shriven', 20778: 'wades', 20779: 'stipulate', 20780: 'suffused', 20781: 'twinkled', 20782: 'extant', 20783: 'shrewder', 20784: 'swindled', 20785: 'swindlers', 20786: 'distinctly', 20787: 'apennine', 20788: 'agonizing', 20789: 'incisions', 20790: 'prodigious', 20791: 'supercilious', 20792: 'quarry', 20793: 'pare', 20794: 'horrid', 20795: 'hooting', 20796: 'stanza', 20797: 'neigh', 20798: 'boanerges', 20799: 'pictorial', 20800: 'approached', 20801: 'physician', 20802: 'posthumous', 20803: 'exchequer', 20804: 'negotiation', 20805: 'beguiles', 20806: 'ebbing', 20807: 'havens', 20808: 'homelier', 20809: 'scalding', 20810: 'sabachthani', 20811: 'recited', 20812: 'whets', 20813: 'banquets', 20814: 'vitalizes', 20815: 'faints', 20816: 'ertook', 20817: 'rapt', 20818: 'economical', 20819: 'strangles', 20820: 'poignant', 20821: 'pellet', 20822: 'ampler', 20823: 'coveting', 20824: 'indiaman', 20825: 'kernel', 20826: 'plausibly', 20827: 'requisite', 20828: 'lexington', 20829: 'pronounced', 20830: 'disapproves', 20831: 'disparagement', 20832: 'taunts', 20833: 'microscopes', 20834: 'afflicts', 20835: 'portraits', 20836: 'pedantic', 20837: 'vane', 20838: 'muslin', 20839: 'broadcloth', 20840: 'notelessly', 20841: 'converges', 20842: 'persevered', 20843: 'surer', 20844: 'ungained', 20845: 'endeavoring', 20846: 'stintless', 20847: 'jointed', 20848: 'incautious', 20849: 'potosi', 20850: 'reverently', 20851: 'viands', 20852: 'enfranchised', 20853: 'anecdotes', 20854: 'flaunted', 20855: 'pyrites', 20856: 'zephyr', 20857: 'diligent', 20858: 'importuned', 20859: 'reveille', 20860: 'deposes', 20861: 'manufacturing', 20862: 'entombed', 20863: 'palate', 20864: 'departs', 20865: 'viand', 20866: 'perusal', 20867: 'facilitate', 20868: 'condensed', 20869: 'despatch', 20870: 'cureless', 20871: 'complement', 20872: 'undue', 20873: 'attaches', 20874: 'partaken', 20875: 'relieves', 20876: 'receipt', 20877: 'savory', 20878: 'wending', 20879: 'irritated', 20880: 'anodyne', 20881: 'sauntering', 20882: 'mused', 20883: 'toilsome', 20884: 'minuets', 20885: 'slacker', 20886: 'banquetings', 20887: 'excludes', 20888: 'enamour', 20889: 'maimed', 20890: 'securely', 20891: 'persons', 20892: 'entering', 20893: 'pauper', 20894: 'unfitted', 20895: 'suspecting', 20896: 'laureates', 20897: 'inaudible', 20898: 'bard', 20899: 'quaked', 20900: 'comprised', 20901: 'ambush', 20902: 'ascertain', 20903: 'girt', 20904: 'skirting', 20905: 'unscrutinized', 20906: 'cycles', 20907: 'elected', 20908: 'subterfuge', 20909: 'earths', 20910: 'millionnaire', 20911: 'wealths', 20912: 'buenos', 20913: 'ayre', 20914: 'dominions', 20915: 'commonest', 20916: 'golconda', 20917: 'solaces', 20918: 'purchaser', 20919: 'depreciate', 20920: 'fable', 20921: 'cargoes', 20922: 'insolvent', 20923: 'syntax', 20924: 'verb', 20925: 'pronoun', 20926: 'waded', 20927: 'toiled', 20928: 'pitied', 20929: 'quibble', 20930: 'silenter', 20931: 'neighing', 20932: 'exorcised', 20933: 'peruse', 20934: 'creeds', 20935: 'furnished', 20936: 'clambered', 20937: 'fretted', 20938: 'intermittent', 20939: 'adown', 20940: 'pleasanter', 20941: 'girdle', 20942: 'formerly', 20943: 'moat', 20944: 'mesh', 20945: 'annul', 20946: 'ailed', 20947: 'myriad', 20948: 'signor', 20949: 'deliberate', 20950: 'prosy', 20951: 'chid', 20952: 'fleshly', 20953: 'unmeaning', 20954: 'gentlest', 20955: 'feeblest', 20956: 'waywardest', 20957: 'admonition', 20958: 'rampant', 20959: 'impetuous', 20960: 'household', 20961: 'incites', 20962: 'unworthy', 20963: 'infiniter', 20964: 'propounded', 20965: 'subjugated', 20966: 'supplanted', 20967: 'sprang', 20968: 'topaz', 20969: 'timbrels', 20970: 'sparkled', 20971: 'supremer', 20972: 'feebly', 20973: 'interrupts', 20974: 'reports', 20975: 'quantity', 20976: 'submits', 20977: 'sanctity', 20978: 'repairing', 20979: 'contracting', 20980: 'purposeless', 20981: 'notwithstanding', 20982: 'disdained', 20983: 'suddenness', 20984: 'hues', 20985: 'inspiriting', 20986: 'habiliments', 20987: 'indigo', 20988: 'specimens', 20989: 'discretion', 20990: 'interval', 20991: 'seraphic', 20992: 'vermilion', 20993: 'flippant', 20994: 'fern', 20995: 'untravelled', 20996: 'furtive', 20997: 'shortest', 20998: 'leontodon', 20999: 'iris', 21000: 'batschia', 21001: 'cradles', 21002: 'plied', 21003: 'quaintest', 21004: 'epigea', 21005: 'wakens', 21006: 'crocus', 21007: 'rhodora', 21008: 'reverent', 21009: 'pigmy', 21010: 'vevay', 21011: 'coterie', 21012: 'lustrous', 21013: 'ambuscade', 21014: 'brier', 21015: 'displayed', 21016: 'damask', 21017: 'exeter', 21018: 'attireth', 21019: 'rune', 21020: 'showeth', 21021: 'confiding', 21022: 'disavows', 21023: 'alighting', 21024: 'pleader', 21025: 'dissembler', 21026: 'epicure', 21027: 'betimes', 21028: 'oratorio', 21029: 'jesuit', 21030: 'enchants', 21031: 'decamping', 21032: 'splendor', 21033: 'burmah', 21034: 'bards', 21035: 'emolument', 21036: 'mastered', 21037: 'pianos', 21038: 'mangle', 21039: 'salutes', 21040: 'plumes', 21041: 'acknowledgment', 21042: 'unthinking', 21043: 'evanescence', 21044: 'resonance', 21045: 'adjusts', 21046: 'tunis', 21047: 'axiom', 21048: 'sorcery', 21049: 'burrs', 21050: 'mosses', 21051: 'fir', 21052: 'merchantman', 21053: 'frigates', 21054: 'hempen', 21055: 'presuming', 21056: 'aground', 21057: 'arcturus', 21058: 'computes', 21059: 'stamens', 21060: 'whereas', 21061: 'aforetime', 21062: 'cabinets', 21063: 'zenith', 21064: 'charted', 21065: 'frisk', 21066: 'betides', 21067: 'gaunt', 21068: 'gnashed', 21069: 'effacing', 21070: 'sidewise', 21071: 'rowed', 21072: 'oars', 21073: 'plashless', 21074: 'divides', 21075: 'boggy', 21076: 'unbraiding', 21077: 'cordiality', 21078: 'attended', 21079: 'truffled', 21080: 'tarried', 21081: 'fleeter', 21082: 'tare', 21083: 'vegetation', 21084: 'germ', 21085: 'antedate', 21086: 'hie', 21087: 'intermit', 21088: 'surreptitious', 21089: 'scion', 21090: 'circumspect', 21091: 'contemn', 21092: 'iscariot', 21093: 'ominous', 21094: 'moccason', 21095: 'tidings', 21096: 'whirled', 21097: 'inform', 21098: 'strives', 21099: 'misgives', 21100: 'refrains', 21101: 'adamant', 21102: 'stiffens', 21103: 'reproduce', 21104: 'lingering', 21105: 'occident', 21106: 'wlnd', 21107: 'footless', 21108: 'billow', 21109: 'tremulous', 21110: 'flitting', 21111: 'flurriedly', 21112: 'rarer', 21113: 'scantly', 21114: 'selectly', 21115: 'interchange', 21116: 'portentous', 21117: 'enjoining', 21118: 'notoriety', 21119: 'careers', 21120: 'exigencies', 21121: 'associates', 21122: 'boldest', 21123: 'concisest', 21124: 'repudiates', 21125: 'balking', 21126: 'prohibits', 21127: 'equilibrium', 21128: 'quickened', 21129: 'quartering', 21130: 'jostle', 21131: 'bumblebees', 21132: 'wharf', 21133: 'ravelling', 21134: 'littered', 21135: 'duds', 21136: 'aprons', 21137: 'footlights', 21138: 'bases', 21139: 'theatricals', 21140: 'exhibiting', 21141: 'tortoise', 21142: 'partakes', 21143: 'piers', 21144: 'withes', 21145: 'stalactite', 21146: 'alban', 21147: 'gala', 21148: 'implements', 21149: 'pomposity', 21150: 'quenching', 21151: 'leaping', 21152: 'leopards', 21153: 'tinting', 21154: 'celebrates', 21155: 'ordinance', 21156: 'gradual', 21157: 'enlarging', 21158: 'antiquest', 21159: 'spectral', 21160: 'canticle', 21161: 'typify', 21162: 'remit', 21163: 'furrow', 21164: 'druidic', 21165: 'imperceptibly', 21166: 'lapsed', 21167: 'imperceptible', 21168: 'perfidy', 21169: 'quietness', 21170: 'distilled', 21171: 'sequestered', 21172: 'courteous', 21173: 'harrowing', 21174: 'keel', 21175: 'clasps', 21176: 'chrysolite', 21177: 'obsequies', 21178: 'obviate', 21179: 'seraph', 21180: 'fringed', 21181: 'ravished', 21182: 'evoked', 21183: 'prosaic', 21184: 'incisive', 21185: 'ascetic', 21186: 'bryant', 21187: 'thomson', 21188: 'mesmeric', 21189: 'elves', 21190: 'sentiments', 21191: 'sifts', 21192: 'leaden', 21193: 'sieves', 21194: 'wrinkles', 21195: 'fleeces', 21196: 'stump', 21197: 'harvests', 21198: 'recordless', 21199: 'ruffles', 21200: 'posts', 21201: 'stills', 21202: 'artisans', 21203: 'brigadier', 21204: 'civic', 21205: 'censure', 21206: 'severity', 21207: 'pungent', 21208: 'terse', 21209: 'militant', 21210: 'refreshing', 21211: 'stillest', 21212: 'securest', 21213: 'answering', 21214: 'stirrest', 21215: 'maelstrom', 21216: 'epitaph', 21217: 'broadest', 21218: 'enclose', 21219: 'subsist', 21220: 'export', 21221: 'shutters', 21222: 'reviewed', 21223: 'extremest', 21224: 'pious', 21225: 'voted', 21226: 'tranquilly', 21227: 'hillsides', 21228: 'rambled', 21229: 'repealless', 21230: 'roe', 21231: 'mosaic', 21232: 'forbid', 21233: 'encloses', 21234: 'tucking', 21235: 'exposes', 21236: 'grapple', 21237: 'memorials', 21238: 'entreat', 21239: 'workmanships', 21240: 'notched', 21241: 'interrupting', 21242: 'etchings', 21243: 'repairs', 21244: 'lathed', 21245: 'stiller', 21246: 'gossamer', 21247: 'eider', 21248: 'mong', 21249: 'imperfect', 21250: 'supposition', 21251: 'frontier', 21252: 'nobleness', 21253: 'pelf', 21254: 'imperator', 21255: 'affronted', 21256: 'severer', 21257: 'pompless', 21258: 'lowliest', 21259: 'wends', 21260: 'exalted', 21261: 'spaciously', 21262: 'politeness', 21263: 'acquaintance', 21264: 'chatted', 21265: 'trudging', 21266: 'decays', 21267: 'impetus', 21268: 'challenging', 21269: 'gurgle', 21270: 'bustling', 21271: 'briskly', 21272: 'sprightly', 21273: 'industriousness', 21274: 'pervaded', 21275: 'shortness', 21276: 'carrara', 21277: 'stupidity', 21278: 'dulness', 21279: 'finishing', 21280: 'achase', 21281: 'moonless', 21282: 'startle', 21283: 'erlooking', 21284: 'precedence', 21285: 'footman', 21286: 'prate', 21287: 'preferment', 21288: 'courtier', 21289: 'obsequious', 21290: 'retinue', 21291: 'unblushingly', 21292: 'bravos', 21293: 'bystanders', 21294: 'chastened', 21295: 'propitious', 21296: 'species', 21297: 'beguiling', 21298: 'bustled', 21299: 'moorings', 21300: 'respectful', 21301: 'ascended', 21302: 'requiem', 21303: 'marshalled', 21304: 'courtiers', 21305: 'ruddy', 21306: 'hearth', 21307: 'necromancer', 21308: 'siroccos', 21309: 'chancel', 21310: 'grisly', 21311: 'stopless', 21312: 'neighborhoods', 21313: 'exhaled', 21314: 'denominated', 21315: 'denoted', 21316: 'victors', 21317: 'designate', 21318: 'commoner', 21319: 'ornament', 21320: 'shapeless', 21321: 'unshriven', 21322: 'ranged', 21323: 'orthography', 21324: 'chasten', 21325: 'brooches', 21326: 'pelteth', 21327: 'pittance', 21328: 'subsists', 21329: 'halcyon', 21330: 'luscious', 21331: 'interdicted', 21332: 'venerate', 21333: 'acorn', 21334: 'declines', 21335: 'abhorred', 21336: 'shunned', 21337: 'adversity', 21338: 'savans', 21339: 'criticise', 21340: 'sciences', 21341: 'scholastic', 21342: 'lettres', 21343: 'undeveloped', 21344: 'unveil', 21345: 'befell', 21346: 'heroism', 21347: 'cubits', 21348: 'terribler', 21349: 'coursers', 21350: 'traverse', 21351: 'oppress', 21352: 'devoid', 21353: 'thoroughly', 21354: 'heeding', 21355: 'ashine', 21356: 'accompanied', 21357: 'delinquencies', 21358: 'ecstatically', 21359: 'stealthily', 21360: 'tottered', 21361: 'gasped', 21362: 'sequence', 21363: 'ravelled', 21364: 'reticence', 21365: 'confided', 21366: 'listener', 21367: 'admonished', 21368: 'buckled', 21369: 'babbler', 21370: 'missiles', 21371: 'indebtedness', 21372: 'founds', 21373: 'concomitant', 21374: 'waylaying', 21375: 'reverberation', 21376: 'bleakness', 21377: 'yielded', 21378: 'maize', 21379: 'tilled', 21380: 'lybian', 21381: 'fructified', 21382: 'width', 21383: 'disclosed', 21384: 'enlightening', 21385: 'denote', 21386: 'grayest', 21387: 'consolidates', 21388: 'carbonates', 21389: 'slew', 21390: 'felled', 21391: 'fiercest', 21392: 'neutralized', 21393: 'sapped', 21394: 'ventures', 21395: 'struts', 21396: 'overwhelmed', 21397: 'navies', 21398: 'nevermore', 21399: 'analytic', 21400: 'lapse', 21401: 'banishment', 21402: 'trudge', 21403: 'parlors', 21404: 'omit', 21405: 'disenchantment', 21406: 'fractured', 21407: 'reviled', 21408: 'replenished', 21409: 'beggary', 21410: 'enlarged', 21411: 'earning', 21412: 'arbitrate', 21413: 'thanked', 21414: 'hopper', 21415: 'alpine', 21416: 'hewed', 21417: 'ostensibly', 21418: 'subsequent', 21419: 'presumption', 21420: 'dense', 21421: 'fuzz', 21422: 'absorb', 21423: 'sponges', 21424: 'differ', 21425: 'marrowless', 21426: 'culpabler', 21427: 'unarmed', 21428: 'salubrious', 21429: 'dimity', 21430: 'convictions', 21431: 'abstemiousness', 21432: 'ungrasped', 21433: 'disenthrall', 21434: 'slowest', 21435: 'petite', 21436: 'asketh', 21437: 'neighboring', 21438: 'amiss', 21439: 'patriarch', 21440: 'hooded', 21441: 'reflex', 21442: 'subtraction', 21443: 'softened', 21444: 'citadel', 21445: 'undermined', 21446: 'bisected', 21447: 'devastated', 21448: 'consecration', 21449: 'didst', 21450: 'worthiness', 21451: 'contrasting', 21452: 'lowlier', 21453: 'insufficient', 21454: 'undivine', 21455: 'anterior', 21456: 'exponent', 21457: 'gauging', 21458: 'paralyzing', 21459: 'phantasms', 21460: 'leant', 21461: 'disburse', 21462: 'defer', 21463: 'whippoorwill', 21464: 'sterile', 21465: 'perquisite', 21466: 'hurls', 21467: 'roams', 21468: 'noiseless', 21469: 'keenest', 21470: 'marksman', 21471: 'sublimest', 21472: 'skirmish', 21473: 'vanquished', 21474: 'stuns', 21475: 'fainter', 21476: 'thunderbolt', 21477: 'scalps', 21478: 'heavier', 21479: 'outgrow', 21480: 'costumes', 21481: 'grandsires', 21482: 'magnanimous', 21483: 'descried', 21484: 'barbs', 21485: 'puzzlest', 21486: 'silenced', 21487: 'auroral', 21488: 'numen', 21489: 'lumen', 21490: 'forestalling', 21491: 'whereon', 21492: 'chariots', 21493: 'convey', 21494: 'interdict', 21495: 'abrogate', 21496: 'wedded', 21497: 'plummetless', 21498: 'pallid', 21499: 'parian', 21500: 'lilacs', 21501: 'redden', 21502: 'covenant', 21503: 'gentians', 21504: 'folds', 21505: 'symbols', 21506: 'tulip', 21507: 'carmine', 21508: 'quality', 21509: 'encroached', 21510: 'placid', 21511: 'prithee', 21512: 'maples', 21513: 'suitable', 21514: 'adder', 21515: 'begets', 21516: 'buccaneering', 21517: 'hubbub', 21518: 'dapperer', 21519: 'unperceived', 21520: 'trundle', 21521: 'espy', 21522: 'sentinels', 21523: 'presumed', 21524: 'sepal', 21525: 'perturbation', 21526: 'partook', 21527: 'leafy', 21528: 'untoward', 21529: 'respites', 21530: 'residing', 21531: 'sedge', 21532: 'floorless', 21533: 'cite', 21534: 'fashionless', 21535: 'proudest', 21536: 'sufficed', 21537: 'woodpecker', 21538: 'auger', 21539: 'laboreth', 21540: 'enthralling', 21541: 'indefinite', 21542: 'peninsulas', 21543: 'amplest', 21544: 'likest', 21545: 'remotest', 21546: 'dimities', 21547: 'fallow', 21548: 'article', 21549: 'perceptible', 21550: 'quaintly', 21551: 'halved', 21552: 'inscrutable', 21553: 'elate', 21554: 'philosopher', 21555: 'deputed', 21556: 'malevolence', 21557: 'auspiciously', 21558: 'adroit', 21559: 'ascribe', 21560: 'beneficent', 21561: 'renowned', 21562: 'applauds', 21563: 'clerks', 21564: 'workmen', 21565: 'habitation', 21566: 'tabernacle', 21567: 'catacomb', 21568: 'sloop', 21569: 'wrecks', 21570: 'preconcerted', 21571: 'unconcern', 21572: 'vaster', 21573: 'disdaining', 21574: 'splendors', 21575: 'competeless', 21576: 'hemlocks', 21577: 'ebbs', 21578: 'feature', 21579: 'titian', 21580: 'domenichino', 21581: 'prophetic', 21582: 'simultaneous', 21583: 'metres', 21584: 'baffles', 21585: 'puzzles', 21586: 'crucifixion', 21587: 'retreating', 21588: 'assuage', 21589: 'sinews', 21590: 'malady', 21591: 'scanty', 21592: 'augmented', 21593: 'garrets', 21594: 'afforded', 21595: 'royally', 21596: 'betrothal', 21597: 'tranquiller', 21598: 'hasten', 21599: 'lisping', 21600: 'encountered', 21601: 'gentlefolk', 21602: 'flit', 21603: 'russetly', 21604: 'ardent', 21605: 'insulting', 21606: 'beguiled', 21607: 'bequeaths', 21608: 'wrestles', 21609: 'competent', 21610: 'decoyed', 21611: 'balsam', 21612: 'burrowed', 21613: 'vermin', 21614: 'unwarned', 21615: 'retrieve', 21616: 'hadst', 21617: 'broached', 21618: 'dissuade', 21619: 'aided', 21620: 'abides', 21621: 'turbid', 21622: 'lulls', 21623: 'propitiate', 21624: 'mien', 21625: 'stature', 21626: 'denotes', 21627: 'hyperbole', 21628: 'hypothesis', 21629: 'monument', 21630: 'mechanic', 21631: 'shames', 21632: 'constancy', 21633: 'emblem', 21634: 'martial', 21635: 'marauding', 21636: 'abashless', 21637: 'foreigner', 21638: 'retrospection', 21639: 'precincts', 21640: 'tarrying', 21641: 'sobbed', 21642: 'lodgings', 21643: 'reposed', 21644: 'drowse', 21645: 'discomfit', 21646: 'hearkened', 21647: 'hesitates', 21648: 'abundant', 21649: 'stooped', 21650: 'punctuate', 21651: 'perceives', 21652: 'quieter', 21653: 'periphrasis', 21654: 'remark', 21655: 'discourse', 21656: 'stirless', 21657: 'pantomime', 21658: 'larks', 21659: 'nightfall', 21660: 'frock', 21661: 'heaves', 21662: 'breaths', 21663: 'keepsakes', 21664: 'assignable', 21665: 'interposed', 21666: 'gurgled', 21667: 'erspent', 21668: 'retrimmed', 21669: 'redecked', 21670: 'exultant', 21671: 'rustle', 21672: 'mechanically', 21673: 'stiffly', 21674: 'milliner', 21675: 'coaches', 21676: 'blistered', 21677: 'sickened', 21678: 'quickest', 21679: 'supplicate', 21680: 'mantel', 21681: 'geneva', 21682: 'dangled', 21683: 'hunched', 21684: 'degreeless', 21685: 'shopman', 21686: 'importunes', 21687: 'concernless', 21688: 'pointers', 21689: 'charlotte', 21690: 'overgrown', 21691: 'interspersed', 21692: 'currer', 21693: 'haworth', 21694: 'observing', 21695: 'differed', 21696: 'yorkshire', 21697: 'wanderings', 21698: 'asphodel', 21699: 'toads', 21700: 'midge', 21701: 'gnat', 21702: 'supremacy', 21703: 'lviii', 21704: 'wedged', 21705: 'stubble', 21706: 'pumpkins', 21707: 'lix', 21708: 'knowest', 21709: 'anchors', 21710: 'thither', 21711: 'businessmen', 21712: 'plowmen', 21713: 'juiced', 21714: 'jugglers', 21715: 'shoestrings', 21716: 'telephones', 21717: 'rovin', 21718: 'bankbook', 21719: 'ax', 21720: 'delacroix', 21721: 'thinned', 21722: 'muttered', 21723: 'uneasy', 21724: 'thirteenth', 21725: 'montague', 21726: 'mathematicians', 21727: 'carpenters', 21728: 'cannonballs', 21729: 'lumberjacks', 21730: 'deductible', 21731: 'organizations', 21732: 'fitzgerald', 21733: 'swallower', 21734: 'kneels', 21735: 'earphones', 21736: 'fines', 21737: 'knowed', 21738: 'weariness', 21739: 'swirlin', 21740: 'wanderin', 21741: 'desks', 21742: 'unnamed', 21743: 'unlearned', 21744: 'proposing', 21745: 'flats', 21746: 'jitterbug', 21747: 'shortcuts', 21748: 'jinx', 21749: 'handmade', 21750: 'christs', 21751: 'startles', 21752: 'insure', 21753: 'destinies', 21754: 'jealously', 21755: 'cultivate', 21756: 'gargles', 21757: 'graveyards', 21758: 'scuff', 21759: 'pettiness', 21760: 'guillotine', 21761: 'silhouettes', 21762: 'ragman', 21763: 'furnish', 21764: 'mailbox', 21765: 'rainman', 21766: 'cures', 21767: 'uglier', 21768: 'ruthie', 21769: 'tonk', 21770: 'panamanian', 21771: 'madmen', 21772: 'timed', 21773: 'shacks', 21774: 'cravin', 21775: 'bove', 21776: 'englishman', 21777: 'conceivable', 21778: 'darwin', 21779: 'clarkesdale', 21780: 'waterfront', 21781: 'prophesize', 21782: 'senators', 21783: 'ragin', 21784: 'agin', 21785: 'avoidin', 21786: 'crashin', 21787: 'reduced', 21788: 'pacific', 21789: 'trombone', 21790: 'expand', 21791: 'porkchops', 21792: 'scrambling', 21793: 'confessed', 21794: 'pitchfork', 21795: 'boll', 21796: 'weevil', 21797: 'vagabond', 21798: 'remembers', 21799: 'trampling', 21800: 'shrine', 21801: 'numbed', 21802: 'whoppin', 21803: 'contentedly', 21804: 'hypnotist', 21805: 'framed', 21806: 'grindstones', 21807: 'obnoxious', 21808: 'boil', 21809: 'garlic', 21810: 'commissioner', 21811: 'bette', 21812: 'ambulances', 21813: 'hunchback', 21814: 'samaritan', 21815: 'ophelia', 21816: 'lifelessness', 21817: 'spends', 21818: 'monk', 21819: 'bummed', 21820: 'drainpipes', 21821: 'sexless', 21822: 'cyanide', 21823: 'pennywhistles', 21824: 'spoonfeeding', 21825: 'punished', 21826: 'nero', 21827: 'ezra', 21828: 'eliot', 21829: 'calypso', 21830: 'fishermen', 21831: 'doorknob', 21832: 'roared', 21833: 'pellets', 21834: 'flooding', 21835: 'executioner', 21836: 'socialite', 21837: 'councilman', 21838: 'bribes', 21839: 'heir', 21840: 'zimmy', 21841: 'ravaged', 21842: 'wailin', 21843: 'gambled', 21844: 'ramona', 21845: 'pangs', 21846: 'breathlike', 21847: 'deathlike', 21848: 'returnin', 21849: 'finishin', 21850: 'fixtures', 21851: 'quotations', 21852: 'dangles', 21853: 'madams', 21854: 'ceremonies', 21855: 'horsemen', 21856: 'matchsticks', 21857: 'heartbreaks', 21858: 'dissatisfied', 21859: 'swayed', 21860: 'multitude', 21861: 'bushy', 21862: 'unspoiled', 21863: 'madrid', 21864: 'barcelona', 21865: 'gath', 21866: 'sneering', 21867: 'snarling', 21868: 'ashtrays', 21869: 'pounded', 21870: 'nobles', 21871: 'strongly', 21872: 'depraved', 21873: 'cutters', 21874: 'ploughs', 21875: 'treaties', 21876: 'croaking', 21877: 'proletariat', 21878: 'dearer', 21879: 'ringed', 21880: 'kneeled', 21881: 'trainload', 21882: 'bogged', 21883: 'cables', 21884: 'overturn', 21885: 'pounced', 21886: 'wracked', 21887: 'foundationed', 21888: 'memorizing', 21889: 'evangelists', 21890: 'unthought', 21891: 'ordained', 21892: 'professor', 21893: 'spouted', 21894: 'pathway', 21895: 'mutiny', 21896: 'sustain', 21897: 'attendant', 21898: 'eastertime', 21899: 'melinda', 21900: 'authorities', 21901: 'irritable', 21902: 'oakley', 21903: 'thunderin', 21904: 'piney', 21905: 'doorpost', 21906: 'jerusalem', 21907: 'charcoal', 21908: 'tribes', 21909: 'corruptible', 21910: 'twists', 21911: 'gull', 21912: 'glides', 21913: 'shoeless', 21914: 'utopian', 21915: 'sidesaddle', 21916: 'ownership', 21917: 'accordingly', 21918: 'succeeding', 21919: 'dwarf', 21920: 'paupers', 21921: 'squints', 21922: 'blindman', 21923: 'escapades', 21924: 'concise', 21925: 'lectricity', 21926: 'brags', 21927: 'dangerously', 21928: 'muttering', 21929: 'museums', 21930: 'primitive', 21931: 'wallflower', 21932: 'jeeze', 21933: 'countess', 21934: 'corrode', 21935: 'grinder', 21936: 'saxophones', 21937: 'chambermaid', 21938: 'midstream', 21939: 'corkscrew', 21940: 'moonlit', 21941: 'untrodden', 21942: 'noontime', 21943: 'cov', 21944: 'toiling', 21945: 'inclination', 21946: 'wintry', 21947: 'lly', 21948: 'riverboat', 21949: 'battleground', 21950: 'reincarnation', 21951: 'violently', 21952: 'shuffles', 21953: 'torturing', 21954: 'whimper', 21955: 'barbell', 21956: 'philistines', 21957: 'jawbones', 21958: 'flatters', 21959: 'fattens', 21960: 'davey', 21961: 'blowtorch', 21962: 'camps', 21963: 'pedro', 21964: 'geometry', 21965: 'galileo', 21966: 'worthlessly', 21967: 'pillars', 21968: 'cecil', 21969: 'demille', 21970: 'beethoven', 21971: 'unwrapped', 21972: 'bedroll', 21973: 'tuba', 21974: 'chastised', 21975: 'mailtrain', 21976: 'windowsill', 21977: 'brakeman', 21978: 'steals', 21979: 'pals', 21980: 'persecutor', 21981: 'manipulator', 21982: 'sodom', 21983: 'gomorrah', 21984: 'martyr', 21985: 'leviticus', 21986: 'deuteronomy', 21987: 'steed', 21988: 'rifleman', 21989: 'preacherman', 21990: 'nightsticks', 21991: 'padlocks', 21992: 'molotov', 21993: 'cocktails', 21994: 'shadowy', 21995: 'motherless', 21996: 'harlot', 21997: 'hooves', 21998: 'slithering', 21999: 'oversees', 22000: 'meadowlark', 22001: 'marx', 22002: 'kissinger', 22003: 'asylums', 22004: 'unrighteous', 22005: 'adulterers', 22006: 'pornography', 22007: 'lawbreakers', 22008: 'advisors', 22009: 'gurus', 22010: 'pathways', 22011: 'frailer', 22012: 'poked', 22013: 'domain', 22014: 'wading', 22015: 'missouri', 22016: 'platforms', 22017: 'pendulums', 22018: 'stationmaster', 22019: 'paperwork', 22020: 'demagogues', 22021: 'hogshead', 22022: 'sheiks', 22023: 'deciding', 22024: 'glorifying', 22025: 'negotiators', 22026: 'nonbelievers', 22027: 'stealers', 22028: 'ambitions', 22029: 'brotherly', 22030: 'astronomy', 22031: 'overstep', 22032: 'goldsmith', 22033: 'crossin', 22034: 'backstabbin', 22035: 'deadweight', 22036: 'pennsylvania', 22037: 'pasqualli', 22038: 'pulpits', 22039: 'doz', 22040: 'weatherman', 22041: 'jailed', 22042: 'whirlpool', 22043: 'meters', 22044: 'schoolin', 22045: 'scandals', 22046: 'vandals', 22047: 'opponents', 22048: 'toothache', 22049: 'unending', 22050: 'railings', 22051: 'tailgates', 22052: 'substitutes', 22053: 'supplied', 22054: 'swooping', 22055: 'synanon', 22056: 'insight', 22057: 'labeled', 22058: 'discouraging', 22059: 'mistreat', 22060: 'simplify', 22061: 'categorize', 22062: 'finalize', 22063: 'advertise', 22064: 'displace', 22065: 'confine', 22066: 'dusky', 22067: 'susan', 22068: 'levy', 22069: 'masquerades', 22070: 'trailing', 22071: 'tolls', 22072: 'darts', 22073: 'botticelli', 22074: 'coliseum', 22075: 'gondola', 22076: 'clergymen', 22077: 'newspapermen', 22078: 'tangier', 22079: 'sunlit', 22080: 'alleys', 22081: 'bullheads', 22082: 'feudal', 22083: 'cumberland', 22084: 'dragnets', 22085: 'eves', 22086: 'husbands', 22087: 'alternate', 22088: 'revitalize', 22089: 'accordion', 22090: 'defeats', 22091: 'hostages', 22092: 'hounded', 22093: 'attica', 22094: 'nietzsche', 22095: 'wilhelm', 22096: 'reich', 22097: 'shackle', 22098: 'cagney', 22099: 'jacqueline', 22100: 'carmela', 22101: 'overlookin', 22102: 'preserve', 22103: 'painless', 22104: 'instruction', 22105: 'crowin', 22106: 'groundhog', 22107: 'scufflin', 22108: 'shufflin', 22109: 'briars', 22110: 'repossessed', 22111: 'explains', 22112: 'creations', 22113: 'commissioned', 22114: 'advisers', 22115: 'drastic', 22116: 'bandits', 22117: 'medicaid', 22118: 'mocked', 22119: 'humiliated', 22120: 'boxed', 22121: 'interestin', 22122: 'janitor', 22123: 'polluting', 22124: 'unbelief', 22125: 'squarely', 22126: 'enticed', 22127: 'hede', 22128: 'promising', 22129: 'straightback', 22130: 'honeysuckle', 22131: 'clings', 22132: 'carl', 22133: 'perkins', 22134: 'drunks', 22135: 'strays', 22136: 'tolerate', 22137: 'rundown', 22138: 'snooping', 22139: 'cramped', 22140: 'leanona', 22141: 'revivals', 22142: 'fredricks', 22143: 'misjudged', 22144: 'dolled', 22145: 'estare', 22146: 'necesites', 22147: 'lado', 22148: 'borrar', 22149: 'cadda', 22150: 'lagrima', 22151: 'haya', 22152: 'llorado', 22153: 'mendin', 22154: 'traditional', 22155: 'maddens', 22156: 'orphans', 22157: 'weathers', 22158: 'bluffin', 22159: 'irwin', 22160: 'levine', 22161: 'cheerin', 22162: 'arems', 22163: 'joybells', 22164: 'rejoicing', 22165: 'granddaughter', 22166: 'chocked', 22167: 'rouse', 22168: 'increases', 22169: 'defending', 22170: 'beseech', 22171: 'gaurantee', 22172: 'hissy', 22173: 'marryin', 22174: 'fastened', 22175: 'sleeplessness', 22176: 'greenest', 22177: 'opry', 22178: 'fluff', 22179: 'rifles', 22180: 'calhoun', 22181: 'erases', 22182: 'whining', 22183: 'pining', 22184: 'refine', 22185: 'appreciated', 22186: 'hereafter', 22187: 'carin', 22188: 'undemanding', 22189: 'outdide', 22190: 'patty', 22191: 'bakersman', 22192: 'trotty', 22193: 'wayfairing', 22194: 'ansewers', 22195: 'crusified', 22196: 'ooho', 22197: 'fllly', 22198: 'sorting', 22199: 'opposed', 22200: 'tangle', 22201: 'litte', 22202: 'plop', 22203: 'thoe', 22204: 'chewy', 22205: 'booms', 22206: 'blab', 22207: 'blibber', 22208: 'blubber', 22209: 'paddled', 22210: 'muddled', 22211: 'duddled', 22212: 'fuddled', 22213: 'wuddled', 22214: 'mot', 22215: 'suess', 22216: 'grinchwho', 22217: 'snarled', 22218: 'christmassing', 22219: 'clucked', 22220: 'ramshackle', 22221: 'giddap', 22222: 'hissed', 22223: 'flue', 22224: 'slithered', 22225: 'bicycles', 22226: 'checkerboards', 22227: 'tricycles', 22228: 'nimbly', 22229: 'tot', 22230: 'workshop', 22231: 'fib', 22232: 'patted', 22233: 'cindylou', 22234: 'mouses', 22235: 'sled', 22236: 'wrappings', 22237: 'trimmings', 22238: 'trappings', 22239: 'mt', 22240: 'crumpit', 22241: 'tiptop', 22242: 'poohpooh', 22243: 'grinchishly', 22244: 'boohoo', 22245: 'puzzler', 22246: 'wellin', 22247: 'grinchs', 22248: 'whizzed', 22249: 'ted', 22250: 'constantinople', 22251: 'timbuktu', 22252: 'seehemewepatpup', 22253: 'hethreetreebee', 22254: 'tophopstop', 22255: 'zeds', 22256: 'zeep', 22257: 'aaaah', 22258: 'truckin', 22259: 'whant', 22260: 'damm', 22261: 'loonley', 22262: 'hevy', 22263: 'dady', 22264: 'everyplace', 22265: 'hummed', 22266: 'perpetuates', 22267: 'waaaah', 22268: 'avalon', 22269: 'rolli', 22270: 'pressures', 22271: 'emma', 22272: 'nohow', 22273: 'recluse', 22274: 'schoolmates', 22275: 'sufferin', 22276: 'distorted', 22277: 'parable', 22278: 'compose', 22279: 'beno', 22280: 'whoaaaaa', 22281: 'hollers', 22282: 'promo', 22283: 'huckleberry', 22284: 'namath', 22285: 'whoaah', 22286: 'gravenites', 22287: 'overalls', 22288: 'zen', 22289: 'owens', 22290: 'sweeten', 22291: 'convicts', 22292: 'chimpanzee', 22293: 'plowman', 22294: 'hangman', 22295: 'drearily', 22296: 'yesterdays', 22297: 'conservatives', 22298: 'drugstore', 22299: 'claimed', 22300: 'saucers', 22301: 'measly', 22302: 'peopled', 22303: 'pointin', 22304: 'methane', 22305: 'winged', 22306: 'emeralds', 22307: 'rebirth', 22308: 'peaks', 22309: 'erupting', 22310: 'splashing', 22311: 'bathin', 22312: 'lik', 22313: 'oooooooooo', 22314: 'evern', 22315: 'bluebirds', 22316: 'waah', 22317: 'sneers', 22318: 'unsteady', 22319: 'hooo', 22320: 'broomsticks', 22321: 'tong', 22322: 'comic', 22323: 'ahum', 22324: 'stagecoach', 22325: 'necktie', 22326: 'soaks', 22327: 'veer', 22328: 'coldly', 22329: 'battred', 22330: 'ahad', 22331: 'undrerwater', 22332: 'stoning', 22333: 'visualise', 22334: 'earrth', 22335: 'communication', 22336: 'beeeeee', 22337: 'hailed', 22338: 'twilights', 22339: 'striped', 22340: 'ramparts', 22341: 'gallantly', 22342: 'zodiac', 22343: 'pastime', 22344: 'cornflakes', 22345: 'loansome', 22346: 'burnnin', 22347: 'leaze', 22348: 'heyaaaa', 22349: 'embarasing', 22350: 'proove', 22351: 'louse', 22352: 'wihiskey', 22353: 'swimin', 22354: 'outcha', 22355: 'seller', 22356: 'hhhooo', 22357: 'scat', 22358: 'clog', 22359: 'invent', 22360: 'doomsday', 22361: 'belive', 22362: 'togather', 22363: 'picker', 22364: 'babydoll', 22365: 'scalded', 22366: 'jaypan', 22367: 'pennyweight', 22368: 'pluming', 22369: 'muffled', 22370: 'overtook', 22371: 'jericho', 22372: 'carcass', 22373: 'bide', 22374: 'hushed', 22375: 'howlered', 22376: 'cavortin', 22377: 'freighter', 22378: 'redwood', 22379: 'sembly', 22380: 'gm', 22381: 'drilled', 22382: 'negatory', 22383: 'mow', 22384: 'chine', 22385: 'scaffold', 22386: 'floated', 22387: 'gatlinburg', 22388: 'mangy', 22389: 'gouging', 22390: 'discloses', 22391: 'rounders', 22392: 'wheeler', 22393: 'boilin', 22394: 'dirtiest', 22395: 'jumpy', 22396: 'fightings', 22397: 'shalam', 22398: 'shalom', 22399: 'crowns', 22400: 'hundredweight', 22401: 'manna', 22402: 'charmer', 22403: 'donaghadee', 22404: 'shannon', 22405: 'skibbereen', 22406: 'moorlands', 22407: 'meddle', 22408: 'churching', 22409: 'farmers', 22410: 'bogs', 22411: 'thatching', 22412: 'glean', 22413: 'larne', 22414: 'fargo', 22415: 'winslow', 22416: 'sarasota', 22417: 'whichta', 22418: 'tulsa', 22419: 'ottowa', 22420: 'tampa', 22421: 'mattua', 22422: 'lapaloma', 22423: 'bangor', 22424: 'amarillo', 22425: 'tocapillo', 22426: 'pocotello', 22427: 'amperdllo', 22428: 'dayton', 22429: 'texarkana', 22430: 'monterey', 22431: 'fairaday', 22432: 'tollaperson', 22433: 'oskaloussa', 22434: 'tinnesay', 22435: 'chickapee', 22436: 'knoxville', 22437: 'omerback', 22438: 'shereville', 22439: 'waterville', 22440: 'richfield', 22441: 'springfield', 22442: 'bakersfield', 22443: 'shreveport', 22444: 'hakensack', 22445: 'cadallic', 22446: 'jellico', 22447: 'argentina', 22448: 'diamondtina', 22449: 'pasadena', 22450: 'parkersburg', 22451: 'gravelburg', 22452: 'ellisburg', 22453: 'rexburg', 22454: 'larimore', 22455: 'adimore', 22456: 'habastock', 22457: 'chadanocka', 22458: 'shasta', 22459: 'opalacka', 22460: 'baraboo', 22461: 'waterloo', 22462: 'kalamazoo', 22463: 'souix', 22464: 'wearier', 22465: 'lures', 22466: 'meager', 22467: 'nassau', 22468: 'constable', 22469: 'thereon', 22470: 'packingham', 22471: 'alamo', 22472: 'chancellorsville', 22473: 'shiloh', 22474: 'beauregard', 22475: 'bragg', 22476: 'flanders', 22477: 'briny', 22478: 'scandalized', 22479: 'threadbare', 22480: 'beauteous', 22481: 'vigils', 22482: 'baubles', 22483: 'lifeblood', 22484: 'aloft', 22485: 'furled', 22486: 'starship', 22487: 'fellers', 22488: 'lure', 22489: 'blacken', 22490: 'interruption', 22491: 'peacemaker', 22492: 'pleaded', 22493: 'mouthin', 22494: 'untanglin', 22495: 'attested', 22496: 'bmi', 22497: 'raced', 22498: 'spaniards', 22499: 'skinful', 22500: 'correction', 22501: 'bailed', 22502: 'lazing', 22503: 'ambitious', 22504: 'weds', 22505: 'requests', 22506: 'captin', 22507: 'whoreys', 22508: 'retsina', 22509: 'clickity', 22510: 'digin', 22511: 'farmed', 22512: 'volunteered', 22513: 'iwo', 22514: 'jima', 22515: 'wined', 22516: 'speeched', 22517: 'fria', 22518: 'arizonia', 22519: 'relayed', 22520: 'swiftness', 22521: 'hives', 22522: 'existais', 22523: 'saba', 22524: 'prends', 22525: 'voici', 22526: 'perles', 22527: 'bijoux', 22528: 'aussi', 22529: 'autour', 22530: 'cou', 22531: 'murs', 22532: 'gout', 22533: 'miel', 22534: 'aimes', 22535: 'irai', 22536: 'emm', 22537: 'nes', 22538: 'ivoire', 22539: 'effacerai', 22540: 'larmes', 22541: 'peines', 22542: 'une', 22543: 'ponds', 22544: 'jouerai', 22545: 'musiques', 22546: 'ciel', 22547: 'prendrai', 22548: 'rayons', 22549: 'clairer', 22550: 'sors', 22551: 'vaux', 22552: 'mieux', 22553: 'droits', 22554: 'chaque', 22555: 'meurs', 22556: 'hedy', 22557: 'qsayet', 22558: 'hayeti', 22559: 'hobbi', 22560: 'hobi', 22561: 'histoire', 22562: 'omry', 22563: 'wenty', 22564: 'hayety', 22565: 'temenit', 22566: 'eniich', 22567: 'maak', 22568: 'ghir', 22569: 'vivre', 22570: 'lalala', 22571: 'lalalala', 22572: 'poltergeist', 22573: 'direct', 22574: 'render', 22575: 'labelled', 22576: 'looose', 22577: 'alchemy', 22578: 'liq', 22579: 'lavishly', 22580: 'savages', 22581: 'pharl', 22582: 'ountia', 22583: 'manderlek', 22584: 'badek', 22585: 'jbal', 22586: 'derl', 22587: 'makadelech', 22588: 'bal', 22589: 'josh', 22590: 'millionares', 22591: 'copyright', 22592: 'freebandz', 22593: 'handcuffin', 22594: 'demonstrate', 22595: 'upstate', 22596: 'grizzle', 22597: 'anyday', 22598: 'gini', 22599: 'greezy', 22600: 'pinto', 22601: 'renzo', 22602: 'motherfucka', 22603: 'iceburg', 22604: 'chiefin', 22605: 'autographin', 22606: 'richmond', 22607: 'balogna', 22608: 'refereeing', 22609: 'dramamine', 22610: 'aquafining', 22611: 'jeaning', 22612: 'leeches', 22613: 'agreements', 22614: 'supperclub', 22615: 'boning', 22616: 'abcd', 22617: 'efg', 22618: 'hijk', 22619: 'lmnop', 22620: 'qrs', 22621: 'tuv', 22622: 'wx', 22623: 'yz', 22624: 'sheesh', 22625: 'manifested', 22626: 'intact', 22627: 'skiis', 22628: 'vegan', 22629: 'distractions', 22630: 'adjacent', 22631: 'affidavits', 22632: 'yeshua', 22633: 'effective', 22634: 'psa', 22635: 'spellcatchers', 22636: 'underworld', 22637: 'rubix', 22638: 'endorsement', 22639: 'sorcerers', 22640: 'enforcement', 22641: 'employment', 22642: 'tweak', 22643: 'restoring', 22644: 'feasting', 22645: 'odb', 22646: 'valid', 22647: 'copying', 22648: 'stragglers', 22649: 'obstacles', 22650: 'rackies', 22651: 'actavis', 22652: 'exterminate', 22653: 'palay', 22654: 'membrane', 22655: 'luger', 22656: 'scrilla', 22657: 'khalifa', 22658: 'chucked', 22659: 'piguets', 22660: 'boardin', 22661: 'quart', 22662: 'dranked', 22663: 'unleashin', 22664: 'bratchet', 22665: 'wimbledon', 22666: 'jcpenney', 22667: 'tempur', 22668: 'pedic', 22669: 'slushie', 22670: 'vacheron', 22671: 'yello', 22672: 'subpoenaed', 22673: 'residencies', 22674: 'broadus', 22675: 'residue', 22676: 'acrobatics', 22677: 'calisthenics', 22678: 'trolly', 22679: 'auction', 22680: 'chauffeured', 22681: 'progression', 22682: 'lenient', 22683: 'petro', 22684: 'fied', 22685: 'paka', 22686: 'sak', 22687: 'pase', 22688: 'andal', 22689: 'jarl', 22690: 'borg', 22691: 'kudos', 22692: 'loopholes', 22693: 'bootleg', 22694: 'heisman', 22695: 'ncaa', 22696: 'lacrosse', 22697: 'stretcher', 22698: 'broski', 22699: 'ession', 22700: 'fession', 22701: 'pivotal', 22702: 'veteran', 22703: 'catalyst', 22704: 'radisson', 22705: 'prioritize', 22706: 'gilligan', 22707: 'hahahah', 22708: 'disreguard', 22709: 'lls', 22710: 'opinian', 22711: 'ahah', 22712: 'oblivian', 22713: 'eheaha', 22714: 'akins', 22715: 'uhah', 22716: 'ruhmes', 22717: 'headz', 22718: 'pheneminal', 22719: 'togetha', 22720: 'trackin', 22721: 'focussed', 22722: 'blossumin', 22723: 'diaz', 22724: 'overtown', 22725: 'wedwood', 22726: 'highlear', 22727: 'bana', 22728: 'whuddup', 22729: 'brra', 22730: 'trilla', 22731: 'whudd', 22732: 'doggs', 22733: 'dickies', 22734: 'epedemic', 22735: 'ridas', 22736: 'brisco', 22737: 'bris', 22738: 'gitt', 22739: 'boii', 22740: 'hommie', 22741: 'tox', 22742: 'trillin', 22743: 'dodgin', 22744: 'teef', 22745: 'croc', 22746: 'hogg', 22747: 'bonita', 22748: 'sniffer', 22749: 'chiefer', 22750: 'venison', 22751: 'attachment', 22752: 'accessory', 22753: 'freezin', 22754: 'existin', 22755: 'fruition', 22756: 'assistin', 22757: 'supporters', 22758: 'economic', 22759: 'inequality', 22760: 'retrograde', 22761: 'effectin', 22762: 'impersonatin', 22763: 'rehearsin', 22764: 'hstry', 22765: 'extends', 22766: 'nurture', 22767: 'ysl', 22768: 'gnc', 22769: 'buss', 22770: 'rejuvenated', 22771: 'roundups', 22772: 'unbearable', 22773: 'greats', 22774: 'betrayal', 22775: 'chasers', 22776: 'indicted', 22777: 'ounces', 22778: 'bouncers', 22779: 'rattin', 22780: 'tiptoeing', 22781: 'bearers', 22782: 'bentyaga', 22783: 'sadity', 22784: 'parading', 22785: 'finicky', 22786: 'billions', 22787: 'cohesive', 22788: 'finessers', 22789: 'trappers', 22790: 'percocet', 22791: 'pacin', 22792: 'ap', 22793: 'sentimentals', 22794: 'innuendos', 22795: 'incidentals', 22796: 'sls', 22797: 'confidential', 22798: 'deserting', 22799: 'skrt', 22800: 'locksmith', 22801: 'pallet', 22802: 'marta', 22803: 'estee', 22804: 'lauder', 22805: 'risks', 22806: 'respiratory', 22807: 'amphibians', 22808: 'divy', 22809: 'swishy', 22810: 'informant', 22811: 'khaley', 22812: 'diabetic', 22813: 'moco', 22814: 'sweaters', 22815: 'mdma', 22816: 'qur', 22817: 'folarin', 22818: 'ratchets', 22819: 'vests', 22820: 'reshuffled', 22821: 'grays', 22822: 'opp', 22823: 'reactions', 22824: 'thicks', 22825: 'ambiguous', 22826: 'nearin', 22827: 'template', 22828: 'busiest', 22829: 'pilling', 22830: 'prenuptial', 22831: 'globally', 22832: 'jooking', 22833: 'pillsbury', 22834: 'kitties', 22835: 'iverson', 22836: 'ireland', 22837: 'kc', 22838: 'determination', 22839: 'amigo', 22840: 'caliber', 22841: 'birk', 22842: 'bb', 22843: 'homi', 22844: 'hb', 22845: 'bih', 22846: 'antilles', 22847: 'societies', 22848: 'tackles', 22849: 'piguet', 22850: 'witha', 22851: 'clearence', 22852: 'concieted', 22853: 'oens', 22854: 'deffinitly', 22855: 'chatter', 22856: 'tissued', 22857: 'florence', 22858: 'endurance', 22859: 'leone', 22860: 'gyms', 22861: 'emojis', 22862: 'pocahontas', 22863: 'mightier', 22864: 'meditation', 22865: 'heimlich', 22866: 'lucille', 22867: 'yatchs', 22868: 'cashed', 22869: 'bustas', 22870: 'perpetrating', 22871: 'yachts', 22872: 'flopping', 22873: 'cardinal', 22874: 'horde', 22875: 'golds', 22876: 'nu', 22877: 'snitching', 22878: 'mayblock', 22879: 'swizzy', 22880: 'wizzy', 22881: 'fizzy', 22882: 'crawfish', 22883: 'sharkys', 22884: 'jamacains', 22885: 'macdola', 22886: 'grubbing', 22887: 'quenched', 22888: 'benched', 22889: 'rebuked', 22890: 'baddie', 22891: 'carpool', 22892: 'motivational', 22893: 'zeppelin', 22894: 'journalist', 22895: 'herbalist', 22896: 'dominicans', 22897: 'chopard', 22898: 'hookah', 22899: 'quicksand', 22900: 'meteorite', 22901: 'sicily', 22902: 'vasectomy', 22903: 'somalian', 22904: 'lear', 22905: 'guantanamo', 22906: 'narco', 22907: 'gestapo', 22908: 'optimo', 22909: 'pinnacle', 22910: 'assassins', 22911: 'harassin', 22912: 'wtb', 22913: 'assumptions', 22914: 'extendo', 22915: 'rolla', 22916: 'pressured', 22917: 'instagramming', 22918: 'belaire', 22919: 'duddy', 22920: 'sk', 22921: 'nervose', 22922: 'grizzy', 22923: 'efficiencies', 22924: 'yearly', 22925: 'perpetrate', 22926: 'twurkalate', 22927: 'mufucka', 22928: 'slater', 22929: 'prenatal', 22930: 'frado', 22931: 'criticized', 22932: 'trek', 22933: 'penalized', 22934: 'khlaed', 22935: 'alphabetical', 22936: 'lucas', 22937: 'promoters', 22938: 'roguish', 22939: 'decoded', 22940: 'quotin', 22941: 'everyting', 22942: 'cruised', 22943: 'oozed', 22944: 'nudes', 22945: 'uhn', 22946: 'badness', 22947: 'intelligence', 22948: 'whatsapp', 22949: 'bbm', 22950: 'wanton', 22951: 'shigady', 22952: 'digady', 22953: 'allot', 22954: 'migady', 22955: 'biggady', 22956: 'sik', 22957: 'purpo', 22958: 'fendy', 22959: 'groopie', 22960: 'chingalling', 22961: 'oochi', 22962: 'oouchi', 22963: 'wallin', 22964: 'probleme', 22965: 'lok', 22966: 'ott', 22967: 'vaga', 22968: 'cenemar', 22969: 'dickin', 22970: 'apres', 22971: 'dingin', 22972: 'apred', 22973: 'energeny', 22974: 'outsa', 22975: 'streight', 22976: 'putsa', 22977: 'tung', 22978: 'gobblin', 22979: 'chik', 22980: 'dik', 22981: 'jeopardy', 22982: 'medicate', 22983: 'cappuccino', 22984: 'vodkas', 22985: 'reaping', 22986: 'rewards', 22987: 'dollas', 22988: 'neil', 22989: 'balboa', 22990: 'uncalled', 22991: 'whoopie', 22992: 'recoil', 22993: 'numeric', 22994: 'incoherent', 22995: 'aborting', 22996: 'urn', 22997: 'hashish', 22998: 'marrakech', 22999: 'maravich', 23000: 'moodymann', 23001: 'ritualistic', 23002: 'cleansin', 23003: 'headtop', 23004: 'somin', 23005: 'nai', 23006: 'overthrowing', 23007: 'miraval', 23008: 'sanitize', 23009: 'applebee', 23010: 'hilton', 23011: 'recordin', 23012: 'priorities', 23013: 'rhetorical', 23014: 'oracle', 23015: 'troublemaker', 23016: 'troublemakin', 23017: 'outchea', 23018: 'roommate', 23019: 'griffith', 23020: 'sprained', 23021: 'insists', 23022: 'nemo', 23023: 'chemo', 23024: 'superbad', 23025: 'pads', 23026: 'macadamian', 23027: 'ballistic', 23028: 'establishing', 23029: 'villains', 23030: 'fillings', 23031: 'lecter', 23032: 'fuh', 23033: 'cordless', 23034: 'scrollin', 23035: 'raptors', 23036: 'pickups', 23037: 'stagnant', 23038: 'provin', 23039: 'splittin', 23040: 'eavesdroppin', 23041: 'pnd', 23042: 'majid', 23043: 'forreal', 23044: 'gated', 23045: 'dyckman', 23046: 'hibachi', 23047: 'taki', 23048: 'remixing', 23049: 'rasputia', 23050: 'pistons', 23051: 'ferragamo', 23052: 'rocco', 23053: 'predicaments', 23054: 'achieving', 23055: 'exaggerated', 23056: 'expressing', 23057: 'lightskin', 23058: 'camrys', 23059: 'milage', 23060: 'hairstyles', 23061: 'somes', 23062: 'bcbg', 23063: 'ziti', 23064: 'showtime', 23065: 'homeowners', 23066: 'weighin', 23067: 'charlamagne', 23068: 'tootsies', 23069: 'seatin', 23070: 'earpiece', 23071: 'boasy', 23072: 'gwanin', 23073: 'wassy', 23074: 'aventura', 23075: 'clubbing', 23076: 'cribbo', 23077: 'chubbs', 23078: 'lickwood', 23079: 'requested', 23080: 'mortgages', 23081: 'unsuccessful', 23082: 'paramedic', 23083: 'californication', 23084: 'ripley', 23085: 'satanic', 23086: 'blaine', 23087: 'pitching', 23088: 'underhanded', 23089: 'outstanding', 23090: 'spraying', 23091: 'heaters', 23092: 'febreeze', 23093: 'tl', 23094: 'tsx', 23095: 'gelo', 23096: 'juugs', 23097: 'prant', 23098: 'ginobili', 23099: 'fadeaway', 23100: 'mutombo', 23101: 'residual', 23102: 'aubrey', 23103: 'vouch', 23104: 'oppers', 23105: 'ethics', 23106: 'alfredo', 23107: 'pasta', 23108: 'elses', 23109: 'immigration', 23110: 'printing', 23111: 'whoopty', 23112: 'franchise', 23113: 'percies', 23114: 'mergers', 23115: 'urgent', 23116: 'pinkett', 23117: 'rosetta', 23118: 'smiddoke', 23119: 'skeptic', 23120: 'widescreen', 23121: 'roja', 23122: 'loca', 23123: 'chargi', 23124: 'tropics', 23125: 'cyaan', 23126: 'unrealistic', 23127: 'syd', 23128: 'unforgiven', 23129: 'tropical', 23130: 'amalfi', 23131: 'adiios', 23132: 'functioning', 23133: 'mufuckin', 23134: 'taylors', 23135: 'blammers', 23136: 'scout', 23137: 'yap', 23138: 'katia', 23139: 'viewing', 23140: 'misinterpret', 23141: 'andale', 23142: 'submissive', 23143: 'leverage', 23144: 'debit', 23145: 'disagreed', 23146: 'songz', 23147: 'therapeutic', 23148: 'galleria', 23149: 'bria', 23150: 'landmarks', 23151: 'muses', 23152: 'bocka', 23153: 'timegiene', 23154: 'osirus', 23155: 'barrack', 23156: 'hussain', 23157: 'shaheed', 23158: 'oooooohhh', 23159: 'heartbroken', 23160: 'dryer', 23161: 'obligated', 23162: 'revisit', 23163: 'confessing', 23164: 'muthaf', 23165: 'cking', 23166: 'pm', 23167: 'jocked', 23168: 'scouted', 23169: 'outted', 23170: 'cloudin', 23171: 'rootin', 23172: 'connoisseur', 23173: 'rothschilds', 23174: 'cru', 23175: 'gajas', 23176: 'opuses', 23177: 'notices', 23178: 'motive', 23179: 'rooting', 23180: 'zs', 23181: 'chaining', 23182: 'tatum', 23183: 'remodel', 23184: 'emmitt', 23185: 'pretender', 23186: 'remniscin', 23187: 'hustatlantavegas', 23188: 'rufio', 23189: 'drumma', 23190: 'passi', 23191: 'janes', 23192: 'cameron', 23193: 'credible', 23194: 'cedes', 23195: 'illuminated', 23196: 'vendetta', 23197: 'apps', 23198: 'disconnected', 23199: 'haf', 23200: 'nixon', 23201: 'biddin', 23202: 'blackin', 23203: 'gottao', 23204: 'murderin', 23205: 'carjackers', 23206: 'subliminals', 23207: 'jibber', 23208: 'jabber', 23209: 'quarantine', 23210: 'truu', 23211: 'damon', 23212: 'wayans', 23213: 'cashing', 23214: 'bigging', 23215: 'cottonelle', 23216: 'ovofbg', 23217: 'percocets', 23218: 'stylists', 23219: 'roxx', 23220: 'opps', 23221: 'fuckiin', 23222: 'neets', 23223: 'sprites', 23224: 'meliah', 23225: 'twirk', 23226: 'spazz', 23227: 'loaned', 23228: 'muthafucker', 23229: 'eww', 23230: 'asthmatic', 23231: 'sloan', 23232: 'thuggish', 23233: 'ruggish', 23234: 'slime', 23235: 'lint', 23236: 'oliver', 23237: 'fakes', 23238: 'shakiness', 23239: 'girbraud', 23240: 'technomarine', 23241: 'backpacks', 23242: 'ethan', 23243: 'hatchback', 23244: 'hashtags', 23245: 'winnie', 23246: 'jibba', 23247: 'follwin', 23248: 'fundamentals', 23249: 'contollin', 23250: 'mulino', 23251: 'vino', 23252: 'rapino', 23253: 'overly', 23254: 'chartered', 23255: 'irv', 23256: 'clickin', 23257: 'mandarin', 23258: 'mantle', 23259: 'wes', 23260: 'bigg', 23261: 'cuffing', 23262: 'linking', 23263: 'cyattie', 23264: 'exam', 23265: 'nickle', 23266: 'juug', 23267: 'acknowledgement', 23268: 'scholarships', 23269: 'drafted', 23270: 'fundraising', 23271: 'potluck', 23272: 'warehouse', 23273: 'cooped', 23274: 'becase', 23275: 'align', 23276: 'fooding', 23277: 'calabasas', 23278: 'drapes', 23279: 'szn', 23280: 'meechy', 23281: 'bleu', 23282: 'davinci', 23283: 'behav', 23284: 'fuelband', 23285: 'weston', 23286: 'keyboard', 23287: 'projectors', 23288: 'preservation', 23289: 'crowding', 23290: 'spatula', 23291: 'canine', 23292: 'derek', 23293: 'westheimer', 23294: 'piped', 23295: 'percs', 23296: 'fantasizin', 23297: 'fistin', 23298: 'dern', 23299: 'sigma', 23300: 'brissle', 23301: 'rizzle', 23302: 'bandage', 23303: 'sci', 23304: 'kareem', 23305: 'jizzle', 23306: 'capatain', 23307: 'lieutenants', 23308: 'biem', 23309: 'airwaves', 23310: 'grambling', 23311: 'acceptance', 23312: 'pheromones', 23313: 'parmesan', 23314: 'panino', 23315: 'promethazine', 23316: 'pinot', 23317: 'concious', 23318: 'terrorist', 23319: 'greeted', 23320: 'rhianna', 23321: 'ambiance', 23322: 'audiance', 23323: 'capitalize', 23324: 'casualy', 23325: 'tastemakers', 23326: 'ovoxo', 23327: 'highlight', 23328: 'comprehending', 23329: 'farmhouse', 23330: 'locals', 23331: 'baljennie', 23332: 'whisker', 23333: 'probing', 23334: 'keyholes', 23335: 'aways', 23336: 'fundy', 23337: 'appaloosas', 23338: 'cubicles', 23339: 'spelling', 23340: 'screamers', 23341: 'champs', 23342: 'elysees', 23343: 'hippest', 23344: 'omelets', 23345: 'stews', 23346: 'taiking', 23347: 'blazes', 23348: 'comformer', 23349: 'scratchy', 23350: 'matalla', 23351: 'yasgur', 23352: 'cog', 23353: 'woodstock', 23354: 'bombers', 23355: 'coupling', 23356: 'suppressed', 23357: 'extremities', 23358: 'thaw', 23359: 'benny', 23360: 'goodman', 23361: 'porous', 23362: 'markers', 23363: 'finality', 23364: 'hopelessness', 23365: 'orbiting', 23366: 'described', 23367: 'treatment', 23368: 'idiomatic', 23369: 'passersby', 23370: 'tenses', 23371: 'incense', 23372: 'hexagram', 23373: 'scrambles', 23374: 'travelogue', 23375: 'charmed', 23376: 'aviation', 23377: 'geometric', 23378: 'mandolin', 23379: 'storefront', 23380: 'chuggin', 23381: 'bleecker', 23382: 'malfunction', 23383: 'repetitious', 23384: 'futility', 23385: 'punishing', 23386: 'abstractions', 23387: 'maidstone', 23388: 'stimulated', 23389: 'wolmann', 23390: 'vigorous', 23391: 'anonymity', 23392: 'tethered', 23393: 'imperfection', 23394: 'hove', 23395: 'flaps', 23396: 'starboard', 23397: 'scaley', 23398: 'scrawl', 23399: 'jouster', 23400: 'robespierre', 23401: 'chiefs', 23402: 'ions', 23403: 'rapist', 23404: 'nurseries', 23405: 'ulcerated', 23406: 'diversion', 23407: 'leafs', 23408: 'pleasin', 23409: 'broadcasting', 23410: 'widows', 23411: 'trimmed', 23412: 'brownies', 23413: 'shawls', 23414: 'banyans', 23415: 'breads', 23416: 'romantics', 23417: 'immune', 23418: 'wurlitzer', 23419: 'whirr', 23420: 'romanticizing', 23421: 'skater', 23422: 'dishwasher', 23423: 'percolator', 23424: 'porkie', 23425: 'cellars', 23426: 'chittlins', 23427: 'lunatic', 23428: 'arcades', 23429: 'awning', 23430: 'liberation', 23431: 'uprising', 23432: 'patriarchs', 23433: 'quandary', 23434: 'clandestine', 23435: 'varnished', 23436: 'reflections', 23437: 'columbines', 23438: 'wizardry', 23439: 'bleeker', 23440: 'stimulation', 23441: 'holiness', 23442: 'memorize', 23443: 'maturity', 23444: 'referring', 23445: 'fidgeting', 23446: 'sequences', 23447: 'boarders', 23448: 'juke', 23449: 'coils', 23450: 'reran', 23451: 'fester', 23452: 'slinking', 23453: 'duality', 23454: 'multiplicity', 23455: 'prowls', 23456: 'tenements', 23457: 'prizes', 23458: 'rivets', 23459: 'spectrums', 23460: 'isham', 23461: 'willaden', 23462: 'souvenirs', 23463: 'clutching', 23464: 'perched', 23465: 'ply', 23466: 'kindling', 23467: 'empires', 23468: 'charitable', 23469: 'poking', 23470: 'miseries', 23471: 'perversity', 23472: 'frailty', 23473: 'awnings', 23474: 'milktrucks', 23475: 'broader', 23476: 'sensibility', 23477: 'womanized', 23478: 'drifters', 23479: 'winn', 23480: 'analyzing', 23481: 'thunderhead', 23482: 'sungold', 23483: 'marbled', 23484: 'bowling', 23485: 'restrooms', 23486: 'westbound', 23487: 'gyre', 23488: 'falconer', 23489: 'loosed', 23490: 'straddle', 23491: 'strafe', 23492: 'pitiless', 23493: 'indignant', 23494: 'stony', 23495: 'riled', 23496: 'flaky', 23497: 'rulers', 23498: 'circuitry', 23499: 'disabled', 23500: 'bonfires', 23501: 'arsonist', 23502: 'incendiary', 23503: 'jackals', 23504: 'edifying', 23505: 'complicity', 23506: 'debase', 23507: 'admires', 23508: 'absurdity', 23509: 'quotas', 23510: 'reeking', 23511: 'shrieking', 23512: 'kenneled', 23513: 'metered', 23514: 'woodlands', 23515: 'barrooms', 23516: 'courtrooms', 23517: 'rattlesnakes', 23518: 'whimpering', 23519: 'waken', 23520: 'resounding', 23521: 'motors', 23522: 'finely', 23523: 'thirties', 23524: 'arbutus', 23525: 'logs', 23526: 'ukulele', 23527: 'overkill', 23528: 'tinkling', 23529: 'cymbals', 23530: 'suffers', 23531: 'enduring', 23532: 'rejoices', 23533: 'darkly', 23534: 'fractions', 23535: 'calendar', 23536: 'buckskin', 23537: 'unmarried', 23538: 'destitutes', 23539: 'temptresses', 23540: 'drudgery', 23541: 'bloodless', 23542: 'brides', 23543: 'glimpsed', 23544: 'rosaries', 23545: 'connell', 23546: 'cheeky', 23547: 'sterilized', 23548: 'spacey', 23549: 'leaky', 23550: 'gingham', 23551: 'scalloping', 23552: 'villages', 23553: 'screamer', 23554: 'pawnshops', 23555: 'crisscrossed', 23556: 'padlocked', 23557: 'scum', 23558: 'indistinct', 23559: 'brassieres', 23560: 'pinball', 23561: 'pitches', 23562: 'racking', 23563: 'chickie', 23564: 'melvin', 23565: 'patrols', 23566: 'roomful', 23567: 'chippendale', 23568: 'pontoon', 23569: 'illumination', 23570: 'haggard', 23571: 'boxcars', 23572: 'jitters', 23573: 'cokes', 23574: 'berth', 23575: 'clickety', 23576: 'negro', 23577: 'affectations', 23578: 'subterranean', 23579: 'inscribed', 23580: 'potted', 23581: 'capsulized', 23582: 'whiny', 23583: 'sophia', 23584: 'plight', 23585: 'blared', 23586: 'juveniles', 23587: 'mercenary', 23588: 'pachyderm', 23589: 'measles', 23590: 'peridots', 23591: 'periwinkle', 23592: 'medallions', 23593: 'galleons', 23594: 'rigging', 23595: 'satins', 23596: 'delights', 23597: 'pilings', 23598: 'windless', 23599: 'strums', 23600: 'rhapsodies', 23601: 'dodges', 23602: 'blanche', 23603: 'dubois', 23604: 'hisses', 23605: 'vanishing', 23606: 'briefer', 23607: 'calendars', 23608: 'sandcastles', 23609: 'seagull', 23610: 'dives', 23611: 'perils', 23612: 'benefactors', 23613: 'suntans', 23614: 'miners', 23615: 'lantern', 23616: 'compelled', 23617: 'prescribed', 23618: 'scuffled', 23619: 'mimicking', 23620: 'celluloid', 23621: 'cinematic', 23622: 'crinolines', 23623: 'gable', 23624: 'flynn', 23625: 'magnolias', 23626: 'impossibly', 23627: 'smoldering', 23628: 'conquering', 23629: 'untruthful', 23630: 'singapore', 23631: 'slings', 23632: 'satchel', 23633: 'totals', 23634: 'folly', 23635: 'whitewalls', 23636: 'windshields', 23637: 'safaris', 23638: 'mathematic', 23639: 'circuits', 23640: 'huts', 23641: 'pews', 23642: 'shuck', 23643: 'orchid', 23644: 'ritual', 23645: 'smuggled', 23646: 'funneled', 23647: 'slaving', 23648: 'tourniquet', 23649: 'slithers', 23650: 'soprano', 23651: 'lonelyin', 23652: 'mein', 23653: 'nightin', 23654: 'musicno', 23655: 'momentno', 23656: 'goldies', 23657: 'mond', 23658: 'survivin', 23659: 'goyou', 23660: 'knowso', 23661: 'lineso', 23662: 'toso', 23663: 'againi', 23664: 'astounding', 23665: 'againbut', 23666: 'againmaybe', 23667: 'rockfor', 23668: 'bests', 23669: 'famousi', 23670: 'knowi', 23671: 'wavin', 23672: 'knowbam', 23673: 'bami', 23674: 'lightsturn', 23675: 'lightsfast', 23676: 'lifesomething', 23677: 'lightsrestraining', 23678: 'lightsgetting', 23679: 'owngetting', 23680: 'ownunemployment', 23681: 'declined', 23682: 'timeturn', 23683: 'lightswhoa', 23684: 'hallelujahi', 23685: 'parentsi', 23686: 'persecute', 23687: 'pangaea', 23688: 'chatham', 23689: 'zambia', 23690: 'anteater', 23691: 'wap', 23692: 'faithfather', 23693: 'righti', 23694: 'fromla', 23695: 'apolog', 23696: 'thenla', 23697: 'pharoahs', 23698: 'godla', 23699: 'nothingla', 23700: 'fuu', 23701: 'uu', 23702: 'uuck', 23703: 'hypnotizing', 23704: 'angelyour', 23705: 'magnetizing', 23706: 'glowingthey', 23707: 'erent', 23708: 'youyou', 23709: 'extraterrestrialyou', 23710: 'magicyou', 23711: 'spacesuit', 23712: 'extraterrestrialextraterrestrial', 23713: 'extraterrestrialboy', 23714: 'canshe', 23715: 'atand', 23716: 'canrunaway', 23717: 'cantwenty', 23718: 'ichabod', 23719: 'crane', 23720: 'knockoffs', 23721: 'neiman', 23722: 'tais', 23723: 'sofas', 23724: 'invisibly', 23725: 'faceless', 23726: 'leaveand', 23727: 'someb', 23728: 'whoaok', 23729: 'thei', 23730: 'poo', 23731: 'scrr', 23732: 'theyeah', 23733: 'rih', 23734: 'kelis', 23735: 'monos', 23736: 'jefe', 23737: 'thebreak', 23738: 'nant', 23739: 'cliqueain', 23740: 'lowry', 23741: 'bottlestill', 23742: 'boozed', 23743: 'lifehomie', 23744: 'goodhave', 23745: 'trizz', 23746: 'lifeis', 23747: 'ratedi', 23748: 'godsoon', 23749: 'lightningi', 23750: 'croissants', 23751: 'costra', 23752: 'godain', 23753: 'medrop', 23754: 'perrierin', 23755: 'politicking', 23756: 'californicatin', 23757: 'inokay', 23758: 'yughck', 23759: 'hines', 23760: 'murcie', 23761: 'prontookay', 23762: 'gwine', 23763: 'rampage', 23764: 'awesomeyou', 23765: 'mecause', 23766: 'downyou', 23767: 'arrogantyeezy', 23768: 'robeyou', 23769: 'kanyewho', 23770: 'waygot', 23771: 'anybodymy', 23772: 'lightsshe', 23773: 'eau', 23774: 'stardee', 23775: 'orderves', 23776: 'oeur', 23777: 'whopee', 23778: 'nazias', 23779: 'lightsi', 23780: 'caesaras', 23781: 'lightsas', 23782: 'lightsflashing', 23783: 'lightslights', 23784: 'mehello', 23785: 'mari', 23786: 'outweighs', 23787: 'understandso', 23788: 'flyhello', 23789: 'reunions', 23790: 'gametime', 23791: 'himi', 23792: 'defendin', 23793: 'belookin', 23794: 'niggathis', 23795: 'alwaysall', 23796: 'dispersedall', 23797: 'ayall', 23798: 'dispersedget', 23799: 'niggawell', 23800: 'lypo', 23801: 'moni', 23802: 'joked', 23803: 'fishall', 23804: 'marlins', 23805: 'snappers', 23806: 'salmon', 23807: 'coddle', 23808: 'vermont', 23809: 'holland', 23810: 'grouper', 23811: 'orgy', 23812: 'mackerel', 23813: 'gayest', 23814: 'girlbut', 23815: 'trish', 23816: 'nightright', 23817: 'trid', 23818: 'ip', 23819: 'goodbyei', 23820: 'nightuh', 23821: 'musicali', 23822: 'nighti', 23823: 'bitchi', 23824: 'wepti', 23825: 'mouthbound', 23826: 'bridrens', 23827: 'boytell', 23828: 'wagwan', 23829: 'blad', 23830: 'boytake', 23831: 'boyla', 23832: 'wattered', 23833: 'ohyeah', 23834: 'hollowcan', 23835: 'ohlook', 23836: 'leon', 23837: 'respawn', 23838: 'noisecan', 23839: 'ohat', 23840: 'seance', 23841: 'ohohcan', 23842: 'alexus', 23843: 'welloh', 23844: 'pasha', 23845: 'coupeoh', 23846: 'downi', 23847: 'itoh', 23848: 'izzo', 23849: 'zerk', 23850: 'manwhat', 23851: 'ohshe', 23852: 'rightshe', 23853: 'ashford', 23854: 'glist', 23855: 'cannabis', 23856: 'evelyn', 23857: 'isaac', 23858: 'spinners', 23859: 'meshe', 23860: 'businessand', 23861: 'thingsthis', 23862: 'abby', 23863: 'polaroids', 23864: 'bedrain', 23865: 'sayi', 23866: 'thingand', 23867: 'thingsall', 23868: 'eveningi', 23869: 'inno', 23870: 'solvedand', 23871: 'maven', 23872: 'ofno', 23873: 'applauseso', 23874: 'terrorism', 23875: 'longso', 23876: 'faultlet', 23877: 'wrongbut', 23878: 'sureon', 23879: 'helplet', 23880: 'sureyou', 23881: 'mineand', 23882: 'gamei', 23883: 'surethings', 23884: 'entirelylet', 23885: 'surei', 23886: 'muchand', 23887: 'thingi', 23888: 'thingoh', 23889: 'motheruckin', 23890: 'cirque', 23891: 'bootlegger', 23892: 'watson', 23893: 'denny', 23894: 'graham', 23895: 'morningwake', 23896: 'graduationgood', 23897: 'morningon', 23898: 'thanggood', 23899: 'thisgood', 23900: 'downget', 23901: 'awayi', 23902: 'itfuckin', 23903: 'woahknow', 23904: 'knowdeep', 23905: 'testimony', 23906: 'lifehigh', 23907: 'mineone', 23908: 'malone', 23909: 'rahclose', 23910: 'nowi', 23911: 'papermoney', 23912: 'meayy', 23913: 'paperpablo', 23914: 'timeayy', 23915: 'sider', 23916: 'siderayy', 23917: 'ushold', 23918: 'durk', 23919: 'gasp', 23920: 'skrr', 23921: 'nameooh', 23922: 'backooh', 23923: 'sshhh', 23924: 'riotooh', 23925: 'widowhood', 23926: 'thundercloud', 23927: 'aristocrat', 23928: 'elegant', 23929: 'auld', 23930: 'syne', 23931: 'diz', 23932: 'stillborn', 23933: 'dispatching', 23934: 'hiroshima', 23935: 'fetus', 23936: 'lacing', 23937: 'scavengers', 23938: 'elaboration', 23939: 'recovering', 23940: 'paradox', 23941: 'maim', 23942: 'birthmark', 23943: 'items', 23944: 'ordeal', 23945: 'barbiturate', 23946: 'examine', 23947: 'clamp', 23948: 'reviews', 23949: 'garland', 23950: 'lanterns', 23951: 'lillies', 23952: 'hyacinth', 23953: 'scrapbook', 23954: 'ch', 23955: 'fiddles', 23956: 'cider', 23957: 'sweetened', 23958: 'lili', 23959: 'marlene', 23960: 'cautioned', 23961: 'frontiers', 23962: 'taient', 23963: 'chez', 23964: 'ils', 23965: 'dirent', 23966: 'peur', 23967: 'repris', 23968: 'chang', 23969: 'perdu', 23970: 'femme', 23971: 'enti', 23972: 'vieil', 23973: 'grenier', 23974: 'nuit', 23975: 'cach', 23976: 'pris', 23977: 'mort', 23978: 'cowardice', 23979: 'canadien', 23980: 'errant', 23981: 'banni', 23982: 'ses', 23983: 'foyers', 23984: 'hearths', 23985: 'triste', 23986: 'pensif', 23987: 'assis', 23988: 'bord', 23989: 'flots', 23990: 'vois', 23991: 'malheureux', 23992: 'jours', 23993: 'pleins', 23994: 'appas', 23995: 'disparus', 23996: 'queer', 23997: 'tiananmen', 23998: 'disorder', 23999: 'homicidal', 24000: 'amorous', 24001: 'parfois', 24002: 'pense', 24003: 'recr', 24004: 'merveille', 24005: 'prolonge', 24006: 'fleuve', 24007: 'mer', 24008: 'fleur', 24009: 'abeille', 24010: 'deviennent', 24011: 'doux', 24012: 'soie', 24013: 'velours', 24014: 'tournes', 24015: 'vers', 24016: 'nord', 24017: 'peu', 24018: 'attendre', 24019: 'matin', 24020: 'rejoins', 24021: 'sois', 24022: 'rivi', 24023: 'res', 24024: 'bec', 24025: 'montr', 24026: 'rues', 24027: 'transversales', 24028: 'laideur', 24029: 'atteint', 24030: 'aimerai', 24031: 'jusqu', 24032: 'ternelle', 24033: 'fanfarons', 24034: 'coeur', 24035: 'tous', 24036: 'bons', 24037: 'larrons', 24038: 'clou', 24039: 'leurs', 24040: 'guitare', 24041: 'accord', 24042: 'passer', 24043: 'temps', 24044: 'joue', 24045: 'danse', 24046: 'disant', 24047: 'tellement', 24048: 'lirai', 24049: 'beaucoup', 24050: 'ceux', 24051: 'aiment', 24052: 'ransomed', 24053: 'brokenness', 24054: 'arbitrary', 24055: 'concealing', 24056: 'undivided', 24057: 'purify', 24058: 'yearns', 24059: 'sternly', 24060: 'wince', 24061: 'honeymoon', 24062: 'sentries', 24063: 'upheld', 24064: 'simplicities', 24065: 'formlessly', 24066: 'entwine', 24067: 'widest', 24068: 'fitful', 24069: 'firmly', 24070: 'commitments', 24071: 'uncrossed', 24072: 'sonata', 24073: 'nightingales', 24074: 'assert', 24075: 'aerial', 24076: 'unpinned', 24077: 'hatchets', 24078: 'lapel', 24079: 'blondest', 24080: 'streamers', 24081: 'irving', 24082: 'layton', 24083: 'tightened', 24084: 'rig', 24085: 'tuning', 24086: 'unwired', 24087: 'sainthood', 24088: 'stormed', 24089: 'nakedness', 24090: 'unmanned', 24091: 'repast', 24092: 'earnestly', 24093: 'revanche', 24094: 'vole', 24095: 'evergreen', 24096: 'descent', 24097: 'lebanese', 24098: 'disabilities', 24099: 'transgendered', 24100: 'eyeliner', 24101: 'lysol', 24102: 'pocko', 24103: 'glossy', 24104: 'slurred', 24105: 'johnnie', 24106: 'purely', 24107: 'biblical', 24108: 'cultural', 24109: 'offenced', 24110: 'giggles', 24111: 'rhymed', 24112: 'indicated', 24113: 'passionately', 24114: 'glamaphonic', 24115: 'kompai', 24116: 'jakarta', 24117: 'malaysia', 24118: 'finland', 24119: 'norway', 24120: 'bender', 24121: 'saline', 24122: 'inject', 24123: 'sylvia', 24124: 'benet', 24125: 'ramsey', 24126: 'liberace', 24127: 'kubrick', 24128: 'aphrod', 24129: 'isy', 24130: 'catwalk', 24131: 'donnez', 24132: 'louboutins', 24133: 'moin', 24134: 'ani', 24135: 'mal', 24136: 'shrew', 24137: 'objectified', 24138: 'heeled', 24139: 'enlisting', 24140: 'pontius', 24141: 'aggro', 24142: 'furied', 24143: 'mourir', 24144: 'toute', 24145: 'seule', 24146: 'liberdad', 24147: 'floral', 24148: 'barrio', 24149: 'revoluci', 24150: 'duele', 24151: 'generaci', 24152: 'verano', 24153: 'agosto', 24154: 'campanas', 24155: 'sonando', 24156: 'besando', 24157: 'unravel', 24158: 'knockoff', 24159: 'fulton', 24160: 'naughtier', 24161: 'loveth', 24162: 'waikii', 24163: 'azalea', 24164: 'supportin', 24165: 'headset', 24166: 'recommend', 24167: 'tweakin', 24168: 'playlist', 24169: 'spoilers', 24170: 'dagga', 24171: 'martini', 24172: 'eros', 24173: 'unearth', 24174: 'sechzen', 24175: 'popstar', 24176: 'anorexic', 24177: 'silks', 24178: 'stairway', 24179: 'brigitte', 24180: 'nielsen', 24181: 'lockup', 24182: 'simplest', 24183: 'palette', 24184: 'burga', 24185: 'choreograph', 24186: 'newman', 24187: 'dink', 24188: 'himeros', 24189: 'sechzehn', 24190: 'anit', 24191: 'homeland', 24192: 'taffeta', 24193: 'tiara', 24194: 'vita', 24195: 'boulangerie', 24196: 'taipei', 24197: 'prisms', 24198: 'minnows', 24199: 'niggahunnid', 24200: 'sincenigga', 24201: 'finery', 24202: 'craters', 24203: 'shards', 24204: 'competing', 24205: 'reveled', 24206: 'ruse', 24207: 'abnormally', 24208: 'calculation', 24209: 'swordplay', 24210: 'archaic', 24211: 'gladiate', 24212: 'behaviour', 24213: 'admirers', 24214: 'molars', 24215: 'jerks', 24216: 'humid', 24217: 'shameful', 24218: 'overstayed', 24219: 'buzzcut', 24220: 'sidewalks', 24221: 'sarlatan', 24222: 'dely', 24223: 'nixgahunnid', 24224: 'sincenixga', 24225: 'dooo', 24226: 'nightly', 24227: 'harem', 24228: 'dollop', 24229: 'confides', 24230: 'uniquely', 24231: 'embezzling', 24232: 'prosperous', 24233: 'courted', 24234: 'escorted', 24235: 'extorted', 24236: 'quarterly', 24237: 'mortally', 24238: 'prospects', 24239: 'consistency', 24240: 'allies', 24241: 'congressional', 24242: 'tyranny', 24243: 'meddling', 24244: 'military', 24245: 'kingless', 24246: 'disquieting', 24247: 'witted', 24248: 'defended', 24249: 'deliverance', 24250: 'overwhelm', 24251: 'pamphlet', 24252: 'pseudonym', 24253: 'defeating', 24254: 'partisan', 24255: 'outlives', 24256: 'reviewing', 24257: 'intentional', 24258: 'nevertheless', 24259: 'defects', 24260: 'errors', 24261: 'zeal', 24262: 'incompetent', 24263: 'abilities', 24264: 'consigned', 24265: 'enjoyment', 24266: 'partaking', 24267: 'benign', 24268: 'labors', 24269: 'dangers', 24270: 'quaker', 24271: 'delegation', 24272: 'abolish', 24273: 'legislate', 24274: 'banning', 24275: 'plantation', 24276: 'makers', 24277: 'legislators', 24278: 'institutionalizing', 24279: 'multiplies', 24280: 'population', 24281: 'subjugate', 24282: 'dehumanize', 24283: 'foresee', 24284: 'lemmings', 24285: 'hemming', 24286: 'hemings', 24287: 'precedent', 24288: 'reassure', 24289: 'importation', 24290: 'slandering', 24291: 'huffing', 24292: 'suffocate', 24293: 'resuscitates', 24294: 'spewing', 24295: 'spiralled', 24296: 'skyward', 24297: 'luster', 24298: 'flustered', 24299: 'muster', 24300: 'buzzards', 24301: 'hussy', 24302: 'fusses', 24303: 'skulls', 24304: 'meoww', 24305: 'autotunes', 24306: 'kilpatrick', 24307: 'gossipin', 24308: 'hive', 24309: 'shi', 24310: 'ine', 24311: 'cooperating', 24312: 'ovulating', 24313: 'complicating', 24314: 'hellions', 24315: 'rebellious', 24316: 'pollutin', 24317: 'kshh', 24318: 'antenna', 24319: 'infesting', 24320: 'nesting', 24321: 'tiskit', 24322: 'taskit', 24323: 'kirkpatrick', 24324: 'bizkit', 24325: 'moby', 24326: 'techno', 24327: 'suspenseful', 24328: 'presley', 24329: 'selfishly', 24330: 'psyched', 24331: 'manservant', 24332: 'comedian', 24333: 'edna', 24334: 'swirls', 24335: 'twirls', 24336: 'sheltered', 24337: 'backfires', 24338: 'chalmers', 24339: 'novara', 24340: 'darkens', 24341: 'dawned', 24342: 'enlighten', 24343: 'realise', 24344: 'sidekick', 24345: 'questionin', 24346: 'mentor', 24347: 'moose', 24348: 'discovery', 24349: 'cantaloupes', 24350: 'antelopes', 24351: 'elope', 24352: 'aguilera', 24353: 'daly', 24354: 'valiums', 24355: 'pinching', 24356: 'jergens', 24357: 'spitten', 24358: 'flarin', 24359: 'witnessin', 24360: 'throuh', 24361: 'munchausen', 24362: 'wildflower', 24363: 'vouchers', 24364: 'bibles', 24365: 'outweighing', 24366: 'cartermatic', 24367: 'perk', 24368: 'bogarted', 24369: 'roasted', 24370: 'marsh', 24371: 'toppling', 24372: 'dribble', 24373: 'pinning', 24374: 'penicillin', 24375: 'amoxicillin', 24376: 'listeners', 24377: 'fizzing', 24378: 'shizzle', 24379: 'whizzle', 24380: 'bizzles', 24381: 'slizzle', 24382: 'outkast', 24383: 'kurupt', 24384: 'battling', 24385: 'cranbrooke', 24386: 'capella', 24387: 'partial', 24388: 'stool', 24389: 'wody', 24390: 'tampax', 24391: 'torturous', 24392: 'sorceress', 24393: 'evol', 24394: 'mofuckin', 24395: 'bloodsucking', 24396: 'succubuses', 24397: 'supernova', 24398: 'lengths', 24399: 'geez', 24400: 'theatre', 24401: 'attorney', 24402: 'hilary', 24403: 'whiff', 24404: 'nuld', 24405: 'dowwwn', 24406: 'gwen', 24407: 'stefani', 24408: 'contortionist', 24409: 'jenna', 24410: 'rascal', 24411: 'monotony', 24412: 'zigzags', 24413: 'blurt', 24414: 'dispensing', 24415: 'responses', 24416: 'wigga', 24417: 'crunked', 24418: 'rubbed', 24419: 'faceted', 24420: 'pasted', 24421: 'shoestring', 24422: 'dehydrated', 24423: 'vibrated', 24424: 'revibed', 24425: 'gyrated', 24426: 'hygienist', 24427: 'fluoride', 24428: 'bubbuly', 24429: 'val', 24430: 'chiever', 24431: 'complaints', 24432: 'painkillers', 24433: 'pharmaceuticals', 24434: 'xanax', 24435: 'ledger', 24436: 'bobblehead', 24437: 'uplook', 24438: 'pacs', 24439: 'dyed', 24440: 'allows', 24441: 'swearing', 24442: 'intertwining', 24443: 'sanctum', 24444: 'metamorphosis', 24445: 'porches', 24446: 'journalists', 24447: 'attorneys', 24448: 'canon', 24449: 'produce', 24450: 'handguns', 24451: 'prosecutors', 24452: 'convict', 24453: 'religiously', 24454: 'fingerprint', 24455: 'literal', 24456: 'guerrera', 24457: 'protectin', 24458: 'ignoramus', 24459: 'hasko', 24460: 'wally', 24461: 'cleaver', 24462: 'steroid', 24463: 'bloo', 24464: 'hipidi', 24465: 'boob', 24466: 'suspensful', 24467: 'ohhhhhhhhh', 24468: 'gaffle', 24469: 'renee', 24470: 'smearin', 24471: 'earlobe', 24472: 'sundoobiest', 24473: 'hauled', 24474: 'slittin', 24475: 'molestation', 24476: 'accusation', 24477: 'metaphor', 24478: 'bung', 24479: 'crusin', 24480: 'gouge', 24481: 'teletubie', 24482: 'appeasin', 24483: 'bitching', 24484: 'munchhausen', 24485: 'haley', 24486: 'zantac', 24487: 'ant', 24488: 'kardashians', 24489: 'gluteus', 24490: 'maximus', 24491: 'squish', 24492: 'enforcer', 24493: 'portia', 24494: 'degeneres', 24495: 'ventolin', 24496: 'ritalin', 24497: 'binge', 24498: 'mayer', 24499: 'alfalfa', 24500: 'shrinked', 24501: 'rapes', 24502: 'assaults', 24503: 'diabolic', 24504: 'tusk', 24505: 'disgusts', 24506: 'mushed', 24507: 'worcestershire', 24508: 'dammed', 24509: 'dorado', 24510: 'vinyl', 24511: 'precision', 24512: 'maaco', 24513: 'waco', 24514: 'introducing', 24515: 'napalm', 24516: 'shaun', 24517: 'caking', 24518: 'mothefucking', 24519: 'outty', 24520: 'perfectness', 24521: 'divorcing', 24522: 'helplessness', 24523: 'vindictive', 24524: 'az', 24525: 'ingrained', 24526: 'shitstain', 24527: 'unlearn', 24528: 'pondered', 24529: 'artform', 24530: 'pluggin', 24531: 'kabillion', 24532: 'spawns', 24533: 'recycling', 24534: 'indulgent', 24535: 'uprise', 24536: 'supplies', 24537: 'eggshells', 24538: 'nips', 24539: 'senna', 24540: 'indy', 24541: 'soho', 24542: 'wynonna', 24543: 'fairies', 24544: 'sketchy', 24545: 'headfirst', 24546: 'brunt', 24547: 'belongings', 24548: 'fixable', 24549: 'changeable', 24550: 'rightfully', 24551: 'deteriorating', 24552: 'overwhelming', 24553: 'scoffing', 24554: 'defying', 24555: 'complying', 24556: 'psychologist', 24557: 'diagnose', 24558: 'underlying', 24559: 'chalking', 24560: 'drawings', 24561: 'nogging', 24562: 'boggling', 24563: 'obsess', 24564: 'acquired', 24565: 'jottin', 24566: 'comics', 24567: 'crosswords', 24568: 'dawkins', 24569: 'supplying', 24570: 'baldingers', 24571: 'diabolical', 24572: 'exalting', 24573: 'halting', 24574: 'autopilot', 24575: 'bloomers', 24576: 'bradys', 24577: 'linguistics', 24578: 'mystical', 24579: 'ballistics', 24580: 'euphoric', 24581: 'kevorkian', 24582: 'vicinity', 24583: 'spitted', 24584: 'captivated', 24585: 'agitated', 24586: 'aggravated', 24587: 'decapitated', 24588: 'fascinatin', 24589: 'affidavit', 24590: 'debater', 24591: 'masturbator', 24592: 'activator', 24593: 'evader', 24594: 'lator', 24595: 'ejaculator', 24596: 'exaggeratin', 24597: 'reeves', 24598: 'moshpit', 24599: 'hallucinate', 24600: 'parmesian', 24601: 'fulla', 24602: 'rollerblade', 24603: 'oki', 24604: 'dok', 24605: 'hijacked', 24606: 'vacuums', 24607: 'demonic', 24608: 'rebuilding', 24609: 'brightside', 24610: 'asserted', 24611: 'converted', 24612: 'familiarize', 24613: 'motherfreaking', 24614: 'healin', 24615: 'fireproof', 24616: 'retardant', 24617: 'withstood', 24618: 'remaining', 24619: 'perspire', 24620: 'snowmobiles', 24621: 'skis', 24622: 'cubes', 24623: 'bloodier', 24624: 'temp', 24625: 'millennium', 24626: 'gritted', 24627: 'escalated', 24628: 'receptionist', 24629: 'publication', 24630: 'inc', 24631: 'runyon', 24632: 'perfecter', 24633: 'coping', 24634: 'lickilty', 24635: 'handgun', 24636: 'hillbilly', 24637: 'nelson', 24638: 'chedder', 24639: 'carrots', 24640: 'freestlyes', 24641: 'jerked', 24642: 'generic', 24643: 'wickitly', 24644: 'lickity', 24645: 'spick', 24646: 'spickety', 24647: 'splyt', 24648: 'tasin', 24649: 'olives', 24650: 'beanie', 24651: 'tobasco', 24652: 'mustsanot', 24653: 'cosmos', 24654: 'picasso', 24655: 'exacto', 24656: 'lasso', 24657: 'zags', 24658: 'crossbones', 24659: 'novato', 24660: 'niether', 24661: 'submitting', 24662: 'dahmer', 24663: 'topping', 24664: 'chronological', 24665: 'penance', 24666: 'stillunbelievable', 24667: 'titanium', 24668: 'stereos', 24669: 'hag', 24670: 'bish', 24671: 'vintage', 24672: 'mcing', 24673: 'stimpy', 24674: 'crispy', 24675: 'aftershave', 24676: 'yessiree', 24677: 'lathered', 24678: 'kangols', 24679: 'carhartt', 24680: 'cargos', 24681: 'brained', 24682: 'politic', 24683: 'seamstress', 24684: 'conan', 24685: 'juggernauts', 24686: 'spookier', 24687: 'mumbling', 24688: 'skipper', 24689: 'flipper', 24690: 'triddip', 24691: 'shiddit', 24692: 'fif', 24693: 'enveloped', 24694: 'fellowship', 24695: 'mizz', 24696: 'ath', 24697: 'izz', 24698: 'hizzon', 24699: 'fizz', 24700: 'uckin', 24701: 'slumped', 24702: 'hk', 24703: 'thrived', 24704: 'dappadon', 24705: 'cappa', 24706: 'creams', 24707: 'lloyd', 24708: 'akward', 24709: 'hailey', 24710: 'lainey', 24711: 'hallie', 24712: 'archie', 24713: 'sliced', 24714: 'panics', 24715: 'bleachin', 24716: 'catapult', 24717: 'forefront', 24718: 'impact', 24719: 'shoveled', 24720: 'dumping', 24721: 'squirts', 24722: 'tightenin', 24723: 'activists', 24724: 'raggin', 24725: 'spokesman', 24726: 'derringer', 24727: 'parental', 24728: 'advisory', 24729: 'ness', 24730: 'embarrassment', 24731: 'scab', 24732: 'emptying', 24733: 'calmed', 24734: 'mains', 24735: 'firearm', 24736: 'mommer', 24737: 'adverbs', 24738: 'irresponsible', 24739: 'itches', 24740: 'strapping', 24741: 'esham', 24742: 'ozzy', 24743: 'manhood', 24744: 'vicked', 24745: 'regain', 24746: 'buries', 24747: 'pigeonholed', 24748: 'authenticity', 24749: 'lunchline', 24750: 'skeptical', 24751: 'battlin', 24752: 'overloads', 24753: 'median', 24754: 'btov', 24755: 'tropicana', 24756: 'annually', 24757: 'ooze', 24758: 'matinee', 24759: 'shaddy', 24760: 'ruxpin', 24761: 'naaw', 24762: 'mower', 24763: 'mainiac', 24764: 'felch', 24765: 'felched', 24766: 'felching', 24767: 'belching', 24768: 'yelping', 24769: 'sitter', 24770: 'pubic', 24771: 'dicted', 24772: 'frigity', 24773: 'stickity', 24774: 'mickity', 24775: 'bickity', 24776: 'wickity', 24777: 'fickity', 24778: 'surreal', 24779: 'shavin', 24780: 'rott', 24781: 'boxin', 24782: 'toppin', 24783: 'chopping', 24784: 'parkinson', 24785: 'dementia', 24786: 'sadist', 24787: 'blanking', 24788: 'veiny', 24789: 'kemosabe', 24790: 'brainer', 24791: 'cobainer', 24792: 'lorena', 24793: 'bobbit', 24794: 'weiner', 24795: 'armpits', 24796: 'crumpet', 24797: 'cuisinart', 24798: 'prerequisite', 24799: 'booger', 24800: 'nchhausen', 24801: 'proxy', 24802: 'humvee', 24803: 'squee', 24804: 'lifesavers', 24805: 'razors', 24806: 'als', 24807: 'backstabber', 24808: 'chinky', 24809: 'affinity', 24810: 'witty', 24811: 'banter', 24812: 'foulplay', 24813: 'laimbeer', 24814: 'scoreboard', 24815: 'loathing', 24816: 'harda', 24817: 'felonies', 24818: 'tomorra', 24819: 'rightful', 24820: 'aspergers', 24821: 'fricken', 24822: 'conditioning', 24823: 'frizzin', 24824: 'prism', 24825: 'masochism', 24826: 'adjective', 24827: 'forgetfully', 24828: 'sacheted', 24829: 'scalar', 24830: 'skylar', 24831: 'tyler', 24832: 'aults', 24833: 'gauntlet', 24834: 'purplish', 24835: 'ndamukong', 24836: 'cougars', 24837: 'indigestion', 24838: 'kaopectate', 24839: 'spectate', 24840: 'airhead', 24841: 'catchphrase', 24842: 'storage', 24843: 'headspace', 24844: 'headcase', 24845: 'peed', 24846: 'migrains', 24847: 'joes', 24848: 'iko', 24849: 'nightpost', 24850: 'dyko', 24851: 'davidson', 24852: 'menstrual', 24853: 'libel', 24854: 'tucket', 24855: 'traits', 24856: 'gravitate', 24857: 'dorritos', 24858: 'cheetos', 24859: 'cowboys', 24860: 'buccaneers', 24861: 'halfed', 24862: 'gla', 24863: 'asinine', 24864: 'deshaun', 24865: 'inducing', 24866: 'insomniac', 24867: 'nomonia', 24868: 'bologna', 24869: 'methadone', 24870: 'hydrocodone', 24871: 'pornos', 24872: 'elaina', 24873: 'cuevo', 24874: 'navel', 24875: 'fishy', 24876: 'huggy', 24877: 'organic', 24878: 'camcordin', 24879: 'alignment', 24880: 'winehouse', 24881: 'schnapps', 24882: 'hex', 24883: 'clingin', 24884: 'sobbin', 24885: 'carcus', 24886: 'marshals', 24887: 'venue', 24888: 'mozeltoff', 24889: 'wizzed', 24890: 'haulin', 24891: 'acapellas', 24892: 'babes', 24893: 'protools', 24894: 'intect', 24895: 'kon', 24896: 'popularest', 24897: 'rotator', 24898: 'deflate', 24899: 'hyping', 24900: 'angrier', 24901: 'consists', 24902: 'diploma', 24903: 'pried', 24904: 'rs', 24905: 'buh', 24906: 'lieve', 24907: 'ceed', 24908: 'teem', 24909: 'bul', 24910: 'llergic', 24911: 'ime', 24912: 'atchoo', 24913: 'mastering', 24914: 'nutted', 24915: 'ejaculated', 24916: 'prematurely', 24917: 'hurling', 24918: 'airplay', 24919: 'alcholic', 24920: 'pounce', 24921: 'jibs', 24922: 'fibs', 24923: 'voicemails', 24924: 'luis', 24925: 'comparisons', 24926: 'anomaly', 24927: 'acknowledging', 24928: 'raper', 24929: 'classmate', 24930: 'graded', 24931: 'reversing', 24932: 'amazingly', 24933: 'wordy', 24934: 'brainy', 24935: 'nerdy', 24936: 'blatantly', 24937: 'insanely', 24938: 'rapey', 24939: 'scurvy', 24940: 'murdering', 24941: 'thermos', 24942: 'urinating', 24943: 'patriots', 24944: 'inexplicable', 24945: 'terrier', 24946: 'despicable', 24947: 'coulter', 24948: 'trample', 24949: 'philando', 24950: 'commando', 24951: 'drumpf', 24952: 'bronco', 24953: 'michel', 24954: 'medium', 24955: 'welt', 24956: 'lowkey', 24957: 'summit', 24958: 'plummet', 24959: 'hallucinogens', 24960: 'headstrong', 24961: 'blowout', 24962: 'upstaged', 24963: 'miraculous', 24964: 'detractors', 24965: 'renegade', 24966: 'pent', 24967: 'metaphors', 24968: 'riddick', 24969: 'bowe', 24970: 'ode', 24971: 'launched', 24972: 'collarbone', 24973: 'prolong', 24974: 'shakur', 24975: 'cerebral', 24976: 'meanness', 24977: 'farina', 24978: 'burgers', 24979: 'peanuts', 24980: 'khalil', 24981: 'commons', 24982: 'raping', 24983: 'abusing', 24984: 'snorting', 24985: 'venomous', 24986: 'volatile', 24987: 'vicadin', 24988: 'vrinn', 24989: 'danglin', 24990: 'develop', 24991: 'sodomize', 24992: 'impulse', 24993: 'bloodstain', 24994: 'shrinks', 24995: 'threece', 24996: 'outweigh', 24997: 'ratings', 24998: 'announcer', 24999: 'principal', 25000: 'counselor', 25001: 'eggin', 25002: 'quesadilla', 25003: 'censors', 25004: 'pez', 25005: 'dispenser', 25006: 'unclench', 25007: 'ooooooooooooooohhhhhhhhhhh', 25008: 'weeelllll', 25009: 'crafty', 25010: 'bettin', 25011: 'satellites', 25012: 'seedy', 25013: 'crankin', 25014: 'ccr', 25015: 'convincing', 25016: 'baiting', 25017: 'charlatan', 25018: 'suppression', 25019: 'weakest', 25020: 'congressman', 25021: 'bradley', 25022: 'darcy', 25023: 'backroads', 25024: 'chases', 25025: 'naming', 25026: 'nsa', 25027: 'finders', 25028: 'baywatch', 25029: 'overlooks', 25030: 'bock', 25031: 'psychological', 25032: 'mesmerised', 25033: 'purposes', 25034: 'deere', 25035: 'prim', 25036: 'hef', 25037: 'doormat', 25038: 'tamper', 25039: 'presently', 25040: 'sorted', 25041: 'conversaton', 25042: 'constint', 25043: 'sugarcoat', 25044: 'primadonna', 25045: 'heff', 25046: 'favorable', 25047: 'bikers', 25048: 'hymen', 25049: 'gazley', 25050: 'sores', 25051: 'overbored', 25052: 'mullato', 25053: 'reproductive', 25054: 'sterling', 25055: 'duluth', 25056: 'rabid', 25057: 'flavored', 25058: 'antacids', 25059: 'neutered', 25060: 'spayed', 25061: 'aplain', 25062: 'knowning', 25063: 'withness', 25064: 'puget', 25065: 'brooke', 25066: 'angst', 25067: 'potatos', 25068: 'commemorative', 25069: 'accumulated', 25070: 'scaled', 25071: 'beautify', 25072: 'foothills', 25073: 'illustrated', 25074: 'greenland', 25075: 'cultures', 25076: 'yolk', 25077: 'castrated', 25078: 'capsules', 25079: 'quirky', 25080: 'cliche', 25081: 'gingivitis', 25082: 'opposites', 25083: 'attract', 25084: 'portray', 25085: 'lobotomies', 25086: 'surrealistic', 25087: 'pessimist', 25088: 'hypocrite', 25089: 'communist', 25090: 'apocalyptic', 25091: 'privileged', 25092: 'clanks', 25093: 'observes', 25094: 'opie', 25095: 'detain', 25096: 'endorphns', 25097: 'eyesight', 25098: 'skeletal', 25099: 'alliance', 25100: 'minerals', 25101: 'improvised', 25102: 'supervised', 25103: 'rised', 25104: 'arosed', 25105: 'region', 25106: 'credentials', 25107: 'potentially', 25108: 'exhume', 25109: 'scabs', 25110: 'cornered', 25111: 'hoses', 25112: 'graze', 25113: 'electrolytes', 25114: 'soll', 25115: 'fertilize', 25116: 'mushrooms', 25117: 'admittance', 25118: 'heresy', 25119: 'contradictionary', 25120: 'illiterature', 25121: 'hosing', 25122: 'maternal', 25123: 'fropper', 25124: 'knocker', 25125: 'staller', 25126: 'madina', 25127: 'iz', 25128: 'fellaz', 25129: 'robotic', 25130: 'systematica', 25131: 'elliot', 25132: 'putyo', 25133: 'ciaras', 25134: 'gurl', 25135: 'struttin', 25136: 'freshened', 25137: 'ohooh', 25138: 'atari', 25139: 'lait', 25140: 'daeaea', 25141: 'yeaeaa', 25142: 'rockwilder', 25143: 'topped', 25144: 'mopped', 25145: 'shing', 25146: 'lax', 25147: 'axed', 25148: 'bootay', 25149: 'groupay', 25150: 'hoochay', 25151: 'tabloids', 25152: 'sug', 25153: 'cellabut', 25154: 'gludius', 25155: 'mamajama', 25156: 'iffy', 25157: 'kiffy', 25158: 'skuur', 25159: 'kizzy', 25160: 'burberry', 25161: 'bight', 25162: 'bale', 25163: 'preganant', 25164: 'misssy', 25165: 'wannabes', 25166: 'soggy', 25167: 'payless', 25168: 'prissy', 25169: 'sacary', 25170: 'whoooo', 25171: 'woooooo', 25172: 'hehehee', 25173: 'hitter', 25174: 'spitter', 25175: 'hoomp', 25176: 'boomp', 25177: 'dahm', 25178: 'viper', 25179: 'yank', 25180: 'whooooooo', 25181: 'toasting', 25182: 'caveman', 25183: 'croissante', 25184: 'yvette', 25185: 'chevalier', 25186: 'effeil', 25187: 'baggette', 25188: 'gleamin', 25189: 'capac', 25190: 'wannn', 25191: 'pluckin', 25192: 'yugos', 25193: 'cemetarrrry', 25194: 'jeez', 25195: 'hoppers', 25196: 'neer', 25197: 'verbalize', 25198: 'chastise', 25199: 'jinga', 25200: 'enferno', 25201: 'committee', 25202: 'callosso', 25203: 'virgina', 25204: 'galactic', 25205: 'sizzling', 25206: 'hallah', 25207: 'fala', 25208: 'timbo', 25209: 'combo', 25210: 'gases', 25211: 'quazars', 25212: 'tize', 25213: 'circlize', 25214: 'comatize', 25215: 'hale', 25216: 'bopp', 25217: 'televise', 25218: 'ayyo', 25219: 'whacha', 25220: 'hike', 25221: 'trix', 25222: 'bonneville', 25223: 'stalker', 25224: 'skywalker', 25225: 'waldorf', 25226: 'cedrick', 25227: 'boochet', 25228: 'calla', 25229: 'bootycall', 25230: 'fianc', 25231: 'experiencing', 25232: 'slurry', 25233: 'crummy', 25234: 'gummy', 25235: 'kenwoods', 25236: 'fickidy', 25237: 'guzzled', 25238: 'forties', 25239: 'huskey', 25240: 'whaaat', 25241: 'payboy', 25242: 'bandannas', 25243: 'yesss', 25244: 'reas', 25245: 'pecked', 25246: 'ashanti', 25247: 'unfoolish', 25248: 'benzi', 25249: 'slimed', 25250: 'playah', 25251: 'underated', 25252: 'hesitaded', 25253: 'penetrated', 25254: 'lemonaded', 25255: 'centimeters', 25256: 'dialatin', 25257: 'ssh', 25258: 'greazy', 25259: 'delayin', 25260: 'swayin', 25261: 'shu', 25262: 'mamie', 25263: 'duna', 25264: 'rubba', 25265: 'celva', 25266: 'gamin', 25267: 'boggada', 25268: 'conser', 25269: 'internally', 25270: 'birdy', 25271: 'shelltoes', 25272: 'girlie', 25273: 'ruuuuuum', 25274: 'hender', 25275: 'gunna', 25276: 'pus', 25277: 'diane', 25278: 'florist', 25279: 'hummingbird', 25280: 'boz', 25281: 'tionne', 25282: 'indicot', 25283: 'lox', 25284: 'nightbox', 25285: 'bennigans', 25286: 'fennigan', 25287: 'sarafinna', 25288: 'subpeona', 25289: 'huhhh', 25290: 'heeeee', 25291: 'pllllllrrr', 25292: 'fita', 25293: 'lacks', 25294: 'willace', 25295: 'weet', 25296: 'niva', 25297: 'breat', 25298: 'selida', 25299: 'jocob', 25300: 'booming', 25301: 'detective', 25302: 'sketch', 25303: 'yorks', 25304: 'infections', 25305: 'corrections', 25306: 'aaaahhhhhhh', 25307: 'leary', 25308: 'zooooo', 25309: 'majorettes', 25310: 'bullhorn', 25311: 'discust', 25312: 'rift', 25313: 'rebound', 25314: 'kindin', 25315: 'babysitted', 25316: 'improve', 25317: 'realities', 25318: 'energized', 25319: 'hostess', 25320: 'nightclubs', 25321: 'catz', 25322: 'choosenly', 25323: 'keenan', 25324: 'fluid', 25325: 'hefers', 25326: 'lectures', 25327: 'stepper', 25328: 'nab', 25329: 'ridah', 25330: 'circumcise', 25331: 'dialin', 25332: 'babyyy', 25333: 'yeahyeaheyeahhh', 25334: 'ciggarettes', 25335: 'tooooy', 25336: 'battery', 25337: 'seng', 25338: 'hallucinations', 25339: 'transmit', 25340: 'villaveu', 25341: 'kosh', 25342: 'bigosh', 25343: 'iss', 25344: 'bumpenin', 25345: 'brezzle', 25346: 'mackalicious', 25347: 'blister', 25348: 'dental', 25349: 'nabbed', 25350: 'funkalicious', 25351: 'suckertash', 25352: 'farts', 25353: 'poops', 25354: 'womack', 25355: 'weedy', 25356: 'birdie', 25357: 'certy', 25358: 'amplifier', 25359: 'kotter', 25360: 'mercala', 25361: 'restinin', 25362: 'elbow', 25363: 'baloney', 25364: 'cubic', 25365: 'zirconia', 25366: 'pepe', 25367: 'lepew', 25368: 'ohhwee', 25369: 'superfreak', 25370: 'vex', 25371: 'affleck', 25372: 'stitching', 25373: 'weas', 25374: 'sm', 25375: 'pears', 25376: 'hibbie', 25377: 'chedda', 25378: 'pock', 25379: 'giimme', 25380: 'snares', 25381: 'tye', 25382: 'alota', 25383: 'boobetti', 25384: 'carrie', 25385: 'sugahs', 25386: 'mieans', 25387: 'taker', 25388: 'originator', 25389: 'imitator', 25390: 'verbatim', 25391: 'biters', 25392: 'monumental', 25393: 'decaf', 25394: 'krossed', 25395: 'summary', 25396: 'gwanna', 25397: 'sickin', 25398: 'southpaw', 25399: 'absolut', 25400: 'kneecaps', 25401: 'redman', 25402: 'urp', 25403: 'witcho', 25404: 'growling', 25405: 'whodie', 25406: 'casbah', 25407: 'stuffing', 25408: 'percussion', 25409: 'reconnect', 25410: 'bingin', 25411: 'timby', 25412: 'unrelevant', 25413: 'inning', 25414: 'gim', 25415: 'comers', 25416: 'whyne', 25417: 'hassle', 25418: 'angeldust', 25419: 'nookies', 25420: 'flexed', 25421: 'beaters', 25422: 'millimeter', 25423: 'highhill', 25424: 'dishie', 25425: 'breekies', 25426: 'norwich', 25427: 'pease', 25428: 'dicky', 25429: 'slough', 25430: 'thistle', 25431: 'pricked', 25432: 'sieve', 25433: 'pales', 25434: 'wooed', 25435: 'grocer', 25436: 'excepting', 25437: 'scuttle', 25438: 'bridle', 25439: 'dormouse', 25440: 'ster', 25441: 'deary', 25442: 'neary', 25443: 'quarrelsome', 25444: 'eldest', 25445: 'combing', 25446: 'woodbines', 25447: 'curtsey', 25448: 'porringer', 25449: 'pompey', 25450: 'dinkety', 25451: 'poppety', 25452: 'jog', 25453: 'fasted', 25454: 'instructed', 25455: 'stronghold', 25456: 'dapple', 25457: 'lashed', 25458: 'mire', 25459: 'crevice', 25460: 'flamed', 25461: 'belting', 25462: 'sowing', 25463: 'awooing', 25464: 'sirs', 25465: 'hoarse', 25466: 'stealer', 25467: 'dingty', 25468: 'diddledy', 25469: 'gilly', 25470: 'dairy', 25471: 'snips', 25472: 'medley', 25473: 'giblets', 25474: 'flapped', 25475: 'herrings', 25476: 'tups', 25477: 'twee', 25478: 'lengthening', 25479: 'lasses', 25480: 'nightgown', 25481: 'thriven', 25482: 'kyloe', 25483: 'broth', 25484: 'sacaradown', 25485: 'codlin', 25486: 'codlins', 25487: 'boar', 25488: 'goodly', 25489: 'pecks', 25490: 'thereof', 25491: 'mounted', 25492: 'maccaroni', 25493: 'playfellows', 25494: 'halfpenny', 25495: 'ploughed', 25496: 'peppercorn', 25497: 'harrowed', 25498: 'bramble', 25499: 'reaped', 25500: 'banbury', 25501: 'twopenny', 25502: 'prod', 25503: 'arithmetic', 25504: 'vexation', 25505: 'varied', 25506: 'woodcock', 25507: 'thrice', 25508: 'candlestick', 25509: 'tuffet', 25510: 'curds', 25511: 'whey', 25512: 'roundelay', 25513: 'trowel', 25514: 'rook', 25515: 'tarries', 25516: 'heaved', 25517: 'shepherdess', 25518: 'nan', 25519: 'paddocks', 25520: 'benison', 25521: 'chandler', 25522: 'stript', 25523: 'clouting', 25524: 'shoon', 25525: 'lackey', 25526: 'apace', 25527: 'dob', 25528: 'patched', 25529: 'rigs', 25530: 'tongs', 25531: 'noddle', 25532: 'fourscore', 25533: 'footed', 25534: 'obstinate', 25535: 'lapped', 25536: 'rous', 25537: 'quickset', 25538: 'plaguy', 25539: 'eke', 25540: 'sentinel', 25541: 'belabour', 25542: 'famed', 25543: 'harlequin', 25544: 'resolving', 25545: 'satur', 25546: 'wainscot', 25547: 'daintiest', 25548: 'nutmeg', 25549: 'trumps', 25550: 'shearing', 25551: 'anon', 25552: 'silking', 25553: 'bridled', 25554: 'saddled', 25555: 'garters', 25556: 'hayfield', 25557: 'thaws', 25558: 'scatters', 25559: 'fleecy', 25560: 'tulips', 25561: 'posies', 25562: 'apricots', 25563: 'gillyflowers', 25564: 'sportsmen', 25565: 'sweetmeats', 25566: 'packet', 25567: 'delve', 25568: 'cockle', 25569: 'prentice', 25570: 'chancing', 25571: 'wiggie', 25572: 'flattering', 25573: 'mayst', 25574: 'feetikins', 25575: 'nichts', 25576: 'lightened', 25577: 'bonfire', 25578: 'trow', 25579: 'huzza', 25580: 'heighty', 25581: 'gamberally', 25582: 'higgledy', 25583: 'piggledy', 25584: 'trotting', 25585: 'redbreasts', 25586: 'lugs', 25587: 'labour', 25588: 'threshing', 25589: 'pastry', 25590: 'slates', 25591: 'bonner', 25592: 'turnips', 25593: 'taff', 25594: 'naught', 25595: 'esquire', 25596: 'insolent', 25597: 'gamester', 25598: 'innkeeper', 25599: 'bouse', 25600: 'joiner', 25601: 'miser', 25602: 'hoarded', 25603: 'usurer', 25604: 'vintner', 25605: 'contrive', 25606: 'stout', 25607: 'spry', 25608: 'plaster', 25609: 'tripe', 25610: 'tavern', 25611: 'hatter', 25612: 'fruiterer', 25613: 'sempster', 25614: 'hosier', 25615: 'curtsy', 25616: 'hickety', 25617: 'pickety', 25618: 'nory', 25619: 'committing', 25620: 'mutts', 25621: 'span', 25622: 'roly', 25623: 'poly', 25624: 'scatterlings', 25625: 'architecture', 25626: 'detention', 25627: 'misconstrued', 25628: 'shielded', 25629: 'trampoline', 25630: 'dolores', 25631: 'overpowering', 25632: 'consummated', 25633: 'underage', 25634: 'amp', 25635: 'sunshiny', 25636: 'shattering', 25637: 'baboon', 25638: 'staccato', 25639: 'affiliation', 25640: 'vivant', 25641: 'reassuringly', 25642: 'mayflower', 25643: 'bookends', 25644: 'overcoats', 25645: 'sunnier', 25646: 'drizzle', 25647: 'continuing', 25648: 'diffused', 25649: 'crapped', 25650: 'hitchhike', 25651: 'gabardine', 25652: 'bowtie', 25653: 'overdone', 25654: 'cobble', 25655: 'riverside', 25656: 'skips', 25657: 'manuscripts', 25658: 'unpublished', 25659: 'swelled', 25660: 'chowder', 25661: 'maritimes', 25662: 'oowee', 25663: 'destituted', 25664: 'pentecost', 25665: 'silvergirl', 25666: 'fulbright', 25667: 'squandered', 25668: 'mumbles', 25669: 'jests', 25670: 'disregards', 25671: 'workman', 25672: 'reminders', 25673: 'pantry', 25674: 'cupcakes', 25675: 'robinsons', 25676: 'candidates', 25677: 'dimaggio', 25678: 'joltin', 25679: 'sangre', 25680: 'christo', 25681: 'coasts', 25682: 'consolations', 25683: 'misinformation', 25684: 'outrun', 25685: 'reconciled', 25686: 'elite', 25687: 'legalize', 25688: 'crinoline', 25689: 'displays', 25690: 'juniper', 25691: 'lamplight', 25692: 'doggedly', 25693: 'pertains', 25694: 'woven', 25695: 'indelibly', 25696: 'musty', 25697: 'emerges', 25698: 'conceals', 25699: 'capitol', 25700: 'habla', 25701: 'inglese', 25702: 'recalls', 25703: 'mineo', 25704: 'jumbled', 25705: 'splashes', 25706: 'maroon', 25707: 'cobblestones', 25708: 'lampost', 25709: 'morningtime', 25710: 'sloped', 25711: 'confer', 25712: 'management', 25713: 'zones', 25714: 'skirted', 25715: 'gerald', 25716: 'culkin', 25717: 'blancos', 25718: 'spic', 25719: 'capeman', 25720: 'groans', 25721: 'registers', 25722: 'photographed', 25723: 'surgeon', 25724: 'purifies', 25725: 'airports', 25726: 'newport', 25727: 'lorelei', 25728: 'speedoo', 25729: 'partment', 25730: 'rents', 25731: 'stillwater', 25732: 'projector', 25733: 'inward', 25734: 'cambric', 25735: 'tracing', 25736: 'needlework', 25737: 'bedclothes', 25738: 'clarion', 25739: 'sprinkling', 25740: 'strand', 25741: 'battalions', 25742: 'banyan', 25743: 'brujo', 25744: 'scuttles', 25745: 'rainwater', 25746: 'combined', 25747: 'saudocoes', 25748: 'licenca', 25749: 'lembro', 25750: 'tudo', 25751: 'naoa', 25752: 'paixao', 25753: 'sujo', 25754: 'sonho', 25755: 'cuidado', 25756: 'util', 25757: 'tarde', 25758: 'esmera', 25759: 'confia', 25760: 'forca', 25761: 'resumes', 25762: 'downhill', 25763: 'teaspoon', 25764: 'belladonna', 25765: 'halt', 25766: 'unscramble', 25767: 'examined', 25768: 'dominates', 25769: 'loathsome', 25770: 'jingling', 25771: 'mindless', 25772: 'cheques', 25773: 'flecked', 25774: 'relish', 25775: 'tenets', 25776: 'fiji', 25777: 'hokey', 25778: 'pokey', 25779: 'yoursrs', 25780: 'vowel', 25781: 'diggers', 25782: 'belve', 25783: 'activities', 25784: 'tendencies', 25785: 'feline', 25786: 'horrible', 25787: 'horrendous', 25788: 'dependents', 25789: 'asis', 25790: 'sy', 25791: 'causezi', 25792: 'hunred', 25793: 'baggies', 25794: 'acrobats', 25795: 'brawling', 25796: 'bawling', 25797: 'capes', 25798: 'swisha', 25799: 'forecast', 25800: 'bulldogs', 25801: 'hawking', 25802: 'thrashers', 25803: 'tsunami', 25804: 'neckbones', 25805: 'blackeyed', 25806: 'turnip', 25807: 'collard', 25808: 'dirtier', 25809: 'chitlings', 25810: 'biscuits', 25811: 'classical', 25812: 'ingredients', 25813: 'bama', 25814: 'tennessse', 25815: 'knights', 25816: 'birthplace', 25817: 'tomahawk', 25818: 'pirelliz', 25819: 'sumthan', 25820: 'dougherty', 25821: 'mammothz', 25822: 'mannar', 25823: 'camour', 25824: 'avannah', 25825: 'gulz', 25826: 'freaknik', 25827: 'confederate', 25828: 'nac', 25829: 'butterican', 25830: 'pican', 25831: 'calories', 25832: 'breaststroke', 25833: 'cinder', 25834: 'bbc', 25835: 'winna', 25836: 'distracting', 25837: 'abuses', 25838: 'bails', 25839: 'proportion', 25840: 'whoremones', 25841: 'horoscope', 25842: 'perpendicular', 25843: 'vehicular', 25844: 'hong', 25845: 'slagging', 25846: 'keysha', 25847: 'docs', 25848: 'preside', 25849: 'traffc', 25850: 'pausin', 25851: 'cordinate', 25852: 'swervin', 25853: 'atlantas', 25854: 'portorican', 25855: 'mardigra', 25856: 'mw', 25857: 'entorauge', 25858: 'scuffed', 25859: 'compartment', 25860: 'grille', 25861: 'ramp', 25862: 'pernium', 25863: 'barbeque', 25864: 'teared', 25865: 'smithereens', 25866: 'bentcha', 25867: 'steams', 25868: 'smacking', 25869: 'grands', 25870: 'babyface', 25871: 'babycakes', 25872: 'jabberjaws', 25873: 'tionary', 25874: 'orgasms', 25875: 'cussing', 25876: 'rammed', 25877: 'medallion', 25878: 'neckless', 25879: 'cutta', 25880: 'pros', 25881: 'chlorine', 25882: 'virginity', 25883: 'henessy', 25884: 'hipped', 25885: 'hanks', 25886: 'weeners', 25887: 'bosack', 25888: 'shagadelic', 25889: 'braud', 25890: 'cal', 25891: 'neptunes', 25892: 'hospitality', 25893: 'beemer', 25894: 'lovein', 25895: 'buckhead', 25896: 'blinging', 25897: 'karot', 25898: 'whup', 25899: 'grommie', 25900: 'leers', 25901: 'frosty', 25902: 'roasting', 25903: 'barbecue', 25904: 'eggnogs', 25905: 'xbox', 25906: 'hailing', 25907: 'zamunda', 25908: 'broccoli', 25909: 'oodles', 25910: 'pitbulls', 25911: 'airlines', 25912: 'vorhees', 25913: 'scrawny', 25914: 'tuxedos', 25915: 'devitos', 25916: 'bays', 25917: 'montego', 25918: 'ringo', 25919: 'sharpeis', 25920: 'clik', 25921: 'clak', 25922: 'kincaid', 25923: 'clintwood', 25924: 'clippers', 25925: 'infamous', 25926: 'toupee', 25927: 'overlap', 25928: 'hollows', 25929: 'shaw', 25930: 'murda', 25931: 'fledged', 25932: 'nutsacks', 25933: 'representas', 25934: 'armin', 25935: 'mafuckas', 25936: 'oze', 25937: 'burps', 25938: 'barretas', 25939: 'dmx', 25940: 'dominoes', 25941: 'plex', 25942: 'scramblers', 25943: 'compulsive', 25944: 'eying', 25945: 'sidebetters', 25946: 'auc', 25947: 'magillicutty', 25948: 'locamotion', 25949: 'fallatio', 25950: 'neglege', 25951: 'bodie', 25952: 'willa', 25953: 'figga', 25954: 'buddie', 25955: 'lova', 25956: 'woogies', 25957: 'merlot', 25958: 'willoughby', 25959: 'myrtle', 25960: 'hammertime', 25961: 'twi', 25962: 'cosmo', 25963: 'yapping', 25964: 'hoouse', 25965: 'leroys', 25966: 'assdaq', 25967: 'swip', 25968: 'virgos', 25969: 'fatties', 25970: 'trackmasters', 25971: 'fb', 25972: 'smusher', 25973: 'gusher', 25974: 'jang', 25975: 'effervescent', 25976: 'noggin', 25977: 'incogneg', 25978: 'friskier', 25979: 'krispier', 25980: 'kremes', 25981: 'claat', 25982: 'lubricated', 25983: 'challengers', 25984: 'dillingers', 25985: 'dillinger', 25986: 'brillo', 25987: 'aiyyo', 25988: 'murray', 25989: 'thickness', 25990: 'badoonka', 25991: 'donk', 25992: 'aphrodisiac', 25993: 'fubu', 25994: 'ummph', 25995: 'lefts', 25996: 'stevens', 25997: 'lottos', 25998: 'bks', 25999: 'airbrushed', 26000: 'barry', 26001: 'clayton', 26002: 'reiterate', 26003: 'invasions', 26004: 'flavas', 26005: 'paco', 26006: 'playboys', 26007: 'kangol', 26008: 'jamestown', 26009: 'hamwood', 26010: 'diplomats', 26011: 'transformers', 26012: 'thundercats', 26013: 'ditched', 26014: 'pouch', 26015: 'slouch', 26016: 'caprice', 26017: 'niss', 26018: 'pails', 26019: 'macks', 26020: 'kickers', 26021: 'courses', 26022: 'vipers', 26023: 'onlookers', 26024: 'breezing', 26025: 'gto', 26026: 'prix', 26027: 'regal', 26028: 'llacs', 26029: 'chevelle', 26030: 'skylarks', 26031: 'atv', 26032: 'camaro', 26033: 'navigators', 26034: 'expeditions', 26035: 'rovers', 26036: 'denali', 26037: 'vics', 26038: 'cutlass', 26039: 'toeing', 26040: 'muckle', 26041: 'mickle', 26042: 'chuckle', 26043: 'freckle', 26044: 'incorrect', 26045: 'nutten', 26046: 'mussin', 26047: 'surrogate', 26048: 'cerebellum', 26049: 'hookin', 26050: 'magilla', 26051: 'locomotion', 26052: 'dingaling', 26053: 'fellatio', 26054: 'negligee', 26055: 'backrubs', 26056: 'hideout', 26057: 'catastrophes', 26058: 'stormtrooper', 26059: 'bigfoots', 26060: 'wookies', 26061: 'fah', 26062: 'afta', 26063: 'stankin', 26064: 'roles', 26065: 'brights', 26066: 'dwellin', 26067: 'solutions', 26068: 'urkel', 26069: 'skrilla', 26070: 'texa', 26071: 'ledex', 26072: 'chicag', 26073: 'shondrae', 26074: 'mandy', 26075: 'valor', 26076: 'whorian', 26077: 'roomster', 26078: 'howhere', 26079: 'caldasac', 26080: 'fiendin', 26081: 'folder', 26082: 'bhs', 26083: 'supplier', 26084: 'resident', 26085: 'dopeboys', 26086: 'briefs', 26087: 'fiesty', 26088: 'hurst', 26089: 'clueless', 26090: 'mackers', 26091: 'cubicle', 26092: 'cuticle', 26093: 'freakiness', 26094: 'composures', 26095: 'edible', 26096: 'angelical', 26097: 'hypotheticals', 26098: 'grinin', 26099: 'cai', 26100: 'bullshitters', 26101: 'endeavors', 26102: 'principals', 26103: 'exercising', 26104: 'reverted', 26105: 'runaround', 26106: 'fertilizer', 26107: 'bitchs', 26108: 'forklift', 26109: 'sundae', 26110: 'acura', 26111: 'chickll', 26112: 'biv', 26113: 'devoe', 26114: 'ballplayer', 26115: 'cked', 26116: 'bankrupt', 26117: 'auctioner', 26118: 'sprintin', 26119: 'woody', 26120: 'amx', 26121: 'gabby', 26122: 'sidibe', 26123: 'titan', 26124: 'chiefing', 26125: 'essentials', 26126: 'sprawled', 26127: 'ops', 26128: 'ludas', 26129: 'cabins', 26130: 'hannible', 26131: 'ofa', 26132: 'banking', 26133: 'orangutan', 26134: 'divers', 26135: 'guacamole', 26136: 'youuuuuu', 26137: 'chewin', 26138: 'bubblegum', 26139: 'snithes', 26140: 'borrowin', 26141: 'cartridges', 26142: 'trainin', 26143: 'transportation', 26144: 'adjustin', 26145: 'confidant', 26146: 'competes', 26147: 'uuuuuuuup', 26148: 'manye', 26149: 'cartrage', 26150: 'netendo', 26151: 'botton', 26152: 'coner', 26153: 'eak', 26154: 'folkes', 26155: 'cocain', 26156: 'giraffe', 26157: 'cavities', 26158: 'equator', 26159: 'officials', 26160: 'lockers', 26161: 'maracas', 26162: 'yankers', 26163: 'oregon', 26164: 'torpedoes', 26165: 'rastas', 26166: 'costas', 26167: 'enlarger', 26168: 'stamp', 26169: 'tampons', 26170: 'croquet', 26171: 'roscoe', 26172: 'prosthetic', 26173: 'repellent', 26174: 'colostomy', 26175: 'minding', 26176: 'latina', 26177: 'herey', 26178: 'sanging', 26179: 'fray', 26180: 'courin', 26181: 'propels', 26182: 'pastimes', 26183: 'babbling', 26184: 'ginsu', 26185: 'disqualified', 26186: 'banneker', 26187: 'perfecting', 26188: 'goins', 26189: 'incorporated', 26190: 'alias', 26191: 'puma', 26192: 'stickers', 26193: 'knobs', 26194: 'slobbed', 26195: 'bloopers', 26196: 'junkyard', 26197: 'rowdier', 26198: 'meanface', 26199: 'woodworking', 26200: 'hacksaw', 26201: 'duggin', 26202: 'soopafly', 26203: 'snuka', 26204: 'salts', 26205: 'trol', 26206: 'hamstrings', 26207: 'geeked', 26208: 'beesh', 26209: 'scorpio', 26210: 'slouched', 26211: 'zagging', 26212: 'bowlegged', 26213: 'thoroughbred', 26214: 'maxing', 26215: 'teasers', 26216: 'henne', 26217: 'qp', 26218: 'crayola', 26219: 'div', 26220: 'idends', 26221: 'prehend', 26222: 'warrin', 26223: 'cascade', 26224: 'westwood', 26225: 'gittero', 26226: 'plaintiff', 26227: 'explorer', 26228: 'swipe', 26229: 'skinded', 26230: 'steerin', 26231: 'zha', 26232: 'meister', 26233: 'zillion', 26234: 'fillion', 26235: 'convertable', 26236: 'hud', 26237: 'perpetrators', 26238: 'biatch', 26239: 'pt', 26240: 'kushed', 26241: 'vsop', 26242: 'swishin', 26243: 'cleveland', 26244: 'sright', 26245: 'seve', 26246: 'geto', 26247: 'badussy', 26248: 'championship', 26249: 'quincy', 26250: 'flappin', 26251: 'bopped', 26252: 'oriol', 26253: 'sunflower', 26254: 'tendeness', 26255: 'lonelyness', 26256: 'tuch', 26257: 'trubled', 26258: 'carosels', 26259: 'prentending', 26260: 'relies', 26261: 'crumblin', 26262: 'mysery', 26263: 'oooooooh', 26264: 'oehoe', 26265: 'yoour', 26266: 'abd', 26267: 'raindbows', 26268: 'healthly', 26269: 'wether', 26270: 'juste', 26271: 'prolems', 26272: 'slipper', 26273: 'shal', 26274: 'eeny', 26275: 'weeny', 26276: 'teeny', 26277: 'harmonica', 26278: 'wanta', 26279: 'ouuuuuuuuuuuuuuuuuuuuuuuuuuuuh', 26280: 'whne', 26281: 'exhibition', 26282: 'cavalier', 26283: 'sensual', 26284: 'treacherous', 26285: 'cunnin', 26286: 'rubbin', 26287: 'spyin', 26288: 'terrors', 26289: 'chiller', 26290: 'vincent', 26291: 'midnite', 26292: 'terrorize', 26293: 'awl', 26294: 'whosoever', 26295: 'foulest', 26296: 'stench', 26297: 'ghouls', 26298: 'maniacal', 26299: 'tendoroni', 26300: 'disappointments', 26301: 'bringhten', 26302: 'popper', 26303: 'eleventh', 26304: 'suspicions', 26305: 'disregard', 26306: 'widow', 26307: 'harps', 26308: 'prestige', 26309: 'taunt', 26310: 'outway', 26311: 'resuscitation', 26312: 'heartbeats', 26313: 'intimidations', 26314: 'faraway', 26315: 'rebbie', 26316: 'predictions', 26317: 'talmud', 26318: 'contradict', 26319: 'streetwalkers', 26320: 'cleave', 26321: 'turtleneck', 26322: 'statistical', 26323: 'tacy', 26324: 'conceived', 26325: 'plowshares', 26326: 'frustrations', 26327: 'beliving', 26328: 'knowwhen', 26329: 'brotha', 26330: 'splendidly', 26331: 'amuse', 26332: 'divinity', 26333: 'stalked', 26334: 'sections', 26335: 'inhumanity', 26336: 'manipulation', 26337: 'scandalizin', 26338: 'wrongly', 26339: 'collusions', 26340: 'trepidation', 26341: 'proclamation', 26342: 'kremlin', 26343: 'belittlin', 26344: 'interrogator', 26345: 'endo', 26346: 'pitts', 26347: 'mehe', 26348: 'flowering', 26349: 'apathy', 26350: 'ravaging', 26351: 'surprisei', 26352: 'missioned', 26353: 'bsta', 26354: 'himright', 26355: 'saluting', 26356: 'trusts', 26357: 'loyalties', 26358: 'gluttoney', 26359: 'jabbers', 26360: 'mutilate', 26361: 'hysteria', 26362: 'homosexual', 26363: 'disrespectable', 26364: 'neal', 26365: 'realizm', 26366: 'organizm', 26367: 'twizm', 26368: 'prizm', 26369: 'crotch', 26370: 'dares', 26371: 'sullen', 26372: 'rejecting', 26373: 'neglection', 26374: 'unrelying', 26375: 'undesirable', 26376: 'reliable', 26377: 'goul', 26378: 'visualised', 26379: 'eccentrialities', 26380: 'grotesque', 26381: 'materialise', 26382: 'trickery', 26383: 'reveals', 26384: 'surfacing', 26385: 'deceitful', 26386: 'thriough', 26387: 'aboout', 26388: 'speechlessyour', 26389: 'dolby', 26390: 'chico', 26391: 'highpost', 26392: 'invading', 26393: 'harassed', 26394: 'assures', 26395: 'preoccupied', 26396: 'prays', 26397: 'embark', 26398: 'mumble', 26399: 'getto', 26400: 'compramise', 26401: 'aggrovator', 26402: 'indestructible', 26403: 'lier', 26404: 'intrudes', 26405: 'lunacy', 26406: 'cinema', 26407: 'chapters', 26408: 'dimelight', 26409: 'ahhhhhhhh', 26410: 'chcksthtshtshtsh', 26411: 'eah', 26412: 'zag', 26413: 'cannibal', 26414: 'cemetaries', 26415: 'crippin', 26416: 'shaded', 26417: 'stabs', 26418: 'helplessly', 26419: 'citing', 26420: 'ronny', 26421: 'brisa', 26422: 'acaricia', 26423: 'pregunto', 26424: 'amanece', 26425: 'aparece', 26426: 'feliz', 26427: 'querra', 26428: 'haces', 26429: 'deseos', 26430: 'suerte', 26431: 'gana', 26432: 'algo', 26433: 'sagrado', 26434: 'pasion', 26435: 'sabas', 26436: 'felicidad', 26437: 'noche', 26438: 'haz', 26439: 'quiera', 26440: 'madrugada', 26441: 'joven', 26442: 'sola', 26443: 'cambiaremos', 26444: 'manana', 26445: 'cantaremos', 26446: 'sobre', 26447: 'fue', 26448: 'diremos', 26449: 'tristeza', 26450: 'ferme', 26451: 'vreux', 26452: 'froid', 26453: 'appeler', 26454: 'prononcer', 26455: 'aimer', 26456: 'premi', 26457: 'besoin', 26458: 'emmener', 26459: 'finira', 26460: 'feu', 26461: 'bois', 26462: 'blottie', 26463: 'contre', 26464: 'bas', 26465: 'rends', 26466: 'folle', 26467: 'perd', 26468: 'fiert', 26469: 'tricher', 26470: 'danser', 26471: 'hiver', 26472: 'enfer', 26473: 'pouvoir', 26474: 'embrasser', 26475: 'penser', 26476: 'donner', 26477: 'avant', 26478: 'comptent', 26479: 'oubli', 26480: 'terre', 26481: 'trembler', 26482: 'guerre', 26483: 'clater', 26484: 'supporterai', 26485: 'brillera', 26486: 'vraiment', 26487: 'apport', 26488: 'donne', 26489: 'luchando', 26490: 'mamita', 26491: 'hazme', 26492: 'prestame', 26493: 'billon', 26494: 'coolin', 26495: 'pelican', 26496: 'moguls', 26497: 'dolo', 26498: 'sickenin', 26499: 'troy', 26500: 'nyquil', 26501: 'romaine', 26502: 'mayweather', 26503: 'kyuh', 26504: 'clink', 26505: 'tches', 26506: 'onika', 26507: 'cupcake', 26508: 'punchline', 26509: 'cutlet', 26510: 'seasonin', 26511: 'stephenson', 26512: 'bbw', 26513: 'uncomfortable', 26514: 'huxtable', 26515: 'overzealous', 26516: 'mecca', 26517: 'bida', 26518: 'hickups', 26519: 'sirloin', 26520: 'rephrase', 26521: 'reals', 26522: 'foxx', 26523: 'abandoning', 26524: 'sharks', 26525: 'surmising', 26526: 'suffocating', 26527: 'levitation', 26528: 'tasteful', 26529: 'beneficial', 26530: 'benzy', 26531: 'frenzy', 26532: 'balenciagas', 26533: 'python', 26534: 'toastin', 26535: 'bellamy', 26536: 'huhuh', 26537: 'dewayne', 26538: 'cardinals', 26539: 'steeler', 26540: 'pigtail', 26541: 'entree', 26542: 'handedley', 26543: 'anilated', 26544: 'hahahahahaha', 26545: 'boutiques', 26546: 'shopper', 26547: 'screenshottin', 26548: 'memes', 26549: 'executive', 26550: 'miley', 26551: 'fuckboys', 26552: 'bighead', 26553: 'bundy', 26554: 'waikikiiiiii', 26555: 'decors', 26556: 'gixter', 26557: 'kickstand', 26558: 'nixster', 26559: 'visas', 26560: 'movers', 26561: 'shakers', 26562: 'ratted', 26563: 'belgium', 26564: 'kisser', 26565: 'mavericks', 26566: 'fleek', 26567: 'migraine', 26568: 'earnin', 26569: 'stingin', 26570: 'griselda', 26571: 'bergdorf', 26572: 'obea', 26573: 'danica', 26574: 'moniker', 26575: 'hillary', 26576: 'sinead', 26577: 'blurd', 26578: 'tron', 26579: 'rosay', 26580: 'alotta', 26581: 'slugger', 26582: 'stuntman', 26583: 'frontman', 26584: 'sb', 26585: 'shippin', 26586: 'chonky', 26587: 'rossi', 26588: 'zolanski', 26589: 'polanski', 26590: 'gassing', 26591: 'cucka', 26592: 'filets', 26593: 'ballpoint', 26594: 'thoughtless', 26595: 'largest', 26596: 'hogan', 26597: 'hoboken', 26598: 'hicky', 26599: 'cack', 26600: 'connecticut', 26601: 'conner', 26602: 'obamer', 26603: 'referrals', 26604: 'amos', 26605: 'alopecia', 26606: 'molasses', 26607: 'harriet', 26608: 'financed', 26609: 'basqui', 26610: 'villas', 26611: 'hasty', 26612: 'cartoons', 26613: 'besty', 26614: 'dunkin', 26615: 'wam', 26616: 'boxster', 26617: 'tosticle', 26618: 'lop', 26619: 'cuttie', 26620: 'steebie', 26621: 'gutted', 26622: 'asia', 26623: 'hur', 26624: 'urt', 26625: 'dir', 26626: 'irt', 26627: 'pickney', 26628: 'woooh', 26629: 'breaker', 26630: 'orgasmic', 26631: 'stalling', 26632: 'belligerent', 26633: 'bibs', 26634: 'mediator', 26635: 'terminator', 26636: 'terminate', 26637: 'perminator', 26638: 'germinator', 26639: 'nair', 26640: 'moscato', 26641: 'chardonnay', 26642: 'redboned', 26643: 'donjae', 26644: 'trinidadian', 26645: 'yaki', 26646: 'barbarian', 26647: 'propofol', 26648: 'fantasizing', 26649: 'valicious', 26650: 'slayin', 26651: 'listers', 26652: 'blizzards', 26653: 'ivanka', 26654: 'stoner', 26655: 'riddance', 26656: 'chitlins', 26657: 'gallo', 26658: 'biel', 26659: 'tomarrah', 26660: 'lesbi', 26661: 'precise', 26662: 'panamera', 26663: 'motherland', 26664: 'geisha', 26665: 'samurai', 26666: 'skeeza', 26667: 'pleeza', 26668: 'reinvent', 26669: 'vents', 26670: 'competin', 26671: 'preschool', 26672: 'agendas', 26673: 'jelani', 26674: 'jee', 26675: 'defiance', 26676: 'aggression', 26677: 'dildo', 26678: 'stutta', 26679: 'gluing', 26680: 'booin', 26681: 'auditions', 26682: 'dvd', 26683: 'buckingham', 26684: 'mikiyah', 26685: 'gulani', 26686: 'peasant', 26687: 'gooder', 26688: 'bezzles', 26689: 'nutrition', 26690: 'beautician', 26691: 'primal', 26692: 'negotiable', 26693: 'wifing', 26694: 'sativa', 26695: 'snowcone', 26696: 'mili', 26697: 'pullman', 26698: 'foreigns', 26699: 'deported', 26700: 'skits', 26701: 'brutus', 26702: 'cartoonists', 26703: 'nasdaq', 26704: 'brack', 26705: 'spyder', 26706: 'vixen', 26707: 'coastal', 26708: 'alice', 26709: 'touchdown', 26710: 'dividend', 26711: 'margielas', 26712: 'diabetes', 26713: 'hassadiddy', 26714: 'bj', 26715: 'chiropractor', 26716: 'intersection', 26717: 'unda', 26718: 'rawness', 26719: 'glitz', 26720: 'glamor', 26721: 'lamest', 26722: 'tripled', 26723: 'quadrupled', 26724: 'cakin', 26725: 'tapin', 26726: 'datin', 26727: 'modellin', 26728: 'staple', 26729: 'tezz', 26730: 'opportunists', 26731: 'feaky', 26732: 'slurpin', 26733: 'phattest', 26734: 'stalkin', 26735: 'kimmy', 26736: 'squirtin', 26737: 'yeaaaaah', 26738: 'honeybun', 26739: 'zoomin', 26740: 'suzuki', 26741: 'scores', 26742: 'safari', 26743: 'whistlein', 26744: 'refery', 26745: 'cryn', 26746: 'sexing', 26747: 'shuttle', 26748: 'monotone', 26749: 'naggers', 26750: 'natin', 26751: 'wiki', 26752: 'ific', 26753: 'suntrust', 26754: 'chihuahua', 26755: 'rottweila', 26756: 'metta', 26757: 'regulars', 26758: 'australian', 26759: 'miniskirt', 26760: 'raris', 26761: 'eses', 26762: 'nitty', 26763: 'kidnappin', 26764: 'ebk', 26765: 'ebt', 26766: 'investigations', 26767: 'domination', 26768: 'opposition', 26769: 'bullseye', 26770: 'muny', 26771: 'sext', 26772: 'samsung', 26773: 'rabbi', 26774: 'brisbane', 26775: 'chucker', 26776: 'ducka', 26777: 'suppa', 26778: 'assess', 26779: 'chum', 26780: 'chummy', 26781: 'shotta', 26782: 'woodies', 26783: 'russel', 26784: 'vince', 26785: 'mcmahon', 26786: 'cm', 26787: 'snowflow', 26788: 'aspens', 26789: 'poconos', 26790: 'calogero', 26791: 'tampering', 26792: 'lifer', 26793: 'fashionistist', 26794: 'smugglin', 26795: 'chow', 26796: 'leprechaun', 26797: 'cleo', 26798: 'skio', 26799: 'konichiwa', 26800: 'leprachaun', 26801: 'bff', 26802: 'ballsack', 26803: 'motivators', 26804: 'marquis', 26805: 'walkie', 26806: 'talkie', 26807: 'intersex', 26808: 'sine', 26809: 'pammy', 26810: 'jammy', 26811: 'lamby', 26812: 'burrough', 26813: 'gooda', 26814: 'squats', 26815: 'scissor', 26816: 'chompin', 26817: 'kentae', 26818: 'chopsticks', 26819: 'castaki', 26820: 'kawasakis', 26821: 'lewinski', 26822: 'olympic', 26823: 'gunovich', 26824: 'decepts', 26825: 'bloodline', 26826: 'rolie', 26827: 'yonkers', 26828: 'montgomery', 26829: 'jolie', 26830: 'goalie', 26831: 'hoing', 26832: 'dweller', 26833: 'kent', 26834: 'streetsweeper', 26835: 'moppin', 26836: 'shawtie', 26837: 'hundo', 26838: 'shrugged', 26839: 'cagin', 26840: 'discrete', 26841: 'meltin', 26842: 'waltzin', 26843: 'chimin', 26844: 'redondo', 26845: 'crux', 26846: 'streamin', 26847: 'latex', 26848: 'tiles', 26849: 'coagulated', 26850: 'hardened', 26851: 'babia', 26852: 'swaddling', 26853: 'lectric', 26854: 'spittle', 26855: 'kimberly', 26856: 'reappeared', 26857: 'generating', 26858: 'hysterically', 26859: 'studs', 26860: 'bony', 26861: 'maroney', 26862: 'silken', 26863: 'arabian', 26864: 'lapping', 26865: 'brainiac', 26866: 'coiled', 26867: 'twining', 26868: 'babel', 26869: 'unbelievably', 26870: 'emits', 26871: 'moooooove', 26872: 'jailer', 26873: 'droves', 26874: 'impure', 26875: 'pagoda', 26876: 'splintered', 26877: 'soakin', 26878: 'dorsal', 26879: 'cavity', 26880: 'inflicted', 26881: 'voluptuous', 26882: 'restriction', 26883: 'exhilarating', 26884: 'sheba', 26885: 'salome', 26886: 'eclipsin', 26887: 'evasive', 26888: 'aquatic', 26889: 'mesmerize', 26890: 'recollection', 26891: 'washroom', 26892: 'merge', 26893: 'opiate', 26894: 'fixations', 26895: 'thickening', 26896: 'elephantiasis', 26897: 'duosonic', 26898: 'appreciates', 26899: 'mallet', 26900: 'virtuous', 26901: 'formation', 26902: 'grail', 26903: 'indiscreet', 26904: 'pierre', 26905: 'clementi', 26906: 'polaroid', 26907: 'shriek', 26908: 'excavation', 26909: 'landin', 26910: 'hesitatin', 26911: 'mannah', 26912: 'exude', 26913: 'nestled', 26914: 'ornamental', 26915: 'cropped', 26916: 'netting', 26917: 'archway', 26918: 'thereby', 26919: 'fertile', 26920: 'spewed', 26921: 'pollock', 26922: 'torment', 26923: 'restoreth', 26924: 'suspiciously', 26925: 'deceptively', 26926: 'desp', 26927: 'rately', 26928: 'sep', 26929: 'breathlessly', 26930: 'manifestation', 26931: 'refuel', 26932: 'zeus', 26933: 'context', 26934: 'inability', 26935: 'reform', 26936: 'reconnected', 26937: 'inherent', 26938: 'alchemist', 26939: 'excretion', 26940: 'isabel', 26941: 'vitalie', 26942: 'dwells', 26943: 'surrenders', 26944: 'connecting', 26945: 'sublimation', 26946: 'concentrating', 26947: 'intoxicated', 26948: 'childbirth', 26949: 'visitations', 26950: 'redefined', 26951: 'afixiation', 26952: 'creates', 26953: 'amok', 26954: 'yardbirds', 26955: 'stateless', 26956: 'disguises', 26957: 'extol', 26958: 'undulating', 26959: 'lewd', 26960: 'impostered', 26961: 'seizures', 26962: 'passers', 26963: 'lingered', 26964: 'aspects', 26965: 'fountains', 26966: 'jonah', 26967: 'wails', 26968: 'winking', 26969: 'awakens', 26970: 'mondrian', 26971: 'flux', 26972: 'captivate', 26973: 'portals', 26974: 'foaming', 26975: 'suspends', 26976: 'glittering', 26977: 'portobello', 26978: 'marseilles', 26979: 'relent', 26980: 'braid', 26981: 'ascends', 26982: 'forsaking', 26983: 'equatorial', 26984: 'callow', 26985: 'scraps', 26986: 'scraped', 26987: 'natives', 26988: 'withering', 26989: 'ummm', 26990: 'rattled', 26991: 'hissin', 26992: 'viscous', 26993: 'aire', 26994: 'summouned', 26995: 'engaging', 26996: 'bolted', 26997: 'discern', 26998: 'spear', 26999: 'illume', 27000: 'assaulted', 27001: 'thunders', 27002: 'resounds', 27003: 'passively', 27004: 'active', 27005: 'wringing', 27006: 'teapot', 27007: 'overflowed', 27008: 'tibet', 27009: 'shangri', 27010: 'hearers', 27011: 'lucien', 27012: 'kerouac', 27013: 'huncke', 27014: 'burroughs', 27015: 'cassady', 27016: 'buggered', 27017: 'grandfathers', 27018: 'groaning', 27019: 'hipsters', 27020: 'cafeterias', 27021: 'peoria', 27022: 'seattle', 27023: 'tangiers', 27024: 'moloch', 27025: 'locomotive', 27026: 'magnanimity', 27027: 'litter', 27028: 'ladened', 27029: 'buildings', 27030: 'lotteries', 27031: 'cess', 27032: 'dissolves', 27033: 'dashed', 27034: 'streaking', 27035: 'forged', 27036: 'embrade', 27037: 'enraged', 27038: 'viral', 27039: 'moonbeam', 27040: 'loonies', 27041: 'landfill', 27042: 'bellyache', 27043: 'spikes', 27044: 'eaten', 27045: 'distractors', 27046: 'maths', 27047: 'buzzes', 27048: 'detuned', 27049: 'hairdo', 27050: 'motorways', 27051: 'tramlines', 27052: 'emptiest', 27053: 'disappointing', 27054: 'drivel', 27055: 'collapsing', 27056: 'watering', 27057: 'polystyrene', 27058: 'attics', 27059: 'crisps', 27060: 'sandbag', 27061: 'squealing', 27062: 'pigskin', 27063: 'yuppies', 27064: 'networking', 27065: 'childrean', 27066: 'imitation', 27067: 'sawn', 27068: 'suckered', 27069: 'fifteenth', 27070: 'purest', 27071: 'messengers', 27072: 'mephistopheles', 27073: 'dispossessed', 27074: 'suspicion', 27075: 'squearking', 27076: 'mmmhm', 27077: 'ravine', 27078: 'shutdown', 27079: 'expending', 27080: 'expelling', 27081: 'triplicate', 27082: 'conger', 27083: 'chancellor', 27084: 'vicar', 27085: 'pyramid', 27086: 'liffey', 27087: 'hurricanes', 27088: 'routines', 27089: 'schedules', 27090: 'feral', 27091: 'codex', 27092: 'sleight', 27093: 'separator', 27094: 'beholder', 27095: 'gloaming', 27096: 'twentieth', 27097: 'payload', 27098: 'fodder', 27099: 'marionettes', 27100: 'appliances', 27101: 'loneliest', 27102: 'chaotic', 27103: 'ladders', 27104: 'gunge', 27105: 'cranes', 27106: 'stepford', 27107: 'electrocute', 27108: 'twitching', 27109: 'salivating', 27110: 'devon', 27111: 'misguided', 27112: 'arse', 27113: 'intention', 27114: 'services', 27115: 'amputate', 27116: 'contort', 27117: 'chink', 27118: 'hordes', 27119: 'chattering', 27120: 'windowpane', 27121: 'thicken', 27122: 'gunboat', 27123: 'marines', 27124: 'knifed', 27125: 'scrolling', 27126: 'airbag', 27127: 'associate', 27128: 'employee', 27129: 'contemporaries', 27130: 'microwave', 27131: 'fats', 27132: 'plughole', 27133: 'supermarket', 27134: 'moths', 27135: 'ridiculously', 27136: 'calculated', 27137: 'societ', 27138: 'pragmatism', 27139: 'idealism', 27140: 'ability', 27141: 'healthier', 27142: 'antibiotics', 27143: 'sprawling', 27144: 'reforming', 27145: 'stretchy', 27146: 'teks', 27147: 'yg', 27148: 'gyeah', 27149: 'hydroplane', 27150: 'dow', 27151: 'precipitation', 27152: 'entity', 27153: 'badda', 27154: 'crisis', 27155: 'adoration', 27156: 'decoration', 27157: 'ehh', 27158: 'lorda', 27159: 'narration', 27160: 'saucy', 27161: 'candelabra', 27162: 'disconnectin', 27163: 'primadonnas', 27164: 'seductive', 27165: 'protege', 27166: 'impartial', 27167: 'articulate', 27168: 'comedy', 27169: 'hootin', 27170: 'depositin', 27171: 'disarray', 27172: 'prioritizin', 27173: 'horribly', 27174: 'forewarnin', 27175: 'impolite', 27176: 'tyra', 27177: 'supersonics', 27178: 'advise', 27179: 'dunce', 27180: 'obsessive', 27181: 'incessantly', 27182: 'rothko', 27183: 'reefa', 27184: 'neegas', 27185: 'enticin', 27186: 'ooohhh', 27187: 'boyboy', 27188: 'resilient', 27189: 'describes', 27190: 'whooa', 27191: 'teice', 27192: 'remedies', 27193: 'ush', 27194: 'durango', 27195: 'tbs', 27196: 'damning', 27197: 'beatz', 27198: 'kels', 27199: 'throwbacks', 27200: 'participate', 27201: 'stroy', 27202: 'collectors', 27203: 'celluler', 27204: 'biggs', 27205: 'ette', 27206: 'flirters', 27207: 'shawties', 27208: 'paine', 27209: 'llamo', 27210: 'roadblock', 27211: 'unhappiness', 27212: 'tournaments', 27213: 'condolences', 27214: 'rollercoastered', 27215: 'cavalli', 27216: 'drea', 27217: 'jaya', 27218: 'julie', 27219: 'teshonda', 27220: 'devine', 27221: 'vernice', 27222: 'carmen', 27223: 'sender', 27224: 'clit', 27225: 'stuttter', 27226: 'flintstones', 27227: 'yabbadabbadoo', 27228: 'joann', 27229: 'leonice', 27230: 'theresa', 27231: 'tonia', 27232: 'cheryl', 27233: 'sabrina', 27234: 'rachelle', 27235: 'fontina', 27236: 'tita', 27237: 'rita', 27238: 'claerly', 27239: 'democrats', 27240: 'republicans', 27241: 'independents', 27242: 'endured', 27243: 'preparin', 27244: 'aron', 27245: 'whatevah', 27246: 'brazill', 27247: 'earthquaking', 27248: 'ardah', 27249: 'rotlan', 27250: 'stretchin', 27251: 'backroom', 27252: 'grad', 27253: 'tyrese', 27254: 'rese', 27255: 'thurstin', 27256: 'goodies', 27257: 'stammering', 27258: 'papas', 27259: 'chocoholic', 27260: 'damelo', 27261: 'perigdon', 27262: 'valeting', 27263: 'inexpensive', 27264: 'bowlin', 27265: 'throuw', 27266: 'girlfirend', 27267: 'sniggle', 27268: 'sizzler', 27269: 'babysitter', 27270: 'redbones', 27271: 'fiftieth', 27272: 'raffishness', 27273: 'escalating', 27274: 'calculus', 27275: 'jukin', 27276: 'echooo', 27277: 'freakkk', 27278: 'henstenly', 27279: 'camestry', 27280: 'rollecoaster', 27281: 'samarra', 27282: 'grap', 27283: 'survivors', 27284: 'luxuries', 27285: 'judgin', 27286: 'unveiled', 27287: 'mascaraed', 27288: 'soars', 27289: 'cleansed', 27290: 'instrument', 27291: 'duet', 27292: 'commited', 27293: 'infact', 27294: 'cursin', 27295: 'arguein', 27296: 'stormin', 27297: 'outs', 27298: 'babey', 27299: 'accusing', 27300: 'tweekin', 27301: 'foy', 27302: 'sugarcane', 27303: 'weee', 27304: 'creamin', 27305: 'anticipating', 27306: 'mainly', 27307: 'physically', 27308: 'insecurity', 27309: 'concerning', 27310: 'thatcha', 27311: 'bummer', 27312: 'inbetween', 27313: 'uou', 27314: 'chalant', 27315: 'incest', 27316: 'trespasses', 27317: 'trespass', 27318: 'overrun', 27319: 'inventors', 27320: 'accu', 27321: 'orgasmatron', 27322: 'masturbater', 27323: 'viriginity', 27324: 'menopause', 27325: 'delirio', 27326: 'preted', 27327: 'marsha', 27328: 'negroes', 27329: 'takeoff', 27330: 'hangup', 27331: 'isolation', 27332: 'wndow', 27333: 'egotists', 27334: 'yosemite', 27335: 'whaddayou', 27336: 'seduction', 27337: 'extinguish', 27338: 'materials', 27339: 'overexcitement', 27340: 'flotation', 27341: 'aircraft', 27342: 'dafodills', 27343: 'courtyard', 27344: 'personality', 27345: 'unifying', 27346: 'alms', 27347: 'condemns', 27348: 'hardy', 27349: 'clara', 27350: 'foolhardy', 27351: 'mcgee', 27352: 'aristocrats', 27353: 'communism', 27354: 'mailman', 27355: 'sinaplenty', 27356: 'uncontested', 27357: 'decrease', 27358: 'purplelectricity', 27359: 'wetness', 27360: 'versailles', 27361: 'breakup', 27362: 'brackets', 27363: 'etiez', 27364: 'autre', 27365: 'cote', 27366: 'salle', 27367: 'dansiez', 27368: 'sentais', 27369: 'parfum', 27370: 'sourire', 27371: 'devrions', 27372: 'parler', 27373: 'sexe', 27374: 'repos', 27375: 'aimerez', 27376: 'resisterez', 27377: 'enlacerai', 27378: 'jambes', 27379: 'heures', 27380: 'etonner', 27381: 'astound', 27382: 'rencontrerons', 27383: 'clarinet', 27384: 'hijack', 27385: 'mentent', 27386: 'paradis', 27387: 'translated', 27388: 'merci', 27389: 'flirty', 27390: 'inseparable', 27391: 'doggies', 27392: 'exstacy', 27393: 'playplayplay', 27394: 'dishwater', 27395: 'cathleen', 27396: 'juggling', 27397: 'centered', 27398: 'injure', 27399: 'chillblains', 27400: 'showly', 27401: 'browny', 27402: 'crabtree', 27403: 'rad', 27404: 'flicka', 27405: 'fizzin', 27406: 'gregory', 27407: 'wets', 27408: 'roars', 27409: 'breeds', 27410: 'vandalize', 27411: 'slaps', 27412: 'cuzzin', 27413: 'broaden', 27414: 'mookie', 27415: 'phonebook', 27416: 'frightens', 27417: 'jobba', 27418: 'robba', 27419: 'stoppa', 27420: 'acceptable', 27421: 'batdance', 27422: 'enema', 27423: 'funking', 27424: 'peckerwood', 27425: 'compilment', 27426: 'psychodelicide', 27427: 'introverted', 27428: 'articulated', 27429: 'quickspeed', 27430: 'circular', 27431: 'cleanses', 27432: 'jellybean', 27433: 'chanted', 27434: 'murph', 27435: 'hmph', 27436: 'looka', 27437: 'vthis', 27438: 'reaffirms', 27439: 'dishonesty', 27440: 'eeverybody', 27441: 'dismissed', 27442: 'somthing', 27443: 'ohhhhhh', 27444: 'truley', 27445: 'plently', 27446: 'tory', 27447: 'comebody', 27448: 'colorblind', 27449: 'mezzanine', 27450: 'fess', 27451: 'clocked', 27452: 'marbella', 27453: 'slimmie', 27454: 'skeeze', 27455: 'introduces', 27456: 'upbeat', 27457: 'margaya', 27458: 'minders', 27459: 'observed', 27460: 'unwritten', 27461: 'skids', 27462: 'minder', 27463: 'huff', 27464: 'investment', 27465: 'asunder', 27466: 'filed', 27467: 'cartridge', 27468: 'concentrated', 27469: 'ooops', 27470: 'circlin', 27471: 'juicin', 27472: 'slimmies', 27473: 'eno', 27474: 'stollin', 27475: 'pakistan', 27476: 'hiphopin', 27477: 'nastier', 27478: 'lauch', 27479: 'qualms', 27480: 'coaching', 27481: 'unity', 27482: 'blurred', 27483: 'sportin', 27484: 'strivin', 27485: 'dominate', 27486: 'tll', 27487: 'gottcha', 27488: 'seekin', 27489: 'simpleton', 27490: 'poseidon', 27491: 'dentures', 27492: 'cocksure', 27493: 'brewin', 27494: 'overexpose', 27495: 'blackjack', 27496: 'lurks', 27497: 'villa', 27498: 'rivera', 27499: 'mostest', 27500: 'prevention', 27501: 'perplexed', 27502: 'leggy', 27503: 'prowling', 27504: 'questionnaire', 27505: 'jailbait', 27506: 'egads', 27507: 'hemmingway', 27508: 'downstroked', 27509: 'fanstasy', 27510: 'oceanside', 27511: 'overdues', 27512: 'reflecting', 27513: 'outraces', 27514: 'quivery', 27515: 'revolutions', 27516: 'psychadelic', 27517: 'dedicates', 27518: 'prediction', 27519: 'jugheads', 27520: 'accusations', 27521: 'coupled', 27522: 'epilectic', 27523: 'sac', 27524: 'cools', 27525: 'ooowww', 27526: 'noveau', 27527: 'elderberry', 27528: 'tad', 27529: 'solos', 27530: 'aaww', 27531: 'jocks', 27532: 'mystifying', 27533: 'negros', 27534: 'scizzy', 27535: 'slicked', 27536: 'enought', 27537: 'reddish', 27538: 'rpm', 27539: 'operator', 27540: 'aftertaste', 27541: 'umean', 27542: 'musicians', 27543: 'nigs', 27544: 'repute', 27545: 'crease', 27546: 'fuzztone', 27547: 'therein', 27548: 'envelop', 27549: 'masturbates', 27550: 'wangs', 27551: 'onslaught', 27552: 'separatist', 27553: 'regurgitate', 27554: 'fallacy', 27555: 'evils', 27556: 'bs', 27557: 'propagandi', 27558: 'imitates', 27559: 'skyscraper', 27560: 'nuestra', 27561: 'presentacion', 27562: 'comenzara', 27563: 'antes', 27564: 'mensaje', 27565: 'nuestros', 27566: 'auspiciadores', 27567: 'schoolyard', 27568: 'tisket', 27569: 'tasket', 27570: 'scolded', 27571: 'heifers', 27572: 'schick', 27573: 'astounded', 27574: 'delinquent', 27575: 'disposition', 27576: 'poder', 27577: 'nueva', 27578: 'generacion', 27579: 'homework', 27580: 'ancestors', 27581: 'dammy', 27582: 'clarify', 27583: 'whooaa', 27584: 'fetishes', 27585: 'vindication', 27586: 'improving', 27587: 'mf', 27588: 'trippers', 27589: 'connecte', 27590: 'hoochie', 27591: 'fishbone', 27592: 'entry'}\n"
          ]
        }
      ]
    },
    {
      "cell_type": "code",
      "source": [
        "print(len(tokenizer.index_word))"
      ],
      "metadata": {
        "colab": {
          "base_uri": "https://localhost:8080/"
        },
        "id": "FAGCk1hFRe_q",
        "outputId": "44525f09-f1e6-4f05-f44a-7d4b9b0fad45"
      },
      "execution_count": null,
      "outputs": [
        {
          "output_type": "stream",
          "name": "stdout",
          "text": [
            "27592\n"
          ]
        }
      ]
    },
    {
      "cell_type": "markdown",
      "source": [
        "# 일단 그래서 토큰화 후 경우를 3가지로 나눠서 해 보겠습니다.\n",
        "\n",
        "# 1. 아이펠 기준 2. 15보다 클 경우 3. 15보다 작을 경우\n"
      ],
      "metadata": {
        "id": "ulAwU39ROZcT"
      }
    },
    {
      "cell_type": "code",
      "source": [
        ""
      ],
      "metadata": {
        "id": "HoxunFcJt241"
      },
      "execution_count": null,
      "outputs": []
    },
    {
      "cell_type": "markdown",
      "source": [
        "# 1. 아이펠 기준"
      ],
      "metadata": {
        "id": "-YL-nSQCO9-7"
      }
    },
    {
      "cell_type": "code",
      "source": [
        "tensor[0].shape"
      ],
      "metadata": {
        "colab": {
          "base_uri": "https://localhost:8080/"
        },
        "id": "04SPEWGls1n4",
        "outputId": "2919f0e4-1530-4ce1-a1c6-0180aadb87f2"
      },
      "execution_count": null,
      "outputs": [
        {
          "output_type": "execute_result",
          "data": {
            "text/plain": [
              "(347,)"
            ]
          },
          "metadata": {},
          "execution_count": 10
        }
      ]
    },
    {
      "cell_type": "code",
      "source": [
        "tgt_input1.shape"
      ],
      "metadata": {
        "colab": {
          "base_uri": "https://localhost:8080/"
        },
        "id": "Vc69iQ8iT188",
        "outputId": "982c6ac5-a163-45b9-8555-b717f224dba4"
      },
      "execution_count": null,
      "outputs": [
        {
          "output_type": "execute_result",
          "data": {
            "text/plain": [
              "(175749, 15)"
            ]
          },
          "metadata": {},
          "execution_count": 11
        }
      ]
    },
    {
      "cell_type": "code",
      "source": [
        "temp = tensor.copy()\n",
        "temp = temp[:,:15]"
      ],
      "metadata": {
        "id": "ixf9b4C01qwp"
      },
      "execution_count": null,
      "outputs": []
    },
    {
      "cell_type": "code",
      "source": [
        "temp.shape"
      ],
      "metadata": {
        "colab": {
          "base_uri": "https://localhost:8080/"
        },
        "id": "tfttyZtP1w1p",
        "outputId": "9e1a9ff7-b4b2-4f81-fe34-54d6afd758c4"
      },
      "execution_count": null,
      "outputs": [
        {
          "output_type": "execute_result",
          "data": {
            "text/plain": [
              "(175749, 15)"
            ]
          },
          "metadata": {},
          "execution_count": 28
        }
      ]
    },
    {
      "cell_type": "code",
      "source": [
        "temp[2][14]"
      ],
      "metadata": {
        "colab": {
          "base_uri": "https://localhost:8080/"
        },
        "id": "SqL-gv-e2CL1",
        "outputId": "9c8a8f1a-2a11-4abf-bf50-9f7bed8d3379"
      },
      "execution_count": null,
      "outputs": [
        {
          "output_type": "execute_result",
          "data": {
            "text/plain": [
              "0"
            ]
          },
          "metadata": {},
          "execution_count": 31
        }
      ]
    },
    {
      "cell_type": "code",
      "source": [
        "tensor1 = np.array([])\n",
        "for i in range(x):\n",
        "  if temp[i][14] == 0 or temp[i][14] == 3:\n",
        "    tensor1 = np.append(tensor1, temp[i])\n",
        "print(tensor1.shape)"
      ],
      "metadata": {
        "colab": {
          "base_uri": "https://localhost:8080/"
        },
        "id": "mr-N25Ett2b5",
        "outputId": "761a23e7-c80e-445c-8bb3-07765f37802a"
      },
      "execution_count": null,
      "outputs": [
        {
          "output_type": "stream",
          "name": "stdout",
          "text": [
            "(2340195,)\n"
          ]
        }
      ]
    },
    {
      "cell_type": "code",
      "source": [
        "tensor1 = np.reshape(tensor1, (156013,15))\n",
        "tensor1.shape"
      ],
      "metadata": {
        "colab": {
          "base_uri": "https://localhost:8080/"
        },
        "id": "HJSN4JxD3cZX",
        "outputId": "5a605c90-7168-4df3-f567-0bdd6532bd3d"
      },
      "execution_count": null,
      "outputs": [
        {
          "output_type": "execute_result",
          "data": {
            "text/plain": [
              "(156013, 15)"
            ]
          },
          "metadata": {},
          "execution_count": 35
        }
      ]
    },
    {
      "cell_type": "code",
      "source": [
        "src_input1 = tensor1[:,:-1] \n",
        "# tensor에서 <start>를 잘라내서 타겟 문장을 생성합니다.\n",
        "tgt_input1 = tensor1[:, 1:]  "
      ],
      "metadata": {
        "id": "gq2ta0J6Ri3E"
      },
      "execution_count": null,
      "outputs": []
    },
    {
      "cell_type": "code",
      "source": [
        "print(src_input1.shape)\n",
        "print(tgt_input1.shape)"
      ],
      "metadata": {
        "colab": {
          "base_uri": "https://localhost:8080/"
        },
        "id": "_fCbto1a4W2R",
        "outputId": "f7a91b09-e0ca-4b4e-bf1e-78ccd6ee6676"
      },
      "execution_count": null,
      "outputs": [
        {
          "output_type": "stream",
          "name": "stdout",
          "text": [
            "(156013, 14)\n",
            "(156013, 14)\n"
          ]
        }
      ]
    },
    {
      "cell_type": "code",
      "source": [
        "from sklearn.model_selection import train_test_split\n",
        "enc_train, enc_val, dec_train, dec_val = train_test_split(src_input1, tgt_input1, test_size=0.3, random_state=80)"
      ],
      "metadata": {
        "id": "9unISMNET2G7"
      },
      "execution_count": null,
      "outputs": []
    },
    {
      "cell_type": "code",
      "source": [
        "enc_train1, enc_val1, dec_train1, dec_val1 = train_test_split(src_input1, tgt_input1, test_size=0.2, random_state=80)"
      ],
      "metadata": {
        "id": "cRdHKmdRT1_0"
      },
      "execution_count": null,
      "outputs": []
    },
    {
      "cell_type": "code",
      "source": [
        "enc_train1.shape"
      ],
      "metadata": {
        "colab": {
          "base_uri": "https://localhost:8080/"
        },
        "id": "56VdUYBURxLm",
        "outputId": "e7774b93-e662-4b35-af61-f96e89d47208"
      },
      "execution_count": null,
      "outputs": [
        {
          "output_type": "execute_result",
          "data": {
            "text/plain": [
              "(124810, 14)"
            ]
          },
          "metadata": {},
          "execution_count": 43
        }
      ]
    },
    {
      "cell_type": "code",
      "source": [
        "enc_val.shape"
      ],
      "metadata": {
        "colab": {
          "base_uri": "https://localhost:8080/"
        },
        "id": "ODoqn5VwSfFP",
        "outputId": "35218d2c-81b4-4881-d56a-0cd9ffec43f3"
      },
      "execution_count": null,
      "outputs": [
        {
          "output_type": "execute_result",
          "data": {
            "text/plain": [
              "(46804, 14)"
            ]
          },
          "metadata": {},
          "execution_count": 41
        }
      ]
    },
    {
      "cell_type": "code",
      "source": [
        "BUFFER_SIZE = len(enc_train)\n",
        "BATCH_SIZE = 256\n",
        "steps_per_epoch = len(enc_train) // BATCH_SIZE\n",
        "\n",
        "BUFFER_SIZE_v = len(enc_val)\n",
        "BATCH_SIZE_v = 256\n",
        "steps_per_epoch_v = len(enc_val) // BATCH_SIZE\n",
        "\n",
        " # tokenizer가 구축한 단어사전 내 7000개와, 여기 포함되지 않은 0:<pad>를 포함하여 7001개\n",
        "VOCAB_SIZE = tokenizer.num_words + 1   \n",
        "\n",
        "# 준비한 데이터 소스로부터 데이터셋을 만듭니다\n",
        "# 데이터셋에 대해서는 아래 문서를 참고하세요\n",
        "# 자세히 알아둘수록 도움이 많이 되는 중요한 문서입니다\n",
        "# https://www.tensorflow.org/api_docs/python/tf/data/Dataset\n",
        "\n",
        "# 테스트 데이터 30퍼\n",
        "dataset = tf.data.Dataset.from_tensor_slices((enc_train, dec_train))\n",
        "dataset = dataset.shuffle(BUFFER_SIZE)\n",
        "dataset = dataset.batch(BATCH_SIZE, drop_remainder=True)\n",
        "\n",
        "dataset_v = tf.data.Dataset.from_tensor_slices((enc_val, dec_val))\n",
        "dataset_v = dataset_v.shuffle(BUFFER_SIZE_v)\n",
        "dataset_v = dataset_v.batch(BATCH_SIZE_v, drop_remainder=True)\n",
        "\n",
        "#테스트 데이터 20퍼\n",
        "dataset1 = tf.data.Dataset.from_tensor_slices((enc_train1, dec_train1))\n",
        "dataset1 = dataset1.shuffle(BUFFER_SIZE)\n",
        "dataset1 = dataset1.batch(BATCH_SIZE, drop_remainder=True)\n",
        "\n",
        "dataset1_v = tf.data.Dataset.from_tensor_slices((enc_val1, dec_val1))\n",
        "dataset1_v = dataset1_v.shuffle(BUFFER_SIZE_v)\n",
        "dataset1_v = dataset1_v.batch(BATCH_SIZE_v, drop_remainder=True)"
      ],
      "metadata": {
        "id": "xij4tYRGSBxW"
      },
      "execution_count": null,
      "outputs": []
    },
    {
      "cell_type": "code",
      "source": [
        "print((dataset))\n",
        "print((dataset_v))"
      ],
      "metadata": {
        "colab": {
          "base_uri": "https://localhost:8080/"
        },
        "id": "9m5vQO0CVtOl",
        "outputId": "1cc32121-7315-4487-cdf8-14cb0016b3b8"
      },
      "execution_count": null,
      "outputs": [
        {
          "output_type": "stream",
          "name": "stdout",
          "text": [
            "<BatchDataset element_spec=(TensorSpec(shape=(256, 14), dtype=tf.float64, name=None), TensorSpec(shape=(256, 14), dtype=tf.float64, name=None))>\n",
            "<BatchDataset element_spec=(TensorSpec(shape=(256, 14), dtype=tf.float64, name=None), TensorSpec(shape=(256, 14), dtype=tf.float64, name=None))>\n"
          ]
        }
      ]
    },
    {
      "cell_type": "code",
      "source": [
        "class TextGenerator(tf.keras.Model):\n",
        "    def __init__(self, vocab_size, embedding_size, hidden_size):\n",
        "        super().__init__()\n",
        "        \n",
        "        self.embedding = tf.keras.layers.Embedding(vocab_size, embedding_size)\n",
        "        self.rnn_1 = tf.keras.layers.LSTM(hidden_size, return_sequences=True)\n",
        "        self.rnn_2 = tf.keras.layers.LSTM(hidden_size, return_sequences=True)\n",
        "        self.linear = tf.keras.layers.Dense(vocab_size)\n",
        "        \n",
        "    def call(self, x):\n",
        "        out = self.embedding(x)\n",
        "        out = self.rnn_1(out)\n",
        "        out = self.rnn_2(out)\n",
        "        out = self.linear(out)\n",
        "        \n",
        "        return out\n",
        "    \n",
        "embedding_size = 256\n",
        "hidden_size = 1024\n",
        "model = TextGenerator(tokenizer.num_words + 1, embedding_size , hidden_size)"
      ],
      "metadata": {
        "id": "0Z4w0x-4L-Zy"
      },
      "execution_count": null,
      "outputs": []
    },
    {
      "cell_type": "markdown",
      "source": [
        "# 테스트 데이터 30퍼"
      ],
      "metadata": {
        "id": "z8C67s6i49C1"
      }
    },
    {
      "cell_type": "code",
      "source": [
        "# optimizer와 loss등은 차차 배웁니다\n",
        "# 혹시 미리 알고 싶다면 아래 문서를 참고하세요\n",
        "# https://www.tensorflow.org/api_docs/python/tf/keras/optimizers\n",
        "# https://www.tensorflow.org/api_docs/python/tf/keras/losses\n",
        "# 양이 상당히 많은 편이니 지금 보는 것은 추천하지 않습니다\n",
        "optimizer = tf.keras.optimizers.Adam()\n",
        "loss = tf.keras.losses.SparseCategoricalCrossentropy(\n",
        "    from_logits=True,\n",
        "    reduction='none'\n",
        ")\n",
        "\n",
        "model.compile(loss=loss, optimizer=optimizer)\n",
        "model.fit(dataset, epochs=10, validation_data = dataset_v)"
      ],
      "metadata": {
        "colab": {
          "base_uri": "https://localhost:8080/"
        },
        "id": "qtnjPfTpMNjn",
        "outputId": "7d66c6aa-4097-4f6a-d714-d6926e3bcd5f"
      },
      "execution_count": null,
      "outputs": [
        {
          "output_type": "stream",
          "name": "stdout",
          "text": [
            "Epoch 1/10\n",
            "426/426 [==============================] - 45s 86ms/step - loss: 3.3716 - val_loss: 3.0039\n",
            "Epoch 2/10\n",
            "426/426 [==============================] - 36s 84ms/step - loss: 2.8871 - val_loss: 2.7972\n",
            "Epoch 3/10\n",
            "426/426 [==============================] - 36s 84ms/step - loss: 2.6981 - val_loss: 2.6694\n",
            "Epoch 4/10\n",
            "426/426 [==============================] - 36s 84ms/step - loss: 2.5493 - val_loss: 2.5793\n",
            "Epoch 5/10\n",
            "426/426 [==============================] - 36s 84ms/step - loss: 2.4158 - val_loss: 2.5065\n",
            "Epoch 6/10\n",
            "426/426 [==============================] - 36s 84ms/step - loss: 2.2885 - val_loss: 2.4489\n",
            "Epoch 7/10\n",
            "426/426 [==============================] - 36s 84ms/step - loss: 2.1663 - val_loss: 2.3994\n",
            "Epoch 8/10\n",
            "426/426 [==============================] - 36s 84ms/step - loss: 2.0483 - val_loss: 2.3584\n",
            "Epoch 9/10\n",
            "426/426 [==============================] - 36s 84ms/step - loss: 1.9313 - val_loss: 2.3240\n",
            "Epoch 10/10\n",
            "426/426 [==============================] - 36s 84ms/step - loss: 1.8170 - val_loss: 2.2965\n"
          ]
        },
        {
          "output_type": "execute_result",
          "data": {
            "text/plain": [
              "<keras.callbacks.History at 0x7f7feb5c1910>"
            ]
          },
          "metadata": {},
          "execution_count": 47
        }
      ]
    },
    {
      "cell_type": "markdown",
      "source": [
        "# 테스트 데이터 20퍼\n"
      ],
      "metadata": {
        "id": "gpOIxkwjc00t"
      }
    },
    {
      "cell_type": "code",
      "source": [
        "optimizer = tf.keras.optimizers.Adam()\n",
        "loss = tf.keras.losses.SparseCategoricalCrossentropy(\n",
        "    from_logits=True,\n",
        "    reduction='none'\n",
        ")\n",
        "\n",
        "model.compile(loss=loss, optimizer=optimizer)\n",
        "model.fit(dataset1, epochs=10, validation_data = dataset1_v)"
      ],
      "metadata": {
        "colab": {
          "base_uri": "https://localhost:8080/"
        },
        "id": "k1j1Nydpc0R6",
        "outputId": "1360afaa-9e0e-4aa5-d472-5cd7b3342004"
      },
      "execution_count": null,
      "outputs": [
        {
          "output_type": "stream",
          "name": "stdout",
          "text": [
            "Epoch 1/10\n",
            "487/487 [==============================] - 41s 81ms/step - loss: 1.7999 - val_loss: 2.2724\n",
            "Epoch 2/10\n",
            "487/487 [==============================] - 39s 79ms/step - loss: 1.6588 - val_loss: 2.2494\n",
            "Epoch 3/10\n",
            "487/487 [==============================] - 39s 79ms/step - loss: 1.5488 - val_loss: 2.2314\n",
            "Epoch 4/10\n",
            "487/487 [==============================] - 39s 79ms/step - loss: 1.4474 - val_loss: 2.2209\n",
            "Epoch 5/10\n",
            "487/487 [==============================] - 39s 79ms/step - loss: 1.3560 - val_loss: 2.2200\n",
            "Epoch 6/10\n",
            "487/487 [==============================] - 39s 79ms/step - loss: 1.2757 - val_loss: 2.2231\n",
            "Epoch 7/10\n",
            "487/487 [==============================] - 39s 79ms/step - loss: 1.2064 - val_loss: 2.2302\n",
            "Epoch 8/10\n",
            "487/487 [==============================] - 39s 80ms/step - loss: 1.1480 - val_loss: 2.2395\n",
            "Epoch 9/10\n",
            "487/487 [==============================] - 39s 80ms/step - loss: 1.1004 - val_loss: 2.2565\n",
            "Epoch 10/10\n",
            "487/487 [==============================] - 39s 79ms/step - loss: 1.0611 - val_loss: 2.2655\n"
          ]
        },
        {
          "output_type": "execute_result",
          "data": {
            "text/plain": [
              "<keras.callbacks.History at 0x7f7fefcef350>"
            ]
          },
          "metadata": {},
          "execution_count": 48
        }
      ]
    },
    {
      "cell_type": "markdown",
      "source": [
        "# loss값이 더 줄은 걸 확인 할 수 있었다."
      ],
      "metadata": {
        "id": "dKtOB4TNhTQD"
      }
    },
    {
      "cell_type": "code",
      "source": [
        "tensor"
      ],
      "metadata": {
        "colab": {
          "base_uri": "https://localhost:8080/"
        },
        "id": "nNv3_FiWiflk",
        "outputId": "50f7330d-3851-4aef-a912-0332639eeca6"
      },
      "execution_count": null,
      "outputs": [
        {
          "output_type": "execute_result",
          "data": {
            "text/plain": [
              "array([[  2, 304,  28, ...,   0,   0,   0],\n",
              "       [  2, 221,  13, ...,   0,   0,   0],\n",
              "       [  2,  24,  17, ...,   0,   0,   0],\n",
              "       ...,\n",
              "       [  2,   5,  33, ...,   0,   0,   0],\n",
              "       [  2,   5,  33, ...,   0,   0,   0],\n",
              "       [  2,   5, 371, ...,   0,   0,   0]], dtype=int32)"
            ]
          },
          "metadata": {},
          "execution_count": 49
        }
      ]
    },
    {
      "cell_type": "code",
      "source": [
        "temp = tensor.copy()"
      ],
      "metadata": {
        "id": "H_pX7wZEjnYp"
      },
      "execution_count": null,
      "outputs": []
    },
    {
      "cell_type": "code",
      "source": [
        "x, y = temp.shape"
      ],
      "metadata": {
        "id": "uUOmIurRl3i4"
      },
      "execution_count": null,
      "outputs": []
    },
    {
      "cell_type": "code",
      "source": [
        "x"
      ],
      "metadata": {
        "colab": {
          "base_uri": "https://localhost:8080/"
        },
        "id": "6xsxZYgMmR1m",
        "outputId": "fb88a6bd-29f4-4ca1-b044-2dae242ffefa"
      },
      "execution_count": null,
      "outputs": [
        {
          "output_type": "execute_result",
          "data": {
            "text/plain": [
              "175749"
            ]
          },
          "metadata": {},
          "execution_count": 52
        }
      ]
    },
    {
      "cell_type": "code",
      "source": [
        "print(tokenizer.index_word[1])\n",
        "print(tokenizer.index_word[2])\n",
        "print(tokenizer.index_word[3])"
      ],
      "metadata": {
        "colab": {
          "base_uri": "https://localhost:8080/"
        },
        "id": "pGMtg_bOkJUB",
        "outputId": "96932375-2696-457a-8c3a-7ff5448b37e8"
      },
      "execution_count": null,
      "outputs": [
        {
          "output_type": "stream",
          "name": "stdout",
          "text": [
            "<unk>\n",
            "<start>\n",
            "<end>\n"
          ]
        }
      ]
    },
    {
      "cell_type": "code",
      "source": [
        "a = np.where(temp[0] == 3)"
      ],
      "metadata": {
        "id": "QU8WzAy_j0I4"
      },
      "execution_count": null,
      "outputs": []
    },
    {
      "cell_type": "code",
      "source": [
        "type(a)"
      ],
      "metadata": {
        "colab": {
          "base_uri": "https://localhost:8080/"
        },
        "id": "PuBpZR5lnhmo",
        "outputId": "2285ef4d-721c-4920-e90a-390c9bb3d46a"
      },
      "execution_count": null,
      "outputs": [
        {
          "output_type": "execute_result",
          "data": {
            "text/plain": [
              "int"
            ]
          },
          "metadata": {},
          "execution_count": 86
        }
      ]
    },
    {
      "cell_type": "code",
      "source": [
        "a = int(a[0])"
      ],
      "metadata": {
        "id": "JqpEREl-nq7T"
      },
      "execution_count": null,
      "outputs": []
    },
    {
      "cell_type": "code",
      "source": [
        "temp[0][5]"
      ],
      "metadata": {
        "colab": {
          "base_uri": "https://localhost:8080/"
        },
        "id": "2sP02wAak8Ic",
        "outputId": "d7ad4b16-a53f-46ae-d386-43a994f511ae"
      },
      "execution_count": null,
      "outputs": [
        {
          "output_type": "execute_result",
          "data": {
            "text/plain": [
              "3"
            ]
          },
          "metadata": {},
          "execution_count": 65
        }
      ]
    },
    {
      "cell_type": "markdown",
      "source": [
        "# 위 코드로 문장의 끝부분을 발견할 수 있었다.\n",
        "##### 그래서 이 코드를 조건문으로 사용해 end인 위치값을 구해 start,end를 포함해 몇개의 단어로 이루져 있는지 셀 예정이다."
      ],
      "metadata": {
        "id": "XjvRbz6-lL4s"
      }
    },
    {
      "cell_type": "code",
      "source": [
        "count = np.array([])\n",
        "for i in range(x):\n",
        "  count_temp = np.where(temp[i] == 3) \n",
        "  count_temp = int(count_temp[0])\n",
        "  count = np.append(count, count_temp) \n",
        "\n",
        "print(count)\n"
      ],
      "metadata": {
        "colab": {
          "base_uri": "https://localhost:8080/"
        },
        "id": "Dog1uTZflsfk",
        "outputId": "927d9b9f-c619-47b4-8700-5d6c412078d3"
      },
      "execution_count": null,
      "outputs": [
        {
          "output_type": "stream",
          "name": "stdout",
          "text": [
            "[ 5.  7.  5. ...  5. 14.  8.]\n"
          ]
        }
      ]
    },
    {
      "cell_type": "code",
      "source": [
        "count[8000]"
      ],
      "metadata": {
        "colab": {
          "base_uri": "https://localhost:8080/"
        },
        "id": "fxkXR-lZls8d",
        "outputId": "5dbda08d-be49-415c-f314-fecbb97d8582"
      },
      "execution_count": null,
      "outputs": [
        {
          "output_type": "execute_result",
          "data": {
            "text/plain": [
              "9.0"
            ]
          },
          "metadata": {},
          "execution_count": 92
        }
      ]
    },
    {
      "cell_type": "code",
      "source": [
        "import pandas as pd\n",
        "data_df = pd.DataFrame(count)\n",
        "\n",
        "print(data_df.mean())\n",
        "print(data_df.max())\n",
        "print(data_df.min())\n",
        "print(data_df.std())\n",
        "\n",
        "Q3, Q1 = np.percentile(data_df, [75 ,25])\n",
        "IQR = Q3 - Q1\n",
        "IQR"
      ],
      "metadata": {
        "colab": {
          "base_uri": "https://localhost:8080/"
        },
        "id": "x0etUGGlifoO",
        "outputId": "8e65a3f1-86ec-4f2a-a60c-781bfa8c4ef5"
      },
      "execution_count": null,
      "outputs": [
        {
          "output_type": "stream",
          "name": "stdout",
          "text": [
            "0    9.520703\n",
            "dtype: float64\n",
            "0    346.0\n",
            "dtype: float64\n",
            "0    1.0\n",
            "dtype: float64\n",
            "0    4.809925\n",
            "dtype: float64\n"
          ]
        },
        {
          "output_type": "execute_result",
          "data": {
            "text/plain": [
              "6.0"
            ]
          },
          "metadata": {},
          "execution_count": 56
        }
      ]
    },
    {
      "cell_type": "markdown",
      "source": [
        "# 여기서 문장 단어 갯수의 평균을 보면 9.5가 나온다.\n",
        "\n",
        "# 15기준으로 했을 경우 175749 -> 156013 으로 약 2만개가 줄었다.\n",
        "\n",
        "## 그래서 아이펠 기준으로 데이터를 늘리는 것이 나은지 아니면 줄이는게 맞는지 볼려고 한다."
      ],
      "metadata": {
        "id": "owYPlwF5AbV8"
      }
    },
    {
      "cell_type": "code",
      "source": [
        "temp = tensor.copy()\n",
        "temp1 = tensor.copy()\n",
        "temp2 = tensor.copy()\n",
        "temp3 = tensor.copy()\n",
        "temp4 = tensor.copy()\n",
        "temp = temp[:,:16]\n",
        "temp1 = temp1[:,:17]\n",
        "temp2 = temp2[:,:18]\n",
        "temp3 = temp3[:,:19]\n",
        "temp4 = temp4[:,:20]\n",
        "print(temp.shape)"
      ],
      "metadata": {
        "id": "VYfVLaVEifsS",
        "colab": {
          "base_uri": "https://localhost:8080/"
        },
        "outputId": "609bd5b3-cb44-40b3-e1cf-93255806019b"
      },
      "execution_count": null,
      "outputs": [
        {
          "output_type": "stream",
          "name": "stdout",
          "text": [
            "(175749, 16)\n"
          ]
        }
      ]
    },
    {
      "cell_type": "code",
      "source": [
        "tensor1 = np.array([])\n",
        "for i in range(x):\n",
        "  if temp[i][15] == 0 or temp[i][15] == 3:\n",
        "    tensor1 = np.append(tensor1, temp[i])\n",
        "print(tensor1.shape)\n",
        "\n",
        "tensor2 = np.array([])\n",
        "for i in range(x):\n",
        "  if temp1[i][16] == 0 or temp1[i][16] == 3:\n",
        "    tensor2 = np.append(tensor2, temp1[i])\n",
        "print(tensor2.shape)\n",
        "\n",
        "tensor3 = np.array([])\n",
        "for i in range(x):\n",
        "  if temp2[i][17] == 0 or temp2[i][17] == 3:\n",
        "    tensor3 = np.append(tensor3, temp2[i])\n",
        "print(tensor3.shape)\n",
        "\n",
        "tensor4 = np.array([])\n",
        "for i in range(x):\n",
        "  if temp3[i][18] == 0 or temp3[i][18] == 3:\n",
        "    tensor4 = np.append(tensor4, temp3[i])\n",
        "print(tensor4.shape)\n",
        "\n",
        "tensor5 = np.array([])\n",
        "for i in range(x):\n",
        "  if temp4[i][19] == 0 or temp4[i][19] == 3:\n",
        "    tensor5 = np.append(tensor5, temp4[i])\n",
        "print(tensor5.shape)"
      ],
      "metadata": {
        "colab": {
          "base_uri": "https://localhost:8080/"
        },
        "id": "CHyI0ehUCI_5",
        "outputId": "49871997-9a2c-4e1d-89d7-d7204230bc4b"
      },
      "execution_count": null,
      "outputs": [
        {
          "output_type": "stream",
          "name": "stdout",
          "text": [
            "(2564112,)\n",
            "(2779296,)\n",
            "(2987892,)\n",
            "(3192798,)\n",
            "(3391060,)\n"
          ]
        }
      ]
    },
    {
      "cell_type": "code",
      "source": [
        "tensor1 = np.reshape(tensor1, (160257,16))\n",
        "print(tensor1.shape)\n",
        "\n",
        "tensor2 = np.reshape(tensor2, (163488,17))\n",
        "print(tensor2.shape)\n",
        "\n",
        "tensor3 = np.reshape(tensor3, (165994,18))\n",
        "print(tensor3.shape)\n",
        "\n",
        "tensor4 = np.reshape(tensor4, (168042,19))\n",
        "print(tensor4.shape)\n",
        "\n",
        "tensor5 = np.reshape(tensor5, (169553,20))\n",
        "print(tensor5.shape)\n"
      ],
      "metadata": {
        "colab": {
          "base_uri": "https://localhost:8080/"
        },
        "id": "Um3TEWcWCJVk",
        "outputId": "29dcf636-2714-479f-d626-328a18941c40"
      },
      "execution_count": null,
      "outputs": [
        {
          "output_type": "stream",
          "name": "stdout",
          "text": [
            "(160257, 16)\n",
            "(163488, 17)\n",
            "(165994, 18)\n",
            "(168042, 19)\n",
            "(169553, 20)\n"
          ]
        }
      ]
    },
    {
      "cell_type": "code",
      "source": [
        "src_input1 = tensor1[:,:-1] \n",
        "tgt_input1 = tensor1[:, 1:]\n",
        "\n",
        "src_input2 = tensor2[:,:-1] \n",
        "tgt_input2 = tensor2[:, 1:]  \n",
        "\n",
        "src_input3 = tensor3[:,:-1] \n",
        "tgt_input3 = tensor3[:, 1:]  \n",
        "\n",
        "src_input4 = tensor4[:,:-1] \n",
        "tgt_input4 = tensor4[:, 1:]  \n",
        "\n",
        "src_input5 = tensor5[:,:-1] \n",
        "tgt_input5 = tensor5[:, 1:]  "
      ],
      "metadata": {
        "id": "RaywaCwECJYD"
      },
      "execution_count": null,
      "outputs": []
    },
    {
      "cell_type": "code",
      "source": [
        "enc_train1, enc_val1, dec_train1, dec_val1 = train_test_split(src_input1, tgt_input1, test_size=0.2, random_state=80)\n",
        "\n",
        "enc_train2, enc_val2, dec_train2, dec_val2 = train_test_split(src_input2, tgt_input2, test_size=0.2, random_state=80)\n",
        "\n",
        "enc_train3, enc_val3, dec_train3, dec_val3 = train_test_split(src_input3, tgt_input3, test_size=0.2, random_state=80)\n",
        "\n",
        "enc_train4, enc_val4, dec_train4, dec_val4 = train_test_split(src_input4, tgt_input4, test_size=0.2, random_state=80)\n",
        "\n",
        "enc_train5, enc_val5, dec_train5, dec_val5 = train_test_split(src_input5, tgt_input5, test_size=0.2, random_state=80)\n"
      ],
      "metadata": {
        "id": "tIzk7to2CJae"
      },
      "execution_count": null,
      "outputs": []
    },
    {
      "cell_type": "code",
      "source": [
        "def buf(enc_train, enc_val, dec_train, dec_val, words):\n",
        "  BUFFER_SIZE = len(enc_train)\n",
        "  BATCH_SIZE = 256\n",
        "  steps_per_epoch = len(enc_train) // BATCH_SIZE\n",
        "\n",
        "  BUFFER_SIZE_v = len(enc_val)\n",
        "  BATCH_SIZE_v = 256\n",
        "  steps_per_epoch_v = len(enc_val) // BATCH_SIZE\n",
        "\n",
        "\n",
        "\n",
        "  # tokenizer가 구축한 단어사전 내 7000개와, 여기 포함되지 않은 0:<pad>를 포함하여 7001개\n",
        "  VoCAB_SIZE = words\n",
        "  #VOCAB_SIZE = tokenizer.num_words + 1   \n",
        "\n",
        "  dataset = tf.data.Dataset.from_tensor_slices((enc_train, dec_train))\n",
        "  dataset = dataset.shuffle(BUFFER_SIZE)\n",
        "  dataset = dataset.batch(BATCH_SIZE, drop_remainder=True)\n",
        "\n",
        "  dataset_v = tf.data.Dataset.from_tensor_slices((enc_val, dec_val))\n",
        "  dataset_v = dataset_v.shuffle(BUFFER_SIZE_v)\n",
        "  dataset_v = dataset_v.batch(BATCH_SIZE_v, drop_remainder=True)\n",
        "\n",
        "  return dataset, dataset_v"
      ],
      "metadata": {
        "id": "JidlMwWFLGSv"
      },
      "execution_count": null,
      "outputs": []
    },
    {
      "cell_type": "code",
      "source": [
        "dataset1, dataset_v1 = buf(enc_train1, enc_val1, dec_train1, dec_val1, tokenizer.num_words)\n",
        "dataset2, dataset_v2 = buf(enc_train2, enc_val2, dec_train2, dec_val2, tokenizer.num_words) \n",
        "dataset3, dataset_v3 = buf(enc_train3, enc_val3, dec_train3, dec_val3, tokenizer.num_words)\n",
        "dataset4, dataset_v4 = buf(enc_train4, enc_val4, dec_train4, dec_val4, tokenizer.num_words)\n",
        "dataset5, dataset_v5 = buf(enc_train5, enc_val5, dec_train5, dec_val5, tokenizer.num_words)"
      ],
      "metadata": {
        "id": "4RE0GuQFMtEO"
      },
      "execution_count": null,
      "outputs": []
    },
    {
      "cell_type": "code",
      "source": [
        "embedding_size = 256\n",
        "hidden_size = 1024\n",
        "model1 = TextGenerator(tokenizer.num_words + 1, embedding_size , hidden_size)\n",
        "model2 = TextGenerator(tokenizer.num_words + 1, embedding_size , hidden_size)\n",
        "model3 = TextGenerator(tokenizer.num_words + 1, embedding_size , hidden_size)\n",
        "model4 = TextGenerator(tokenizer.num_words + 1, embedding_size , hidden_size)\n",
        "model5 = TextGenerator(tokenizer.num_words + 1, embedding_size , hidden_size)"
      ],
      "metadata": {
        "id": "KIPUN-XqNMOx"
      },
      "execution_count": null,
      "outputs": []
    },
    {
      "cell_type": "code",
      "source": [
        "optimizer = tf.keras.optimizers.Adam(learning_rate= 0.001)\n",
        "loss = tf.keras.losses.SparseCategoricalCrossentropy(\n",
        "    from_logits=True,\n",
        "    reduction='none'\n",
        ")"
      ],
      "metadata": {
        "id": "TTqKOS9WNYI2"
      },
      "execution_count": null,
      "outputs": []
    },
    {
      "cell_type": "code",
      "source": [
        "model1.compile(loss=loss, optimizer=optimizer)\n",
        "model1.fit(dataset1, epochs=10, validation_data = dataset_v1)\n",
        "\n",
        "model2.compile(loss=loss, optimizer=optimizer)\n",
        "model2.fit(dataset2, epochs=10, validation_data = dataset_v)\n",
        "\n",
        "model3.compile(loss=loss, optimizer=optimizer)\n",
        "model3.fit(dataset3, epochs=10, validation_data = dataset_v3)\n",
        "\n",
        "model4.compile(loss=loss, optimizer=optimizer)\n",
        "model4.fit(dataset4, epochs=10, validation_data = dataset_v4)\n",
        "\n",
        "model5.compile(loss=loss, optimizer=optimizer)\n",
        "model5.fit(dataset5, epochs=10, validation_data = dataset_v5)"
      ],
      "metadata": {
        "colab": {
          "base_uri": "https://localhost:8080/"
        },
        "id": "AyimtXhWNfVo",
        "outputId": "4e06c9fd-8169-4cc4-a9b5-7c52089fd04e"
      },
      "execution_count": null,
      "outputs": [
        {
          "output_type": "stream",
          "name": "stdout",
          "text": [
            "Epoch 1/10\n",
            "500/500 [==============================] - 48s 88ms/step - loss: 3.1956 - val_loss: 2.8908\n",
            "Epoch 2/10\n",
            "500/500 [==============================] - 44s 87ms/step - loss: 2.7664 - val_loss: 2.6974\n",
            "Epoch 3/10\n",
            "500/500 [==============================] - 44s 87ms/step - loss: 2.6030 - val_loss: 2.5900\n",
            "Epoch 4/10\n",
            "500/500 [==============================] - 43s 87ms/step - loss: 2.4842 - val_loss: 2.5117\n",
            "Epoch 5/10\n",
            "500/500 [==============================] - 43s 87ms/step - loss: 2.3829 - val_loss: 2.4492\n",
            "Epoch 6/10\n",
            "500/500 [==============================] - 43s 87ms/step - loss: 2.2924 - val_loss: 2.4000\n",
            "Epoch 7/10\n",
            "500/500 [==============================] - 44s 87ms/step - loss: 2.2069 - val_loss: 2.3574\n",
            "Epoch 8/10\n",
            "500/500 [==============================] - 43s 87ms/step - loss: 2.1253 - val_loss: 2.3202\n",
            "Epoch 9/10\n",
            "500/500 [==============================] - 44s 87ms/step - loss: 2.0473 - val_loss: 2.2902\n",
            "Epoch 10/10\n",
            "500/500 [==============================] - 43s 87ms/step - loss: 1.9717 - val_loss: 2.2620\n",
            "Epoch 1/10\n",
            "510/510 [==============================] - 51s 92ms/step - loss: 2.7831 - val_loss: 2.5312\n",
            "Epoch 2/10\n",
            "510/510 [==============================] - 47s 91ms/step - loss: 2.4087 - val_loss: 2.3841\n",
            "Epoch 3/10\n",
            "510/510 [==============================] - 47s 91ms/step - loss: 2.2383 - val_loss: 2.2864\n",
            "Epoch 4/10\n",
            "510/510 [==============================] - 47s 91ms/step - loss: 2.0879 - val_loss: 2.2100\n",
            "Epoch 5/10\n",
            "510/510 [==============================] - 47s 91ms/step - loss: 1.9455 - val_loss: 2.1505\n",
            "Epoch 6/10\n",
            "510/510 [==============================] - 47s 91ms/step - loss: 1.8094 - val_loss: 2.1021\n",
            "Epoch 7/10\n",
            "510/510 [==============================] - 47s 91ms/step - loss: 1.6791 - val_loss: 2.0630\n",
            "Epoch 8/10\n",
            "510/510 [==============================] - 47s 91ms/step - loss: 1.5562 - val_loss: 2.0317\n",
            "Epoch 9/10\n",
            "510/510 [==============================] - 47s 91ms/step - loss: 1.4416 - val_loss: 2.0112\n",
            "Epoch 10/10\n",
            "510/510 [==============================] - 47s 91ms/step - loss: 1.3377 - val_loss: 1.9972\n",
            "Epoch 1/10\n",
            "518/518 [==============================] - 54s 97ms/step - loss: 2.8684 - val_loss: 2.5847\n",
            "Epoch 2/10\n",
            "518/518 [==============================] - 50s 96ms/step - loss: 2.4627 - val_loss: 2.4126\n",
            "Epoch 3/10\n",
            "518/518 [==============================] - 50s 96ms/step - loss: 2.2913 - val_loss: 2.3063\n",
            "Epoch 4/10\n",
            "518/518 [==============================] - 50s 96ms/step - loss: 2.1487 - val_loss: 2.2296\n",
            "Epoch 5/10\n",
            "518/518 [==============================] - 50s 96ms/step - loss: 2.0198 - val_loss: 2.1673\n",
            "Epoch 6/10\n",
            "518/518 [==============================] - 50s 96ms/step - loss: 1.8978 - val_loss: 2.1169\n",
            "Epoch 7/10\n",
            "518/518 [==============================] - 50s 96ms/step - loss: 1.7794 - val_loss: 2.0730\n",
            "Epoch 8/10\n",
            "518/518 [==============================] - 50s 96ms/step - loss: 1.6648 - val_loss: 2.0374\n",
            "Epoch 9/10\n",
            "518/518 [==============================] - 50s 96ms/step - loss: 1.5546 - val_loss: 2.0088\n",
            "Epoch 10/10\n",
            "518/518 [==============================] - 50s 96ms/step - loss: 1.4485 - val_loss: 1.9889\n",
            "Epoch 1/10\n",
            "525/525 [==============================] - 57s 102ms/step - loss: 2.5938 - val_loss: 2.3399\n",
            "Epoch 2/10\n",
            "525/525 [==============================] - 53s 101ms/step - loss: 2.2383 - val_loss: 2.2063\n",
            "Epoch 3/10\n",
            "525/525 [==============================] - 53s 101ms/step - loss: 2.0967 - val_loss: 2.1261\n",
            "Epoch 4/10\n",
            "525/525 [==============================] - 53s 101ms/step - loss: 1.9814 - val_loss: 2.0650\n",
            "Epoch 5/10\n",
            "525/525 [==============================] - 53s 101ms/step - loss: 1.8770 - val_loss: 2.0163\n",
            "Epoch 6/10\n",
            "525/525 [==============================] - 53s 101ms/step - loss: 1.7794 - val_loss: 1.9764\n",
            "Epoch 7/10\n",
            "525/525 [==============================] - 53s 101ms/step - loss: 1.6848 - val_loss: 1.9388\n",
            "Epoch 8/10\n",
            "525/525 [==============================] - 53s 101ms/step - loss: 1.5928 - val_loss: 1.9118\n",
            "Epoch 9/10\n",
            "525/525 [==============================] - 53s 101ms/step - loss: 1.5041 - val_loss: 1.8871\n",
            "Epoch 10/10\n",
            "525/525 [==============================] - 53s 101ms/step - loss: 1.4190 - val_loss: 1.8681\n",
            "Epoch 1/10\n",
            "529/529 [==============================] - 60s 107ms/step - loss: 2.6830 - val_loss: 2.4050\n",
            "Epoch 2/10\n",
            "529/529 [==============================] - 56s 105ms/step - loss: 2.3242 - val_loss: 2.2785\n",
            "Epoch 3/10\n",
            "529/529 [==============================] - 56s 105ms/step - loss: 2.2087 - val_loss: 2.2002\n",
            "Epoch 4/10\n",
            "529/529 [==============================] - 56s 105ms/step - loss: 2.1205 - val_loss: 2.1398\n",
            "Epoch 5/10\n",
            "529/529 [==============================] - 56s 105ms/step - loss: 2.0422 - val_loss: 2.0924\n",
            "Epoch 6/10\n",
            "529/529 [==============================] - 56s 105ms/step - loss: 1.9692 - val_loss: 2.0494\n",
            "Epoch 7/10\n",
            "529/529 [==============================] - 56s 106ms/step - loss: 1.8984 - val_loss: 2.0124\n",
            "Epoch 8/10\n",
            "529/529 [==============================] - 56s 105ms/step - loss: 1.8285 - val_loss: 1.9792\n",
            "Epoch 9/10\n",
            "529/529 [==============================] - 56s 105ms/step - loss: 1.7593 - val_loss: 1.9483\n",
            "Epoch 10/10\n",
            "529/529 [==============================] - 56s 105ms/step - loss: 1.6898 - val_loss: 1.9219\n"
          ]
        },
        {
          "output_type": "execute_result",
          "data": {
            "text/plain": [
              "<keras.callbacks.History at 0x7f7e984d1550>"
            ]
          },
          "metadata": {},
          "execution_count": 73
        }
      ]
    },
    {
      "cell_type": "code",
      "source": [
        ""
      ],
      "metadata": {
        "id": "o2pdsdM9i8a-"
      },
      "execution_count": null,
      "outputs": []
    },
    {
      "cell_type": "code",
      "source": [
        "print(generate_text(model1, tokenizer, init_sentence=\"<start> he\"))\n",
        "\n",
        "print(generate_text(model2, tokenizer, init_sentence=\"<start> he\"))\n",
        "\n",
        "print(generate_text(model3, tokenizer, init_sentence=\"<start> he\"))\n",
        "\n",
        "print(generate_text(model4, tokenizer, init_sentence=\"<start> he\"))\n",
        "\n",
        "print(generate_text(model5, tokenizer, init_sentence=\"<start> he\"))\n"
      ],
      "metadata": {
        "id": "oDPN7y8DS5eS",
        "colab": {
          "base_uri": "https://localhost:8080/"
        },
        "outputId": "83510e39-d082-44e2-e90d-b44c819fc477"
      },
      "execution_count": null,
      "outputs": [
        {
          "output_type": "stream",
          "name": "stdout",
          "text": [
            "<start> he s a <unk> , and a <unk> <end> \n",
            "<start> he s a <unk> in the dark <end> \n",
            "<start> he s a <unk> in the <unk> <end> \n",
            "<start> he s lookin for the fuse <end> \n",
            "<start> he s a <unk> <end> \n"
          ]
        }
      ]
    },
    {
      "cell_type": "code",
      "source": [
        "print(generate_text(model1, tokenizer, init_sentence=\"<start> some\"))\n",
        "\n",
        "print(generate_text(model2, tokenizer, init_sentence=\"<start> some\"))\n",
        "\n",
        "print(generate_text(model3, tokenizer, init_sentence=\"<start> some\"))\n",
        "\n",
        "print(generate_text(model4, tokenizer, init_sentence=\"<start> some\"))\n",
        "\n",
        "print(generate_text(model5, tokenizer, init_sentence=\"<start> some\"))\n"
      ],
      "metadata": {
        "colab": {
          "base_uri": "https://localhost:8080/"
        },
        "id": "WDz8yOfZjXA8",
        "outputId": "33fd646b-a661-43c7-ccb7-9b5fd89401ab"
      },
      "execution_count": null,
      "outputs": [
        {
          "output_type": "stream",
          "name": "stdout",
          "text": [
            "<start> some people want diamond rings <end> \n",
            "<start> some people live just for the fame <end> \n",
            "<start> some people want diamond rings <end> \n",
            "<start> some people want diamond rings <end> \n",
            "<start> some people want diamond rings <end> \n"
          ]
        }
      ]
    },
    {
      "cell_type": "code",
      "source": [
        "print(generate_text(model1, tokenizer, init_sentence=\"<start> i love\"))\n",
        "\n",
        "print(generate_text(model2, tokenizer, init_sentence=\"<start> i love\"))\n",
        "\n",
        "print(generate_text(model3, tokenizer, init_sentence=\"<start> i love\"))\n",
        "\n",
        "print(generate_text(model4, tokenizer, init_sentence=\"<start> i love\"))\n",
        "\n",
        "print(generate_text(model5, tokenizer, init_sentence=\"<start> i love\"))\n"
      ],
      "metadata": {
        "colab": {
          "base_uri": "https://localhost:8080/"
        },
        "id": "MlRQtXrHjhTa",
        "outputId": "a65ba1e5-3eff-4f8b-d1de-4852f574ff15"
      },
      "execution_count": null,
      "outputs": [
        {
          "output_type": "stream",
          "name": "stdout",
          "text": [
            "<start> i love you <end> \n",
            "<start> i love you , i love you <end> \n",
            "<start> i love you , i love you , i love you , i m <end> \n",
            "<start> i love you so , so , i do <end> \n",
            "<start> i love you , i love you so much <end> \n"
          ]
        }
      ]
    },
    {
      "cell_type": "code",
      "source": [
        "print(generate_text(model1, tokenizer, init_sentence=\"<start> abc\"))\n",
        "\n",
        "print(generate_text(model2, tokenizer, init_sentence=\"<start> aiffel\"))\n",
        "\n",
        "print(generate_text(model3, tokenizer, init_sentence=\"<start> green\"))\n",
        "\n",
        "print(generate_text(model4, tokenizer, init_sentence=\"<start> grass\"))\n",
        "\n",
        "print(generate_text(model5, tokenizer, init_sentence=\"<start> star\"))\n"
      ],
      "metadata": {
        "colab": {
          "base_uri": "https://localhost:8080/"
        },
        "id": "x6uYU-eHjxah",
        "outputId": "4f82c198-d2c1-41a7-edf0-e3f82dc38ce8"
      },
      "execution_count": null,
      "outputs": [
        {
          "output_type": "stream",
          "name": "stdout",
          "text": [
            "<start> <unk> <unk> <unk> <unk> <unk> <end> \n",
            "<start> <unk> <unk> <end> \n",
            "<start> green eggs and ham <end> \n",
            "<start> grass is the only one who knows <end> \n",
            "<start> star to be the same <end> \n"
          ]
        }
      ]
    },
    {
      "cell_type": "code",
      "source": [
        "print(generate_text(model5, tokenizer, init_sentence=\"<start> tak\"))\n"
      ],
      "metadata": {
        "colab": {
          "base_uri": "https://localhost:8080/"
        },
        "id": "uPFOhLUZkIPj",
        "outputId": "ff07224d-90b2-4653-a136-614205cfa5f0"
      },
      "execution_count": null,
      "outputs": [
        {
          "output_type": "stream",
          "name": "stdout",
          "text": [
            "<start> take me home , <end> \n"
          ]
        }
      ]
    },
    {
      "cell_type": "markdown",
      "source": [
        "### loss값은 낮았지만 필자가 원하는 문장이 없기 때문에 이번에는 단어 수를 무진장 늘리고 해보기로 했다."
      ],
      "metadata": {
        "id": "QcbwE_nKlmT7"
      }
    },
    {
      "cell_type": "code",
      "source": [
        "temp = tensor.copy()\n",
        "temp1 = tensor.copy()\n",
        "temp2 = tensor.copy()\n",
        "temp3 = tensor.copy()\n",
        "temp4 = tensor.copy()\n",
        "temp = temp[:,:30]\n",
        "temp1 = temp1[:,:40]\n",
        "temp2 = temp2[:,:50]\n",
        "temp3 = temp3[:,:60]\n",
        "temp4 = temp4[:,:70]\n",
        "print(temp.shape)"
      ],
      "metadata": {
        "colab": {
          "base_uri": "https://localhost:8080/"
        },
        "id": "aD3VuNOtlHO_",
        "outputId": "f2932be6-af40-4e9e-ea74-ade5b523c97b"
      },
      "execution_count": null,
      "outputs": [
        {
          "output_type": "stream",
          "name": "stdout",
          "text": [
            "(175749, 30)\n"
          ]
        }
      ]
    },
    {
      "cell_type": "code",
      "source": [
        "temp = tensor.copy()\n",
        "x,y = temp.shape\n",
        "t = np.empty((0,1), int)\n",
        "for i in range(x):\n",
        "    t = np.append(t, temp[i][29])\n",
        "print(t.shape)\n",
        "\n"
      ],
      "metadata": {
        "colab": {
          "base_uri": "https://localhost:8080/"
        },
        "id": "devKub_IDTyA",
        "outputId": "51c77e6c-47c4-4b1b-8321-438db824f9f5"
      },
      "execution_count": 7,
      "outputs": [
        {
          "output_type": "stream",
          "name": "stdout",
          "text": [
            "(175749,)\n"
          ]
        }
      ]
    },
    {
      "cell_type": "code",
      "source": [
        "temp = temp[:,:30]"
      ],
      "metadata": {
        "id": "wFga1_f0DuZv"
      },
      "execution_count": 9,
      "outputs": []
    },
    {
      "cell_type": "code",
      "source": [
        "\n",
        "tensor1 = np.empty((0,30), int)\n",
        "for i in range(x):\n",
        "    if t[i] == 0 or t[i] == 3:\n",
        "        temp4 = np.array([temp[i]])\n",
        "        tensor1 = np.append(tensor1, temp4, axis = 0)\n",
        "print(tensor1.shape)"
      ],
      "metadata": {
        "colab": {
          "base_uri": "https://localhost:8080/"
        },
        "id": "1mWrprsmDQ83",
        "outputId": "42885a65-7f08-479b-b4c4-23ff90824a41"
      },
      "execution_count": 10,
      "outputs": [
        {
          "output_type": "stream",
          "name": "stdout",
          "text": [
            "(175175, 30)\n"
          ]
        }
      ]
    },
    {
      "cell_type": "markdown",
      "source": [
        "# 위 코드는 필자가 처음에는 아래 코드로 데이터 처리를 했는데\n",
        "\n",
        "# 반복문 하나당 평균 40분이 넘게 걸려 총 2시간이 넘게 걸렸다.\n",
        "\n",
        "# 그래서 어떻게 하면 실행시간을 줄일 수 있을까 여러 테스트를 하던 중 \n",
        "# 위 코드로 실험을 해보니 15분으로 실행시간을 반절 이상 줄였다.\n"
      ],
      "metadata": {
        "id": "N7c71LCoHbdI"
      }
    },
    {
      "cell_type": "code",
      "source": [
        "tensor1 = np.array([])\n",
        "for i in range(x):\n",
        "  if temp[i][29] == 0 or temp[i][29] == 3:\n",
        "    tensor1 = np.append(tensor1, temp[i])\n",
        "print(tensor1.shape)\n",
        "\n",
        "tensor2 = np.array([])\n",
        "for i in range(x):\n",
        "  if temp1[i][39] == 0 or temp1[i][39] == 3:\n",
        "    tensor2 = np.append(tensor2, temp1[i])\n",
        "print(tensor2.shape)\n",
        "\n",
        "tensor3 = np.array([])\n",
        "for i in range(x):\n",
        "  if temp2[i][49] == 0 or temp2[i][49] == 3:\n",
        "    tensor3 = np.append(tensor3, temp2[i])\n",
        "print(tensor3.shape)\n",
        "\n",
        "tensor4 = np.array([])\n",
        "for i in range(x):\n",
        "  if temp3[i][59] == 0 or temp3[i][59] == 3:\n",
        "    tensor4 = np.append(tensor4, temp3[i])\n",
        "print(tensor4.shape)\n",
        "\n",
        "tensor5 = np.array([])\n",
        "for i in range(x):\n",
        "  if temp4[i][69] == 0 or temp4[i][69] == 3:\n",
        "    tensor5 = np.append(tensor5, temp4[i])\n",
        "print(tensor5.shape)"
      ],
      "metadata": {
        "colab": {
          "base_uri": "https://localhost:8080/"
        },
        "id": "zKPzz6S_mSbm",
        "outputId": "d9d462bc-c653-451c-a40e-bd05c406d75d"
      },
      "execution_count": null,
      "outputs": [
        {
          "output_type": "stream",
          "name": "stdout",
          "text": [
            "(5255250,)\n",
            "(7024400,)\n",
            "(8783650,)\n",
            "(10542600,)\n",
            "(12300820,)\n"
          ]
        }
      ]
    },
    {
      "cell_type": "code",
      "source": [
        "tensor1 = np.reshape(tensor1, (175175,30))\n",
        "print(tensor1.shape)\n",
        "\n",
        "tensor2 = np.reshape(tensor2, (175610,40))\n",
        "print(tensor2.shape)\n",
        "\n",
        "tensor3 = np.reshape(tensor3, (175673,50))\n",
        "print(tensor3.shape)\n",
        "\n",
        "tensor4 = np.reshape(tensor4, (175710,60))\n",
        "print(tensor4.shape)\n",
        "\n",
        "tensor5 = np.reshape(tensor5, (175726,70))\n",
        "print(tensor5.shape)"
      ],
      "metadata": {
        "colab": {
          "base_uri": "https://localhost:8080/"
        },
        "id": "bQ5ugDQMnqBI",
        "outputId": "76a353d6-aa52-4ca4-8883-9120a631d18f"
      },
      "execution_count": null,
      "outputs": [
        {
          "output_type": "stream",
          "name": "stdout",
          "text": [
            "(175175, 30)\n",
            "(175610, 40)\n",
            "(175673, 50)\n",
            "(175710, 60)\n",
            "(175726, 70)\n"
          ]
        }
      ]
    },
    {
      "cell_type": "code",
      "source": [
        "src_input1 = tensor1[:,:-1] \n",
        "tgt_input1 = tensor1[:, 1:]\n",
        "\n",
        "src_input2 = tensor2[:,:-1] \n",
        "tgt_input2 = tensor2[:, 1:]  \n",
        "\n",
        "src_input3 = tensor3[:,:-1] \n",
        "tgt_input3 = tensor3[:, 1:]  \n",
        "\n",
        "src_input4 = tensor4[:,:-1] \n",
        "tgt_input4 = tensor4[:, 1:]  \n",
        "\n",
        "src_input5 = tensor5[:,:-1] \n",
        "tgt_input5 = tensor5[:, 1:]  \n",
        "\n",
        "dataset1, dataset_v1 = buf(enc_train1, enc_val1, dec_train1, dec_val1, tokenizer.num_words)\n",
        "dataset2, dataset_v2 = buf(enc_train2, enc_val2, dec_train2, dec_val2, tokenizer.num_words) \n",
        "dataset3, dataset_v3 = buf(enc_train3, enc_val3, dec_train3, dec_val3, tokenizer.num_words)\n",
        "dataset4, dataset_v4 = buf(enc_train4, enc_val4, dec_train4, dec_val4, tokenizer.num_words)\n",
        "dataset5, dataset_v5 = buf(enc_train5, enc_val5, dec_train5, dec_val5, tokenizer.num_words)"
      ],
      "metadata": {
        "id": "xVXBFiVlxTOs"
      },
      "execution_count": null,
      "outputs": []
    },
    {
      "cell_type": "code",
      "source": [
        "embedding_size = 256\n",
        "hidden_size = 1024\n",
        "model1 = TextGenerator(tokenizer.num_words + 1, embedding_size , hidden_size)\n",
        "model2 = TextGenerator(tokenizer.num_words + 1, embedding_size , hidden_size)\n",
        "model3 = TextGenerator(tokenizer.num_words + 1, embedding_size , hidden_size)\n",
        "model4 = TextGenerator(tokenizer.num_words + 1, embedding_size , hidden_size)\n",
        "model5 = TextGenerator(tokenizer.num_words + 1, embedding_size , hidden_size)\n",
        "\n",
        "optimizer = tf.keras.optimizers.Adam(learning_rate= 0.001)\n",
        "loss = tf.keras.losses.SparseCategoricalCrossentropy(\n",
        "    from_logits=True,\n",
        "    reduction='none'\n",
        ")\n",
        "\n",
        "model1.compile(loss=loss, optimizer=optimizer)\n",
        "model1.fit(dataset1, epochs=10, validation_data = dataset_v1)\n",
        "\n",
        "model2.compile(loss=loss, optimizer=optimizer)\n",
        "model2.fit(dataset2, epochs=10, validation_data = dataset_v)\n",
        "\n",
        "model3.compile(loss=loss, optimizer=optimizer)\n",
        "model3.fit(dataset3, epochs=10, validation_data = dataset_v3)\n",
        "\n",
        "model4.compile(loss=loss, optimizer=optimizer)\n",
        "model4.fit(dataset4, epochs=10, validation_data = dataset_v4)\n",
        "\n",
        "model5.compile(loss=loss, optimizer=optimizer)\n",
        "model5.fit(dataset5, epochs=10, validation_data = dataset_v5)"
      ],
      "metadata": {
        "colab": {
          "base_uri": "https://localhost:8080/"
        },
        "id": "e2EAWQKCxTk5",
        "outputId": "3310f7ef-2462-41de-c71c-1980591175a5"
      },
      "execution_count": null,
      "outputs": [
        {
          "output_type": "stream",
          "name": "stdout",
          "text": [
            "Epoch 1/10\n",
            "500/500 [==============================] - 48s 88ms/step - loss: 3.2342 - val_loss: 2.9315\n",
            "Epoch 2/10\n",
            "500/500 [==============================] - 44s 87ms/step - loss: 2.8188 - val_loss: 2.7496\n",
            "Epoch 3/10\n",
            "500/500 [==============================] - 44s 87ms/step - loss: 2.6526 - val_loss: 2.6296\n",
            "Epoch 4/10\n",
            "500/500 [==============================] - 44s 87ms/step - loss: 2.5338 - val_loss: 2.5503\n",
            "Epoch 5/10\n",
            "500/500 [==============================] - 44s 87ms/step - loss: 2.4362 - val_loss: 2.4863\n",
            "Epoch 6/10\n",
            "500/500 [==============================] - 44s 87ms/step - loss: 2.3471 - val_loss: 2.4384\n",
            "Epoch 7/10\n",
            "500/500 [==============================] - 44s 87ms/step - loss: 2.2646 - val_loss: 2.3949\n",
            "Epoch 8/10\n",
            "500/500 [==============================] - 44s 87ms/step - loss: 2.1875 - val_loss: 2.3542\n",
            "Epoch 9/10\n",
            "500/500 [==============================] - 44s 87ms/step - loss: 2.1130 - val_loss: 2.3220\n",
            "Epoch 10/10\n",
            "500/500 [==============================] - 44s 87ms/step - loss: 2.0417 - val_loss: 2.2941\n",
            "Epoch 1/10\n",
            "510/510 [==============================] - 52s 95ms/step - loss: 3.2783 - val_loss: 3.2837\n",
            "Epoch 2/10\n",
            "510/510 [==============================] - 48s 93ms/step - loss: 2.9152 - val_loss: 3.0311\n",
            "Epoch 3/10\n",
            "510/510 [==============================] - 48s 93ms/step - loss: 2.6981 - val_loss: 2.8951\n",
            "Epoch 4/10\n",
            "510/510 [==============================] - 48s 93ms/step - loss: 2.6039 - val_loss: 2.8140\n",
            "Epoch 5/10\n",
            "510/510 [==============================] - 48s 93ms/step - loss: 2.5406 - val_loss: 2.7527\n",
            "Epoch 6/10\n",
            "510/510 [==============================] - 48s 93ms/step - loss: 2.4863 - val_loss: 2.6988\n",
            "Epoch 7/10\n",
            "510/510 [==============================] - 48s 93ms/step - loss: 2.4393 - val_loss: 2.6515\n",
            "Epoch 8/10\n",
            "510/510 [==============================] - 48s 93ms/step - loss: 2.3955 - val_loss: 2.6115\n",
            "Epoch 9/10\n",
            "510/510 [==============================] - 48s 93ms/step - loss: 2.3551 - val_loss: 2.5673\n",
            "Epoch 10/10\n",
            "510/510 [==============================] - 48s 93ms/step - loss: 2.3170 - val_loss: 2.5276\n",
            "Epoch 1/10\n",
            "518/518 [==============================] - 54s 97ms/step - loss: 2.7832 - val_loss: 2.5225\n",
            "Epoch 2/10\n",
            "518/518 [==============================] - 50s 96ms/step - loss: 2.4161 - val_loss: 2.3776\n",
            "Epoch 3/10\n",
            "518/518 [==============================] - 50s 96ms/step - loss: 2.2609 - val_loss: 2.2809\n",
            "Epoch 4/10\n",
            "518/518 [==============================] - 50s 96ms/step - loss: 2.1281 - val_loss: 2.2079\n",
            "Epoch 5/10\n",
            "518/518 [==============================] - 50s 96ms/step - loss: 2.0066 - val_loss: 2.1498\n",
            "Epoch 6/10\n",
            "518/518 [==============================] - 50s 96ms/step - loss: 1.8907 - val_loss: 2.1016\n",
            "Epoch 7/10\n",
            "518/518 [==============================] - 50s 96ms/step - loss: 1.7791 - val_loss: 2.0598\n",
            "Epoch 8/10\n",
            "518/518 [==============================] - 50s 96ms/step - loss: 1.6705 - val_loss: 2.0270\n",
            "Epoch 9/10\n",
            "518/518 [==============================] - 50s 96ms/step - loss: 1.5656 - val_loss: 1.9965\n",
            "Epoch 10/10\n",
            "518/518 [==============================] - 50s 96ms/step - loss: 1.4646 - val_loss: 1.9743\n",
            "Epoch 1/10\n",
            "525/525 [==============================] - 57s 102ms/step - loss: 2.7456 - val_loss: 2.5261\n",
            "Epoch 2/10\n",
            "525/525 [==============================] - 53s 101ms/step - loss: 2.4136 - val_loss: 2.3682\n",
            "Epoch 3/10\n",
            "525/525 [==============================] - 53s 101ms/step - loss: 2.2669 - val_loss: 2.2737\n",
            "Epoch 4/10\n",
            "525/525 [==============================] - 53s 101ms/step - loss: 2.1516 - val_loss: 2.2043\n",
            "Epoch 5/10\n",
            "525/525 [==============================] - 53s 101ms/step - loss: 2.0501 - val_loss: 2.1520\n",
            "Epoch 6/10\n",
            "525/525 [==============================] - 53s 101ms/step - loss: 1.9566 - val_loss: 2.1085\n",
            "Epoch 7/10\n",
            "525/525 [==============================] - 53s 101ms/step - loss: 1.8685 - val_loss: 2.0696\n",
            "Epoch 8/10\n",
            "525/525 [==============================] - 53s 101ms/step - loss: 1.7844 - val_loss: 2.0388\n",
            "Epoch 9/10\n",
            "525/525 [==============================] - 53s 101ms/step - loss: 1.7021 - val_loss: 2.0092\n",
            "Epoch 10/10\n",
            "525/525 [==============================] - 53s 101ms/step - loss: 1.6230 - val_loss: 1.9879\n",
            "Epoch 1/10\n",
            "529/529 [==============================] - 60s 107ms/step - loss: 2.6631 - val_loss: 2.4512\n",
            "Epoch 2/10\n",
            "529/529 [==============================] - 56s 105ms/step - loss: 2.3598 - val_loss: 2.3196\n",
            "Epoch 3/10\n",
            "529/529 [==============================] - 56s 105ms/step - loss: 2.2496 - val_loss: 2.2490\n",
            "Epoch 4/10\n",
            "529/529 [==============================] - 56s 105ms/step - loss: 2.1693 - val_loss: 2.1955\n",
            "Epoch 5/10\n",
            "529/529 [==============================] - 56s 105ms/step - loss: 2.0984 - val_loss: 2.1491\n",
            "Epoch 6/10\n",
            "529/529 [==============================] - 56s 106ms/step - loss: 2.0358 - val_loss: 2.1134\n",
            "Epoch 7/10\n",
            "529/529 [==============================] - 56s 105ms/step - loss: 1.9795 - val_loss: 2.0828\n",
            "Epoch 8/10\n",
            "529/529 [==============================] - 56s 106ms/step - loss: 1.9281 - val_loss: 2.0564\n",
            "Epoch 9/10\n",
            "529/529 [==============================] - 56s 105ms/step - loss: 1.8802 - val_loss: 2.0344\n",
            "Epoch 10/10\n",
            "529/529 [==============================] - 56s 105ms/step - loss: 1.8345 - val_loss: 2.0150\n"
          ]
        },
        {
          "output_type": "execute_result",
          "data": {
            "text/plain": [
              "<keras.callbacks.History at 0x7f7f5470b310>"
            ]
          },
          "metadata": {},
          "execution_count": 91
        }
      ]
    },
    {
      "cell_type": "code",
      "source": [
        "print(generate_text(model1, tokenizer, init_sentence=\"<start> he\"))\n",
        "\n",
        "print(generate_text(model2, tokenizer, init_sentence=\"<start> he\"))\n",
        "\n",
        "print(generate_text(model3, tokenizer, init_sentence=\"<start> he\"))\n",
        "\n",
        "print(generate_text(model4, tokenizer, init_sentence=\"<start> he\"))\n",
        "\n",
        "print(generate_text(model5, tokenizer, init_sentence=\"<start> he\"))\n",
        "\n",
        "print(generate_text(model1, tokenizer, init_sentence=\"<start> some\"))\n",
        "\n",
        "print(generate_text(model2, tokenizer, init_sentence=\"<start> some\"))\n",
        "\n",
        "print(generate_text(model3, tokenizer, init_sentence=\"<start> some\"))\n",
        "\n",
        "print(generate_text(model4, tokenizer, init_sentence=\"<start> some\"))\n",
        "\n",
        "print(generate_text(model5, tokenizer, init_sentence=\"<start> some\"))\n",
        "\n",
        "print(generate_text(model1, tokenizer, init_sentence=\"<start> i love\"))\n",
        "\n",
        "print(generate_text(model2, tokenizer, init_sentence=\"<start> i love\"))\n",
        "\n",
        "print(generate_text(model3, tokenizer, init_sentence=\"<start> i love\"))\n",
        "\n",
        "print(generate_text(model4, tokenizer, init_sentence=\"<start> i love\"))\n",
        "\n",
        "print(generate_text(model5, tokenizer, init_sentence=\"<start> i love\"))\n",
        "\n",
        "print(generate_text(model1, tokenizer, init_sentence=\"<start> abc\"))\n",
        "\n",
        "print(generate_text(model2, tokenizer, init_sentence=\"<start> aiffel\"))\n",
        "\n",
        "print(generate_text(model3, tokenizer, init_sentence=\"<start> green\"))\n",
        "\n",
        "print(generate_text(model4, tokenizer, init_sentence=\"<start> grass\"))\n",
        "\n",
        "print(generate_text(model5, tokenizer, init_sentence=\"<start> star\"))\n"
      ],
      "metadata": {
        "colab": {
          "base_uri": "https://localhost:8080/"
        },
        "id": "rqMxz829FQo7",
        "outputId": "9c828628-ee48-435b-fb5c-b8fc9f46ccb7"
      },
      "execution_count": null,
      "outputs": [
        {
          "output_type": "stream",
          "name": "stdout",
          "text": [
            "<start> he s got a <unk> <end> \n",
            "<start> he s a <unk> <end> \n",
            "<start> he s a monster <end> \n",
            "<start> he s just a girl , i m a <unk> <end> \n",
            "<start> he s got a <unk> <end> \n",
            "<start> some people want diamond rings <end> \n",
            "<start> some <unk> <unk> <end> \n",
            "<start> some people want diamond rings <end> \n",
            "<start> some people want diamond rings <end> \n",
            "<start> some people want diamond rings <end> \n",
            "<start> i love you , i m not gonna crack <end> \n",
            "<start> i love you , i m a <unk> <end> \n",
            "<start> i love you , i love you <end> \n",
            "<start> i love the way you lie <end> \n",
            "<start> i love you so much , i m not gonna be alright <end> \n",
            "<start> <unk> <unk> <end> \n",
            "<start> <unk> <unk> <unk> <end> \n",
            "<start> green eggs and ham . <end> \n",
            "<start> grass s <unk> <end> \n",
            "<start> star wars , nigga , i m a <unk> <end> \n"
          ]
        }
      ]
    },
    {
      "cell_type": "code",
      "source": [
        "print(generate_text(model4, tokenizer, init_sentence=\"<start> ask\"))"
      ],
      "metadata": {
        "colab": {
          "base_uri": "https://localhost:8080/"
        },
        "id": "R4ck1DOaQdxX",
        "outputId": "a205fcfe-3fa9-44c3-aa6e-06bceb569229"
      },
      "execution_count": null,
      "outputs": [
        {
          "output_type": "stream",
          "name": "stdout",
          "text": [
            "<start> ask me what you wanna do <end> \n"
          ]
        }
      ]
    },
    {
      "cell_type": "code",
      "source": [
        "print(generate_text(model1, tokenizer, init_sentence=\"<start> \"))"
      ],
      "metadata": {
        "colab": {
          "base_uri": "https://localhost:8080/"
        },
        "id": "EioDpGRRQuQk",
        "outputId": "253f4f71-f530-4964-b224-ae7711c4d84e"
      },
      "execution_count": null,
      "outputs": [
        {
          "output_type": "stream",
          "name": "stdout",
          "text": [
            "<start> i m the one gon hold you down <end> \n"
          ]
        }
      ]
    },
    {
      "cell_type": "code",
      "source": [
        "print(generate_text(model4, tokenizer, init_sentence=\"<start> star\"))"
      ],
      "metadata": {
        "colab": {
          "base_uri": "https://localhost:8080/"
        },
        "id": "cD1ixr6TQwqv",
        "outputId": "4b48ca4c-9681-4c88-d871-7f005442d6c5"
      },
      "execution_count": null,
      "outputs": [
        {
          "output_type": "stream",
          "name": "stdout",
          "text": [
            "<start> star wars , <unk> <unk> <end> \n"
          ]
        }
      ]
    },
    {
      "cell_type": "code",
      "source": [
        "print(generate_text(model5, tokenizer, init_sentence=\"<start> star\"))"
      ],
      "metadata": {
        "colab": {
          "base_uri": "https://localhost:8080/"
        },
        "id": "Pvpr4YjNR1dK",
        "outputId": "df46bb19-870c-4683-ebf2-ae8998293285"
      },
      "execution_count": null,
      "outputs": [
        {
          "output_type": "stream",
          "name": "stdout",
          "text": [
            "<start> star wars , nigga , i m a <unk> <end> \n"
          ]
        }
      ]
    },
    {
      "cell_type": "markdown",
      "source": [
        "# 입력 데이터에 문장 길이를 길게 준 결과 조금 만족스러운 문장이 나왔다.\n",
        "\n",
        "## 그리고 알게 된점은 무조건 길게 한다고 더 좋은 결과가 나오지 않는다는 점을 알게 되었다.\n",
        "\n",
        "# 결론 1: 데이터 전처리는 컴퓨터가 쉽게 계산할 수 있도록 하자              \n",
        "# 결론 2: 자연어 처리는 공부가 더 필요할건 같다."
      ],
      "metadata": {
        "id": "y5vJI5w_CHcB"
      }
    },
    {
      "cell_type": "code",
      "source": [
        ""
      ],
      "metadata": {
        "id": "6j_zMawRSKBi"
      },
      "execution_count": null,
      "outputs": []
    }
  ]
}